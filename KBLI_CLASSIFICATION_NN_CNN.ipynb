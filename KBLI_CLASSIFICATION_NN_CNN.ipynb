{
  "nbformat": 4,
  "nbformat_minor": 0,
  "metadata": {
    "colab": {
      "provenance": [],
      "gpuType": "T4",
      "collapsed_sections": [
        "xpqGij8Ss9k4",
        "9kOhKfkAt7eR"
      ]
    },
    "kernelspec": {
      "name": "python3",
      "display_name": "Python 3"
    },
    "language_info": {
      "name": "python"
    },
    "accelerator": "GPU"
  },
  "cells": [
    {
      "cell_type": "markdown",
      "source": [
        "##PERSIAPAN LIBRARY"
      ],
      "metadata": {
        "id": "kKU4N3Tfskgo"
      }
    },
    {
      "cell_type": "code",
      "execution_count": 137,
      "metadata": {
        "colab": {
          "base_uri": "https://localhost:8080/"
        },
        "id": "ptAqaPHwFBp4",
        "outputId": "bba2998b-0197-4ea5-c53b-654370581d46"
      },
      "outputs": [
        {
          "output_type": "stream",
          "name": "stdout",
          "text": [
            "Requirement already satisfied: Transformers in /usr/local/lib/python3.11/dist-packages (4.51.3)\n",
            "Requirement already satisfied: filelock in /usr/local/lib/python3.11/dist-packages (from Transformers) (3.18.0)\n",
            "Requirement already satisfied: huggingface-hub<1.0,>=0.30.0 in /usr/local/lib/python3.11/dist-packages (from Transformers) (0.30.2)\n",
            "Requirement already satisfied: numpy>=1.17 in /usr/local/lib/python3.11/dist-packages (from Transformers) (2.0.2)\n",
            "Requirement already satisfied: packaging>=20.0 in /usr/local/lib/python3.11/dist-packages (from Transformers) (24.2)\n",
            "Requirement already satisfied: pyyaml>=5.1 in /usr/local/lib/python3.11/dist-packages (from Transformers) (6.0.2)\n",
            "Requirement already satisfied: regex!=2019.12.17 in /usr/local/lib/python3.11/dist-packages (from Transformers) (2024.11.6)\n",
            "Requirement already satisfied: requests in /usr/local/lib/python3.11/dist-packages (from Transformers) (2.32.3)\n",
            "Requirement already satisfied: tokenizers<0.22,>=0.21 in /usr/local/lib/python3.11/dist-packages (from Transformers) (0.21.1)\n",
            "Requirement already satisfied: safetensors>=0.4.3 in /usr/local/lib/python3.11/dist-packages (from Transformers) (0.5.3)\n",
            "Requirement already satisfied: tqdm>=4.27 in /usr/local/lib/python3.11/dist-packages (from Transformers) (4.67.1)\n",
            "Requirement already satisfied: fsspec>=2023.5.0 in /usr/local/lib/python3.11/dist-packages (from huggingface-hub<1.0,>=0.30.0->Transformers) (2025.3.0)\n",
            "Requirement already satisfied: typing-extensions>=3.7.4.3 in /usr/local/lib/python3.11/dist-packages (from huggingface-hub<1.0,>=0.30.0->Transformers) (4.13.2)\n",
            "Requirement already satisfied: charset-normalizer<4,>=2 in /usr/local/lib/python3.11/dist-packages (from requests->Transformers) (3.4.1)\n",
            "Requirement already satisfied: idna<4,>=2.5 in /usr/local/lib/python3.11/dist-packages (from requests->Transformers) (3.10)\n",
            "Requirement already satisfied: urllib3<3,>=1.21.1 in /usr/local/lib/python3.11/dist-packages (from requests->Transformers) (2.4.0)\n",
            "Requirement already satisfied: certifi>=2017.4.17 in /usr/local/lib/python3.11/dist-packages (from requests->Transformers) (2025.4.26)\n"
          ]
        }
      ],
      "source": [
        "!pip install Transformers"
      ]
    },
    {
      "cell_type": "code",
      "source": [
        "!pip install evaluate"
      ],
      "metadata": {
        "colab": {
          "base_uri": "https://localhost:8080/"
        },
        "id": "KzgYhNuTQcBk",
        "outputId": "ed488c76-1185-47f7-d6a9-6c531e4e9b54"
      },
      "execution_count": 138,
      "outputs": [
        {
          "output_type": "stream",
          "name": "stdout",
          "text": [
            "Requirement already satisfied: evaluate in /usr/local/lib/python3.11/dist-packages (0.4.3)\n",
            "Requirement already satisfied: datasets>=2.0.0 in /usr/local/lib/python3.11/dist-packages (from evaluate) (3.5.1)\n",
            "Requirement already satisfied: numpy>=1.17 in /usr/local/lib/python3.11/dist-packages (from evaluate) (2.0.2)\n",
            "Requirement already satisfied: dill in /usr/local/lib/python3.11/dist-packages (from evaluate) (0.3.8)\n",
            "Requirement already satisfied: pandas in /usr/local/lib/python3.11/dist-packages (from evaluate) (2.2.2)\n",
            "Requirement already satisfied: requests>=2.19.0 in /usr/local/lib/python3.11/dist-packages (from evaluate) (2.32.3)\n",
            "Requirement already satisfied: tqdm>=4.62.1 in /usr/local/lib/python3.11/dist-packages (from evaluate) (4.67.1)\n",
            "Requirement already satisfied: xxhash in /usr/local/lib/python3.11/dist-packages (from evaluate) (3.5.0)\n",
            "Requirement already satisfied: multiprocess in /usr/local/lib/python3.11/dist-packages (from evaluate) (0.70.16)\n",
            "Requirement already satisfied: fsspec>=2021.05.0 in /usr/local/lib/python3.11/dist-packages (from fsspec[http]>=2021.05.0->evaluate) (2025.3.0)\n",
            "Requirement already satisfied: huggingface-hub>=0.7.0 in /usr/local/lib/python3.11/dist-packages (from evaluate) (0.30.2)\n",
            "Requirement already satisfied: packaging in /usr/local/lib/python3.11/dist-packages (from evaluate) (24.2)\n",
            "Requirement already satisfied: filelock in /usr/local/lib/python3.11/dist-packages (from datasets>=2.0.0->evaluate) (3.18.0)\n",
            "Requirement already satisfied: pyarrow>=15.0.0 in /usr/local/lib/python3.11/dist-packages (from datasets>=2.0.0->evaluate) (18.1.0)\n",
            "Requirement already satisfied: aiohttp in /usr/local/lib/python3.11/dist-packages (from datasets>=2.0.0->evaluate) (3.11.15)\n",
            "Requirement already satisfied: pyyaml>=5.1 in /usr/local/lib/python3.11/dist-packages (from datasets>=2.0.0->evaluate) (6.0.2)\n",
            "Requirement already satisfied: typing-extensions>=3.7.4.3 in /usr/local/lib/python3.11/dist-packages (from huggingface-hub>=0.7.0->evaluate) (4.13.2)\n",
            "Requirement already satisfied: charset-normalizer<4,>=2 in /usr/local/lib/python3.11/dist-packages (from requests>=2.19.0->evaluate) (3.4.1)\n",
            "Requirement already satisfied: idna<4,>=2.5 in /usr/local/lib/python3.11/dist-packages (from requests>=2.19.0->evaluate) (3.10)\n",
            "Requirement already satisfied: urllib3<3,>=1.21.1 in /usr/local/lib/python3.11/dist-packages (from requests>=2.19.0->evaluate) (2.4.0)\n",
            "Requirement already satisfied: certifi>=2017.4.17 in /usr/local/lib/python3.11/dist-packages (from requests>=2.19.0->evaluate) (2025.4.26)\n",
            "Requirement already satisfied: python-dateutil>=2.8.2 in /usr/local/lib/python3.11/dist-packages (from pandas->evaluate) (2.9.0.post0)\n",
            "Requirement already satisfied: pytz>=2020.1 in /usr/local/lib/python3.11/dist-packages (from pandas->evaluate) (2025.2)\n",
            "Requirement already satisfied: tzdata>=2022.7 in /usr/local/lib/python3.11/dist-packages (from pandas->evaluate) (2025.2)\n",
            "Requirement already satisfied: aiohappyeyeballs>=2.3.0 in /usr/local/lib/python3.11/dist-packages (from aiohttp->datasets>=2.0.0->evaluate) (2.6.1)\n",
            "Requirement already satisfied: aiosignal>=1.1.2 in /usr/local/lib/python3.11/dist-packages (from aiohttp->datasets>=2.0.0->evaluate) (1.3.2)\n",
            "Requirement already satisfied: attrs>=17.3.0 in /usr/local/lib/python3.11/dist-packages (from aiohttp->datasets>=2.0.0->evaluate) (25.3.0)\n",
            "Requirement already satisfied: frozenlist>=1.1.1 in /usr/local/lib/python3.11/dist-packages (from aiohttp->datasets>=2.0.0->evaluate) (1.6.0)\n",
            "Requirement already satisfied: multidict<7.0,>=4.5 in /usr/local/lib/python3.11/dist-packages (from aiohttp->datasets>=2.0.0->evaluate) (6.4.3)\n",
            "Requirement already satisfied: propcache>=0.2.0 in /usr/local/lib/python3.11/dist-packages (from aiohttp->datasets>=2.0.0->evaluate) (0.3.1)\n",
            "Requirement already satisfied: yarl<2.0,>=1.17.0 in /usr/local/lib/python3.11/dist-packages (from aiohttp->datasets>=2.0.0->evaluate) (1.20.0)\n",
            "Requirement already satisfied: six>=1.5 in /usr/local/lib/python3.11/dist-packages (from python-dateutil>=2.8.2->pandas->evaluate) (1.17.0)\n"
          ]
        }
      ]
    },
    {
      "cell_type": "code",
      "source": [
        "import os\n",
        "import tensorflow as tf\n",
        "import keras\n",
        "import re\n",
        "import pandas as pd\n",
        "import numpy as np\n",
        "import sklearn\n",
        "import torch\n",
        "import pickle\n",
        "import matplotlib.pyplot as plt"
      ],
      "metadata": {
        "id": "gWilnB7KcAVQ"
      },
      "execution_count": 139,
      "outputs": []
    },
    {
      "cell_type": "code",
      "source": [
        "from tensorflow.keras.layers import MultiHeadAttention, Input, Dense\n",
        "from tensorflow.keras.layers import LayerNormalization, Layer\n",
        "from tensorflow.keras.layers import TextVectorization, Embedding, GlobalAveragePooling1D\n",
        "\n",
        "from tensorflow.data import Dataset\n",
        "from tensorflow import convert_to_tensor, string, float32, shape, range, reshape\n",
        "from tensorflow.keras import utils\n",
        "\n",
        "from tensorflow.keras.models import Sequential, load_model\n",
        "from tensorflow.keras.layers import Dense, Dropout, Conv1D, Flatten, Reshape\n",
        "\n",
        "from sklearn import metrics\n",
        "from sklearn.metrics import confusion_matrix, ConfusionMatrixDisplay, f1_score, classification_report\n",
        "from sklearn.feature_extraction.text import TfidfVectorizer\n",
        "from sklearn.model_selection import train_test_split\n",
        "from sklearn.preprocessing import LabelEncoder\n",
        "\n",
        "from transformers import BertTokenizer, TFBertForSequenceClassification, Trainer, TrainingArguments\n",
        "from evaluate import load\n",
        "\n",
        "from imblearn.over_sampling import SMOTE"
      ],
      "metadata": {
        "id": "CyBKDox1awds"
      },
      "execution_count": 140,
      "outputs": []
    },
    {
      "cell_type": "markdown",
      "source": [
        "##PERSIAPAN DATASET (MOUNT GDRIVE)"
      ],
      "metadata": {
        "id": "LliMRpiQssNn"
      }
    },
    {
      "cell_type": "code",
      "source": [
        "df_train = pd.read_excel(\"/content/drive/MyDrive/BPS_PROJECT/PRE-PROCESSED/labeled.xlsx\")"
      ],
      "metadata": {
        "id": "JIJkGNjkyrZl"
      },
      "execution_count": 141,
      "outputs": []
    },
    {
      "cell_type": "code",
      "source": [
        "df_train.info()"
      ],
      "metadata": {
        "colab": {
          "base_uri": "https://localhost:8080/"
        },
        "id": "50c85iRoTTTA",
        "outputId": "428c7989-7be7-4e54-e771-4822ee0a53dd"
      },
      "execution_count": 142,
      "outputs": [
        {
          "output_type": "stream",
          "name": "stdout",
          "text": [
            "<class 'pandas.core.frame.DataFrame'>\n",
            "RangeIndex: 744 entries, 0 to 743\n",
            "Data columns (total 8 columns):\n",
            " #   Column               Non-Null Count  Dtype  \n",
            "---  ------               --------------  -----  \n",
            " 0   placeId              744 non-null    object \n",
            " 1   placeName            744 non-null    object \n",
            " 2   placeAddress         743 non-null    object \n",
            " 3   placeBusinessStatus  743 non-null    object \n",
            " 4   placeTypes           744 non-null    object \n",
            " 5   placeLatitude        744 non-null    float64\n",
            " 6   placeLongitude       744 non-null    float64\n",
            " 7   kbli                 744 non-null    object \n",
            "dtypes: float64(2), object(6)\n",
            "memory usage: 46.6+ KB\n"
          ]
        }
      ]
    },
    {
      "cell_type": "code",
      "source": [
        "class_distribution = df_train['kbli'].value_counts()\n",
        "\n",
        "plt.figure(figsize=(12,6))\n",
        "class_distribution.plot(kind='bar')\n",
        "plt.title(\"Distribusi Kategori KBLI\")\n",
        "plt.show()"
      ],
      "metadata": {
        "colab": {
          "base_uri": "https://localhost:8080/",
          "height": 484
        },
        "id": "zwZn_lSCRtK_",
        "outputId": "95e81345-715a-43c5-9ad0-db74cb1bcc94"
      },
      "execution_count": 143,
      "outputs": [
        {
          "output_type": "display_data",
          "data": {
            "text/plain": [
              "<Figure size 1200x600 with 1 Axes>"
            ],
            "image/png": "[encoded data removed]"
          },
          "metadata": {}
        }
      ]
    },
    {
      "cell_type": "code",
      "source": [
        "class_counts = df_train['kbli'].value_counts()\n",
        "print(\"Jumlah sampel per kelas:\\n\", class_counts)"
      ],
      "metadata": {
        "colab": {
          "base_uri": "https://localhost:8080/"
        },
        "id": "j-l4fySaci_t",
        "outputId": "2ba60d89-b2be-4e5c-a093-e8ecb1200a76"
      },
      "execution_count": 144,
      "outputs": [
        {
          "output_type": "stream",
          "name": "stdout",
          "text": [
            "Jumlah sampel per kelas:\n",
            " kbli\n",
            "I    81\n",
            "R    65\n",
            "S    60\n",
            "Q    59\n",
            "M    52\n",
            "P    47\n",
            "G    45\n",
            "L    42\n",
            "J    42\n",
            "A    39\n",
            "N    33\n",
            "K    31\n",
            "H    27\n",
            "O    26\n",
            "C    21\n",
            "D    15\n",
            "F    14\n",
            "E    13\n",
            "B    12\n",
            "T    10\n",
            "U    10\n",
            "Name: count, dtype: int64\n"
          ]
        }
      ]
    },
    {
      "cell_type": "code",
      "source": [
        "df_train['placeAddress']=df_train['placeAddress'].fillna('-')"
      ],
      "metadata": {
        "id": "WLjK6lKGTX48"
      },
      "execution_count": 145,
      "outputs": []
    },
    {
      "cell_type": "code",
      "source": [
        "df_train['desc'] = df_train['placeName'] + df_train['placeTypes']"
      ],
      "metadata": {
        "id": "f9pED3KjbmMV"
      },
      "execution_count": 146,
      "outputs": []
    },
    {
      "cell_type": "code",
      "source": [
        "def clean_text(text):\n",
        "    text = text.lower()\n",
        "    text = re.sub(r'[^a-z0-9]', ' ', text)\n",
        "    text = re.sub(r'\\s+', ' ', text).strip()\n",
        "    return text\n",
        "\n",
        "df_train['desc'] = df_train['desc'].apply(clean_text)"
      ],
      "metadata": {
        "id": "nYX2VuzpTrOK"
      },
      "execution_count": 147,
      "outputs": []
    },
    {
      "cell_type": "code",
      "source": [
        "tfidf = TfidfVectorizer(max_features=2000)\n",
        "X = tfidf.fit_transform(df_train['desc'])\n",
        "y = df_train['kbli']"
      ],
      "metadata": {
        "id": "ETFJWo2DZLJW"
      },
      "execution_count": 148,
      "outputs": []
    },
    {
      "cell_type": "markdown",
      "source": [
        "##SPLIT DATASET (TRAIN, TEST, VAL)"
      ],
      "metadata": {
        "id": "xSz2Z_gku75m"
      }
    },
    {
      "cell_type": "code",
      "source": [
        "smote = SMOTE(sampling_strategy='auto', k_neighbors=2, random_state=42)\n",
        "X_train_res, y_train_res = smote.fit_resample(X_train, y_train)"
      ],
      "metadata": {
        "id": "lVCGi-psdIIh"
      },
      "execution_count": 149,
      "outputs": []
    },
    {
      "cell_type": "code",
      "source": [
        "X_train, X_temp, y_train, y_temp = train_test_split(X, y, test_size=0.2, stratify=y)\n",
        "\n",
        "X_val, X_test, y_val, y_test = train_test_split(X_temp, y_temp, test_size=0.5, stratify=y_temp)"
      ],
      "metadata": {
        "id": "jsYNq_XBV__i"
      },
      "execution_count": 150,
      "outputs": []
    },
    {
      "cell_type": "code",
      "source": [
        "le = LabelEncoder()\n",
        "y_train_encoded = le.fit_transform(y_train)\n",
        "y_val_encoded = le.transform(y_val)\n",
        "\n",
        "X_train_float = X_train.toarray().astype('float32')\n",
        "X_val_float = X_val.toarray().astype('float32')"
      ],
      "metadata": {
        "id": "wgxezuVglmmT"
      },
      "execution_count": 151,
      "outputs": []
    },
    {
      "cell_type": "markdown",
      "source": [
        "##MODEL"
      ],
      "metadata": {
        "id": "oLTPknIvtmzz"
      }
    },
    {
      "cell_type": "markdown",
      "source": [
        "### CNN"
      ],
      "metadata": {
        "id": "Ax2-AZDrXtur"
      }
    },
    {
      "cell_type": "code",
      "source": [
        "model_cnn = Sequential([\n",
        "    Reshape((X_train_float.shape[1], 1), input_shape=(X_train_float.shape[1],)),\n",
        "    Conv1D(filters=64, kernel_size=3, activation='relu'),\n",
        "    Flatten(),\n",
        "    Dense(256, activation='relu'),\n",
        "    Dropout(0.5),\n",
        "    Dense(128, activation='relu'),\n",
        "    Dense(21, activation='softmax')\n",
        "])\n",
        "model_cnn.compile(\n",
        "    optimizer='adam',\n",
        "    loss='sparse_categorical_crossentropy',\n",
        "    metrics=['accuracy']\n",
        ")\n",
        "history_cnn = model_cnn.fit(\n",
        "    X_train_float, y_train_encoded,\n",
        "    validation_data = (X_val_float, y_val_encoded),\n",
        "    epochs = 20,\n",
        "    batch_size = 32\n",
        ")"
      ],
      "metadata": {
        "colab": {
          "base_uri": "https://localhost:8080/"
        },
        "id": "cVtsltBOWcVP",
        "outputId": "2dc01632-0f28-46b1-8e1a-125e9868b4a5"
      },
      "execution_count": 152,
      "outputs": [
        {
          "output_type": "stream",
          "name": "stdout",
          "text": [
            "Epoch 1/20\n"
          ]
        },
        {
          "output_type": "stream",
          "name": "stderr",
          "text": [
            "/usr/local/lib/python3.11/dist-packages/keras/src/layers/reshaping/reshape.py:39: UserWarning: Do not pass an `input_shape`/`input_dim` argument to a layer. When using Sequential models, prefer using an `Input(shape)` object as the first layer in the model instead.\n",
            "  super().__init__(**kwargs)\n"
          ]
        },
        {
          "output_type": "stream",
          "name": "stdout",
          "text": [
            "\u001b[1m19/19\u001b[0m \u001b[32m━━━━━━━━━━━━━━━━━━━━\u001b[0m\u001b[37m\u001b[0m \u001b[1m10s\u001b[0m 309ms/step - accuracy: 0.0806 - loss: 3.0041 - val_accuracy: 0.1081 - val_loss: 2.8624\n",
            "Epoch 2/20\n",
            "\u001b[1m19/19\u001b[0m \u001b[32m━━━━━━━━━━━━━━━━━━━━\u001b[0m\u001b[37m\u001b[0m \u001b[1m1s\u001b[0m 25ms/step - accuracy: 0.1313 - loss: 2.8000 - val_accuracy: 0.3649 - val_loss: 2.6355\n",
            "Epoch 3/20\n",
            "\u001b[1m19/19\u001b[0m \u001b[32m━━━━━━━━━━━━━━━━━━━━\u001b[0m\u001b[37m\u001b[0m \u001b[1m1s\u001b[0m 28ms/step - accuracy: 0.3951 - loss: 2.3638 - val_accuracy: 0.5000 - val_loss: 1.9880\n",
            "Epoch 4/20\n",
            "\u001b[1m19/19\u001b[0m \u001b[32m━━━━━━━━━━━━━━━━━━━━\u001b[0m\u001b[37m\u001b[0m \u001b[1m0s\u001b[0m 17ms/step - accuracy: 0.7373 - loss: 1.5300 - val_accuracy: 0.7703 - val_loss: 1.0996\n",
            "Epoch 5/20\n",
            "\u001b[1m19/19\u001b[0m \u001b[32m━━━━━━━━━━━━━━━━━━━━\u001b[0m\u001b[37m\u001b[0m \u001b[1m1s\u001b[0m 18ms/step - accuracy: 0.9277 - loss: 0.5462 - val_accuracy: 0.8514 - val_loss: 0.6009\n",
            "Epoch 6/20\n",
            "\u001b[1m19/19\u001b[0m \u001b[32m━━━━━━━━━━━━━━━━━━━━\u001b[0m\u001b[37m\u001b[0m \u001b[1m0s\u001b[0m 19ms/step - accuracy: 0.9980 - loss: 0.1294 - val_accuracy: 0.8784 - val_loss: 0.5003\n",
            "Epoch 7/20\n",
            "\u001b[1m19/19\u001b[0m \u001b[32m━━━━━━━━━━━━━━━━━━━━\u001b[0m\u001b[37m\u001b[0m \u001b[1m0s\u001b[0m 21ms/step - accuracy: 0.9963 - loss: 0.0473 - val_accuracy: 0.8919 - val_loss: 0.4538\n",
            "Epoch 8/20\n",
            "\u001b[1m19/19\u001b[0m \u001b[32m━━━━━━━━━━━━━━━━━━━━\u001b[0m\u001b[37m\u001b[0m \u001b[1m0s\u001b[0m 18ms/step - accuracy: 1.0000 - loss: 0.0240 - val_accuracy: 0.8919 - val_loss: 0.4567\n",
            "Epoch 9/20\n",
            "\u001b[1m19/19\u001b[0m \u001b[32m━━━━━━━━━━━━━━━━━━━━\u001b[0m\u001b[37m\u001b[0m \u001b[1m0s\u001b[0m 18ms/step - accuracy: 0.9982 - loss: 0.0219 - val_accuracy: 0.8919 - val_loss: 0.5124\n",
            "Epoch 10/20\n",
            "\u001b[1m19/19\u001b[0m \u001b[32m━━━━━━━━━━━━━━━━━━━━\u001b[0m\u001b[37m\u001b[0m \u001b[1m1s\u001b[0m 23ms/step - accuracy: 0.9986 - loss: 0.0106 - val_accuracy: 0.8919 - val_loss: 0.4888\n",
            "Epoch 11/20\n",
            "\u001b[1m19/19\u001b[0m \u001b[32m━━━━━━━━━━━━━━━━━━━━\u001b[0m\u001b[37m\u001b[0m \u001b[1m1s\u001b[0m 19ms/step - accuracy: 0.9997 - loss: 0.0065 - val_accuracy: 0.8919 - val_loss: 0.4782\n",
            "Epoch 12/20\n",
            "\u001b[1m19/19\u001b[0m \u001b[32m━━━━━━━━━━━━━━━━━━━━\u001b[0m\u001b[37m\u001b[0m \u001b[1m0s\u001b[0m 19ms/step - accuracy: 0.9944 - loss: 0.0092 - val_accuracy: 0.8919 - val_loss: 0.4820\n",
            "Epoch 13/20\n",
            "\u001b[1m19/19\u001b[0m \u001b[32m━━━━━━━━━━━━━━━━━━━━\u001b[0m\u001b[37m\u001b[0m \u001b[1m0s\u001b[0m 24ms/step - accuracy: 0.9983 - loss: 0.0086 - val_accuracy: 0.8919 - val_loss: 0.4849\n",
            "Epoch 14/20\n",
            "\u001b[1m19/19\u001b[0m \u001b[32m━━━━━━━━━━━━━━━━━━━━\u001b[0m\u001b[37m\u001b[0m \u001b[1m0s\u001b[0m 18ms/step - accuracy: 0.9985 - loss: 0.0057 - val_accuracy: 0.8784 - val_loss: 0.4801\n",
            "Epoch 15/20\n",
            "\u001b[1m19/19\u001b[0m \u001b[32m━━━━━━━━━━━━━━━━━━━━\u001b[0m\u001b[37m\u001b[0m \u001b[1m1s\u001b[0m 19ms/step - accuracy: 0.9984 - loss: 0.0058 - val_accuracy: 0.8784 - val_loss: 0.4647\n",
            "Epoch 16/20\n",
            "\u001b[1m19/19\u001b[0m \u001b[32m━━━━━━━━━━━━━━━━━━━━\u001b[0m\u001b[37m\u001b[0m \u001b[1m1s\u001b[0m 16ms/step - accuracy: 0.9996 - loss: 0.0058 - val_accuracy: 0.8784 - val_loss: 0.4917\n",
            "Epoch 17/20\n",
            "\u001b[1m19/19\u001b[0m \u001b[32m━━━━━━━━━━━━━━━━━━━━\u001b[0m\u001b[37m\u001b[0m \u001b[1m1s\u001b[0m 19ms/step - accuracy: 0.9969 - loss: 0.0126 - val_accuracy: 0.8919 - val_loss: 0.4962\n",
            "Epoch 18/20\n",
            "\u001b[1m19/19\u001b[0m \u001b[32m━━━━━━━━━━━━━━━━━━━━\u001b[0m\u001b[37m\u001b[0m \u001b[1m1s\u001b[0m 21ms/step - accuracy: 1.0000 - loss: 0.0044 - val_accuracy: 0.8919 - val_loss: 0.4957\n",
            "Epoch 19/20\n",
            "\u001b[1m19/19\u001b[0m \u001b[32m━━━━━━━━━━━━━━━━━━━━\u001b[0m\u001b[37m\u001b[0m \u001b[1m0s\u001b[0m 20ms/step - accuracy: 0.9975 - loss: 0.0040 - val_accuracy: 0.8919 - val_loss: 0.5019\n",
            "Epoch 20/20\n",
            "\u001b[1m19/19\u001b[0m \u001b[32m━━━━━━━━━━━━━━━━━━━━\u001b[0m\u001b[37m\u001b[0m \u001b[1m0s\u001b[0m 23ms/step - accuracy: 0.9986 - loss: 0.0102 - val_accuracy: 0.8919 - val_loss: 0.5486\n"
          ]
        }
      ]
    },
    {
      "cell_type": "markdown",
      "source": [
        "### NN"
      ],
      "metadata": {
        "id": "rFzkIdEUDf5d"
      }
    },
    {
      "cell_type": "code",
      "source": [
        "model_nn = Sequential([\n",
        "    Reshape((X_train_float.shape[1], 1), input_shape=(X_train_float.shape[1],)),\n",
        "    Conv1D(filters=64, kernel_size=3, activation='relu'),\n",
        "    Flatten(),\n",
        "    Dense(256, activation='relu'),\n",
        "    Dropout(0.5),\n",
        "    Dense(128, activation='relu'),\n",
        "    Dense(21, activation='softmax')\n",
        "])\n",
        "model_nn.compile(\n",
        "    optimizer='adam',\n",
        "    loss='sparse_categorical_crossentropy',\n",
        "    metrics=['accuracy']\n",
        ")\n",
        "history_nn = model_nn.fit(\n",
        "    X_train_float, y_train_encoded,\n",
        "    validation_data = (X_val_float, y_val_encoded),\n",
        "    epochs = 20,\n",
        "    batch_size = 32\n",
        ")"
      ],
      "metadata": {
        "colab": {
          "base_uri": "https://localhost:8080/"
        },
        "id": "HLQNOgqMEVZA",
        "outputId": "1c124c47-0ea0-4da0-ffa8-208f003dea81"
      },
      "execution_count": 153,
      "outputs": [
        {
          "output_type": "stream",
          "name": "stdout",
          "text": [
            "Epoch 1/20\n",
            "\u001b[1m19/19\u001b[0m \u001b[32m━━━━━━━━━━━━━━━━━━━━\u001b[0m\u001b[37m\u001b[0m \u001b[1m8s\u001b[0m 108ms/step - accuracy: 0.0986 - loss: 2.9969 - val_accuracy: 0.2703 - val_loss: 2.8581\n",
            "Epoch 2/20\n",
            "\u001b[1m19/19\u001b[0m \u001b[32m━━━━━━━━━━━━━━━━━━━━\u001b[0m\u001b[37m\u001b[0m \u001b[1m0s\u001b[0m 18ms/step - accuracy: 0.2147 - loss: 2.7675 - val_accuracy: 0.3378 - val_loss: 2.5930\n",
            "Epoch 3/20\n",
            "\u001b[1m19/19\u001b[0m \u001b[32m━━━━━━━━━━━━━━━━━━━━\u001b[0m\u001b[37m\u001b[0m \u001b[1m1s\u001b[0m 15ms/step - accuracy: 0.4101 - loss: 2.3595 - val_accuracy: 0.6892 - val_loss: 1.9129\n",
            "Epoch 4/20\n",
            "\u001b[1m19/19\u001b[0m \u001b[32m━━━━━━━━━━━━━━━━━━━━\u001b[0m\u001b[37m\u001b[0m \u001b[1m0s\u001b[0m 15ms/step - accuracy: 0.7163 - loss: 1.4626 - val_accuracy: 0.8243 - val_loss: 1.0880\n",
            "Epoch 5/20\n",
            "\u001b[1m19/19\u001b[0m \u001b[32m━━━━━━━━━━━━━━━━━━━━\u001b[0m\u001b[37m\u001b[0m \u001b[1m0s\u001b[0m 13ms/step - accuracy: 0.9261 - loss: 0.5158 - val_accuracy: 0.8649 - val_loss: 0.6476\n",
            "Epoch 6/20\n",
            "\u001b[1m19/19\u001b[0m \u001b[32m━━━━━━━━━━━━━━━━━━━━\u001b[0m\u001b[37m\u001b[0m \u001b[1m0s\u001b[0m 15ms/step - accuracy: 0.9796 - loss: 0.1603 - val_accuracy: 0.8784 - val_loss: 0.6066\n",
            "Epoch 7/20\n",
            "\u001b[1m19/19\u001b[0m \u001b[32m━━━━━━━━━━━━━━━━━━━━\u001b[0m\u001b[37m\u001b[0m \u001b[1m1s\u001b[0m 15ms/step - accuracy: 0.9986 - loss: 0.0446 - val_accuracy: 0.8919 - val_loss: 0.5559\n",
            "Epoch 8/20\n",
            "\u001b[1m19/19\u001b[0m \u001b[32m━━━━━━━━━━━━━━━━━━━━\u001b[0m\u001b[37m\u001b[0m \u001b[1m0s\u001b[0m 13ms/step - accuracy: 0.9925 - loss: 0.0348 - val_accuracy: 0.8919 - val_loss: 0.5581\n",
            "Epoch 9/20\n",
            "\u001b[1m19/19\u001b[0m \u001b[32m━━━━━━━━━━━━━━━━━━━━\u001b[0m\u001b[37m\u001b[0m \u001b[1m0s\u001b[0m 13ms/step - accuracy: 0.9950 - loss: 0.0307 - val_accuracy: 0.9054 - val_loss: 0.5916\n",
            "Epoch 10/20\n",
            "\u001b[1m19/19\u001b[0m \u001b[32m━━━━━━━━━━━━━━━━━━━━\u001b[0m\u001b[37m\u001b[0m \u001b[1m0s\u001b[0m 13ms/step - accuracy: 0.9992 - loss: 0.0115 - val_accuracy: 0.8784 - val_loss: 0.6140\n",
            "Epoch 11/20\n",
            "\u001b[1m19/19\u001b[0m \u001b[32m━━━━━━━━━━━━━━━━━━━━\u001b[0m\u001b[37m\u001b[0m \u001b[1m0s\u001b[0m 15ms/step - accuracy: 0.9991 - loss: 0.0060 - val_accuracy: 0.8649 - val_loss: 0.6255\n",
            "Epoch 12/20\n",
            "\u001b[1m19/19\u001b[0m \u001b[32m━━━━━━━━━━━━━━━━━━━━\u001b[0m\u001b[37m\u001b[0m \u001b[1m1s\u001b[0m 13ms/step - accuracy: 0.9988 - loss: 0.0101 - val_accuracy: 0.8649 - val_loss: 0.6245\n",
            "Epoch 13/20\n",
            "\u001b[1m19/19\u001b[0m \u001b[32m━━━━━━━━━━━━━━━━━━━━\u001b[0m\u001b[37m\u001b[0m \u001b[1m0s\u001b[0m 13ms/step - accuracy: 1.0000 - loss: 0.0038 - val_accuracy: 0.8784 - val_loss: 0.6138\n",
            "Epoch 14/20\n",
            "\u001b[1m19/19\u001b[0m \u001b[32m━━━━━━━━━━━━━━━━━━━━\u001b[0m\u001b[37m\u001b[0m \u001b[1m0s\u001b[0m 13ms/step - accuracy: 0.9989 - loss: 0.0083 - val_accuracy: 0.8919 - val_loss: 0.5371\n",
            "Epoch 15/20\n",
            "\u001b[1m19/19\u001b[0m \u001b[32m━━━━━━━━━━━━━━━━━━━━\u001b[0m\u001b[37m\u001b[0m \u001b[1m0s\u001b[0m 13ms/step - accuracy: 0.9997 - loss: 0.0056 - val_accuracy: 0.8919 - val_loss: 0.5325\n",
            "Epoch 16/20\n",
            "\u001b[1m19/19\u001b[0m \u001b[32m━━━━━━━━━━━━━━━━━━━━\u001b[0m\u001b[37m\u001b[0m \u001b[1m0s\u001b[0m 13ms/step - accuracy: 0.9991 - loss: 0.0042 - val_accuracy: 0.8919 - val_loss: 0.5601\n",
            "Epoch 17/20\n",
            "\u001b[1m19/19\u001b[0m \u001b[32m━━━━━━━━━━━━━━━━━━━━\u001b[0m\u001b[37m\u001b[0m \u001b[1m0s\u001b[0m 13ms/step - accuracy: 0.9986 - loss: 0.0118 - val_accuracy: 0.8649 - val_loss: 0.6048\n",
            "Epoch 18/20\n",
            "\u001b[1m19/19\u001b[0m \u001b[32m━━━━━━━━━━━━━━━━━━━━\u001b[0m\u001b[37m\u001b[0m \u001b[1m0s\u001b[0m 13ms/step - accuracy: 0.9962 - loss: 0.0327 - val_accuracy: 0.8784 - val_loss: 0.6017\n",
            "Epoch 19/20\n",
            "\u001b[1m19/19\u001b[0m \u001b[32m━━━━━━━━━━━━━━━━━━━━\u001b[0m\u001b[37m\u001b[0m \u001b[1m0s\u001b[0m 13ms/step - accuracy: 1.0000 - loss: 0.0031 - val_accuracy: 0.8784 - val_loss: 0.6004\n",
            "Epoch 20/20\n",
            "\u001b[1m19/19\u001b[0m \u001b[32m━━━━━━━━━━━━━━━━━━━━\u001b[0m\u001b[37m\u001b[0m \u001b[1m0s\u001b[0m 13ms/step - accuracy: 0.9974 - loss: 0.0083 - val_accuracy: 0.8784 - val_loss: 0.6037\n"
          ]
        }
      ]
    },
    {
      "cell_type": "markdown",
      "source": [
        "#HASIL TRAINING"
      ],
      "metadata": {
        "id": "SBabl10MFD9j"
      }
    },
    {
      "cell_type": "markdown",
      "source": [
        "##CNN"
      ],
      "metadata": {
        "id": "oT89okjpFJIu"
      }
    },
    {
      "cell_type": "code",
      "source": [
        "accuracy = history_cnn.history['accuracy']\n",
        "val_accuracy = history_cnn.history['val_accuracy']\n",
        "loss = history_cnn.history['loss']\n",
        "val_loss = history_cnn.history['val_loss']\n",
        "epochs = range(1, len(accuracy) + 1)\n",
        "\n",
        "plt.figure(figsize=(12, 6))\n",
        "plt.subplot(1, 2, 1)\n",
        "plt.plot(epochs, accuracy, label='Training Accuracy')\n",
        "plt.plot(epochs, val_accuracy, label='Validation Accuracy')\n",
        "plt.title('Training and Validation Accuracy')\n",
        "plt.xlabel('Epochs')\n",
        "plt.ylabel('Accuracy')\n",
        "plt.legend()\n",
        "\n",
        "plt.subplot(1, 2, 2)\n",
        "plt.plot(epochs, loss, label='Training Loss')\n",
        "plt.plot(epochs, val_loss, label='Validation Loss')\n",
        "plt.title('Training and Validation Loss')\n",
        "plt.xlabel('Epochs')\n",
        "plt.ylabel('Loss')\n",
        "plt.legend()\n",
        "\n",
        "plt.tight_layout()\n",
        "plt.show()"
      ],
      "metadata": {
        "colab": {
          "base_uri": "https://localhost:8080/",
          "height": 432
        },
        "id": "DqQ9_0aXsGZ9",
        "outputId": "a40428ea-e99a-4399-f8a3-a4b7c6ad4bcc"
      },
      "execution_count": 154,
      "outputs": [
        {
          "output_type": "display_data",
          "data": {
            "text/plain": [
              "<Figure size 1200x600 with 2 Axes>"
            ],
            "image/png": "[encoded data removed]"
          },
          "metadata": {}
        }
      ]
    },
    {
      "cell_type": "code",
      "source": [
        "y_test_encoded = le.transform(y_test)\n",
        "y_pred = model_cnn.predict(X_test.toarray()).argmax(axis=1)\n",
        "cm = confusion_matrix(y_test_encoded, y_pred)\n",
        "disp = ConfusionMatrixDisplay(confusion_matrix=cm, display_labels=le.classes_)\n",
        "disp.plot(cmap='Blues')\n",
        "plt.show()"
      ],
      "metadata": {
        "colab": {
          "base_uri": "https://localhost:8080/",
          "height": 472
        },
        "id": "MIz-yrJEYUgH",
        "outputId": "5ddb047b-f5f3-4b0a-f35c-97b30e8dd2f1"
      },
      "execution_count": 155,
      "outputs": [
        {
          "output_type": "stream",
          "name": "stdout",
          "text": [
            "\u001b[1m3/3\u001b[0m \u001b[32m━━━━━━━━━━━━━━━━━━━━\u001b[0m\u001b[37m\u001b[0m \u001b[1m1s\u001b[0m 152ms/step\n"
          ]
        },
        {
          "output_type": "display_data",
          "data": {
            "text/plain": [
              "<Figure size 640x480 with 2 Axes>"
            ],
            "image/png": "[encoded data removed]"
          },
          "metadata": {}
        }
      ]
    },
    {
      "cell_type": "code",
      "source": [
        "X_test_float = X_test.toarray().astype('float32')\n",
        "y_test_encoded = le.transform(y_test)\n",
        "\n",
        "y_pred_prob = model_cnn.predict(X_test_float)\n",
        "y_pred = y_pred_prob.argmax(axis=1)\n",
        "\n",
        "f1 = f1_score(y_test_encoded, y_pred, average='weighted')\n",
        "print(f\"F1 Score: {f1:.4f}\")\n",
        "\n",
        "print(\"\\nClassification Report:\")\n",
        "print(classification_report(y_test_encoded, y_pred, target_names=le.classes_))"
      ],
      "metadata": {
        "colab": {
          "base_uri": "https://localhost:8080/"
        },
        "id": "NTCkhLV9sk0R",
        "outputId": "8e284a99-cc32-4238-be40-38297f963898"
      },
      "execution_count": 156,
      "outputs": [
        {
          "output_type": "stream",
          "name": "stdout",
          "text": [
            "\u001b[1m3/3\u001b[0m \u001b[32m━━━━━━━━━━━━━━━━━━━━\u001b[0m\u001b[37m\u001b[0m \u001b[1m0s\u001b[0m 14ms/step\n",
            "F1 Score: 0.9319\n",
            "\n",
            "Classification Report:\n",
            "              precision    recall  f1-score   support\n",
            "\n",
            "           A       1.00      0.75      0.86         4\n",
            "           B       1.00      1.00      1.00         1\n",
            "           C       1.00      1.00      1.00         2\n",
            "           D       1.00      1.00      1.00         1\n",
            "           E       1.00      1.00      1.00         1\n",
            "           F       1.00      1.00      1.00         1\n",
            "           G       1.00      0.60      0.75         5\n",
            "           H       1.00      0.67      0.80         3\n",
            "           I       0.89      1.00      0.94         8\n",
            "           J       1.00      1.00      1.00         4\n",
            "           K       1.00      1.00      1.00         3\n",
            "           L       1.00      1.00      1.00         4\n",
            "           M       0.67      1.00      0.80         6\n",
            "           N       1.00      1.00      1.00         4\n",
            "           O       1.00      1.00      1.00         2\n",
            "           P       1.00      1.00      1.00         5\n",
            "           Q       1.00      0.83      0.91         6\n",
            "           R       0.88      1.00      0.93         7\n",
            "           S       1.00      1.00      1.00         6\n",
            "           T       1.00      1.00      1.00         1\n",
            "           U       1.00      1.00      1.00         1\n",
            "\n",
            "    accuracy                           0.93        75\n",
            "   macro avg       0.97      0.95      0.95        75\n",
            "weighted avg       0.95      0.93      0.93        75\n",
            "\n"
          ]
        }
      ]
    },
    {
      "cell_type": "code",
      "source": [
        "X_test_float = X_test.toarray().astype('float32')\n",
        "y_test_encoded = le.transform(y_test)\n",
        "\n",
        "y_pred_probs = model_cnn.predict(X_test_float)\n",
        "y_pred = y_pred_probs.argmax(axis=1)\n",
        "confidence = y_pred_probs.max(axis=1)\n",
        "\n",
        "results_df = pd.DataFrame({\n",
        "    'original_label': le.inverse_transform(y_test_encoded),\n",
        "    'predicted_label': le.inverse_transform(y_pred),\n",
        "    'confidence': confidence\n",
        "})\n",
        "\n",
        "results_df.to_excel(\"test_predictions_cnn.xlsx\", index=False)"
      ],
      "metadata": {
        "colab": {
          "base_uri": "https://localhost:8080/"
        },
        "id": "PUtKAfNh0_SM",
        "outputId": "32853636-f624-4b66-f453-7b232a348f79"
      },
      "execution_count": 157,
      "outputs": [
        {
          "output_type": "stream",
          "name": "stdout",
          "text": [
            "\u001b[1m3/3\u001b[0m \u001b[32m━━━━━━━━━━━━━━━━━━━━\u001b[0m\u001b[37m\u001b[0m \u001b[1m0s\u001b[0m 13ms/step\n"
          ]
        }
      ]
    },
    {
      "cell_type": "markdown",
      "source": [
        "##NN"
      ],
      "metadata": {
        "id": "VdivaRvLFOpa"
      }
    },
    {
      "cell_type": "code",
      "source": [
        "accuracy = history_nn.history['accuracy']\n",
        "val_accuracy = history_nn.history['val_accuracy']\n",
        "loss = history_nn.history['loss']\n",
        "val_loss = history_nn.history['val_loss']\n",
        "epochs = range(1, len(accuracy) + 1)\n",
        "\n",
        "plt.figure(figsize=(12, 6))\n",
        "plt.subplot(1, 2, 1)\n",
        "plt.plot(epochs, accuracy, label='Training Accuracy')\n",
        "plt.plot(epochs, val_accuracy, label='Validation Accuracy')\n",
        "plt.title('Training and Validation Accuracy')\n",
        "plt.xlabel('Epochs')\n",
        "plt.ylabel('Accuracy')\n",
        "plt.legend()\n",
        "\n",
        "plt.subplot(1, 2, 2)\n",
        "plt.plot(epochs, loss, label='Training Loss')\n",
        "plt.plot(epochs, val_loss, label='Validation Loss')\n",
        "plt.title('Training and Validation Loss')\n",
        "plt.xlabel('Epochs')\n",
        "plt.ylabel('Loss')\n",
        "plt.legend()\n",
        "\n",
        "plt.tight_layout()\n",
        "plt.show()"
      ],
      "metadata": {
        "colab": {
          "base_uri": "https://localhost:8080/",
          "height": 432
        },
        "id": "l62arioWFMe_",
        "outputId": "a1efa0a5-e01a-4812-e610-a0e0c98916fa"
      },
      "execution_count": 158,
      "outputs": [
        {
          "output_type": "display_data",
          "data": {
            "text/plain": [
              "<Figure size 1200x600 with 2 Axes>"
            ],
            "image/png": "[encoded data removed]"
          },
          "metadata": {}
        }
      ]
    },
    {
      "cell_type": "code",
      "source": [
        "y_test_encoded = le.transform(y_test)\n",
        "y_pred = model_nn.predict(X_test.toarray()).argmax(axis=1)\n",
        "cm = confusion_matrix(y_test_encoded, y_pred)\n",
        "disp = ConfusionMatrixDisplay(confusion_matrix=cm, display_labels=le.classes_)\n",
        "disp.plot(cmap='Blues')\n",
        "plt.show()"
      ],
      "metadata": {
        "colab": {
          "base_uri": "https://localhost:8080/",
          "height": 472
        },
        "id": "5Oy764VOFUnq",
        "outputId": "52304d3c-96d7-4baa-924d-ae0e79948479"
      },
      "execution_count": 159,
      "outputs": [
        {
          "output_type": "stream",
          "name": "stdout",
          "text": [
            "\u001b[1m3/3\u001b[0m \u001b[32m━━━━━━━━━━━━━━━━━━━━\u001b[0m\u001b[37m\u001b[0m \u001b[1m1s\u001b[0m 123ms/step\n"
          ]
        },
        {
          "output_type": "display_data",
          "data": {
            "text/plain": [
              "<Figure size 640x480 with 2 Axes>"
            ],
            "image/png": "[encoded data removed]"
          },
          "metadata": {}
        }
      ]
    },
    {
      "cell_type": "code",
      "source": [
        "X_test_float = X_test.toarray().astype('float32')\n",
        "y_test_encoded = le.transform(y_test)\n",
        "\n",
        "y_pred_prob = model_nn.predict(X_test_float)\n",
        "y_pred = y_pred_prob.argmax(axis=1)\n",
        "\n",
        "f1 = f1_score(y_test_encoded, y_pred, average='weighted')\n",
        "print(f\"F1 Score: {f1:.4f}\")\n",
        "\n",
        "print(\"\\nClassification Report:\")\n",
        "print(classification_report(y_test_encoded, y_pred, target_names=le.classes_))"
      ],
      "metadata": {
        "colab": {
          "base_uri": "https://localhost:8080/"
        },
        "id": "QWYgUlmdFbqT",
        "outputId": "f77d14be-6540-424b-e7ee-c0b56509942b"
      },
      "execution_count": 160,
      "outputs": [
        {
          "output_type": "stream",
          "name": "stdout",
          "text": [
            "\u001b[1m3/3\u001b[0m \u001b[32m━━━━━━━━━━━━━━━━━━━━\u001b[0m\u001b[37m\u001b[0m \u001b[1m0s\u001b[0m 12ms/step\n",
            "F1 Score: 0.9174\n",
            "\n",
            "Classification Report:\n",
            "              precision    recall  f1-score   support\n",
            "\n",
            "           A       1.00      0.50      0.67         4\n",
            "           B       1.00      1.00      1.00         1\n",
            "           C       1.00      1.00      1.00         2\n",
            "           D       0.50      1.00      0.67         1\n",
            "           E       1.00      1.00      1.00         1\n",
            "           F       1.00      1.00      1.00         1\n",
            "           G       1.00      0.60      0.75         5\n",
            "           H       1.00      0.67      0.80         3\n",
            "           I       0.89      1.00      0.94         8\n",
            "           J       1.00      1.00      1.00         4\n",
            "           K       0.60      1.00      0.75         3\n",
            "           L       1.00      1.00      1.00         4\n",
            "           M       1.00      0.83      0.91         6\n",
            "           N       0.80      1.00      0.89         4\n",
            "           O       1.00      1.00      1.00         2\n",
            "           P       1.00      1.00      1.00         5\n",
            "           Q       1.00      1.00      1.00         6\n",
            "           R       0.88      1.00      0.93         7\n",
            "           S       1.00      1.00      1.00         6\n",
            "           T       1.00      1.00      1.00         1\n",
            "           U       1.00      1.00      1.00         1\n",
            "\n",
            "    accuracy                           0.92        75\n",
            "   macro avg       0.94      0.93      0.92        75\n",
            "weighted avg       0.94      0.92      0.92        75\n",
            "\n"
          ]
        }
      ]
    },
    {
      "cell_type": "code",
      "source": [
        "X_test_float = X_test.toarray().astype('float32')\n",
        "y_test_encoded = le.transform(y_test)\n",
        "\n",
        "y_pred_probs = model_nn.predict(X_test_float)\n",
        "y_pred = y_pred_probs.argmax(axis=1)\n",
        "confidence = y_pred_probs.max(axis=1)\n",
        "\n",
        "results_df = pd.DataFrame({\n",
        "    'original_label': le.inverse_transform(y_test_encoded),\n",
        "    'predicted_label': le.inverse_transform(y_pred),\n",
        "    'confidence': confidence\n",
        "})\n",
        "\n",
        "results_df.to_excel(\"test_predictions_nn.xlsx\", index=False)"
      ],
      "metadata": {
        "colab": {
          "base_uri": "https://localhost:8080/"
        },
        "id": "XFNkpH0nFfst",
        "outputId": "8dc3c234-68b7-4351-e8c1-d3b1e5ff7e15"
      },
      "execution_count": 161,
      "outputs": [
        {
          "output_type": "stream",
          "name": "stdout",
          "text": [
            "\u001b[1m3/3\u001b[0m \u001b[32m━━━━━━━━━━━━━━━━━━━━\u001b[0m\u001b[37m\u001b[0m \u001b[1m0s\u001b[0m 12ms/step\n"
          ]
        }
      ]
    },
    {
      "cell_type": "markdown",
      "source": [
        "#Simpan Model (.h5 dan .savetensor)"
      ],
      "metadata": {
        "id": "LOEzlFvuuWkK"
      }
    },
    {
      "cell_type": "code",
      "source": [
        "model_cnn.save('/content/drive/MyDrive/BPS_PROJECT/MODEL/klbi_classification/klbi_class_cnn.keras')\n",
        "model_cnn.save('/content/drive/MyDrive/BPS_PROJECT/MODEL/klbi_classification/klbi_class_cnn.h5')\n",
        "\n",
        "model_nn.save('/content/drive/MyDrive/BPS_PROJECT/MODEL/klbi_classification/klbi_class_nn.keras')\n",
        "model_nn.save('/content/drive/MyDrive/BPS_PROJECT/MODEL/klbi_classification/klbi_class_nn.h5')"
      ],
      "metadata": {
        "colab": {
          "base_uri": "https://localhost:8080/"
        },
        "id": "LorhD-K95_1m",
        "outputId": "51edae6e-49d5-4337-ad8c-305c7d4a516c"
      },
      "execution_count": 162,
      "outputs": [
        {
          "output_type": "stream",
          "name": "stderr",
          "text": [
            "WARNING:absl:You are saving your model as an HDF5 file via `model.save()` or `keras.saving.save_model(model)`. This file format is considered legacy. We recommend using instead the native Keras format, e.g. `model.save('my_model.keras')` or `keras.saving.save_model(model, 'my_model.keras')`. \n",
            "WARNING:absl:You are saving your model as an HDF5 file via `model.save()` or `keras.saving.save_model(model)`. This file format is considered legacy. We recommend using instead the native Keras format, e.g. `model.save('my_model.keras')` or `keras.saving.save_model(model, 'my_model.keras')`. \n"
          ]
        }
      ]
    },
    {
      "cell_type": "code",
      "source": [
        "with open(\"/content/drive/MyDrive/BPS_PROJECT/MODEL/klbi_classification/tfidf_vectorizer_cnn.pkl\", \"wb\") as f:\n",
        "    pickle.dump(tfidf, f)"
      ],
      "metadata": {
        "id": "7v43ijSb-CT9"
      },
      "execution_count": 163,
      "outputs": []
    },
    {
      "cell_type": "markdown",
      "source": [
        "#Apply Model Ke Dataset Full"
      ],
      "metadata": {
        "id": "INpWV8cluQAf"
      }
    },
    {
      "cell_type": "code",
      "source": [
        "df = pd.read_excel(\"/content/drive/MyDrive/BPS_PROJECT/PROCESSED/klbi_classification/COMBINED_DATASET.xlsx\")"
      ],
      "metadata": {
        "id": "TvC-Jvc3CmyG"
      },
      "execution_count": 164,
      "outputs": []
    },
    {
      "cell_type": "markdown",
      "source": [
        "### CNN"
      ],
      "metadata": {
        "id": "wQUjE7nMCpeq"
      }
    },
    {
      "cell_type": "code",
      "source": [
        "model_cnn = load_model('/content/drive/MyDrive/BPS_PROJECT/MODEL/klbi_classification/klbi_class_cnn.h5')"
      ],
      "metadata": {
        "colab": {
          "base_uri": "https://localhost:8080/"
        },
        "id": "DQrZfv_L7T4n",
        "outputId": "0f98f87c-2a7c-4829-be30-076661103e4e"
      },
      "execution_count": 165,
      "outputs": [
        {
          "output_type": "stream",
          "name": "stderr",
          "text": [
            "WARNING:absl:Compiled the loaded model, but the compiled metrics have yet to be built. `model.compile_metrics` will be empty until you train or evaluate the model.\n"
          ]
        }
      ]
    },
    {
      "cell_type": "code",
      "source": [
        "with open(\"/content/drive/MyDrive/BPS_PROJECT/MODEL/klbi_classification/tfidf_vectorizer_cnn.pkl\", \"rb\") as f:\n",
        "    tfidf = pickle.load(f)"
      ],
      "metadata": {
        "id": "iBQ7uKga-Nke"
      },
      "execution_count": 166,
      "outputs": []
    },
    {
      "cell_type": "code",
      "source": [
        "X_new = tfidf.transform(df['placeName'] + df['placeTypes'])\n",
        "X_new_float = X_new.toarray().astype('float32')"
      ],
      "metadata": {
        "id": "gsION1gu-fYM"
      },
      "execution_count": 167,
      "outputs": []
    },
    {
      "cell_type": "code",
      "source": [
        "y_new_probs = model_cnn.predict(X_new_float)\n",
        "y_new_pred = y_new_probs.argmax(axis=1)"
      ],
      "metadata": {
        "colab": {
          "base_uri": "https://localhost:8080/"
        },
        "id": "wL7MF6ll-n-F",
        "outputId": "39db0509-cbc9-4890-8e2f-4c5fb152daf2"
      },
      "execution_count": 168,
      "outputs": [
        {
          "output_type": "stream",
          "name": "stdout",
          "text": [
            "\u001b[1m1355/1355\u001b[0m \u001b[32m━━━━━━━━━━━━━━━━━━━━\u001b[0m\u001b[37m\u001b[0m \u001b[1m4s\u001b[0m 3ms/step\n"
          ]
        }
      ]
    },
    {
      "cell_type": "code",
      "source": [
        "df['predicted_label'] = le.inverse_transform(y_new_pred)"
      ],
      "metadata": {
        "id": "sos7YDnL-yZ-"
      },
      "execution_count": 169,
      "outputs": []
    },
    {
      "cell_type": "code",
      "source": [
        "df.to_excel(\"//content/drive/MyDrive/BPS_PROJECT/PROCESSED/klbi_classification/PREDICTED_ALL_82ACC_cnn.xlsx\", index = False)"
      ],
      "metadata": {
        "id": "EdNdjPEae8w0"
      },
      "execution_count": 170,
      "outputs": []
    },
    {
      "cell_type": "code",
      "source": [
        "df.head(20)"
      ],
      "metadata": {
        "id": "teNqSNVScDMn",
        "colab": {
          "base_uri": "https://localhost:8080/",
          "height": 1000
        },
        "outputId": "5ffe9145-42bd-4798-ed8b-ded8ceacf2ba"
      },
      "execution_count": 171,
      "outputs": [
        {
          "output_type": "execute_result",
          "data": {
            "text/plain": [
              "                        placeId                                     placeName  \\\n",
              "0   ChIJG0i9CEap1TERq1G-K3lxuus                                  Graha Renova   \n",
              "1   ChIJI0kxnE-p1TERVzzCaVLc_-A                          Putri Jaya Abadi. CV   \n",
              "2   ChIJ75xs3BSp1TERjUD6T2Hr7MU                             Warung Ojo Forget   \n",
              "3   ChIJn_QB002p1TERjXQjpmobcjE                      Batam Central Electronik   \n",
              "4   ChIJWxkAUdOp1TERTPhwfB11yBc                     BOS (Bintang Oto Service)   \n",
              "5   ChIJGZ6fZWKp1TER1-ehi3TTs-M                                     Arjuna 51   \n",
              "6   ChIJ7z8NCnmp1TERBB6h6lgxpGk                     Villa Garuda Mas C3 Mawar   \n",
              "7   ChIJuwVlnjir1TERIrSo4VY6KJk  Laundry Sepatu Hotel Shoes Clean & treatment   \n",
              "8   ChIJ0cJza2mp1TERIuIVdKGyDS0                               Vape Pink Store   \n",
              "9   ChIJV698pw2p1TERYF4aEyoypYg                            Bengkel Las Arjuna   \n",
              "10  ChIJu4SfAUqp1TERd53oZM0d_cw                                  Twoone Tenun   \n",
              "11  ChIJh1cF01ap1TERq9TsX2Vo3bo                                 ELLYS FLORIST   \n",
              "12  ChIJeexWilCp1TERdJ1IUOXS5Js                     Amal Parlagutan Niaga. CV   \n",
              "13  ChIJ6bK1DBSp1TER1sxntiaMwWo                                Senior laundry   \n",
              "14  ChIJK99fmFCp1TERc0vElgnIDDg                                  Vilo Fashion   \n",
              "15  ChIJvf4TqIqr1TERlLuo4FE-dL4                             Toko Rezky Arjuna   \n",
              "16  ChIJv6aNItqp1TERZiPTIgiQN4Y                          Jl arjuna gg citarum   \n",
              "17  ChIJt1nYUIep1TERKLwCkbfj-1o                 TMH (Takwin Management House)   \n",
              "18  ChIJZ9taMwCp1TERwZFHj3OvkEo                              Kedai kopi ajete   \n",
              "19  ChIJCXHwz5ep1TERQlp7gU9dVJg                 Perternakan fourman panjaitan   \n",
              "\n",
              "                                         placeAddress placeBusinessStatus  \\\n",
              "0                          GC2C+GP3, Tengkerang Barat         OPERATIONAL   \n",
              "1           Jalan Musyawarah No.184, Labuh Baru Timur         OPERATIONAL   \n",
              "2     GC3G+GQ4, Jalan Soekarno-Hatta, Sidomulyo Timur         OPERATIONAL   \n",
              "3   Komplek Taman Anggrek Blok A4-6, Jl. Tuanku Ta...         OPERATIONAL   \n",
              "4                      Jalan Ikhlas, Labuh Baru Timur         OPERATIONAL   \n",
              "5                          GC6F+7GC, Labuh Baru Timur         OPERATIONAL   \n",
              "6   Villa, Jalan Garuda Mas Mawar No.C3, Labuh Bar...         OPERATIONAL   \n",
              "7                                 Jalan Arjuna No.125         OPERATIONAL   \n",
              "8   Jalan Eka Sari Jalan Arjuna No.56, Labuh Baru ...         OPERATIONAL   \n",
              "9            GC6F+GQG, Jalan Arjuna, Labuh Baru Timur         OPERATIONAL   \n",
              "10                                 Jalan Garuda Sakti         OPERATIONAL   \n",
              "11                              Tim, Labuh Baru Timur         OPERATIONAL   \n",
              "12              Jalan Arjuna No.127, Labuh Baru Timur         OPERATIONAL   \n",
              "13           GC6F+GPQ, Jalan Arjuna, Labuh Baru Timur         OPERATIONAL   \n",
              "14        GC5F+R69, Jl. Waringin II, Labuh Baru Timur         OPERATIONAL   \n",
              "15      Jalan Arjuna 3 No.kelurahan, Labuh Baru Timur         OPERATIONAL   \n",
              "16                         GC6F+CCQ, Labuh Baru Timur         OPERATIONAL   \n",
              "17              Jalan Eka Sari No.1, Labuh Baru Timur         OPERATIONAL   \n",
              "18          Jalan Tiung Ujung No.42, Labuh Baru Timur         OPERATIONAL   \n",
              "19             GC5F+CW4, Gang Jeruk, Labuh Baru Timur         OPERATIONAL   \n",
              "\n",
              "                                           placeTypes  placeLatitude  \\\n",
              "0                     point_of_interest,establishment       0.501254   \n",
              "1   furniture_store,home_goods_store,point_of_inte...       0.503969   \n",
              "2     restaurant,point_of_interest,food,establishment       0.503770   \n",
              "3   electronics_store,point_of_interest,store,esta...       0.503697   \n",
              "4          car_repair,point_of_interest,establishment       0.505233   \n",
              "5             lodging,point_of_interest,establishment       0.510688   \n",
              "6                     point_of_interest,establishment       0.510855   \n",
              "7                     point_of_interest,establishment       0.508483   \n",
              "8               point_of_interest,store,establishment       0.511309   \n",
              "9                     point_of_interest,establishment       0.511312   \n",
              "10              point_of_interest,store,establishment       0.510585   \n",
              "11                    point_of_interest,establishment       0.510826   \n",
              "12                    point_of_interest,establishment       0.508562   \n",
              "13            laundry,point_of_interest,establishment       0.511331   \n",
              "14  clothing_store,point_of_interest,store,establi...       0.509543   \n",
              "15               point_of_interest,food,establishment       0.511485   \n",
              "16                    point_of_interest,establishment       0.511089   \n",
              "17                    point_of_interest,establishment       0.511529   \n",
              "18    cafe,food,point_of_interest,store,establishment       0.508350   \n",
              "19              store,point_of_interest,establishment       0.508519   \n",
              "\n",
              "    placeLongitude source predicted_label  \n",
              "0       101.421803  GMAPS               J  \n",
              "1       101.423609  GMAPS               G  \n",
              "2       101.426964  GMAPS               T  \n",
              "3       101.428838  GMAPS               G  \n",
              "4       101.430264  GMAPS               S  \n",
              "5       101.423754  GMAPS               S  \n",
              "6       101.425538  GMAPS               L  \n",
              "7       101.424036  GMAPS               I  \n",
              "8       101.424465  GMAPS               G  \n",
              "9       101.424466  GMAPS               G  \n",
              "10      101.426052  GMAPS               G  \n",
              "11      101.425882  GMAPS               S  \n",
              "12      101.423740  GMAPS               H  \n",
              "13      101.424346  GMAPS               S  \n",
              "14      101.423102  GMAPS               G  \n",
              "15      101.424696  GMAPS               G  \n",
              "16      101.423595  GMAPS               R  \n",
              "17      101.423974  GMAPS               S  \n",
              "18      101.427348  GMAPS               I  \n",
              "19      101.424817  GMAPS               S  "
            ],
            "text/html": [
              "\n",
              "  <div id=\"df-a011c83c-db7b-4da1-b6c2-bad821b333fd\" class=\"colab-df-container\">\n",
              "    <div>\n",
              "<style scoped>\n",
              "    .dataframe tbody tr th:only-of-type {\n",
              "        vertical-align: middle;\n",
              "    }\n",
              "\n",
              "    .dataframe tbody tr th {\n",
              "        vertical-align: top;\n",
              "    }\n",
              "\n",
              "    .dataframe thead th {\n",
              "        text-align: right;\n",
              "    }\n",
              "</style>\n",
              "<table border=\"1\" class=\"dataframe\">\n",
              "  <thead>\n",
              "    <tr style=\"text-align: right;\">\n",
              "      <th></th>\n",
              "      <th>placeId</th>\n",
              "      <th>placeName</th>\n",
              "      <th>placeAddress</th>\n",
              "      <th>placeBusinessStatus</th>\n",
              "      <th>placeTypes</th>\n",
              "      <th>placeLatitude</th>\n",
              "      <th>placeLongitude</th>\n",
              "      <th>source</th>\n",
              "      <th>predicted_label</th>\n",
              "    </tr>\n",
              "  </thead>\n",
              "  <tbody>\n",
              "    <tr>\n",
              "      <th>0</th>\n",
              "      <td>ChIJG0i9CEap1TERq1G-K3lxuus</td>\n",
              "      <td>Graha Renova</td>\n",
              "      <td>GC2C+GP3, Tengkerang Barat</td>\n",
              "      <td>OPERATIONAL</td>\n",
              "      <td>point_of_interest,establishment</td>\n",
              "      <td>0.501254</td>\n",
              "      <td>101.421803</td>\n",
              "      <td>GMAPS</td>\n",
              "      <td>J</td>\n",
              "    </tr>\n",
              "    <tr>\n",
              "      <th>1</th>\n",
              "      <td>ChIJI0kxnE-p1TERVzzCaVLc_-A</td>\n",
              "      <td>Putri Jaya Abadi. CV</td>\n",
              "      <td>Jalan Musyawarah No.184, Labuh Baru Timur</td>\n",
              "      <td>OPERATIONAL</td>\n",
              "      <td>furniture_store,home_goods_store,point_of_inte...</td>\n",
              "      <td>0.503969</td>\n",
              "      <td>101.423609</td>\n",
              "      <td>GMAPS</td>\n",
              "      <td>G</td>\n",
              "    </tr>\n",
              "    <tr>\n",
              "      <th>2</th>\n",
              "      <td>ChIJ75xs3BSp1TERjUD6T2Hr7MU</td>\n",
              "      <td>Warung Ojo Forget</td>\n",
              "      <td>GC3G+GQ4, Jalan Soekarno-Hatta, Sidomulyo Timur</td>\n",
              "      <td>OPERATIONAL</td>\n",
              "      <td>restaurant,point_of_interest,food,establishment</td>\n",
              "      <td>0.503770</td>\n",
              "      <td>101.426964</td>\n",
              "      <td>GMAPS</td>\n",
              "      <td>T</td>\n",
              "    </tr>\n",
              "    <tr>\n",
              "      <th>3</th>\n",
              "      <td>ChIJn_QB002p1TERjXQjpmobcjE</td>\n",
              "      <td>Batam Central Electronik</td>\n",
              "      <td>Komplek Taman Anggrek Blok A4-6, Jl. Tuanku Ta...</td>\n",
              "      <td>OPERATIONAL</td>\n",
              "      <td>electronics_store,point_of_interest,store,esta...</td>\n",
              "      <td>0.503697</td>\n",
              "      <td>101.428838</td>\n",
              "      <td>GMAPS</td>\n",
              "      <td>G</td>\n",
              "    </tr>\n",
              "    <tr>\n",
              "      <th>4</th>\n",
              "      <td>ChIJWxkAUdOp1TERTPhwfB11yBc</td>\n",
              "      <td>BOS (Bintang Oto Service)</td>\n",
              "      <td>Jalan Ikhlas, Labuh Baru Timur</td>\n",
              "      <td>OPERATIONAL</td>\n",
              "      <td>car_repair,point_of_interest,establishment</td>\n",
              "      <td>0.505233</td>\n",
              "      <td>101.430264</td>\n",
              "      <td>GMAPS</td>\n",
              "      <td>S</td>\n",
              "    </tr>\n",
              "    <tr>\n",
              "      <th>5</th>\n",
              "      <td>ChIJGZ6fZWKp1TER1-ehi3TTs-M</td>\n",
              "      <td>Arjuna 51</td>\n",
              "      <td>GC6F+7GC, Labuh Baru Timur</td>\n",
              "      <td>OPERATIONAL</td>\n",
              "      <td>lodging,point_of_interest,establishment</td>\n",
              "      <td>0.510688</td>\n",
              "      <td>101.423754</td>\n",
              "      <td>GMAPS</td>\n",
              "      <td>S</td>\n",
              "    </tr>\n",
              "    <tr>\n",
              "      <th>6</th>\n",
              "      <td>ChIJ7z8NCnmp1TERBB6h6lgxpGk</td>\n",
              "      <td>Villa Garuda Mas C3 Mawar</td>\n",
              "      <td>Villa, Jalan Garuda Mas Mawar No.C3, Labuh Bar...</td>\n",
              "      <td>OPERATIONAL</td>\n",
              "      <td>point_of_interest,establishment</td>\n",
              "      <td>0.510855</td>\n",
              "      <td>101.425538</td>\n",
              "      <td>GMAPS</td>\n",
              "      <td>L</td>\n",
              "    </tr>\n",
              "    <tr>\n",
              "      <th>7</th>\n",
              "      <td>ChIJuwVlnjir1TERIrSo4VY6KJk</td>\n",
              "      <td>Laundry Sepatu Hotel Shoes Clean &amp; treatment</td>\n",
              "      <td>Jalan Arjuna No.125</td>\n",
              "      <td>OPERATIONAL</td>\n",
              "      <td>point_of_interest,establishment</td>\n",
              "      <td>0.508483</td>\n",
              "      <td>101.424036</td>\n",
              "      <td>GMAPS</td>\n",
              "      <td>I</td>\n",
              "    </tr>\n",
              "    <tr>\n",
              "      <th>8</th>\n",
              "      <td>ChIJ0cJza2mp1TERIuIVdKGyDS0</td>\n",
              "      <td>Vape Pink Store</td>\n",
              "      <td>Jalan Eka Sari Jalan Arjuna No.56, Labuh Baru ...</td>\n",
              "      <td>OPERATIONAL</td>\n",
              "      <td>point_of_interest,store,establishment</td>\n",
              "      <td>0.511309</td>\n",
              "      <td>101.424465</td>\n",
              "      <td>GMAPS</td>\n",
              "      <td>G</td>\n",
              "    </tr>\n",
              "    <tr>\n",
              "      <th>9</th>\n",
              "      <td>ChIJV698pw2p1TERYF4aEyoypYg</td>\n",
              "      <td>Bengkel Las Arjuna</td>\n",
              "      <td>GC6F+GQG, Jalan Arjuna, Labuh Baru Timur</td>\n",
              "      <td>OPERATIONAL</td>\n",
              "      <td>point_of_interest,establishment</td>\n",
              "      <td>0.511312</td>\n",
              "      <td>101.424466</td>\n",
              "      <td>GMAPS</td>\n",
              "      <td>G</td>\n",
              "    </tr>\n",
              "    <tr>\n",
              "      <th>10</th>\n",
              "      <td>ChIJu4SfAUqp1TERd53oZM0d_cw</td>\n",
              "      <td>Twoone Tenun</td>\n",
              "      <td>Jalan Garuda Sakti</td>\n",
              "      <td>OPERATIONAL</td>\n",
              "      <td>point_of_interest,store,establishment</td>\n",
              "      <td>0.510585</td>\n",
              "      <td>101.426052</td>\n",
              "      <td>GMAPS</td>\n",
              "      <td>G</td>\n",
              "    </tr>\n",
              "    <tr>\n",
              "      <th>11</th>\n",
              "      <td>ChIJh1cF01ap1TERq9TsX2Vo3bo</td>\n",
              "      <td>ELLYS FLORIST</td>\n",
              "      <td>Tim, Labuh Baru Timur</td>\n",
              "      <td>OPERATIONAL</td>\n",
              "      <td>point_of_interest,establishment</td>\n",
              "      <td>0.510826</td>\n",
              "      <td>101.425882</td>\n",
              "      <td>GMAPS</td>\n",
              "      <td>S</td>\n",
              "    </tr>\n",
              "    <tr>\n",
              "      <th>12</th>\n",
              "      <td>ChIJeexWilCp1TERdJ1IUOXS5Js</td>\n",
              "      <td>Amal Parlagutan Niaga. CV</td>\n",
              "      <td>Jalan Arjuna No.127, Labuh Baru Timur</td>\n",
              "      <td>OPERATIONAL</td>\n",
              "      <td>point_of_interest,establishment</td>\n",
              "      <td>0.508562</td>\n",
              "      <td>101.423740</td>\n",
              "      <td>GMAPS</td>\n",
              "      <td>H</td>\n",
              "    </tr>\n",
              "    <tr>\n",
              "      <th>13</th>\n",
              "      <td>ChIJ6bK1DBSp1TER1sxntiaMwWo</td>\n",
              "      <td>Senior laundry</td>\n",
              "      <td>GC6F+GPQ, Jalan Arjuna, Labuh Baru Timur</td>\n",
              "      <td>OPERATIONAL</td>\n",
              "      <td>laundry,point_of_interest,establishment</td>\n",
              "      <td>0.511331</td>\n",
              "      <td>101.424346</td>\n",
              "      <td>GMAPS</td>\n",
              "      <td>S</td>\n",
              "    </tr>\n",
              "    <tr>\n",
              "      <th>14</th>\n",
              "      <td>ChIJK99fmFCp1TERc0vElgnIDDg</td>\n",
              "      <td>Vilo Fashion</td>\n",
              "      <td>GC5F+R69, Jl. Waringin II, Labuh Baru Timur</td>\n",
              "      <td>OPERATIONAL</td>\n",
              "      <td>clothing_store,point_of_interest,store,establi...</td>\n",
              "      <td>0.509543</td>\n",
              "      <td>101.423102</td>\n",
              "      <td>GMAPS</td>\n",
              "      <td>G</td>\n",
              "    </tr>\n",
              "    <tr>\n",
              "      <th>15</th>\n",
              "      <td>ChIJvf4TqIqr1TERlLuo4FE-dL4</td>\n",
              "      <td>Toko Rezky Arjuna</td>\n",
              "      <td>Jalan Arjuna 3 No.kelurahan, Labuh Baru Timur</td>\n",
              "      <td>OPERATIONAL</td>\n",
              "      <td>point_of_interest,food,establishment</td>\n",
              "      <td>0.511485</td>\n",
              "      <td>101.424696</td>\n",
              "      <td>GMAPS</td>\n",
              "      <td>G</td>\n",
              "    </tr>\n",
              "    <tr>\n",
              "      <th>16</th>\n",
              "      <td>ChIJv6aNItqp1TERZiPTIgiQN4Y</td>\n",
              "      <td>Jl arjuna gg citarum</td>\n",
              "      <td>GC6F+CCQ, Labuh Baru Timur</td>\n",
              "      <td>OPERATIONAL</td>\n",
              "      <td>point_of_interest,establishment</td>\n",
              "      <td>0.511089</td>\n",
              "      <td>101.423595</td>\n",
              "      <td>GMAPS</td>\n",
              "      <td>R</td>\n",
              "    </tr>\n",
              "    <tr>\n",
              "      <th>17</th>\n",
              "      <td>ChIJt1nYUIep1TERKLwCkbfj-1o</td>\n",
              "      <td>TMH (Takwin Management House)</td>\n",
              "      <td>Jalan Eka Sari No.1, Labuh Baru Timur</td>\n",
              "      <td>OPERATIONAL</td>\n",
              "      <td>point_of_interest,establishment</td>\n",
              "      <td>0.511529</td>\n",
              "      <td>101.423974</td>\n",
              "      <td>GMAPS</td>\n",
              "      <td>S</td>\n",
              "    </tr>\n",
              "    <tr>\n",
              "      <th>18</th>\n",
              "      <td>ChIJZ9taMwCp1TERwZFHj3OvkEo</td>\n",
              "      <td>Kedai kopi ajete</td>\n",
              "      <td>Jalan Tiung Ujung No.42, Labuh Baru Timur</td>\n",
              "      <td>OPERATIONAL</td>\n",
              "      <td>cafe,food,point_of_interest,store,establishment</td>\n",
              "      <td>0.508350</td>\n",
              "      <td>101.427348</td>\n",
              "      <td>GMAPS</td>\n",
              "      <td>I</td>\n",
              "    </tr>\n",
              "    <tr>\n",
              "      <th>19</th>\n",
              "      <td>ChIJCXHwz5ep1TERQlp7gU9dVJg</td>\n",
              "      <td>Perternakan fourman panjaitan</td>\n",
              "      <td>GC5F+CW4, Gang Jeruk, Labuh Baru Timur</td>\n",
              "      <td>OPERATIONAL</td>\n",
              "      <td>store,point_of_interest,establishment</td>\n",
              "      <td>0.508519</td>\n",
              "      <td>101.424817</td>\n",
              "      <td>GMAPS</td>\n",
              "      <td>S</td>\n",
              "    </tr>\n",
              "  </tbody>\n",
              "</table>\n",
              "</div>\n",
              "    <div class=\"colab-df-buttons\">\n",
              "\n",
              "  <div class=\"colab-df-container\">\n",
              "    <button class=\"colab-df-convert\" onclick=\"convertToInteractive('df-a011c83c-db7b-4da1-b6c2-bad821b333fd')\"\n",
              "            title=\"Convert this dataframe to an interactive table.\"\n",
              "            style=\"display:none;\">\n",
              "\n",
              "  <svg xmlns=\"http://www.w3.org/2000/svg\" height=\"24px\" viewBox=\"0 -960 960 960\">\n",
              "    <path d=\"M120-120v-720h720v720H120Zm60-500h600v-160H180v160Zm220 220h160v-160H400v160Zm0 220h160v-160H400v160ZM180-400h160v-160H180v160Zm440 0h160v-160H620v160ZM180-180h160v-160H180v160Zm440 0h160v-160H620v160Z\"/>\n",
              "  </svg>\n",
              "    </button>\n",
              "\n",
              "  <style>\n",
              "    .colab-df-container {\n",
              "      display:flex;\n",
              "      gap: 12px;\n",
              "    }\n",
              "\n",
              "    .colab-df-convert {\n",
              "      background-color: #E8F0FE;\n",
              "      border: none;\n",
              "      border-radius: 50%;\n",
              "      cursor: pointer;\n",
              "      display: none;\n",
              "      fill: #1967D2;\n",
              "      height: 32px;\n",
              "      padding: 0 0 0 0;\n",
              "      width: 32px;\n",
              "    }\n",
              "\n",
              "    .colab-df-convert:hover {\n",
              "      background-color: #E2EBFA;\n",
              "      box-shadow: 0px 1px 2px rgba(60, 64, 67, 0.3), 0px 1px 3px 1px rgba(60, 64, 67, 0.15);\n",
              "      fill: #174EA6;\n",
              "    }\n",
              "\n",
              "    .colab-df-buttons div {\n",
              "      margin-bottom: 4px;\n",
              "    }\n",
              "\n",
              "    [theme=dark] .colab-df-convert {\n",
              "      background-color: #3B4455;\n",
              "      fill: #D2E3FC;\n",
              "    }\n",
              "\n",
              "    [theme=dark] .colab-df-convert:hover {\n",
              "      background-color: #434B5C;\n",
              "      box-shadow: 0px 1px 3px 1px rgba(0, 0, 0, 0.15);\n",
              "      filter: drop-shadow(0px 1px 2px rgba(0, 0, 0, 0.3));\n",
              "      fill: #FFFFFF;\n",
              "    }\n",
              "  </style>\n",
              "\n",
              "    <script>\n",
              "      const buttonEl =\n",
              "        document.querySelector('#df-a011c83c-db7b-4da1-b6c2-bad821b333fd button.colab-df-convert');\n",
              "      buttonEl.style.display =\n",
              "        google.colab.kernel.accessAllowed ? 'block' : 'none';\n",
              "\n",
              "      async function convertToInteractive(key) {\n",
              "        const element = document.querySelector('#df-a011c83c-db7b-4da1-b6c2-bad821b333fd');\n",
              "        const dataTable =\n",
              "          await google.colab.kernel.invokeFunction('convertToInteractive',\n",
              "                                                    [key], {});\n",
              "        if (!dataTable) return;\n",
              "\n",
              "        const docLinkHtml = 'Like what you see? Visit the ' +\n",
              "          '<a target=\"_blank\" href=https://colab.research.google.com/notebooks/data_table.ipynb>data table notebook</a>'\n",
              "          + ' to learn more about interactive tables.';\n",
              "        element.innerHTML = '';\n",
              "        dataTable['output_type'] = 'display_data';\n",
              "        await google.colab.output.renderOutput(dataTable, element);\n",
              "        const docLink = document.createElement('div');\n",
              "        docLink.innerHTML = docLinkHtml;\n",
              "        element.appendChild(docLink);\n",
              "      }\n",
              "    </script>\n",
              "  </div>\n",
              "\n",
              "\n",
              "    <div id=\"df-247fbfd8-5153-4f0d-9799-5aed9d9ddd67\">\n",
              "      <button class=\"colab-df-quickchart\" onclick=\"quickchart('df-247fbfd8-5153-4f0d-9799-5aed9d9ddd67')\"\n",
              "                title=\"Suggest charts\"\n",
              "                style=\"display:none;\">\n",
              "\n",
              "<svg xmlns=\"http://www.w3.org/2000/svg\" height=\"24px\"viewBox=\"0 0 24 24\"\n",
              "     width=\"24px\">\n",
              "    <g>\n",
              "        <path d=\"M19 3H5c-1.1 0-2 .9-2 2v14c0 1.1.9 2 2 2h14c1.1 0 2-.9 2-2V5c0-1.1-.9-2-2-2zM9 17H7v-7h2v7zm4 0h-2V7h2v10zm4 0h-2v-4h2v4z\"/>\n",
              "    </g>\n",
              "</svg>\n",
              "      </button>\n",
              "\n",
              "<style>\n",
              "  .colab-df-quickchart {\n",
              "      --bg-color: #E8F0FE;\n",
              "      --fill-color: #1967D2;\n",
              "      --hover-bg-color: #E2EBFA;\n",
              "      --hover-fill-color: #174EA6;\n",
              "      --disabled-fill-color: #AAA;\n",
              "      --disabled-bg-color: #DDD;\n",
              "  }\n",
              "\n",
              "  [theme=dark] .colab-df-quickchart {\n",
              "      --bg-color: #3B4455;\n",
              "      --fill-color: #D2E3FC;\n",
              "      --hover-bg-color: #434B5C;\n",
              "      --hover-fill-color: #FFFFFF;\n",
              "      --disabled-bg-color: #3B4455;\n",
              "      --disabled-fill-color: #666;\n",
              "  }\n",
              "\n",
              "  .colab-df-quickchart {\n",
              "    background-color: var(--bg-color);\n",
              "    border: none;\n",
              "    border-radius: 50%;\n",
              "    cursor: pointer;\n",
              "    display: none;\n",
              "    fill: var(--fill-color);\n",
              "    height: 32px;\n",
              "    padding: 0;\n",
              "    width: 32px;\n",
              "  }\n",
              "\n",
              "  .colab-df-quickchart:hover {\n",
              "    background-color: var(--hover-bg-color);\n",
              "    box-shadow: 0 1px 2px rgba(60, 64, 67, 0.3), 0 1px 3px 1px rgba(60, 64, 67, 0.15);\n",
              "    fill: var(--button-hover-fill-color);\n",
              "  }\n",
              "\n",
              "  .colab-df-quickchart-complete:disabled,\n",
              "  .colab-df-quickchart-complete:disabled:hover {\n",
              "    background-color: var(--disabled-bg-color);\n",
              "    fill: var(--disabled-fill-color);\n",
              "    box-shadow: none;\n",
              "  }\n",
              "\n",
              "  .colab-df-spinner {\n",
              "    border: 2px solid var(--fill-color);\n",
              "    border-color: transparent;\n",
              "    border-bottom-color: var(--fill-color);\n",
              "    animation:\n",
              "      spin 1s steps(1) infinite;\n",
              "  }\n",
              "\n",
              "  @keyframes spin {\n",
              "    0% {\n",
              "      border-color: transparent;\n",
              "      border-bottom-color: var(--fill-color);\n",
              "      border-left-color: var(--fill-color);\n",
              "    }\n",
              "    20% {\n",
              "      border-color: transparent;\n",
              "      border-left-color: var(--fill-color);\n",
              "      border-top-color: var(--fill-color);\n",
              "    }\n",
              "    30% {\n",
              "      border-color: transparent;\n",
              "      border-left-color: var(--fill-color);\n",
              "      border-top-color: var(--fill-color);\n",
              "      border-right-color: var(--fill-color);\n",
              "    }\n",
              "    40% {\n",
              "      border-color: transparent;\n",
              "      border-right-color: var(--fill-color);\n",
              "      border-top-color: var(--fill-color);\n",
              "    }\n",
              "    60% {\n",
              "      border-color: transparent;\n",
              "      border-right-color: var(--fill-color);\n",
              "    }\n",
              "    80% {\n",
              "      border-color: transparent;\n",
              "      border-right-color: var(--fill-color);\n",
              "      border-bottom-color: var(--fill-color);\n",
              "    }\n",
              "    90% {\n",
              "      border-color: transparent;\n",
              "      border-bottom-color: var(--fill-color);\n",
              "    }\n",
              "  }\n",
              "</style>\n",
              "\n",
              "      <script>\n",
              "        async function quickchart(key) {\n",
              "          const quickchartButtonEl =\n",
              "            document.querySelector('#' + key + ' button');\n",
              "          quickchartButtonEl.disabled = true;  // To prevent multiple clicks.\n",
              "          quickchartButtonEl.classList.add('colab-df-spinner');\n",
              "          try {\n",
              "            const charts = await google.colab.kernel.invokeFunction(\n",
              "                'suggestCharts', [key], {});\n",
              "          } catch (error) {\n",
              "            console.error('Error during call to suggestCharts:', error);\n",
              "          }\n",
              "          quickchartButtonEl.classList.remove('colab-df-spinner');\n",
              "          quickchartButtonEl.classList.add('colab-df-quickchart-complete');\n",
              "        }\n",
              "        (() => {\n",
              "          let quickchartButtonEl =\n",
              "            document.querySelector('#df-247fbfd8-5153-4f0d-9799-5aed9d9ddd67 button');\n",
              "          quickchartButtonEl.style.display =\n",
              "            google.colab.kernel.accessAllowed ? 'block' : 'none';\n",
              "        })();\n",
              "      </script>\n",
              "    </div>\n",
              "\n",
              "    </div>\n",
              "  </div>\n"
            ],
            "application/vnd.google.colaboratory.intrinsic+json": {
              "type": "dataframe",
              "variable_name": "df",
              "summary": "{\n  \"name\": \"df\",\n  \"rows\": 43343,\n  \"fields\": [\n    {\n      \"column\": \"placeId\",\n      \"properties\": {\n        \"dtype\": \"string\",\n        \"num_unique_values\": 43343,\n        \"samples\": [\n          \"osm4561823319\",\n          \"ChIJg65fAQOp1TERYD_RTsoPbnc\",\n          \"ChIJnXA7F1qv1TERKnQamLdWBBk\"\n        ],\n        \"semantic_type\": \"\",\n        \"description\": \"\"\n      }\n    },\n    {\n      \"column\": \"placeName\",\n      \"properties\": {\n        \"dtype\": \"string\",\n        \"num_unique_values\": 41579,\n        \"samples\": [\n          \"Rumah along\",\n          \"Face & Body Care Cikpuan\",\n          \"Rusunawa Univeritas Lancang Kuning\"\n        ],\n        \"semantic_type\": \"\",\n        \"description\": \"\"\n      }\n    },\n    {\n      \"column\": \"placeAddress\",\n      \"properties\": {\n        \"dtype\": \"string\",\n        \"num_unique_values\": 33497,\n        \"samples\": [\n          \"Perumahan Nuansa Kualu Permai , Jl. Tuah Karya, Blok B - C No.3, Kualu\",\n          \"F9R9+MF4, Simpang Baru\",\n          \"GC9P+5WP, Harjosari\"\n        ],\n        \"semantic_type\": \"\",\n        \"description\": \"\"\n      }\n    },\n    {\n      \"column\": \"placeBusinessStatus\",\n      \"properties\": {\n        \"dtype\": \"category\",\n        \"num_unique_values\": 2,\n        \"samples\": [\n          \"CLOSED_TEMPORARILY\",\n          \"OPERATIONAL\"\n        ],\n        \"semantic_type\": \"\",\n        \"description\": \"\"\n      }\n    },\n    {\n      \"column\": \"placeTypes\",\n      \"properties\": {\n        \"dtype\": \"category\",\n        \"num_unique_values\": 518,\n        \"samples\": [\n          \"lawyer,accounting,finance,point_of_interest,establishment\",\n          \"book_store,library,store,point_of_interest,establishment\"\n        ],\n        \"semantic_type\": \"\",\n        \"description\": \"\"\n      }\n    },\n    {\n      \"column\": \"placeLatitude\",\n      \"properties\": {\n        \"dtype\": \"number\",\n        \"std\": 0.03978019225045535,\n        \"min\": 0.4205126,\n        \"max\": 0.6804159,\n        \"num_unique_values\": 40848,\n        \"samples\": [\n          0.4894532,\n          0.4443\n        ],\n        \"semantic_type\": \"\",\n        \"description\": \"\"\n      }\n    },\n    {\n      \"column\": \"placeLongitude\",\n      \"properties\": {\n        \"dtype\": \"number\",\n        \"std\": 0.03897632153870577,\n        \"min\": 101.3325272,\n        \"max\": 101.599236,\n        \"num_unique_values\": 40776,\n        \"samples\": [\n          101.4436653,\n          101.4068151\n        ],\n        \"semantic_type\": \"\",\n        \"description\": \"\"\n      }\n    },\n    {\n      \"column\": \"source\",\n      \"properties\": {\n        \"dtype\": \"category\",\n        \"num_unique_values\": 2,\n        \"samples\": [\n          \"OSM\",\n          \"GMAPS\"\n        ],\n        \"semantic_type\": \"\",\n        \"description\": \"\"\n      }\n    },\n    {\n      \"column\": \"predicted_label\",\n      \"properties\": {\n        \"dtype\": \"category\",\n        \"num_unique_values\": 21,\n        \"samples\": [\n          \"J\",\n          \"E\"\n        ],\n        \"semantic_type\": \"\",\n        \"description\": \"\"\n      }\n    }\n  ]\n}"
            }
          },
          "metadata": {},
          "execution_count": 171
        }
      ]
    },
    {
      "cell_type": "code",
      "source": [
        "df.info()"
      ],
      "metadata": {
        "colab": {
          "base_uri": "https://localhost:8080/"
        },
        "id": "aGBMfr54qPQE",
        "outputId": "49d63767-8046-442a-89ab-f19667a0c700"
      },
      "execution_count": 172,
      "outputs": [
        {
          "output_type": "stream",
          "name": "stdout",
          "text": [
            "<class 'pandas.core.frame.DataFrame'>\n",
            "RangeIndex: 43343 entries, 0 to 43342\n",
            "Data columns (total 9 columns):\n",
            " #   Column               Non-Null Count  Dtype  \n",
            "---  ------               --------------  -----  \n",
            " 0   placeId              43343 non-null  object \n",
            " 1   placeName            43343 non-null  object \n",
            " 2   placeAddress         41352 non-null  object \n",
            " 3   placeBusinessStatus  43343 non-null  object \n",
            " 4   placeTypes           43343 non-null  object \n",
            " 5   placeLatitude        43343 non-null  float64\n",
            " 6   placeLongitude       43343 non-null  float64\n",
            " 7   source               43343 non-null  object \n",
            " 8   predicted_label      43343 non-null  object \n",
            "dtypes: float64(2), object(7)\n",
            "memory usage: 3.0+ MB\n"
          ]
        }
      ]
    },
    {
      "cell_type": "markdown",
      "source": [
        "### NN"
      ],
      "metadata": {
        "id": "b94fdbSRDXUE"
      }
    },
    {
      "cell_type": "code",
      "source": [
        "model_nn = load_model('/content/drive/MyDrive/BPS_PROJECT/MODEL/klbi_classification/klbi_class_nn.h5')"
      ],
      "metadata": {
        "colab": {
          "base_uri": "https://localhost:8080/"
        },
        "outputId": "303b0550-a12c-4b45-b9cd-c37959b93745",
        "id": "VdSK3aqmDXUG"
      },
      "execution_count": 173,
      "outputs": [
        {
          "output_type": "stream",
          "name": "stderr",
          "text": [
            "WARNING:absl:Compiled the loaded model, but the compiled metrics have yet to be built. `model.compile_metrics` will be empty until you train or evaluate the model.\n"
          ]
        }
      ]
    },
    {
      "cell_type": "code",
      "source": [
        "with open(\"/content/drive/MyDrive/BPS_PROJECT/MODEL/klbi_classification/tfidf_vectorizer_cnn.pkl\", \"rb\") as f:\n",
        "    tfidf = pickle.load(f)"
      ],
      "metadata": {
        "id": "ojohrkf3DXUH"
      },
      "execution_count": 174,
      "outputs": []
    },
    {
      "cell_type": "code",
      "source": [
        "X_new = tfidf.transform(df['placeName'] + df['placeTypes'])\n",
        "X_new_float = X_new.toarray().astype('float32')"
      ],
      "metadata": {
        "id": "u0UsQgWnDXUI"
      },
      "execution_count": 175,
      "outputs": []
    },
    {
      "cell_type": "code",
      "source": [
        "y_new_probs = model_nn.predict(X_new_float)\n",
        "y_new_pred = y_new_probs.argmax(axis=1)"
      ],
      "metadata": {
        "colab": {
          "base_uri": "https://localhost:8080/"
        },
        "outputId": "7aeb9799-9e67-4057-ec58-ab706fec461d",
        "id": "HmTE-qeaDXUI"
      },
      "execution_count": 176,
      "outputs": [
        {
          "output_type": "stream",
          "name": "stdout",
          "text": [
            "\u001b[1m1355/1355\u001b[0m \u001b[32m━━━━━━━━━━━━━━━━━━━━\u001b[0m\u001b[37m\u001b[0m \u001b[1m8s\u001b[0m 6ms/step\n"
          ]
        }
      ]
    },
    {
      "cell_type": "code",
      "source": [
        "df['predicted_label'] = le.inverse_transform(y_new_pred)"
      ],
      "metadata": {
        "id": "-dLXTXaWDXUJ"
      },
      "execution_count": 177,
      "outputs": []
    },
    {
      "cell_type": "code",
      "source": [
        "df.to_excel(\"//content/drive/MyDrive/BPS_PROJECT/PROCESSED/klbi_classification/PREDICTED_ALL_82ACC_nn.xlsx\", index = False)"
      ],
      "metadata": {
        "id": "uAaLwdAFDXUJ"
      },
      "execution_count": 178,
      "outputs": []
    },
    {
      "cell_type": "code",
      "source": [
        "df.head(20)"
      ],
      "metadata": {
        "colab": {
          "base_uri": "https://localhost:8080/",
          "height": 1000
        },
        "outputId": "fcb69b8a-3692-4a04-8017-e41254584e87",
        "id": "8yNFiLPiDXUK"
      },
      "execution_count": 179,
      "outputs": [
        {
          "output_type": "execute_result",
          "data": {
            "text/plain": [
              "                        placeId                                     placeName  \\\n",
              "0   ChIJG0i9CEap1TERq1G-K3lxuus                                  Graha Renova   \n",
              "1   ChIJI0kxnE-p1TERVzzCaVLc_-A                          Putri Jaya Abadi. CV   \n",
              "2   ChIJ75xs3BSp1TERjUD6T2Hr7MU                             Warung Ojo Forget   \n",
              "3   ChIJn_QB002p1TERjXQjpmobcjE                      Batam Central Electronik   \n",
              "4   ChIJWxkAUdOp1TERTPhwfB11yBc                     BOS (Bintang Oto Service)   \n",
              "5   ChIJGZ6fZWKp1TER1-ehi3TTs-M                                     Arjuna 51   \n",
              "6   ChIJ7z8NCnmp1TERBB6h6lgxpGk                     Villa Garuda Mas C3 Mawar   \n",
              "7   ChIJuwVlnjir1TERIrSo4VY6KJk  Laundry Sepatu Hotel Shoes Clean & treatment   \n",
              "8   ChIJ0cJza2mp1TERIuIVdKGyDS0                               Vape Pink Store   \n",
              "9   ChIJV698pw2p1TERYF4aEyoypYg                            Bengkel Las Arjuna   \n",
              "10  ChIJu4SfAUqp1TERd53oZM0d_cw                                  Twoone Tenun   \n",
              "11  ChIJh1cF01ap1TERq9TsX2Vo3bo                                 ELLYS FLORIST   \n",
              "12  ChIJeexWilCp1TERdJ1IUOXS5Js                     Amal Parlagutan Niaga. CV   \n",
              "13  ChIJ6bK1DBSp1TER1sxntiaMwWo                                Senior laundry   \n",
              "14  ChIJK99fmFCp1TERc0vElgnIDDg                                  Vilo Fashion   \n",
              "15  ChIJvf4TqIqr1TERlLuo4FE-dL4                             Toko Rezky Arjuna   \n",
              "16  ChIJv6aNItqp1TERZiPTIgiQN4Y                          Jl arjuna gg citarum   \n",
              "17  ChIJt1nYUIep1TERKLwCkbfj-1o                 TMH (Takwin Management House)   \n",
              "18  ChIJZ9taMwCp1TERwZFHj3OvkEo                              Kedai kopi ajete   \n",
              "19  ChIJCXHwz5ep1TERQlp7gU9dVJg                 Perternakan fourman panjaitan   \n",
              "\n",
              "                                         placeAddress placeBusinessStatus  \\\n",
              "0                          GC2C+GP3, Tengkerang Barat         OPERATIONAL   \n",
              "1           Jalan Musyawarah No.184, Labuh Baru Timur         OPERATIONAL   \n",
              "2     GC3G+GQ4, Jalan Soekarno-Hatta, Sidomulyo Timur         OPERATIONAL   \n",
              "3   Komplek Taman Anggrek Blok A4-6, Jl. Tuanku Ta...         OPERATIONAL   \n",
              "4                      Jalan Ikhlas, Labuh Baru Timur         OPERATIONAL   \n",
              "5                          GC6F+7GC, Labuh Baru Timur         OPERATIONAL   \n",
              "6   Villa, Jalan Garuda Mas Mawar No.C3, Labuh Bar...         OPERATIONAL   \n",
              "7                                 Jalan Arjuna No.125         OPERATIONAL   \n",
              "8   Jalan Eka Sari Jalan Arjuna No.56, Labuh Baru ...         OPERATIONAL   \n",
              "9            GC6F+GQG, Jalan Arjuna, Labuh Baru Timur         OPERATIONAL   \n",
              "10                                 Jalan Garuda Sakti         OPERATIONAL   \n",
              "11                              Tim, Labuh Baru Timur         OPERATIONAL   \n",
              "12              Jalan Arjuna No.127, Labuh Baru Timur         OPERATIONAL   \n",
              "13           GC6F+GPQ, Jalan Arjuna, Labuh Baru Timur         OPERATIONAL   \n",
              "14        GC5F+R69, Jl. Waringin II, Labuh Baru Timur         OPERATIONAL   \n",
              "15      Jalan Arjuna 3 No.kelurahan, Labuh Baru Timur         OPERATIONAL   \n",
              "16                         GC6F+CCQ, Labuh Baru Timur         OPERATIONAL   \n",
              "17              Jalan Eka Sari No.1, Labuh Baru Timur         OPERATIONAL   \n",
              "18          Jalan Tiung Ujung No.42, Labuh Baru Timur         OPERATIONAL   \n",
              "19             GC5F+CW4, Gang Jeruk, Labuh Baru Timur         OPERATIONAL   \n",
              "\n",
              "                                           placeTypes  placeLatitude  \\\n",
              "0                     point_of_interest,establishment       0.501254   \n",
              "1   furniture_store,home_goods_store,point_of_inte...       0.503969   \n",
              "2     restaurant,point_of_interest,food,establishment       0.503770   \n",
              "3   electronics_store,point_of_interest,store,esta...       0.503697   \n",
              "4          car_repair,point_of_interest,establishment       0.505233   \n",
              "5             lodging,point_of_interest,establishment       0.510688   \n",
              "6                     point_of_interest,establishment       0.510855   \n",
              "7                     point_of_interest,establishment       0.508483   \n",
              "8               point_of_interest,store,establishment       0.511309   \n",
              "9                     point_of_interest,establishment       0.511312   \n",
              "10              point_of_interest,store,establishment       0.510585   \n",
              "11                    point_of_interest,establishment       0.510826   \n",
              "12                    point_of_interest,establishment       0.508562   \n",
              "13            laundry,point_of_interest,establishment       0.511331   \n",
              "14  clothing_store,point_of_interest,store,establi...       0.509543   \n",
              "15               point_of_interest,food,establishment       0.511485   \n",
              "16                    point_of_interest,establishment       0.511089   \n",
              "17                    point_of_interest,establishment       0.511529   \n",
              "18    cafe,food,point_of_interest,store,establishment       0.508350   \n",
              "19              store,point_of_interest,establishment       0.508519   \n",
              "\n",
              "    placeLongitude source predicted_label  \n",
              "0       101.421803  GMAPS               J  \n",
              "1       101.423609  GMAPS               G  \n",
              "2       101.426964  GMAPS               T  \n",
              "3       101.428838  GMAPS               G  \n",
              "4       101.430264  GMAPS               S  \n",
              "5       101.423754  GMAPS               L  \n",
              "6       101.425538  GMAPS               L  \n",
              "7       101.424036  GMAPS               I  \n",
              "8       101.424465  GMAPS               G  \n",
              "9       101.424466  GMAPS               F  \n",
              "10      101.426052  GMAPS               G  \n",
              "11      101.425882  GMAPS               L  \n",
              "12      101.423740  GMAPS               H  \n",
              "13      101.424346  GMAPS               S  \n",
              "14      101.423102  GMAPS               G  \n",
              "15      101.424696  GMAPS               G  \n",
              "16      101.423595  GMAPS               R  \n",
              "17      101.423974  GMAPS               L  \n",
              "18      101.427348  GMAPS               I  \n",
              "19      101.424817  GMAPS               L  "
            ],
            "text/html": [
              "\n",
              "  <div id=\"df-a3780103-a984-4748-84cd-da514db5f0a1\" class=\"colab-df-container\">\n",
              "    <div>\n",
              "<style scoped>\n",
              "    .dataframe tbody tr th:only-of-type {\n",
              "        vertical-align: middle;\n",
              "    }\n",
              "\n",
              "    .dataframe tbody tr th {\n",
              "        vertical-align: top;\n",
              "    }\n",
              "\n",
              "    .dataframe thead th {\n",
              "        text-align: right;\n",
              "    }\n",
              "</style>\n",
              "<table border=\"1\" class=\"dataframe\">\n",
              "  <thead>\n",
              "    <tr style=\"text-align: right;\">\n",
              "      <th></th>\n",
              "      <th>placeId</th>\n",
              "      <th>placeName</th>\n",
              "      <th>placeAddress</th>\n",
              "      <th>placeBusinessStatus</th>\n",
              "      <th>placeTypes</th>\n",
              "      <th>placeLatitude</th>\n",
              "      <th>placeLongitude</th>\n",
              "      <th>source</th>\n",
              "      <th>predicted_label</th>\n",
              "    </tr>\n",
              "  </thead>\n",
              "  <tbody>\n",
              "    <tr>\n",
              "      <th>0</th>\n",
              "      <td>ChIJG0i9CEap1TERq1G-K3lxuus</td>\n",
              "      <td>Graha Renova</td>\n",
              "      <td>GC2C+GP3, Tengkerang Barat</td>\n",
              "      <td>OPERATIONAL</td>\n",
              "      <td>point_of_interest,establishment</td>\n",
              "      <td>0.501254</td>\n",
              "      <td>101.421803</td>\n",
              "      <td>GMAPS</td>\n",
              "      <td>J</td>\n",
              "    </tr>\n",
              "    <tr>\n",
              "      <th>1</th>\n",
              "      <td>ChIJI0kxnE-p1TERVzzCaVLc_-A</td>\n",
              "      <td>Putri Jaya Abadi. CV</td>\n",
              "      <td>Jalan Musyawarah No.184, Labuh Baru Timur</td>\n",
              "      <td>OPERATIONAL</td>\n",
              "      <td>furniture_store,home_goods_store,point_of_inte...</td>\n",
              "      <td>0.503969</td>\n",
              "      <td>101.423609</td>\n",
              "      <td>GMAPS</td>\n",
              "      <td>G</td>\n",
              "    </tr>\n",
              "    <tr>\n",
              "      <th>2</th>\n",
              "      <td>ChIJ75xs3BSp1TERjUD6T2Hr7MU</td>\n",
              "      <td>Warung Ojo Forget</td>\n",
              "      <td>GC3G+GQ4, Jalan Soekarno-Hatta, Sidomulyo Timur</td>\n",
              "      <td>OPERATIONAL</td>\n",
              "      <td>restaurant,point_of_interest,food,establishment</td>\n",
              "      <td>0.503770</td>\n",
              "      <td>101.426964</td>\n",
              "      <td>GMAPS</td>\n",
              "      <td>T</td>\n",
              "    </tr>\n",
              "    <tr>\n",
              "      <th>3</th>\n",
              "      <td>ChIJn_QB002p1TERjXQjpmobcjE</td>\n",
              "      <td>Batam Central Electronik</td>\n",
              "      <td>Komplek Taman Anggrek Blok A4-6, Jl. Tuanku Ta...</td>\n",
              "      <td>OPERATIONAL</td>\n",
              "      <td>electronics_store,point_of_interest,store,esta...</td>\n",
              "      <td>0.503697</td>\n",
              "      <td>101.428838</td>\n",
              "      <td>GMAPS</td>\n",
              "      <td>G</td>\n",
              "    </tr>\n",
              "    <tr>\n",
              "      <th>4</th>\n",
              "      <td>ChIJWxkAUdOp1TERTPhwfB11yBc</td>\n",
              "      <td>BOS (Bintang Oto Service)</td>\n",
              "      <td>Jalan Ikhlas, Labuh Baru Timur</td>\n",
              "      <td>OPERATIONAL</td>\n",
              "      <td>car_repair,point_of_interest,establishment</td>\n",
              "      <td>0.505233</td>\n",
              "      <td>101.430264</td>\n",
              "      <td>GMAPS</td>\n",
              "      <td>S</td>\n",
              "    </tr>\n",
              "    <tr>\n",
              "      <th>5</th>\n",
              "      <td>ChIJGZ6fZWKp1TER1-ehi3TTs-M</td>\n",
              "      <td>Arjuna 51</td>\n",
              "      <td>GC6F+7GC, Labuh Baru Timur</td>\n",
              "      <td>OPERATIONAL</td>\n",
              "      <td>lodging,point_of_interest,establishment</td>\n",
              "      <td>0.510688</td>\n",
              "      <td>101.423754</td>\n",
              "      <td>GMAPS</td>\n",
              "      <td>L</td>\n",
              "    </tr>\n",
              "    <tr>\n",
              "      <th>6</th>\n",
              "      <td>ChIJ7z8NCnmp1TERBB6h6lgxpGk</td>\n",
              "      <td>Villa Garuda Mas C3 Mawar</td>\n",
              "      <td>Villa, Jalan Garuda Mas Mawar No.C3, Labuh Bar...</td>\n",
              "      <td>OPERATIONAL</td>\n",
              "      <td>point_of_interest,establishment</td>\n",
              "      <td>0.510855</td>\n",
              "      <td>101.425538</td>\n",
              "      <td>GMAPS</td>\n",
              "      <td>L</td>\n",
              "    </tr>\n",
              "    <tr>\n",
              "      <th>7</th>\n",
              "      <td>ChIJuwVlnjir1TERIrSo4VY6KJk</td>\n",
              "      <td>Laundry Sepatu Hotel Shoes Clean &amp; treatment</td>\n",
              "      <td>Jalan Arjuna No.125</td>\n",
              "      <td>OPERATIONAL</td>\n",
              "      <td>point_of_interest,establishment</td>\n",
              "      <td>0.508483</td>\n",
              "      <td>101.424036</td>\n",
              "      <td>GMAPS</td>\n",
              "      <td>I</td>\n",
              "    </tr>\n",
              "    <tr>\n",
              "      <th>8</th>\n",
              "      <td>ChIJ0cJza2mp1TERIuIVdKGyDS0</td>\n",
              "      <td>Vape Pink Store</td>\n",
              "      <td>Jalan Eka Sari Jalan Arjuna No.56, Labuh Baru ...</td>\n",
              "      <td>OPERATIONAL</td>\n",
              "      <td>point_of_interest,store,establishment</td>\n",
              "      <td>0.511309</td>\n",
              "      <td>101.424465</td>\n",
              "      <td>GMAPS</td>\n",
              "      <td>G</td>\n",
              "    </tr>\n",
              "    <tr>\n",
              "      <th>9</th>\n",
              "      <td>ChIJV698pw2p1TERYF4aEyoypYg</td>\n",
              "      <td>Bengkel Las Arjuna</td>\n",
              "      <td>GC6F+GQG, Jalan Arjuna, Labuh Baru Timur</td>\n",
              "      <td>OPERATIONAL</td>\n",
              "      <td>point_of_interest,establishment</td>\n",
              "      <td>0.511312</td>\n",
              "      <td>101.424466</td>\n",
              "      <td>GMAPS</td>\n",
              "      <td>F</td>\n",
              "    </tr>\n",
              "    <tr>\n",
              "      <th>10</th>\n",
              "      <td>ChIJu4SfAUqp1TERd53oZM0d_cw</td>\n",
              "      <td>Twoone Tenun</td>\n",
              "      <td>Jalan Garuda Sakti</td>\n",
              "      <td>OPERATIONAL</td>\n",
              "      <td>point_of_interest,store,establishment</td>\n",
              "      <td>0.510585</td>\n",
              "      <td>101.426052</td>\n",
              "      <td>GMAPS</td>\n",
              "      <td>G</td>\n",
              "    </tr>\n",
              "    <tr>\n",
              "      <th>11</th>\n",
              "      <td>ChIJh1cF01ap1TERq9TsX2Vo3bo</td>\n",
              "      <td>ELLYS FLORIST</td>\n",
              "      <td>Tim, Labuh Baru Timur</td>\n",
              "      <td>OPERATIONAL</td>\n",
              "      <td>point_of_interest,establishment</td>\n",
              "      <td>0.510826</td>\n",
              "      <td>101.425882</td>\n",
              "      <td>GMAPS</td>\n",
              "      <td>L</td>\n",
              "    </tr>\n",
              "    <tr>\n",
              "      <th>12</th>\n",
              "      <td>ChIJeexWilCp1TERdJ1IUOXS5Js</td>\n",
              "      <td>Amal Parlagutan Niaga. CV</td>\n",
              "      <td>Jalan Arjuna No.127, Labuh Baru Timur</td>\n",
              "      <td>OPERATIONAL</td>\n",
              "      <td>point_of_interest,establishment</td>\n",
              "      <td>0.508562</td>\n",
              "      <td>101.423740</td>\n",
              "      <td>GMAPS</td>\n",
              "      <td>H</td>\n",
              "    </tr>\n",
              "    <tr>\n",
              "      <th>13</th>\n",
              "      <td>ChIJ6bK1DBSp1TER1sxntiaMwWo</td>\n",
              "      <td>Senior laundry</td>\n",
              "      <td>GC6F+GPQ, Jalan Arjuna, Labuh Baru Timur</td>\n",
              "      <td>OPERATIONAL</td>\n",
              "      <td>laundry,point_of_interest,establishment</td>\n",
              "      <td>0.511331</td>\n",
              "      <td>101.424346</td>\n",
              "      <td>GMAPS</td>\n",
              "      <td>S</td>\n",
              "    </tr>\n",
              "    <tr>\n",
              "      <th>14</th>\n",
              "      <td>ChIJK99fmFCp1TERc0vElgnIDDg</td>\n",
              "      <td>Vilo Fashion</td>\n",
              "      <td>GC5F+R69, Jl. Waringin II, Labuh Baru Timur</td>\n",
              "      <td>OPERATIONAL</td>\n",
              "      <td>clothing_store,point_of_interest,store,establi...</td>\n",
              "      <td>0.509543</td>\n",
              "      <td>101.423102</td>\n",
              "      <td>GMAPS</td>\n",
              "      <td>G</td>\n",
              "    </tr>\n",
              "    <tr>\n",
              "      <th>15</th>\n",
              "      <td>ChIJvf4TqIqr1TERlLuo4FE-dL4</td>\n",
              "      <td>Toko Rezky Arjuna</td>\n",
              "      <td>Jalan Arjuna 3 No.kelurahan, Labuh Baru Timur</td>\n",
              "      <td>OPERATIONAL</td>\n",
              "      <td>point_of_interest,food,establishment</td>\n",
              "      <td>0.511485</td>\n",
              "      <td>101.424696</td>\n",
              "      <td>GMAPS</td>\n",
              "      <td>G</td>\n",
              "    </tr>\n",
              "    <tr>\n",
              "      <th>16</th>\n",
              "      <td>ChIJv6aNItqp1TERZiPTIgiQN4Y</td>\n",
              "      <td>Jl arjuna gg citarum</td>\n",
              "      <td>GC6F+CCQ, Labuh Baru Timur</td>\n",
              "      <td>OPERATIONAL</td>\n",
              "      <td>point_of_interest,establishment</td>\n",
              "      <td>0.511089</td>\n",
              "      <td>101.423595</td>\n",
              "      <td>GMAPS</td>\n",
              "      <td>R</td>\n",
              "    </tr>\n",
              "    <tr>\n",
              "      <th>17</th>\n",
              "      <td>ChIJt1nYUIep1TERKLwCkbfj-1o</td>\n",
              "      <td>TMH (Takwin Management House)</td>\n",
              "      <td>Jalan Eka Sari No.1, Labuh Baru Timur</td>\n",
              "      <td>OPERATIONAL</td>\n",
              "      <td>point_of_interest,establishment</td>\n",
              "      <td>0.511529</td>\n",
              "      <td>101.423974</td>\n",
              "      <td>GMAPS</td>\n",
              "      <td>L</td>\n",
              "    </tr>\n",
              "    <tr>\n",
              "      <th>18</th>\n",
              "      <td>ChIJZ9taMwCp1TERwZFHj3OvkEo</td>\n",
              "      <td>Kedai kopi ajete</td>\n",
              "      <td>Jalan Tiung Ujung No.42, Labuh Baru Timur</td>\n",
              "      <td>OPERATIONAL</td>\n",
              "      <td>cafe,food,point_of_interest,store,establishment</td>\n",
              "      <td>0.508350</td>\n",
              "      <td>101.427348</td>\n",
              "      <td>GMAPS</td>\n",
              "      <td>I</td>\n",
              "    </tr>\n",
              "    <tr>\n",
              "      <th>19</th>\n",
              "      <td>ChIJCXHwz5ep1TERQlp7gU9dVJg</td>\n",
              "      <td>Perternakan fourman panjaitan</td>\n",
              "      <td>GC5F+CW4, Gang Jeruk, Labuh Baru Timur</td>\n",
              "      <td>OPERATIONAL</td>\n",
              "      <td>store,point_of_interest,establishment</td>\n",
              "      <td>0.508519</td>\n",
              "      <td>101.424817</td>\n",
              "      <td>GMAPS</td>\n",
              "      <td>L</td>\n",
              "    </tr>\n",
              "  </tbody>\n",
              "</table>\n",
              "</div>\n",
              "    <div class=\"colab-df-buttons\">\n",
              "\n",
              "  <div class=\"colab-df-container\">\n",
              "    <button class=\"colab-df-convert\" onclick=\"convertToInteractive('df-a3780103-a984-4748-84cd-da514db5f0a1')\"\n",
              "            title=\"Convert this dataframe to an interactive table.\"\n",
              "            style=\"display:none;\">\n",
              "\n",
              "  <svg xmlns=\"http://www.w3.org/2000/svg\" height=\"24px\" viewBox=\"0 -960 960 960\">\n",
              "    <path d=\"M120-120v-720h720v720H120Zm60-500h600v-160H180v160Zm220 220h160v-160H400v160Zm0 220h160v-160H400v160ZM180-400h160v-160H180v160Zm440 0h160v-160H620v160ZM180-180h160v-160H180v160Zm440 0h160v-160H620v160Z\"/>\n",
              "  </svg>\n",
              "    </button>\n",
              "\n",
              "  <style>\n",
              "    .colab-df-container {\n",
              "      display:flex;\n",
              "      gap: 12px;\n",
              "    }\n",
              "\n",
              "    .colab-df-convert {\n",
              "      background-color: #E8F0FE;\n",
              "      border: none;\n",
              "      border-radius: 50%;\n",
              "      cursor: pointer;\n",
              "      display: none;\n",
              "      fill: #1967D2;\n",
              "      height: 32px;\n",
              "      padding: 0 0 0 0;\n",
              "      width: 32px;\n",
              "    }\n",
              "\n",
              "    .colab-df-convert:hover {\n",
              "      background-color: #E2EBFA;\n",
              "      box-shadow: 0px 1px 2px rgba(60, 64, 67, 0.3), 0px 1px 3px 1px rgba(60, 64, 67, 0.15);\n",
              "      fill: #174EA6;\n",
              "    }\n",
              "\n",
              "    .colab-df-buttons div {\n",
              "      margin-bottom: 4px;\n",
              "    }\n",
              "\n",
              "    [theme=dark] .colab-df-convert {\n",
              "      background-color: #3B4455;\n",
              "      fill: #D2E3FC;\n",
              "    }\n",
              "\n",
              "    [theme=dark] .colab-df-convert:hover {\n",
              "      background-color: #434B5C;\n",
              "      box-shadow: 0px 1px 3px 1px rgba(0, 0, 0, 0.15);\n",
              "      filter: drop-shadow(0px 1px 2px rgba(0, 0, 0, 0.3));\n",
              "      fill: #FFFFFF;\n",
              "    }\n",
              "  </style>\n",
              "\n",
              "    <script>\n",
              "      const buttonEl =\n",
              "        document.querySelector('#df-a3780103-a984-4748-84cd-da514db5f0a1 button.colab-df-convert');\n",
              "      buttonEl.style.display =\n",
              "        google.colab.kernel.accessAllowed ? 'block' : 'none';\n",
              "\n",
              "      async function convertToInteractive(key) {\n",
              "        const element = document.querySelector('#df-a3780103-a984-4748-84cd-da514db5f0a1');\n",
              "        const dataTable =\n",
              "          await google.colab.kernel.invokeFunction('convertToInteractive',\n",
              "                                                    [key], {});\n",
              "        if (!dataTable) return;\n",
              "\n",
              "        const docLinkHtml = 'Like what you see? Visit the ' +\n",
              "          '<a target=\"_blank\" href=https://colab.research.google.com/notebooks/data_table.ipynb>data table notebook</a>'\n",
              "          + ' to learn more about interactive tables.';\n",
              "        element.innerHTML = '';\n",
              "        dataTable['output_type'] = 'display_data';\n",
              "        await google.colab.output.renderOutput(dataTable, element);\n",
              "        const docLink = document.createElement('div');\n",
              "        docLink.innerHTML = docLinkHtml;\n",
              "        element.appendChild(docLink);\n",
              "      }\n",
              "    </script>\n",
              "  </div>\n",
              "\n",
              "\n",
              "    <div id=\"df-567eba88-c17c-4dac-9eeb-e4d3a2bf4659\">\n",
              "      <button class=\"colab-df-quickchart\" onclick=\"quickchart('df-567eba88-c17c-4dac-9eeb-e4d3a2bf4659')\"\n",
              "                title=\"Suggest charts\"\n",
              "                style=\"display:none;\">\n",
              "\n",
              "<svg xmlns=\"http://www.w3.org/2000/svg\" height=\"24px\"viewBox=\"0 0 24 24\"\n",
              "     width=\"24px\">\n",
              "    <g>\n",
              "        <path d=\"M19 3H5c-1.1 0-2 .9-2 2v14c0 1.1.9 2 2 2h14c1.1 0 2-.9 2-2V5c0-1.1-.9-2-2-2zM9 17H7v-7h2v7zm4 0h-2V7h2v10zm4 0h-2v-4h2v4z\"/>\n",
              "    </g>\n",
              "</svg>\n",
              "      </button>\n",
              "\n",
              "<style>\n",
              "  .colab-df-quickchart {\n",
              "      --bg-color: #E8F0FE;\n",
              "      --fill-color: #1967D2;\n",
              "      --hover-bg-color: #E2EBFA;\n",
              "      --hover-fill-color: #174EA6;\n",
              "      --disabled-fill-color: #AAA;\n",
              "      --disabled-bg-color: #DDD;\n",
              "  }\n",
              "\n",
              "  [theme=dark] .colab-df-quickchart {\n",
              "      --bg-color: #3B4455;\n",
              "      --fill-color: #D2E3FC;\n",
              "      --hover-bg-color: #434B5C;\n",
              "      --hover-fill-color: #FFFFFF;\n",
              "      --disabled-bg-color: #3B4455;\n",
              "      --disabled-fill-color: #666;\n",
              "  }\n",
              "\n",
              "  .colab-df-quickchart {\n",
              "    background-color: var(--bg-color);\n",
              "    border: none;\n",
              "    border-radius: 50%;\n",
              "    cursor: pointer;\n",
              "    display: none;\n",
              "    fill: var(--fill-color);\n",
              "    height: 32px;\n",
              "    padding: 0;\n",
              "    width: 32px;\n",
              "  }\n",
              "\n",
              "  .colab-df-quickchart:hover {\n",
              "    background-color: var(--hover-bg-color);\n",
              "    box-shadow: 0 1px 2px rgba(60, 64, 67, 0.3), 0 1px 3px 1px rgba(60, 64, 67, 0.15);\n",
              "    fill: var(--button-hover-fill-color);\n",
              "  }\n",
              "\n",
              "  .colab-df-quickchart-complete:disabled,\n",
              "  .colab-df-quickchart-complete:disabled:hover {\n",
              "    background-color: var(--disabled-bg-color);\n",
              "    fill: var(--disabled-fill-color);\n",
              "    box-shadow: none;\n",
              "  }\n",
              "\n",
              "  .colab-df-spinner {\n",
              "    border: 2px solid var(--fill-color);\n",
              "    border-color: transparent;\n",
              "    border-bottom-color: var(--fill-color);\n",
              "    animation:\n",
              "      spin 1s steps(1) infinite;\n",
              "  }\n",
              "\n",
              "  @keyframes spin {\n",
              "    0% {\n",
              "      border-color: transparent;\n",
              "      border-bottom-color: var(--fill-color);\n",
              "      border-left-color: var(--fill-color);\n",
              "    }\n",
              "    20% {\n",
              "      border-color: transparent;\n",
              "      border-left-color: var(--fill-color);\n",
              "      border-top-color: var(--fill-color);\n",
              "    }\n",
              "    30% {\n",
              "      border-color: transparent;\n",
              "      border-left-color: var(--fill-color);\n",
              "      border-top-color: var(--fill-color);\n",
              "      border-right-color: var(--fill-color);\n",
              "    }\n",
              "    40% {\n",
              "      border-color: transparent;\n",
              "      border-right-color: var(--fill-color);\n",
              "      border-top-color: var(--fill-color);\n",
              "    }\n",
              "    60% {\n",
              "      border-color: transparent;\n",
              "      border-right-color: var(--fill-color);\n",
              "    }\n",
              "    80% {\n",
              "      border-color: transparent;\n",
              "      border-right-color: var(--fill-color);\n",
              "      border-bottom-color: var(--fill-color);\n",
              "    }\n",
              "    90% {\n",
              "      border-color: transparent;\n",
              "      border-bottom-color: var(--fill-color);\n",
              "    }\n",
              "  }\n",
              "</style>\n",
              "\n",
              "      <script>\n",
              "        async function quickchart(key) {\n",
              "          const quickchartButtonEl =\n",
              "            document.querySelector('#' + key + ' button');\n",
              "          quickchartButtonEl.disabled = true;  // To prevent multiple clicks.\n",
              "          quickchartButtonEl.classList.add('colab-df-spinner');\n",
              "          try {\n",
              "            const charts = await google.colab.kernel.invokeFunction(\n",
              "                'suggestCharts', [key], {});\n",
              "          } catch (error) {\n",
              "            console.error('Error during call to suggestCharts:', error);\n",
              "          }\n",
              "          quickchartButtonEl.classList.remove('colab-df-spinner');\n",
              "          quickchartButtonEl.classList.add('colab-df-quickchart-complete');\n",
              "        }\n",
              "        (() => {\n",
              "          let quickchartButtonEl =\n",
              "            document.querySelector('#df-567eba88-c17c-4dac-9eeb-e4d3a2bf4659 button');\n",
              "          quickchartButtonEl.style.display =\n",
              "            google.colab.kernel.accessAllowed ? 'block' : 'none';\n",
              "        })();\n",
              "      </script>\n",
              "    </div>\n",
              "\n",
              "    </div>\n",
              "  </div>\n"
            ],
            "application/vnd.google.colaboratory.intrinsic+json": {
              "type": "dataframe",
              "variable_name": "df",
              "summary": "{\n  \"name\": \"df\",\n  \"rows\": 43343,\n  \"fields\": [\n    {\n      \"column\": \"placeId\",\n      \"properties\": {\n        \"dtype\": \"string\",\n        \"num_unique_values\": 43343,\n        \"samples\": [\n          \"osm4561823319\",\n          \"ChIJg65fAQOp1TERYD_RTsoPbnc\",\n          \"ChIJnXA7F1qv1TERKnQamLdWBBk\"\n        ],\n        \"semantic_type\": \"\",\n        \"description\": \"\"\n      }\n    },\n    {\n      \"column\": \"placeName\",\n      \"properties\": {\n        \"dtype\": \"string\",\n        \"num_unique_values\": 41579,\n        \"samples\": [\n          \"Rumah along\",\n          \"Face & Body Care Cikpuan\",\n          \"Rusunawa Univeritas Lancang Kuning\"\n        ],\n        \"semantic_type\": \"\",\n        \"description\": \"\"\n      }\n    },\n    {\n      \"column\": \"placeAddress\",\n      \"properties\": {\n        \"dtype\": \"string\",\n        \"num_unique_values\": 33497,\n        \"samples\": [\n          \"Perumahan Nuansa Kualu Permai , Jl. Tuah Karya, Blok B - C No.3, Kualu\",\n          \"F9R9+MF4, Simpang Baru\",\n          \"GC9P+5WP, Harjosari\"\n        ],\n        \"semantic_type\": \"\",\n        \"description\": \"\"\n      }\n    },\n    {\n      \"column\": \"placeBusinessStatus\",\n      \"properties\": {\n        \"dtype\": \"category\",\n        \"num_unique_values\": 2,\n        \"samples\": [\n          \"CLOSED_TEMPORARILY\",\n          \"OPERATIONAL\"\n        ],\n        \"semantic_type\": \"\",\n        \"description\": \"\"\n      }\n    },\n    {\n      \"column\": \"placeTypes\",\n      \"properties\": {\n        \"dtype\": \"category\",\n        \"num_unique_values\": 518,\n        \"samples\": [\n          \"lawyer,accounting,finance,point_of_interest,establishment\",\n          \"book_store,library,store,point_of_interest,establishment\"\n        ],\n        \"semantic_type\": \"\",\n        \"description\": \"\"\n      }\n    },\n    {\n      \"column\": \"placeLatitude\",\n      \"properties\": {\n        \"dtype\": \"number\",\n        \"std\": 0.03978019225045535,\n        \"min\": 0.4205126,\n        \"max\": 0.6804159,\n        \"num_unique_values\": 40848,\n        \"samples\": [\n          0.4894532,\n          0.4443\n        ],\n        \"semantic_type\": \"\",\n        \"description\": \"\"\n      }\n    },\n    {\n      \"column\": \"placeLongitude\",\n      \"properties\": {\n        \"dtype\": \"number\",\n        \"std\": 0.03897632153870577,\n        \"min\": 101.3325272,\n        \"max\": 101.599236,\n        \"num_unique_values\": 40776,\n        \"samples\": [\n          101.4436653,\n          101.4068151\n        ],\n        \"semantic_type\": \"\",\n        \"description\": \"\"\n      }\n    },\n    {\n      \"column\": \"source\",\n      \"properties\": {\n        \"dtype\": \"category\",\n        \"num_unique_values\": 2,\n        \"samples\": [\n          \"OSM\",\n          \"GMAPS\"\n        ],\n        \"semantic_type\": \"\",\n        \"description\": \"\"\n      }\n    },\n    {\n      \"column\": \"predicted_label\",\n      \"properties\": {\n        \"dtype\": \"category\",\n        \"num_unique_values\": 21,\n        \"samples\": [\n          \"J\",\n          \"U\"\n        ],\n        \"semantic_type\": \"\",\n        \"description\": \"\"\n      }\n    }\n  ]\n}"
            }
          },
          "metadata": {},
          "execution_count": 179
        }
      ]
    },
    {
      "cell_type": "code",
      "source": [
        "df.info()"
      ],
      "metadata": {
        "colab": {
          "base_uri": "https://localhost:8080/"
        },
        "id": "BAJNU0q1DXUK",
        "outputId": "96dcc875-1f36-4a16-d27c-c93144bf474a"
      },
      "execution_count": 180,
      "outputs": [
        {
          "output_type": "stream",
          "name": "stdout",
          "text": [
            "<class 'pandas.core.frame.DataFrame'>\n",
            "RangeIndex: 43343 entries, 0 to 43342\n",
            "Data columns (total 9 columns):\n",
            " #   Column               Non-Null Count  Dtype  \n",
            "---  ------               --------------  -----  \n",
            " 0   placeId              43343 non-null  object \n",
            " 1   placeName            43343 non-null  object \n",
            " 2   placeAddress         41352 non-null  object \n",
            " 3   placeBusinessStatus  43343 non-null  object \n",
            " 4   placeTypes           43343 non-null  object \n",
            " 5   placeLatitude        43343 non-null  float64\n",
            " 6   placeLongitude       43343 non-null  float64\n",
            " 7   source               43343 non-null  object \n",
            " 8   predicted_label      43343 non-null  object \n",
            "dtypes: float64(2), object(7)\n",
            "memory usage: 3.0+ MB\n"
          ]
        }
      ]
    }
  ]
}