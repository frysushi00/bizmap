{
  "nbformat": 4,
  "nbformat_minor": 0,
  "metadata": {
    "colab": {
      "provenance": [],
      "gpuType": "T4"
    },
    "kernelspec": {
      "name": "python3",
      "display_name": "Python 3"
    },
    "language_info": {
      "name": "python"
    },
    "accelerator": "GPU"
  },
  "cells": [
    {
      "cell_type": "markdown",
      "source": [
        "##PERSIAPAN LIBRARY"
      ],
      "metadata": {
        "id": "kKU4N3Tfskgo"
      }
    },
    {
      "cell_type": "code",
      "execution_count": 1,
      "metadata": {
        "colab": {
          "base_uri": "https://localhost:8080/"
        },
        "id": "ptAqaPHwFBp4",
        "outputId": "ec630d85-c27b-4890-827b-3bc2c667f81b"
      },
      "outputs": [
        {
          "output_type": "stream",
          "name": "stdout",
          "text": [
            "Requirement already satisfied: Transformers in /usr/local/lib/python3.11/dist-packages (4.51.3)\n",
            "Requirement already satisfied: filelock in /usr/local/lib/python3.11/dist-packages (from Transformers) (3.18.0)\n",
            "Requirement already satisfied: huggingface-hub<1.0,>=0.30.0 in /usr/local/lib/python3.11/dist-packages (from Transformers) (0.30.2)\n",
            "Requirement already satisfied: numpy>=1.17 in /usr/local/lib/python3.11/dist-packages (from Transformers) (2.0.2)\n",
            "Requirement already satisfied: packaging>=20.0 in /usr/local/lib/python3.11/dist-packages (from Transformers) (24.2)\n",
            "Requirement already satisfied: pyyaml>=5.1 in /usr/local/lib/python3.11/dist-packages (from Transformers) (6.0.2)\n",
            "Requirement already satisfied: regex!=2019.12.17 in /usr/local/lib/python3.11/dist-packages (from Transformers) (2024.11.6)\n",
            "Requirement already satisfied: requests in /usr/local/lib/python3.11/dist-packages (from Transformers) (2.32.3)\n",
            "Requirement already satisfied: tokenizers<0.22,>=0.21 in /usr/local/lib/python3.11/dist-packages (from Transformers) (0.21.1)\n",
            "Requirement already satisfied: safetensors>=0.4.3 in /usr/local/lib/python3.11/dist-packages (from Transformers) (0.5.3)\n",
            "Requirement already satisfied: tqdm>=4.27 in /usr/local/lib/python3.11/dist-packages (from Transformers) (4.67.1)\n",
            "Requirement already satisfied: fsspec>=2023.5.0 in /usr/local/lib/python3.11/dist-packages (from huggingface-hub<1.0,>=0.30.0->Transformers) (2025.3.2)\n",
            "Requirement already satisfied: typing-extensions>=3.7.4.3 in /usr/local/lib/python3.11/dist-packages (from huggingface-hub<1.0,>=0.30.0->Transformers) (4.13.2)\n",
            "Requirement already satisfied: charset-normalizer<4,>=2 in /usr/local/lib/python3.11/dist-packages (from requests->Transformers) (3.4.1)\n",
            "Requirement already satisfied: idna<4,>=2.5 in /usr/local/lib/python3.11/dist-packages (from requests->Transformers) (3.10)\n",
            "Requirement already satisfied: urllib3<3,>=1.21.1 in /usr/local/lib/python3.11/dist-packages (from requests->Transformers) (2.4.0)\n",
            "Requirement already satisfied: certifi>=2017.4.17 in /usr/local/lib/python3.11/dist-packages (from requests->Transformers) (2025.4.26)\n"
          ]
        }
      ],
      "source": [
        "!pip install Transformers"
      ]
    },
    {
      "cell_type": "code",
      "source": [
        "!pip install evaluate"
      ],
      "metadata": {
        "colab": {
          "base_uri": "https://localhost:8080/"
        },
        "id": "KzgYhNuTQcBk",
        "outputId": "0dc821e9-2bb6-4c5a-d87d-a52d1f842cdc"
      },
      "execution_count": 2,
      "outputs": [
        {
          "output_type": "stream",
          "name": "stdout",
          "text": [
            "Collecting evaluate\n",
            "  Downloading evaluate-0.4.3-py3-none-any.whl.metadata (9.2 kB)\n",
            "Collecting datasets>=2.0.0 (from evaluate)\n",
            "  Downloading datasets-3.6.0-py3-none-any.whl.metadata (19 kB)\n",
            "Requirement already satisfied: numpy>=1.17 in /usr/local/lib/python3.11/dist-packages (from evaluate) (2.0.2)\n",
            "Collecting dill (from evaluate)\n",
            "  Downloading dill-0.4.0-py3-none-any.whl.metadata (10 kB)\n",
            "Requirement already satisfied: pandas in /usr/local/lib/python3.11/dist-packages (from evaluate) (2.2.2)\n",
            "Requirement already satisfied: requests>=2.19.0 in /usr/local/lib/python3.11/dist-packages (from evaluate) (2.32.3)\n",
            "Requirement already satisfied: tqdm>=4.62.1 in /usr/local/lib/python3.11/dist-packages (from evaluate) (4.67.1)\n",
            "Collecting xxhash (from evaluate)\n",
            "  Downloading xxhash-3.5.0-cp311-cp311-manylinux_2_17_x86_64.manylinux2014_x86_64.whl.metadata (12 kB)\n",
            "Collecting multiprocess (from evaluate)\n",
            "  Downloading multiprocess-0.70.18-py311-none-any.whl.metadata (7.5 kB)\n",
            "Requirement already satisfied: fsspec>=2021.05.0 in /usr/local/lib/python3.11/dist-packages (from fsspec[http]>=2021.05.0->evaluate) (2025.3.2)\n",
            "Requirement already satisfied: huggingface-hub>=0.7.0 in /usr/local/lib/python3.11/dist-packages (from evaluate) (0.30.2)\n",
            "Requirement already satisfied: packaging in /usr/local/lib/python3.11/dist-packages (from evaluate) (24.2)\n",
            "Requirement already satisfied: filelock in /usr/local/lib/python3.11/dist-packages (from datasets>=2.0.0->evaluate) (3.18.0)\n",
            "Requirement already satisfied: pyarrow>=15.0.0 in /usr/local/lib/python3.11/dist-packages (from datasets>=2.0.0->evaluate) (18.1.0)\n",
            "Collecting dill (from evaluate)\n",
            "  Downloading dill-0.3.8-py3-none-any.whl.metadata (10 kB)\n",
            "Collecting multiprocess (from evaluate)\n",
            "  Downloading multiprocess-0.70.16-py311-none-any.whl.metadata (7.2 kB)\n",
            "Collecting fsspec>=2021.05.0 (from fsspec[http]>=2021.05.0->evaluate)\n",
            "  Downloading fsspec-2025.3.0-py3-none-any.whl.metadata (11 kB)\n",
            "Requirement already satisfied: pyyaml>=5.1 in /usr/local/lib/python3.11/dist-packages (from datasets>=2.0.0->evaluate) (6.0.2)\n",
            "Requirement already satisfied: aiohttp!=4.0.0a0,!=4.0.0a1 in /usr/local/lib/python3.11/dist-packages (from fsspec[http]>=2021.05.0->evaluate) (3.11.15)\n",
            "Requirement already satisfied: typing-extensions>=3.7.4.3 in /usr/local/lib/python3.11/dist-packages (from huggingface-hub>=0.7.0->evaluate) (4.13.2)\n",
            "Requirement already satisfied: charset-normalizer<4,>=2 in /usr/local/lib/python3.11/dist-packages (from requests>=2.19.0->evaluate) (3.4.1)\n",
            "Requirement already satisfied: idna<4,>=2.5 in /usr/local/lib/python3.11/dist-packages (from requests>=2.19.0->evaluate) (3.10)\n",
            "Requirement already satisfied: urllib3<3,>=1.21.1 in /usr/local/lib/python3.11/dist-packages (from requests>=2.19.0->evaluate) (2.4.0)\n",
            "Requirement already satisfied: certifi>=2017.4.17 in /usr/local/lib/python3.11/dist-packages (from requests>=2.19.0->evaluate) (2025.4.26)\n",
            "Requirement already satisfied: python-dateutil>=2.8.2 in /usr/local/lib/python3.11/dist-packages (from pandas->evaluate) (2.9.0.post0)\n",
            "Requirement already satisfied: pytz>=2020.1 in /usr/local/lib/python3.11/dist-packages (from pandas->evaluate) (2025.2)\n",
            "Requirement already satisfied: tzdata>=2022.7 in /usr/local/lib/python3.11/dist-packages (from pandas->evaluate) (2025.2)\n",
            "Requirement already satisfied: aiohappyeyeballs>=2.3.0 in /usr/local/lib/python3.11/dist-packages (from aiohttp!=4.0.0a0,!=4.0.0a1->fsspec[http]>=2021.05.0->evaluate) (2.6.1)\n",
            "Requirement already satisfied: aiosignal>=1.1.2 in /usr/local/lib/python3.11/dist-packages (from aiohttp!=4.0.0a0,!=4.0.0a1->fsspec[http]>=2021.05.0->evaluate) (1.3.2)\n",
            "Requirement already satisfied: attrs>=17.3.0 in /usr/local/lib/python3.11/dist-packages (from aiohttp!=4.0.0a0,!=4.0.0a1->fsspec[http]>=2021.05.0->evaluate) (25.3.0)\n",
            "Requirement already satisfied: frozenlist>=1.1.1 in /usr/local/lib/python3.11/dist-packages (from aiohttp!=4.0.0a0,!=4.0.0a1->fsspec[http]>=2021.05.0->evaluate) (1.6.0)\n",
            "Requirement already satisfied: multidict<7.0,>=4.5 in /usr/local/lib/python3.11/dist-packages (from aiohttp!=4.0.0a0,!=4.0.0a1->fsspec[http]>=2021.05.0->evaluate) (6.4.3)\n",
            "Requirement already satisfied: propcache>=0.2.0 in /usr/local/lib/python3.11/dist-packages (from aiohttp!=4.0.0a0,!=4.0.0a1->fsspec[http]>=2021.05.0->evaluate) (0.3.1)\n",
            "Requirement already satisfied: yarl<2.0,>=1.17.0 in /usr/local/lib/python3.11/dist-packages (from aiohttp!=4.0.0a0,!=4.0.0a1->fsspec[http]>=2021.05.0->evaluate) (1.20.0)\n",
            "Requirement already satisfied: six>=1.5 in /usr/local/lib/python3.11/dist-packages (from python-dateutil>=2.8.2->pandas->evaluate) (1.17.0)\n",
            "Downloading evaluate-0.4.3-py3-none-any.whl (84 kB)\n",
            "\u001b[2K   \u001b[90m━━━━━━━━━━━━━━━━━━━━━━━━━━━━━━━━━━━━━━━━\u001b[0m \u001b[32m84.0/84.0 kB\u001b[0m \u001b[31m8.3 MB/s\u001b[0m eta \u001b[36m0:00:00\u001b[0m\n",
            "\u001b[?25hDownloading datasets-3.6.0-py3-none-any.whl (491 kB)\n",
            "\u001b[2K   \u001b[90m━━━━━━━━━━━━━━━━━━━━━━━━━━━━━━━━━━━━━━━━\u001b[0m \u001b[32m491.5/491.5 kB\u001b[0m \u001b[31m35.8 MB/s\u001b[0m eta \u001b[36m0:00:00\u001b[0m\n",
            "\u001b[?25hDownloading dill-0.3.8-py3-none-any.whl (116 kB)\n",
            "\u001b[2K   \u001b[90m━━━━━━━━━━━━━━━━━━━━━━━━━━━━━━━━━━━━━━━━\u001b[0m \u001b[32m116.3/116.3 kB\u001b[0m \u001b[31m12.8 MB/s\u001b[0m eta \u001b[36m0:00:00\u001b[0m\n",
            "\u001b[?25hDownloading fsspec-2025.3.0-py3-none-any.whl (193 kB)\n",
            "\u001b[2K   \u001b[90m━━━━━━━━━━━━━━━━━━━━━━━━━━━━━━━━━━━━━━━━\u001b[0m \u001b[32m193.6/193.6 kB\u001b[0m \u001b[31m18.1 MB/s\u001b[0m eta \u001b[36m0:00:00\u001b[0m\n",
            "\u001b[?25hDownloading multiprocess-0.70.16-py311-none-any.whl (143 kB)\n",
            "\u001b[2K   \u001b[90m━━━━━━━━━━━━━━━━━━━━━━━━━━━━━━━━━━━━━━━━\u001b[0m \u001b[32m143.5/143.5 kB\u001b[0m \u001b[31m15.7 MB/s\u001b[0m eta \u001b[36m0:00:00\u001b[0m\n",
            "\u001b[?25hDownloading xxhash-3.5.0-cp311-cp311-manylinux_2_17_x86_64.manylinux2014_x86_64.whl (194 kB)\n",
            "\u001b[2K   \u001b[90m━━━━━━━━━━━━━━━━━━━━━━━━━━━━━━━━━━━━━━━━\u001b[0m \u001b[32m194.8/194.8 kB\u001b[0m \u001b[31m20.2 MB/s\u001b[0m eta \u001b[36m0:00:00\u001b[0m\n",
            "\u001b[?25hInstalling collected packages: xxhash, fsspec, dill, multiprocess, datasets, evaluate\n",
            "  Attempting uninstall: fsspec\n",
            "    Found existing installation: fsspec 2025.3.2\n",
            "    Uninstalling fsspec-2025.3.2:\n",
            "      Successfully uninstalled fsspec-2025.3.2\n",
            "\u001b[31mERROR: pip's dependency resolver does not currently take into account all the packages that are installed. This behaviour is the source of the following dependency conflicts.\n",
            "torch 2.6.0+cu124 requires nvidia-cublas-cu12==12.4.5.8; platform_system == \"Linux\" and platform_machine == \"x86_64\", but you have nvidia-cublas-cu12 12.5.3.2 which is incompatible.\n",
            "torch 2.6.0+cu124 requires nvidia-cuda-cupti-cu12==12.4.127; platform_system == \"Linux\" and platform_machine == \"x86_64\", but you have nvidia-cuda-cupti-cu12 12.5.82 which is incompatible.\n",
            "torch 2.6.0+cu124 requires nvidia-cuda-nvrtc-cu12==12.4.127; platform_system == \"Linux\" and platform_machine == \"x86_64\", but you have nvidia-cuda-nvrtc-cu12 12.5.82 which is incompatible.\n",
            "torch 2.6.0+cu124 requires nvidia-cuda-runtime-cu12==12.4.127; platform_system == \"Linux\" and platform_machine == \"x86_64\", but you have nvidia-cuda-runtime-cu12 12.5.82 which is incompatible.\n",
            "torch 2.6.0+cu124 requires nvidia-cudnn-cu12==9.1.0.70; platform_system == \"Linux\" and platform_machine == \"x86_64\", but you have nvidia-cudnn-cu12 9.3.0.75 which is incompatible.\n",
            "torch 2.6.0+cu124 requires nvidia-cufft-cu12==11.2.1.3; platform_system == \"Linux\" and platform_machine == \"x86_64\", but you have nvidia-cufft-cu12 11.2.3.61 which is incompatible.\n",
            "torch 2.6.0+cu124 requires nvidia-curand-cu12==10.3.5.147; platform_system == \"Linux\" and platform_machine == \"x86_64\", but you have nvidia-curand-cu12 10.3.6.82 which is incompatible.\n",
            "torch 2.6.0+cu124 requires nvidia-cusolver-cu12==11.6.1.9; platform_system == \"Linux\" and platform_machine == \"x86_64\", but you have nvidia-cusolver-cu12 11.6.3.83 which is incompatible.\n",
            "torch 2.6.0+cu124 requires nvidia-cusparse-cu12==12.3.1.170; platform_system == \"Linux\" and platform_machine == \"x86_64\", but you have nvidia-cusparse-cu12 12.5.1.3 which is incompatible.\n",
            "torch 2.6.0+cu124 requires nvidia-nvjitlink-cu12==12.4.127; platform_system == \"Linux\" and platform_machine == \"x86_64\", but you have nvidia-nvjitlink-cu12 12.5.82 which is incompatible.\n",
            "gcsfs 2025.3.2 requires fsspec==2025.3.2, but you have fsspec 2025.3.0 which is incompatible.\u001b[0m\u001b[31m\n",
            "\u001b[0mSuccessfully installed datasets-3.6.0 dill-0.3.8 evaluate-0.4.3 fsspec-2025.3.0 multiprocess-0.70.16 xxhash-3.5.0\n"
          ]
        }
      ]
    },
    {
      "cell_type": "code",
      "source": [
        "import os\n",
        "import tensorflow as tf\n",
        "import keras\n",
        "import re\n",
        "import pandas as pd\n",
        "import numpy as np\n",
        "import sklearn\n",
        "import torch\n",
        "import pickle\n",
        "import matplotlib.pyplot as plt"
      ],
      "metadata": {
        "id": "gWilnB7KcAVQ"
      },
      "execution_count": 3,
      "outputs": []
    },
    {
      "cell_type": "code",
      "source": [
        "from tensorflow.keras.layers import MultiHeadAttention, Input, Dense\n",
        "from tensorflow.keras.layers import LayerNormalization, Layer\n",
        "from tensorflow.keras.layers import TextVectorization, Embedding, GlobalAveragePooling1D\n",
        "\n",
        "from tensorflow.data import Dataset\n",
        "from tensorflow import convert_to_tensor, string, float32, shape, range, reshape\n",
        "from tensorflow.keras import utils\n",
        "\n",
        "from tensorflow.keras.models import Sequential, load_model\n",
        "from tensorflow.keras.layers import Dense, Dropout, Conv1D, Flatten, Reshape\n",
        "\n",
        "from sklearn import metrics\n",
        "from sklearn.metrics import confusion_matrix, ConfusionMatrixDisplay, f1_score, classification_report\n",
        "from sklearn.feature_extraction.text import TfidfVectorizer\n",
        "from sklearn.model_selection import train_test_split\n",
        "from sklearn.preprocessing import LabelEncoder\n",
        "\n",
        "from transformers import BertTokenizer, TFBertForSequenceClassification, Trainer, TrainingArguments\n",
        "from evaluate import load\n",
        "\n",
        "from imblearn.over_sampling import SMOTE"
      ],
      "metadata": {
        "id": "CyBKDox1awds"
      },
      "execution_count": 4,
      "outputs": []
    },
    {
      "cell_type": "markdown",
      "source": [
        "##PERSIAPAN DATASET (MOUNT GDRIVE)"
      ],
      "metadata": {
        "id": "LliMRpiQssNn"
      }
    },
    {
      "cell_type": "code",
      "source": [
        "df_train = pd.read_excel(\"/content/drive/MyDrive/BPS_PROJECT/PRE-PROCESSED/labeled.xlsx\")"
      ],
      "metadata": {
        "id": "JIJkGNjkyrZl"
      },
      "execution_count": 5,
      "outputs": []
    },
    {
      "cell_type": "code",
      "source": [
        "df_train.info()"
      ],
      "metadata": {
        "colab": {
          "base_uri": "https://localhost:8080/"
        },
        "id": "50c85iRoTTTA",
        "outputId": "28852e26-1fe5-4145-9fcc-0a15b5cb2c8d"
      },
      "execution_count": 6,
      "outputs": [
        {
          "output_type": "stream",
          "name": "stdout",
          "text": [
            "<class 'pandas.core.frame.DataFrame'>\n",
            "RangeIndex: 1550 entries, 0 to 1549\n",
            "Data columns (total 8 columns):\n",
            " #   Column               Non-Null Count  Dtype  \n",
            "---  ------               --------------  -----  \n",
            " 0   placeId              1550 non-null   object \n",
            " 1   placeName            1550 non-null   object \n",
            " 2   placeAddress         1527 non-null   object \n",
            " 3   placeBusinessStatus  1550 non-null   object \n",
            " 4   placeTypes           1550 non-null   object \n",
            " 5   placeLatitude        1549 non-null   float64\n",
            " 6   placeLongitude       1549 non-null   float64\n",
            " 7   kbli                 1550 non-null   object \n",
            "dtypes: float64(2), object(6)\n",
            "memory usage: 97.0+ KB\n"
          ]
        }
      ]
    },
    {
      "cell_type": "code",
      "source": [
        "class_distribution = df_train['kbli'].value_counts()\n",
        "\n",
        "plt.figure(figsize=(12,6))\n",
        "class_distribution.plot(kind='bar')\n",
        "plt.title(\"Distribusi Kategori KBLI\")\n",
        "plt.show()"
      ],
      "metadata": {
        "colab": {
          "base_uri": "https://localhost:8080/",
          "height": 483
        },
        "id": "zwZn_lSCRtK_",
        "outputId": "0c5202fe-4ae0-44c5-d919-666cefc34045"
      },
      "execution_count": 7,
      "outputs": [
        {
          "output_type": "display_data",
          "data": {
            "text/plain": [
              "<Figure size 1200x600 with 1 Axes>"
            ],
            "image/png": "[encoded data removed]"
          },
          "metadata": {}
        }
      ]
    },
    {
      "cell_type": "code",
      "source": [
        "class_counts = df_train['kbli'].value_counts()\n",
        "print(\"Jumlah sampel per kelas:\\n\", class_counts)"
      ],
      "metadata": {
        "colab": {
          "base_uri": "https://localhost:8080/"
        },
        "id": "j-l4fySaci_t",
        "outputId": "6c94cbb9-c784-4a98-d462-5bd9fd89d0d3"
      },
      "execution_count": 8,
      "outputs": [
        {
          "output_type": "stream",
          "name": "stdout",
          "text": [
            "Jumlah sampel per kelas:\n",
            " kbli\n",
            "P    82\n",
            "E    81\n",
            "D    80\n",
            "F    80\n",
            "T    80\n",
            "H    80\n",
            "N    79\n",
            "A    79\n",
            "O    79\n",
            "M    79\n",
            "J    79\n",
            "K    79\n",
            "I    78\n",
            "L    78\n",
            "G    77\n",
            "C    72\n",
            "R    65\n",
            "S    60\n",
            "Q    59\n",
            "B    58\n",
            "U    46\n",
            "Name: count, dtype: int64\n"
          ]
        }
      ]
    },
    {
      "cell_type": "code",
      "source": [
        "df_train['placeAddress']=df_train['placeAddress'].fillna('-')"
      ],
      "metadata": {
        "id": "WLjK6lKGTX48"
      },
      "execution_count": 9,
      "outputs": []
    },
    {
      "cell_type": "code",
      "source": [
        "df_train['desc'] = df_train['placeName'] + df_train['placeTypes']"
      ],
      "metadata": {
        "id": "f9pED3KjbmMV"
      },
      "execution_count": 10,
      "outputs": []
    },
    {
      "cell_type": "code",
      "source": [
        "def clean_text(text):\n",
        "    text = text.lower()\n",
        "    text = re.sub(r'[^a-z0-9]', ' ', text)\n",
        "    text = re.sub(r'\\s+', ' ', text).strip()\n",
        "    return text\n",
        "\n",
        "df_train['desc'] = df_train['desc'].apply(clean_text)"
      ],
      "metadata": {
        "id": "nYX2VuzpTrOK"
      },
      "execution_count": 11,
      "outputs": []
    },
    {
      "cell_type": "code",
      "source": [
        "tfidf = TfidfVectorizer(max_features=2000)\n",
        "X = tfidf.fit_transform(df_train['desc'])\n",
        "y = df_train['kbli']"
      ],
      "metadata": {
        "id": "ETFJWo2DZLJW"
      },
      "execution_count": 12,
      "outputs": []
    },
    {
      "cell_type": "markdown",
      "source": [
        "##SPLIT DATASET (TRAIN, TEST, VAL)"
      ],
      "metadata": {
        "id": "xSz2Z_gku75m"
      }
    },
    {
      "cell_type": "code",
      "source": [
        "X_train, X_temp, y_train, y_temp = train_test_split(X, y, test_size=0.2, stratify=y)\n",
        "\n",
        "X_val, X_test, y_val, y_test = train_test_split(X_temp, y_temp, test_size=0.5, stratify=y_temp)"
      ],
      "metadata": {
        "id": "jsYNq_XBV__i"
      },
      "execution_count": 13,
      "outputs": []
    },
    {
      "cell_type": "code",
      "source": [
        "smote = SMOTE(sampling_strategy='auto', k_neighbors=2, random_state=42)\n",
        "X_train_res, y_train_res = smote.fit_resample(X_train, y_train)"
      ],
      "metadata": {
        "id": "lVCGi-psdIIh"
      },
      "execution_count": 14,
      "outputs": []
    },
    {
      "cell_type": "code",
      "source": [
        "le = LabelEncoder()\n",
        "y_train_encoded = le.fit_transform(y_train)\n",
        "y_val_encoded = le.transform(y_val)\n",
        "\n",
        "X_train_float = X_train.toarray().astype('float32')\n",
        "X_val_float = X_val.toarray().astype('float32')"
      ],
      "metadata": {
        "id": "wgxezuVglmmT"
      },
      "execution_count": 15,
      "outputs": []
    },
    {
      "cell_type": "markdown",
      "source": [
        "##MODEL"
      ],
      "metadata": {
        "id": "oLTPknIvtmzz"
      }
    },
    {
      "cell_type": "code",
      "source": [
        "class EarlyStoppingCallback(tf.keras.callbacks.Callback):\n",
        "    def on_epoch_end(self, epoch, logs=None):\n",
        "        if logs is not None:\n",
        "            accuracy = logs.get('accuracy')\n",
        "            val_accuracy = logs.get('val_accuracy')\n",
        "            if accuracy is not None and val_accuracy is not None:\n",
        "                if accuracy >= 0.80 and val_accuracy >= 0.80:\n",
        "                    self.model.stop_training = True\n",
        "                    print(\"\\nReached 80% train accuracy and 80% validation accuracy, so cancelling training!\")"
      ],
      "metadata": {
        "id": "Bh7_IMyNP_Ow"
      },
      "execution_count": 16,
      "outputs": []
    },
    {
      "cell_type": "code",
      "source": [
        "from tensorflow.keras.callbacks import ModelCheckpoint\n",
        "\n",
        "checkpoint = ModelCheckpoint('se_with_cnn.keras', save_best_only=True, monitor='val_accuracy', mode='max')"
      ],
      "metadata": {
        "id": "TWiVmdSaQCTc"
      },
      "execution_count": 17,
      "outputs": []
    },
    {
      "cell_type": "code",
      "source": [
        "early_stopping = EarlyStoppingCallback()"
      ],
      "metadata": {
        "id": "ZkXDzoanQEGf"
      },
      "execution_count": 18,
      "outputs": []
    },
    {
      "cell_type": "markdown",
      "source": [
        "### CNN"
      ],
      "metadata": {
        "id": "Ax2-AZDrXtur"
      }
    },
    {
      "cell_type": "code",
      "source": [
        "model_cnn = Sequential([\n",
        "    Reshape((X_train_float.shape[1], 1), input_shape=(X_train_float.shape[1],)),\n",
        "    Conv1D(filters=64, kernel_size=3, activation='relu'),\n",
        "    Flatten(),\n",
        "    Dense(256, activation='relu'),\n",
        "    Dropout(0.5),\n",
        "    Dense(128, activation='relu'),\n",
        "    Dense(21, activation='softmax')\n",
        "])\n",
        "model_cnn.compile(\n",
        "    optimizer='adam',\n",
        "    loss='sparse_categorical_crossentropy',\n",
        "    metrics=['accuracy']\n",
        ")\n",
        "history_cnn = model_cnn.fit(\n",
        "    X_train_float, y_train_encoded,\n",
        "    validation_data = (X_val_float, y_val_encoded),\n",
        "    epochs = 20,\n",
        "    batch_size = 32,\n",
        "    callbacks=[early_stopping, checkpoint]\n",
        ")"
      ],
      "metadata": {
        "colab": {
          "base_uri": "https://localhost:8080/"
        },
        "id": "cVtsltBOWcVP",
        "outputId": "5cd4141f-4ef0-4d88-d631-33d2ec264329"
      },
      "execution_count": 19,
      "outputs": [
        {
          "output_type": "stream",
          "name": "stderr",
          "text": [
            "/usr/local/lib/python3.11/dist-packages/keras/src/layers/reshaping/reshape.py:39: UserWarning: Do not pass an `input_shape`/`input_dim` argument to a layer. When using Sequential models, prefer using an `Input(shape)` object as the first layer in the model instead.\n",
            "  super().__init__(**kwargs)\n"
          ]
        },
        {
          "output_type": "stream",
          "name": "stdout",
          "text": [
            "Epoch 1/20\n",
            "\u001b[1m39/39\u001b[0m \u001b[32m━━━━━━━━━━━━━━━━━━━━\u001b[0m\u001b[37m\u001b[0m \u001b[1m10s\u001b[0m 148ms/step - accuracy: 0.1839 - loss: 2.9818 - val_accuracy: 0.7161 - val_loss: 2.1621\n",
            "Epoch 2/20\n",
            "\u001b[1m39/39\u001b[0m \u001b[32m━━━━━━━━━━━━━━━━━━━━\u001b[0m\u001b[37m\u001b[0m \u001b[1m4s\u001b[0m 63ms/step - accuracy: 0.7075 - loss: 1.6374 - val_accuracy: 0.8903 - val_loss: 0.6135\n",
            "Epoch 3/20\n",
            "\u001b[1m38/39\u001b[0m \u001b[32m━━━━━━━━━━━━━━━━━━━\u001b[0m\u001b[37m━\u001b[0m \u001b[1m0s\u001b[0m 12ms/step - accuracy: 0.9566 - loss: 0.2730\n",
            "Reached 80% train accuracy and 80% validation accuracy, so cancelling training!\n",
            "\u001b[1m39/39\u001b[0m \u001b[32m━━━━━━━━━━━━━━━━━━━━\u001b[0m\u001b[37m\u001b[0m \u001b[1m5s\u001b[0m 132ms/step - accuracy: 0.9565 - loss: 0.2704 - val_accuracy: 0.9161 - val_loss: 0.3888\n"
          ]
        }
      ]
    },
    {
      "cell_type": "markdown",
      "source": [
        "### NN"
      ],
      "metadata": {
        "id": "rFzkIdEUDf5d"
      }
    },
    {
      "cell_type": "code",
      "source": [
        "model_nn = Sequential([\n",
        "    Dense(256, activation='relu', input_shape = (X_train_float.shape[1],)),\n",
        "    Dropout(0.5),\n",
        "    Dense(128, activation='relu'),\n",
        "    Dense(21, activation='softmax')\n",
        "])\n",
        "model_nn.compile(\n",
        "    optimizer='adam',\n",
        "    loss='sparse_categorical_crossentropy',\n",
        "    metrics=['accuracy']\n",
        ")\n",
        "history_nn = model_nn.fit(\n",
        "    X_train_float, y_train_encoded,\n",
        "    validation_data = (X_val_float, y_val_encoded),\n",
        "    epochs = 20,\n",
        "    batch_size = 32\n",
        ")"
      ],
      "metadata": {
        "colab": {
          "base_uri": "https://localhost:8080/"
        },
        "id": "HLQNOgqMEVZA",
        "outputId": "769e8e16-ba38-4cfe-9cf2-f267576bea6f"
      },
      "execution_count": 20,
      "outputs": [
        {
          "output_type": "stream",
          "name": "stdout",
          "text": [
            "Epoch 1/20\n"
          ]
        },
        {
          "output_type": "stream",
          "name": "stderr",
          "text": [
            "/usr/local/lib/python3.11/dist-packages/keras/src/layers/core/dense.py:87: UserWarning: Do not pass an `input_shape`/`input_dim` argument to a layer. When using Sequential models, prefer using an `Input(shape)` object as the first layer in the model instead.\n",
            "  super().__init__(activity_regularizer=activity_regularizer, **kwargs)\n"
          ]
        },
        {
          "output_type": "stream",
          "name": "stdout",
          "text": [
            "\u001b[1m39/39\u001b[0m \u001b[32m━━━━━━━━━━━━━━━━━━━━\u001b[0m\u001b[37m\u001b[0m \u001b[1m5s\u001b[0m 61ms/step - accuracy: 0.1213 - loss: 3.0342 - val_accuracy: 0.4258 - val_loss: 2.9607\n",
            "Epoch 2/20\n",
            "\u001b[1m39/39\u001b[0m \u001b[32m━━━━━━━━━━━━━━━━━━━━\u001b[0m\u001b[37m\u001b[0m \u001b[1m1s\u001b[0m 4ms/step - accuracy: 0.4023 - loss: 2.8877 - val_accuracy: 0.5806 - val_loss: 2.5879\n",
            "Epoch 3/20\n",
            "\u001b[1m39/39\u001b[0m \u001b[32m━━━━━━━━━━━━━━━━━━━━\u001b[0m\u001b[37m\u001b[0m \u001b[1m0s\u001b[0m 4ms/step - accuracy: 0.6041 - loss: 2.3497 - val_accuracy: 0.7742 - val_loss: 1.7984\n",
            "Epoch 4/20\n",
            "\u001b[1m39/39\u001b[0m \u001b[32m━━━━━━━━━━━━━━━━━━━━\u001b[0m\u001b[37m\u001b[0m \u001b[1m0s\u001b[0m 4ms/step - accuracy: 0.8108 - loss: 1.4407 - val_accuracy: 0.8323 - val_loss: 1.1421\n",
            "Epoch 5/20\n",
            "\u001b[1m39/39\u001b[0m \u001b[32m━━━━━━━━━━━━━━━━━━━━\u001b[0m\u001b[37m\u001b[0m \u001b[1m0s\u001b[0m 4ms/step - accuracy: 0.9381 - loss: 0.7273 - val_accuracy: 0.8839 - val_loss: 0.7648\n",
            "Epoch 6/20\n",
            "\u001b[1m39/39\u001b[0m \u001b[32m━━━━━━━━━━━━━━━━━━━━\u001b[0m\u001b[37m\u001b[0m \u001b[1m0s\u001b[0m 4ms/step - accuracy: 0.9771 - loss: 0.3389 - val_accuracy: 0.9032 - val_loss: 0.6238\n",
            "Epoch 7/20\n",
            "\u001b[1m39/39\u001b[0m \u001b[32m━━━━━━━━━━━━━━━━━━━━\u001b[0m\u001b[37m\u001b[0m \u001b[1m0s\u001b[0m 4ms/step - accuracy: 0.9881 - loss: 0.2224 - val_accuracy: 0.9097 - val_loss: 0.5236\n",
            "Epoch 8/20\n",
            "\u001b[1m39/39\u001b[0m \u001b[32m━━━━━━━━━━━━━━━━━━━━\u001b[0m\u001b[37m\u001b[0m \u001b[1m0s\u001b[0m 5ms/step - accuracy: 0.9913 - loss: 0.1309 - val_accuracy: 0.9032 - val_loss: 0.4827\n",
            "Epoch 9/20\n",
            "\u001b[1m39/39\u001b[0m \u001b[32m━━━━━━━━━━━━━━━━━━━━\u001b[0m\u001b[37m\u001b[0m \u001b[1m0s\u001b[0m 4ms/step - accuracy: 0.9927 - loss: 0.0918 - val_accuracy: 0.9097 - val_loss: 0.4513\n",
            "Epoch 10/20\n",
            "\u001b[1m39/39\u001b[0m \u001b[32m━━━━━━━━━━━━━━━━━━━━\u001b[0m\u001b[37m\u001b[0m \u001b[1m0s\u001b[0m 5ms/step - accuracy: 0.9938 - loss: 0.0624 - val_accuracy: 0.9161 - val_loss: 0.4380\n",
            "Epoch 11/20\n",
            "\u001b[1m39/39\u001b[0m \u001b[32m━━━━━━━━━━━━━━━━━━━━\u001b[0m\u001b[37m\u001b[0m \u001b[1m0s\u001b[0m 4ms/step - accuracy: 0.9960 - loss: 0.0495 - val_accuracy: 0.9097 - val_loss: 0.4269\n",
            "Epoch 12/20\n",
            "\u001b[1m39/39\u001b[0m \u001b[32m━━━━━━━━━━━━━━━━━━━━\u001b[0m\u001b[37m\u001b[0m \u001b[1m0s\u001b[0m 5ms/step - accuracy: 0.9989 - loss: 0.0358 - val_accuracy: 0.9032 - val_loss: 0.4153\n",
            "Epoch 13/20\n",
            "\u001b[1m39/39\u001b[0m \u001b[32m━━━━━━━━━━━━━━━━━━━━\u001b[0m\u001b[37m\u001b[0m \u001b[1m0s\u001b[0m 4ms/step - accuracy: 0.9982 - loss: 0.0330 - val_accuracy: 0.9032 - val_loss: 0.4087\n",
            "Epoch 14/20\n",
            "\u001b[1m39/39\u001b[0m \u001b[32m━━━━━━━━━━━━━━━━━━━━\u001b[0m\u001b[37m\u001b[0m \u001b[1m0s\u001b[0m 4ms/step - accuracy: 0.9945 - loss: 0.0323 - val_accuracy: 0.9097 - val_loss: 0.4036\n",
            "Epoch 15/20\n",
            "\u001b[1m39/39\u001b[0m \u001b[32m━━━━━━━━━━━━━━━━━━━━\u001b[0m\u001b[37m\u001b[0m \u001b[1m0s\u001b[0m 4ms/step - accuracy: 0.9964 - loss: 0.0242 - val_accuracy: 0.9097 - val_loss: 0.4039\n",
            "Epoch 16/20\n",
            "\u001b[1m39/39\u001b[0m \u001b[32m━━━━━━━━━━━━━━━━━━━━\u001b[0m\u001b[37m\u001b[0m \u001b[1m0s\u001b[0m 4ms/step - accuracy: 0.9940 - loss: 0.0277 - val_accuracy: 0.9097 - val_loss: 0.4027\n",
            "Epoch 17/20\n",
            "\u001b[1m39/39\u001b[0m \u001b[32m━━━━━━━━━━━━━━━━━━━━\u001b[0m\u001b[37m\u001b[0m \u001b[1m0s\u001b[0m 4ms/step - accuracy: 0.9994 - loss: 0.0184 - val_accuracy: 0.9032 - val_loss: 0.4043\n",
            "Epoch 18/20\n",
            "\u001b[1m39/39\u001b[0m \u001b[32m━━━━━━━━━━━━━━━━━━━━\u001b[0m\u001b[37m\u001b[0m \u001b[1m0s\u001b[0m 4ms/step - accuracy: 0.9973 - loss: 0.0169 - val_accuracy: 0.9097 - val_loss: 0.4041\n",
            "Epoch 19/20\n",
            "\u001b[1m39/39\u001b[0m \u001b[32m━━━━━━━━━━━━━━━━━━━━\u001b[0m\u001b[37m\u001b[0m \u001b[1m0s\u001b[0m 4ms/step - accuracy: 0.9971 - loss: 0.0176 - val_accuracy: 0.8968 - val_loss: 0.4169\n",
            "Epoch 20/20\n",
            "\u001b[1m39/39\u001b[0m \u001b[32m━━━━━━━━━━━━━━━━━━━━\u001b[0m\u001b[37m\u001b[0m \u001b[1m0s\u001b[0m 5ms/step - accuracy: 0.9970 - loss: 0.0160 - val_accuracy: 0.9097 - val_loss: 0.4019\n"
          ]
        }
      ]
    },
    {
      "cell_type": "markdown",
      "source": [
        "#HASIL TRAINING"
      ],
      "metadata": {
        "id": "SBabl10MFD9j"
      }
    },
    {
      "cell_type": "markdown",
      "source": [
        "##CNN"
      ],
      "metadata": {
        "id": "oT89okjpFJIu"
      }
    },
    {
      "cell_type": "code",
      "source": [
        "accuracy = history_cnn.history['accuracy']\n",
        "val_accuracy = history_cnn.history['val_accuracy']\n",
        "loss = history_cnn.history['loss']\n",
        "val_loss = history_cnn.history['val_loss']\n",
        "epochs = range(1, len(accuracy) + 1)\n",
        "\n",
        "plt.figure(figsize=(12, 6))\n",
        "plt.subplot(1, 2, 1)\n",
        "plt.plot(epochs, accuracy, label='Training Accuracy')\n",
        "plt.plot(epochs, val_accuracy, label='Validation Accuracy')\n",
        "plt.title('Training and Validation Accuracy')\n",
        "plt.xlabel('Epochs')\n",
        "plt.ylabel('Accuracy')\n",
        "plt.legend()\n",
        "\n",
        "plt.subplot(1, 2, 2)\n",
        "plt.plot(epochs, loss, label='Training Loss')\n",
        "plt.plot(epochs, val_loss, label='Validation Loss')\n",
        "plt.title('Training and Validation Loss')\n",
        "plt.xlabel('Epochs')\n",
        "plt.ylabel('Loss')\n",
        "plt.legend()\n",
        "\n",
        "plt.tight_layout()\n",
        "plt.show()"
      ],
      "metadata": {
        "colab": {
          "base_uri": "https://localhost:8080/",
          "height": 431
        },
        "id": "DqQ9_0aXsGZ9",
        "outputId": "dab9ad40-6b44-49e5-9dd4-6d9440583ebf"
      },
      "execution_count": 21,
      "outputs": [
        {
          "output_type": "display_data",
          "data": {
            "text/plain": [
              "<Figure size 1200x600 with 2 Axes>"
            ],
            "image/png": "[encoded data removed]"
          },
          "metadata": {}
        }
      ]
    },
    {
      "cell_type": "code",
      "source": [
        "y_test_encoded = le.transform(y_test)\n",
        "y_pred = model_cnn.predict(X_test.toarray()).argmax(axis=1)\n",
        "cm = confusion_matrix(y_test_encoded, y_pred)\n",
        "disp = ConfusionMatrixDisplay(confusion_matrix=cm, display_labels=le.classes_)\n",
        "disp.plot(cmap='Blues')\n",
        "plt.show()"
      ],
      "metadata": {
        "colab": {
          "base_uri": "https://localhost:8080/",
          "height": 472
        },
        "id": "MIz-yrJEYUgH",
        "outputId": "bef33759-3f39-47dd-de2f-4a915961b3fc"
      },
      "execution_count": 22,
      "outputs": [
        {
          "output_type": "stream",
          "name": "stdout",
          "text": [
            "\u001b[1m5/5\u001b[0m \u001b[32m━━━━━━━━━━━━━━━━━━━━\u001b[0m\u001b[37m\u001b[0m \u001b[1m0s\u001b[0m 62ms/step\n"
          ]
        },
        {
          "output_type": "display_data",
          "data": {
            "text/plain": [
              "<Figure size 640x480 with 2 Axes>"
            ],
            "image/png": "[encoded data removed]"
          },
          "metadata": {}
        }
      ]
    },
    {
      "cell_type": "code",
      "source": [
        "X_test_float = X_test.toarray().astype('float32')\n",
        "y_test_encoded = le.transform(y_test)\n",
        "\n",
        "y_pred_prob = model_cnn.predict(X_test_float)\n",
        "y_pred = y_pred_prob.argmax(axis=1)\n",
        "\n",
        "f1 = f1_score(y_test_encoded, y_pred, average='weighted')\n",
        "print(f\"F1 Score: {f1:.4f}\")\n",
        "\n",
        "print(\"\\nClassification Report:\")\n",
        "print(classification_report(y_test_encoded, y_pred, target_names=le.classes_))"
      ],
      "metadata": {
        "colab": {
          "base_uri": "https://localhost:8080/"
        },
        "id": "NTCkhLV9sk0R",
        "outputId": "ea39f52b-e451-49d6-cc0c-fc314d8a2879"
      },
      "execution_count": 23,
      "outputs": [
        {
          "output_type": "stream",
          "name": "stdout",
          "text": [
            "\u001b[1m5/5\u001b[0m \u001b[32m━━━━━━━━━━━━━━━━━━━━\u001b[0m\u001b[37m\u001b[0m \u001b[1m0s\u001b[0m 6ms/step \n",
            "F1 Score: 0.9034\n",
            "\n",
            "Classification Report:\n",
            "              precision    recall  f1-score   support\n",
            "\n",
            "           A       0.88      0.88      0.88         8\n",
            "           B       0.83      1.00      0.91         5\n",
            "           C       0.67      0.86      0.75         7\n",
            "           D       1.00      1.00      1.00         8\n",
            "           E       0.86      0.75      0.80         8\n",
            "           F       0.89      1.00      0.94         8\n",
            "           G       0.88      0.88      0.88         8\n",
            "           H       0.88      0.88      0.88         8\n",
            "           I       1.00      0.88      0.93         8\n",
            "           J       1.00      1.00      1.00         8\n",
            "           K       0.88      0.88      0.88         8\n",
            "           L       1.00      1.00      1.00         8\n",
            "           M       1.00      0.75      0.86         8\n",
            "           N       0.88      0.88      0.88         8\n",
            "           O       0.89      1.00      0.94         8\n",
            "           P       1.00      1.00      1.00         8\n",
            "           Q       1.00      1.00      1.00         6\n",
            "           R       1.00      0.83      0.91         6\n",
            "           S       0.83      0.83      0.83         6\n",
            "           T       0.75      0.75      0.75         8\n",
            "           U       1.00      1.00      1.00         5\n",
            "\n",
            "    accuracy                           0.90       155\n",
            "   macro avg       0.91      0.91      0.90       155\n",
            "weighted avg       0.91      0.90      0.90       155\n",
            "\n"
          ]
        }
      ]
    },
    {
      "cell_type": "code",
      "source": [
        "X_test_float = X_test.toarray().astype('float32')\n",
        "y_test_encoded = le.transform(y_test)\n",
        "\n",
        "y_pred_probs = model_cnn.predict(X_test_float)\n",
        "y_pred = y_pred_probs.argmax(axis=1)\n",
        "confidence = y_pred_probs.max(axis=1)\n",
        "\n",
        "results_df = pd.DataFrame({\n",
        "    'original_label': le.inverse_transform(y_test_encoded),\n",
        "    'predicted_label': le.inverse_transform(y_pred),\n",
        "    'confidence': confidence\n",
        "})\n",
        "\n",
        "results_df.to_excel(\"test_predictions_cnn.xlsx\", index=False)"
      ],
      "metadata": {
        "colab": {
          "base_uri": "https://localhost:8080/"
        },
        "id": "PUtKAfNh0_SM",
        "outputId": "f2fa6da0-654b-46ee-bf21-3bf77abcedd8"
      },
      "execution_count": 24,
      "outputs": [
        {
          "output_type": "stream",
          "name": "stdout",
          "text": [
            "\u001b[1m5/5\u001b[0m \u001b[32m━━━━━━━━━━━━━━━━━━━━\u001b[0m\u001b[37m\u001b[0m \u001b[1m0s\u001b[0m 7ms/step \n"
          ]
        }
      ]
    },
    {
      "cell_type": "markdown",
      "source": [
        "##NN"
      ],
      "metadata": {
        "id": "VdivaRvLFOpa"
      }
    },
    {
      "cell_type": "code",
      "source": [
        "accuracy = history_nn.history['accuracy']\n",
        "val_accuracy = history_nn.history['val_accuracy']\n",
        "loss = history_nn.history['loss']\n",
        "val_loss = history_nn.history['val_loss']\n",
        "epochs = range(1, len(accuracy) + 1)\n",
        "\n",
        "plt.figure(figsize=(12, 6))\n",
        "plt.subplot(1, 2, 1)\n",
        "plt.plot(epochs, accuracy, label='Training Accuracy')\n",
        "plt.plot(epochs, val_accuracy, label='Validation Accuracy')\n",
        "plt.title('Training and Validation Accuracy')\n",
        "plt.xlabel('Epochs')\n",
        "plt.ylabel('Accuracy')\n",
        "plt.legend()\n",
        "\n",
        "plt.subplot(1, 2, 2)\n",
        "plt.plot(epochs, loss, label='Training Loss')\n",
        "plt.plot(epochs, val_loss, label='Validation Loss')\n",
        "plt.title('Training and Validation Loss')\n",
        "plt.xlabel('Epochs')\n",
        "plt.ylabel('Loss')\n",
        "plt.legend()\n",
        "\n",
        "plt.tight_layout()\n",
        "plt.show()"
      ],
      "metadata": {
        "colab": {
          "base_uri": "https://localhost:8080/",
          "height": 431
        },
        "id": "l62arioWFMe_",
        "outputId": "161fc5b5-c603-411d-ad0d-945579649e9d"
      },
      "execution_count": 25,
      "outputs": [
        {
          "output_type": "display_data",
          "data": {
            "text/plain": [
              "<Figure size 1200x600 with 2 Axes>"
            ],
            "image/png": "[encoded data removed]"
          },
          "metadata": {}
        }
      ]
    },
    {
      "cell_type": "code",
      "source": [
        "y_test_encoded = le.transform(y_test)\n",
        "y_pred = model_nn.predict(X_test.toarray()).argmax(axis=1)\n",
        "cm = confusion_matrix(y_test_encoded, y_pred)\n",
        "disp = ConfusionMatrixDisplay(confusion_matrix=cm, display_labels=le.classes_)\n",
        "disp.plot(cmap='Blues')\n",
        "plt.show()"
      ],
      "metadata": {
        "colab": {
          "base_uri": "https://localhost:8080/",
          "height": 472
        },
        "id": "5Oy764VOFUnq",
        "outputId": "d3ebc3f6-e38d-4146-bd44-5f4f6fe9b93e"
      },
      "execution_count": 26,
      "outputs": [
        {
          "output_type": "stream",
          "name": "stdout",
          "text": [
            "\u001b[1m5/5\u001b[0m \u001b[32m━━━━━━━━━━━━━━━━━━━━\u001b[0m\u001b[37m\u001b[0m \u001b[1m0s\u001b[0m 46ms/step\n"
          ]
        },
        {
          "output_type": "display_data",
          "data": {
            "text/plain": [
              "<Figure size 640x480 with 2 Axes>"
            ],
            "image/png": "[encoded data removed]"
          },
          "metadata": {}
        }
      ]
    },
    {
      "cell_type": "code",
      "source": [
        "X_test_float = X_test.toarray().astype('float32')\n",
        "y_test_encoded = le.transform(y_test)\n",
        "\n",
        "y_pred_prob = model_nn.predict(X_test_float)\n",
        "y_pred = y_pred_prob.argmax(axis=1)\n",
        "\n",
        "f1 = f1_score(y_test_encoded, y_pred, average='weighted')\n",
        "print(f\"F1 Score: {f1:.4f}\")\n",
        "\n",
        "print(\"\\nClassification Report:\")\n",
        "print(classification_report(y_test_encoded, y_pred, target_names=le.classes_))"
      ],
      "metadata": {
        "colab": {
          "base_uri": "https://localhost:8080/"
        },
        "id": "QWYgUlmdFbqT",
        "outputId": "800e4ccc-f525-4889-aba9-5cc2f9ba9a93"
      },
      "execution_count": 27,
      "outputs": [
        {
          "output_type": "stream",
          "name": "stdout",
          "text": [
            "\u001b[1m5/5\u001b[0m \u001b[32m━━━━━━━━━━━━━━━━━━━━\u001b[0m\u001b[37m\u001b[0m \u001b[1m0s\u001b[0m 6ms/step \n",
            "F1 Score: 0.8841\n",
            "\n",
            "Classification Report:\n",
            "              precision    recall  f1-score   support\n",
            "\n",
            "           A       0.88      0.88      0.88         8\n",
            "           B       0.83      1.00      0.91         5\n",
            "           C       0.62      0.71      0.67         7\n",
            "           D       1.00      1.00      1.00         8\n",
            "           E       1.00      0.75      0.86         8\n",
            "           F       1.00      1.00      1.00         8\n",
            "           G       0.78      0.88      0.82         8\n",
            "           H       1.00      0.88      0.93         8\n",
            "           I       0.70      0.88      0.78         8\n",
            "           J       0.89      1.00      0.94         8\n",
            "           K       0.88      0.88      0.88         8\n",
            "           L       1.00      1.00      1.00         8\n",
            "           M       0.86      0.75      0.80         8\n",
            "           N       0.89      1.00      0.94         8\n",
            "           O       0.89      1.00      0.94         8\n",
            "           P       1.00      1.00      1.00         8\n",
            "           Q       1.00      1.00      1.00         6\n",
            "           R       1.00      0.83      0.91         6\n",
            "           S       1.00      0.67      0.80         6\n",
            "           T       0.62      0.62      0.62         8\n",
            "           U       1.00      0.80      0.89         5\n",
            "\n",
            "    accuracy                           0.88       155\n",
            "   macro avg       0.90      0.88      0.88       155\n",
            "weighted avg       0.89      0.88      0.88       155\n",
            "\n"
          ]
        }
      ]
    },
    {
      "cell_type": "code",
      "source": [
        "X_test_float = X_test.toarray().astype('float32')\n",
        "y_test_encoded = le.transform(y_test)\n",
        "\n",
        "y_pred_probs = model_nn.predict(X_test_float)\n",
        "y_pred = y_pred_probs.argmax(axis=1)\n",
        "confidence = y_pred_probs.max(axis=1)\n",
        "\n",
        "results_df = pd.DataFrame({\n",
        "    'original_label': le.inverse_transform(y_test_encoded),\n",
        "    'predicted_label': le.inverse_transform(y_pred),\n",
        "    'confidence': confidence\n",
        "})\n",
        "\n",
        "results_df.to_excel(\"test_predictions_nn.xlsx\", index=False)"
      ],
      "metadata": {
        "colab": {
          "base_uri": "https://localhost:8080/"
        },
        "id": "XFNkpH0nFfst",
        "outputId": "ef8cf6f9-23cf-4d5b-9509-52cab592a768"
      },
      "execution_count": 28,
      "outputs": [
        {
          "output_type": "stream",
          "name": "stdout",
          "text": [
            "\u001b[1m5/5\u001b[0m \u001b[32m━━━━━━━━━━━━━━━━━━━━\u001b[0m\u001b[37m\u001b[0m \u001b[1m0s\u001b[0m 6ms/step \n"
          ]
        }
      ]
    },
    {
      "cell_type": "markdown",
      "source": [
        "#Simpan Model (.h5 dan .savetensor)"
      ],
      "metadata": {
        "id": "LOEzlFvuuWkK"
      }
    },
    {
      "cell_type": "code",
      "source": [
        "model_cnn.save('/content/drive/MyDrive/BPS_PROJECT/MODEL/klbi_classification/klbi_class_cnn.keras')\n",
        "model_cnn.save('/content/drive/MyDrive/BPS_PROJECT/MODEL/klbi_classification/klbi_class_cnn.h5')\n",
        "\n",
        "model_nn.save('/content/drive/MyDrive/BPS_PROJECT/MODEL/klbi_classification/klbi_class_nn.keras')\n",
        "model_nn.save('/content/drive/MyDrive/BPS_PROJECT/MODEL/klbi_classification/klbi_class_nn.h5')"
      ],
      "metadata": {
        "id": "LorhD-K95_1m",
        "colab": {
          "base_uri": "https://localhost:8080/"
        },
        "outputId": "b39238c8-d177-4835-ae0a-277e7a1bf796"
      },
      "execution_count": 29,
      "outputs": [
        {
          "output_type": "stream",
          "name": "stderr",
          "text": [
            "WARNING:absl:You are saving your model as an HDF5 file via `model.save()` or `keras.saving.save_model(model)`. This file format is considered legacy. We recommend using instead the native Keras format, e.g. `model.save('my_model.keras')` or `keras.saving.save_model(model, 'my_model.keras')`. \n",
            "WARNING:absl:You are saving your model as an HDF5 file via `model.save()` or `keras.saving.save_model(model)`. This file format is considered legacy. We recommend using instead the native Keras format, e.g. `model.save('my_model.keras')` or `keras.saving.save_model(model, 'my_model.keras')`. \n"
          ]
        }
      ]
    },
    {
      "cell_type": "code",
      "source": [
        "with open(\"/content/drive/MyDrive/BPS_PROJECT/MODEL/klbi_classification/tfidf_vectorizer_cnn.pkl\", \"wb\") as f:\n",
        "    pickle.dump(tfidf, f)"
      ],
      "metadata": {
        "id": "7v43ijSb-CT9"
      },
      "execution_count": 30,
      "outputs": []
    },
    {
      "cell_type": "markdown",
      "source": [
        "#Apply Model Ke Dataset Full"
      ],
      "metadata": {
        "id": "INpWV8cluQAf"
      }
    },
    {
      "cell_type": "code",
      "source": [
        "df = pd.read_excel(\"/content/drive/MyDrive/BPS_PROJECT/PROCESSED/klbi_classification/COMBINED_DATASET.xlsx\")"
      ],
      "metadata": {
        "id": "TvC-Jvc3CmyG"
      },
      "execution_count": 31,
      "outputs": []
    },
    {
      "cell_type": "markdown",
      "source": [
        "### CNN"
      ],
      "metadata": {
        "id": "wQUjE7nMCpeq"
      }
    },
    {
      "cell_type": "code",
      "source": [
        "model_cnn = load_model('/content/drive/MyDrive/BPS_PROJECT/MODEL/klbi_classification/klbi_class_cnn.h5')"
      ],
      "metadata": {
        "id": "DQrZfv_L7T4n",
        "colab": {
          "base_uri": "https://localhost:8080/"
        },
        "outputId": "9d2d1e1b-4e29-47e1-c48a-4d1349418ba0"
      },
      "execution_count": 32,
      "outputs": [
        {
          "output_type": "stream",
          "name": "stderr",
          "text": [
            "WARNING:absl:Compiled the loaded model, but the compiled metrics have yet to be built. `model.compile_metrics` will be empty until you train or evaluate the model.\n"
          ]
        }
      ]
    },
    {
      "cell_type": "code",
      "source": [
        "with open(\"/content/drive/MyDrive/BPS_PROJECT/MODEL/klbi_classification/tfidf_vectorizer_cnn.pkl\", \"rb\") as f:\n",
        "    tfidf = pickle.load(f)"
      ],
      "metadata": {
        "id": "iBQ7uKga-Nke"
      },
      "execution_count": 33,
      "outputs": []
    },
    {
      "cell_type": "code",
      "source": [
        "X_new = tfidf.transform(df['placeName'] + df['placeTypes'])\n",
        "X_new_float = X_new.toarray().astype('float32')"
      ],
      "metadata": {
        "id": "gsION1gu-fYM"
      },
      "execution_count": 34,
      "outputs": []
    },
    {
      "cell_type": "code",
      "source": [
        "y_new_probs = model_cnn.predict(X_new_float)\n",
        "y_new_pred = y_new_probs.argmax(axis=1)"
      ],
      "metadata": {
        "id": "wL7MF6ll-n-F",
        "colab": {
          "base_uri": "https://localhost:8080/"
        },
        "outputId": "646d1e8a-1e01-4563-f857-3290a1f70248"
      },
      "execution_count": 35,
      "outputs": [
        {
          "output_type": "stream",
          "name": "stdout",
          "text": [
            "\u001b[1m1355/1355\u001b[0m \u001b[32m━━━━━━━━━━━━━━━━━━━━\u001b[0m\u001b[37m\u001b[0m \u001b[1m5s\u001b[0m 4ms/step\n"
          ]
        }
      ]
    },
    {
      "cell_type": "code",
      "source": [
        "df['predicted_label'] = le.inverse_transform(y_new_pred)"
      ],
      "metadata": {
        "id": "sos7YDnL-yZ-"
      },
      "execution_count": 36,
      "outputs": []
    },
    {
      "cell_type": "code",
      "source": [
        "df.to_excel(\"//content/drive/MyDrive/BPS_PROJECT/PROCESSED/klbi_classification/PREDICTED_ALL_82ACC_cnn.xlsx\", index = False)"
      ],
      "metadata": {
        "id": "EdNdjPEae8w0"
      },
      "execution_count": 37,
      "outputs": []
    },
    {
      "cell_type": "code",
      "source": [
        "df.head(20)"
      ],
      "metadata": {
        "id": "teNqSNVScDMn",
        "colab": {
          "base_uri": "https://localhost:8080/",
          "height": 1000
        },
        "outputId": "9076ef92-c233-44e5-ca9c-1218a71516d0"
      },
      "execution_count": 38,
      "outputs": [
        {
          "output_type": "execute_result",
          "data": {
            "text/plain": [
              "                        placeId                                     placeName  \\\n",
              "0   ChIJG0i9CEap1TERq1G-K3lxuus                                  Graha Renova   \n",
              "1   ChIJI0kxnE-p1TERVzzCaVLc_-A                          Putri Jaya Abadi. CV   \n",
              "2   ChIJ75xs3BSp1TERjUD6T2Hr7MU                             Warung Ojo Forget   \n",
              "3   ChIJn_QB002p1TERjXQjpmobcjE                      Batam Central Electronik   \n",
              "4   ChIJWxkAUdOp1TERTPhwfB11yBc                     BOS (Bintang Oto Service)   \n",
              "5   ChIJGZ6fZWKp1TER1-ehi3TTs-M                                     Arjuna 51   \n",
              "6   ChIJ7z8NCnmp1TERBB6h6lgxpGk                     Villa Garuda Mas C3 Mawar   \n",
              "7   ChIJuwVlnjir1TERIrSo4VY6KJk  Laundry Sepatu Hotel Shoes Clean & treatment   \n",
              "8   ChIJ0cJza2mp1TERIuIVdKGyDS0                               Vape Pink Store   \n",
              "9   ChIJV698pw2p1TERYF4aEyoypYg                            Bengkel Las Arjuna   \n",
              "10  ChIJu4SfAUqp1TERd53oZM0d_cw                                  Twoone Tenun   \n",
              "11  ChIJh1cF01ap1TERq9TsX2Vo3bo                                 ELLYS FLORIST   \n",
              "12  ChIJeexWilCp1TERdJ1IUOXS5Js                     Amal Parlagutan Niaga. CV   \n",
              "13  ChIJ6bK1DBSp1TER1sxntiaMwWo                                Senior laundry   \n",
              "14  ChIJK99fmFCp1TERc0vElgnIDDg                                  Vilo Fashion   \n",
              "15  ChIJvf4TqIqr1TERlLuo4FE-dL4                             Toko Rezky Arjuna   \n",
              "16  ChIJv6aNItqp1TERZiPTIgiQN4Y                          Jl arjuna gg citarum   \n",
              "17  ChIJt1nYUIep1TERKLwCkbfj-1o                 TMH (Takwin Management House)   \n",
              "18  ChIJZ9taMwCp1TERwZFHj3OvkEo                              Kedai kopi ajete   \n",
              "19  ChIJCXHwz5ep1TERQlp7gU9dVJg                 Perternakan fourman panjaitan   \n",
              "\n",
              "                                         placeAddress placeBusinessStatus  \\\n",
              "0                          GC2C+GP3, Tengkerang Barat         OPERATIONAL   \n",
              "1           Jalan Musyawarah No.184, Labuh Baru Timur         OPERATIONAL   \n",
              "2     GC3G+GQ4, Jalan Soekarno-Hatta, Sidomulyo Timur         OPERATIONAL   \n",
              "3   Komplek Taman Anggrek Blok A4-6, Jl. Tuanku Ta...         OPERATIONAL   \n",
              "4                      Jalan Ikhlas, Labuh Baru Timur         OPERATIONAL   \n",
              "5                          GC6F+7GC, Labuh Baru Timur         OPERATIONAL   \n",
              "6   Villa, Jalan Garuda Mas Mawar No.C3, Labuh Bar...         OPERATIONAL   \n",
              "7                                 Jalan Arjuna No.125         OPERATIONAL   \n",
              "8   Jalan Eka Sari Jalan Arjuna No.56, Labuh Baru ...         OPERATIONAL   \n",
              "9            GC6F+GQG, Jalan Arjuna, Labuh Baru Timur         OPERATIONAL   \n",
              "10                                 Jalan Garuda Sakti         OPERATIONAL   \n",
              "11                              Tim, Labuh Baru Timur         OPERATIONAL   \n",
              "12              Jalan Arjuna No.127, Labuh Baru Timur         OPERATIONAL   \n",
              "13           GC6F+GPQ, Jalan Arjuna, Labuh Baru Timur         OPERATIONAL   \n",
              "14        GC5F+R69, Jl. Waringin II, Labuh Baru Timur         OPERATIONAL   \n",
              "15      Jalan Arjuna 3 No.kelurahan, Labuh Baru Timur         OPERATIONAL   \n",
              "16                         GC6F+CCQ, Labuh Baru Timur         OPERATIONAL   \n",
              "17              Jalan Eka Sari No.1, Labuh Baru Timur         OPERATIONAL   \n",
              "18          Jalan Tiung Ujung No.42, Labuh Baru Timur         OPERATIONAL   \n",
              "19             GC5F+CW4, Gang Jeruk, Labuh Baru Timur         OPERATIONAL   \n",
              "\n",
              "                                           placeTypes  placeLatitude  \\\n",
              "0                     point_of_interest,establishment       0.501254   \n",
              "1   furniture_store,home_goods_store,point_of_inte...       0.503969   \n",
              "2     restaurant,point_of_interest,food,establishment       0.503770   \n",
              "3   electronics_store,point_of_interest,store,esta...       0.503697   \n",
              "4          car_repair,point_of_interest,establishment       0.505233   \n",
              "5             lodging,point_of_interest,establishment       0.510688   \n",
              "6                     point_of_interest,establishment       0.510855   \n",
              "7                     point_of_interest,establishment       0.508483   \n",
              "8               point_of_interest,store,establishment       0.511309   \n",
              "9                     point_of_interest,establishment       0.511312   \n",
              "10              point_of_interest,store,establishment       0.510585   \n",
              "11                    point_of_interest,establishment       0.510826   \n",
              "12                    point_of_interest,establishment       0.508562   \n",
              "13            laundry,point_of_interest,establishment       0.511331   \n",
              "14  clothing_store,point_of_interest,store,establi...       0.509543   \n",
              "15               point_of_interest,food,establishment       0.511485   \n",
              "16                    point_of_interest,establishment       0.511089   \n",
              "17                    point_of_interest,establishment       0.511529   \n",
              "18    cafe,food,point_of_interest,store,establishment       0.508350   \n",
              "19              store,point_of_interest,establishment       0.508519   \n",
              "\n",
              "    placeLongitude source predicted_label  \n",
              "0       101.421803  GMAPS               J  \n",
              "1       101.423609  GMAPS               G  \n",
              "2       101.426964  GMAPS               T  \n",
              "3       101.428838  GMAPS               G  \n",
              "4       101.430264  GMAPS               S  \n",
              "5       101.423754  GMAPS               C  \n",
              "6       101.425538  GMAPS               L  \n",
              "7       101.424036  GMAPS               I  \n",
              "8       101.424465  GMAPS               G  \n",
              "9       101.424466  GMAPS               F  \n",
              "10      101.426052  GMAPS               G  \n",
              "11      101.425882  GMAPS               C  \n",
              "12      101.423740  GMAPS               H  \n",
              "13      101.424346  GMAPS               S  \n",
              "14      101.423102  GMAPS               G  \n",
              "15      101.424696  GMAPS               G  \n",
              "16      101.423595  GMAPS               R  \n",
              "17      101.423974  GMAPS               J  \n",
              "18      101.427348  GMAPS               I  \n",
              "19      101.424817  GMAPS               C  "
            ],
            "text/html": [
              "\n",
              "  <div id=\"df-f98aace0-d1d6-4fb2-9a25-de5281c1342a\" class=\"colab-df-container\">\n",
              "    <div>\n",
              "<style scoped>\n",
              "    .dataframe tbody tr th:only-of-type {\n",
              "        vertical-align: middle;\n",
              "    }\n",
              "\n",
              "    .dataframe tbody tr th {\n",
              "        vertical-align: top;\n",
              "    }\n",
              "\n",
              "    .dataframe thead th {\n",
              "        text-align: right;\n",
              "    }\n",
              "</style>\n",
              "<table border=\"1\" class=\"dataframe\">\n",
              "  <thead>\n",
              "    <tr style=\"text-align: right;\">\n",
              "      <th></th>\n",
              "      <th>placeId</th>\n",
              "      <th>placeName</th>\n",
              "      <th>placeAddress</th>\n",
              "      <th>placeBusinessStatus</th>\n",
              "      <th>placeTypes</th>\n",
              "      <th>placeLatitude</th>\n",
              "      <th>placeLongitude</th>\n",
              "      <th>source</th>\n",
              "      <th>predicted_label</th>\n",
              "    </tr>\n",
              "  </thead>\n",
              "  <tbody>\n",
              "    <tr>\n",
              "      <th>0</th>\n",
              "      <td>ChIJG0i9CEap1TERq1G-K3lxuus</td>\n",
              "      <td>Graha Renova</td>\n",
              "      <td>GC2C+GP3, Tengkerang Barat</td>\n",
              "      <td>OPERATIONAL</td>\n",
              "      <td>point_of_interest,establishment</td>\n",
              "      <td>0.501254</td>\n",
              "      <td>101.421803</td>\n",
              "      <td>GMAPS</td>\n",
              "      <td>J</td>\n",
              "    </tr>\n",
              "    <tr>\n",
              "      <th>1</th>\n",
              "      <td>ChIJI0kxnE-p1TERVzzCaVLc_-A</td>\n",
              "      <td>Putri Jaya Abadi. CV</td>\n",
              "      <td>Jalan Musyawarah No.184, Labuh Baru Timur</td>\n",
              "      <td>OPERATIONAL</td>\n",
              "      <td>furniture_store,home_goods_store,point_of_inte...</td>\n",
              "      <td>0.503969</td>\n",
              "      <td>101.423609</td>\n",
              "      <td>GMAPS</td>\n",
              "      <td>G</td>\n",
              "    </tr>\n",
              "    <tr>\n",
              "      <th>2</th>\n",
              "      <td>ChIJ75xs3BSp1TERjUD6T2Hr7MU</td>\n",
              "      <td>Warung Ojo Forget</td>\n",
              "      <td>GC3G+GQ4, Jalan Soekarno-Hatta, Sidomulyo Timur</td>\n",
              "      <td>OPERATIONAL</td>\n",
              "      <td>restaurant,point_of_interest,food,establishment</td>\n",
              "      <td>0.503770</td>\n",
              "      <td>101.426964</td>\n",
              "      <td>GMAPS</td>\n",
              "      <td>T</td>\n",
              "    </tr>\n",
              "    <tr>\n",
              "      <th>3</th>\n",
              "      <td>ChIJn_QB002p1TERjXQjpmobcjE</td>\n",
              "      <td>Batam Central Electronik</td>\n",
              "      <td>Komplek Taman Anggrek Blok A4-6, Jl. Tuanku Ta...</td>\n",
              "      <td>OPERATIONAL</td>\n",
              "      <td>electronics_store,point_of_interest,store,esta...</td>\n",
              "      <td>0.503697</td>\n",
              "      <td>101.428838</td>\n",
              "      <td>GMAPS</td>\n",
              "      <td>G</td>\n",
              "    </tr>\n",
              "    <tr>\n",
              "      <th>4</th>\n",
              "      <td>ChIJWxkAUdOp1TERTPhwfB11yBc</td>\n",
              "      <td>BOS (Bintang Oto Service)</td>\n",
              "      <td>Jalan Ikhlas, Labuh Baru Timur</td>\n",
              "      <td>OPERATIONAL</td>\n",
              "      <td>car_repair,point_of_interest,establishment</td>\n",
              "      <td>0.505233</td>\n",
              "      <td>101.430264</td>\n",
              "      <td>GMAPS</td>\n",
              "      <td>S</td>\n",
              "    </tr>\n",
              "    <tr>\n",
              "      <th>5</th>\n",
              "      <td>ChIJGZ6fZWKp1TER1-ehi3TTs-M</td>\n",
              "      <td>Arjuna 51</td>\n",
              "      <td>GC6F+7GC, Labuh Baru Timur</td>\n",
              "      <td>OPERATIONAL</td>\n",
              "      <td>lodging,point_of_interest,establishment</td>\n",
              "      <td>0.510688</td>\n",
              "      <td>101.423754</td>\n",
              "      <td>GMAPS</td>\n",
              "      <td>C</td>\n",
              "    </tr>\n",
              "    <tr>\n",
              "      <th>6</th>\n",
              "      <td>ChIJ7z8NCnmp1TERBB6h6lgxpGk</td>\n",
              "      <td>Villa Garuda Mas C3 Mawar</td>\n",
              "      <td>Villa, Jalan Garuda Mas Mawar No.C3, Labuh Bar...</td>\n",
              "      <td>OPERATIONAL</td>\n",
              "      <td>point_of_interest,establishment</td>\n",
              "      <td>0.510855</td>\n",
              "      <td>101.425538</td>\n",
              "      <td>GMAPS</td>\n",
              "      <td>L</td>\n",
              "    </tr>\n",
              "    <tr>\n",
              "      <th>7</th>\n",
              "      <td>ChIJuwVlnjir1TERIrSo4VY6KJk</td>\n",
              "      <td>Laundry Sepatu Hotel Shoes Clean &amp; treatment</td>\n",
              "      <td>Jalan Arjuna No.125</td>\n",
              "      <td>OPERATIONAL</td>\n",
              "      <td>point_of_interest,establishment</td>\n",
              "      <td>0.508483</td>\n",
              "      <td>101.424036</td>\n",
              "      <td>GMAPS</td>\n",
              "      <td>I</td>\n",
              "    </tr>\n",
              "    <tr>\n",
              "      <th>8</th>\n",
              "      <td>ChIJ0cJza2mp1TERIuIVdKGyDS0</td>\n",
              "      <td>Vape Pink Store</td>\n",
              "      <td>Jalan Eka Sari Jalan Arjuna No.56, Labuh Baru ...</td>\n",
              "      <td>OPERATIONAL</td>\n",
              "      <td>point_of_interest,store,establishment</td>\n",
              "      <td>0.511309</td>\n",
              "      <td>101.424465</td>\n",
              "      <td>GMAPS</td>\n",
              "      <td>G</td>\n",
              "    </tr>\n",
              "    <tr>\n",
              "      <th>9</th>\n",
              "      <td>ChIJV698pw2p1TERYF4aEyoypYg</td>\n",
              "      <td>Bengkel Las Arjuna</td>\n",
              "      <td>GC6F+GQG, Jalan Arjuna, Labuh Baru Timur</td>\n",
              "      <td>OPERATIONAL</td>\n",
              "      <td>point_of_interest,establishment</td>\n",
              "      <td>0.511312</td>\n",
              "      <td>101.424466</td>\n",
              "      <td>GMAPS</td>\n",
              "      <td>F</td>\n",
              "    </tr>\n",
              "    <tr>\n",
              "      <th>10</th>\n",
              "      <td>ChIJu4SfAUqp1TERd53oZM0d_cw</td>\n",
              "      <td>Twoone Tenun</td>\n",
              "      <td>Jalan Garuda Sakti</td>\n",
              "      <td>OPERATIONAL</td>\n",
              "      <td>point_of_interest,store,establishment</td>\n",
              "      <td>0.510585</td>\n",
              "      <td>101.426052</td>\n",
              "      <td>GMAPS</td>\n",
              "      <td>G</td>\n",
              "    </tr>\n",
              "    <tr>\n",
              "      <th>11</th>\n",
              "      <td>ChIJh1cF01ap1TERq9TsX2Vo3bo</td>\n",
              "      <td>ELLYS FLORIST</td>\n",
              "      <td>Tim, Labuh Baru Timur</td>\n",
              "      <td>OPERATIONAL</td>\n",
              "      <td>point_of_interest,establishment</td>\n",
              "      <td>0.510826</td>\n",
              "      <td>101.425882</td>\n",
              "      <td>GMAPS</td>\n",
              "      <td>C</td>\n",
              "    </tr>\n",
              "    <tr>\n",
              "      <th>12</th>\n",
              "      <td>ChIJeexWilCp1TERdJ1IUOXS5Js</td>\n",
              "      <td>Amal Parlagutan Niaga. CV</td>\n",
              "      <td>Jalan Arjuna No.127, Labuh Baru Timur</td>\n",
              "      <td>OPERATIONAL</td>\n",
              "      <td>point_of_interest,establishment</td>\n",
              "      <td>0.508562</td>\n",
              "      <td>101.423740</td>\n",
              "      <td>GMAPS</td>\n",
              "      <td>H</td>\n",
              "    </tr>\n",
              "    <tr>\n",
              "      <th>13</th>\n",
              "      <td>ChIJ6bK1DBSp1TER1sxntiaMwWo</td>\n",
              "      <td>Senior laundry</td>\n",
              "      <td>GC6F+GPQ, Jalan Arjuna, Labuh Baru Timur</td>\n",
              "      <td>OPERATIONAL</td>\n",
              "      <td>laundry,point_of_interest,establishment</td>\n",
              "      <td>0.511331</td>\n",
              "      <td>101.424346</td>\n",
              "      <td>GMAPS</td>\n",
              "      <td>S</td>\n",
              "    </tr>\n",
              "    <tr>\n",
              "      <th>14</th>\n",
              "      <td>ChIJK99fmFCp1TERc0vElgnIDDg</td>\n",
              "      <td>Vilo Fashion</td>\n",
              "      <td>GC5F+R69, Jl. Waringin II, Labuh Baru Timur</td>\n",
              "      <td>OPERATIONAL</td>\n",
              "      <td>clothing_store,point_of_interest,store,establi...</td>\n",
              "      <td>0.509543</td>\n",
              "      <td>101.423102</td>\n",
              "      <td>GMAPS</td>\n",
              "      <td>G</td>\n",
              "    </tr>\n",
              "    <tr>\n",
              "      <th>15</th>\n",
              "      <td>ChIJvf4TqIqr1TERlLuo4FE-dL4</td>\n",
              "      <td>Toko Rezky Arjuna</td>\n",
              "      <td>Jalan Arjuna 3 No.kelurahan, Labuh Baru Timur</td>\n",
              "      <td>OPERATIONAL</td>\n",
              "      <td>point_of_interest,food,establishment</td>\n",
              "      <td>0.511485</td>\n",
              "      <td>101.424696</td>\n",
              "      <td>GMAPS</td>\n",
              "      <td>G</td>\n",
              "    </tr>\n",
              "    <tr>\n",
              "      <th>16</th>\n",
              "      <td>ChIJv6aNItqp1TERZiPTIgiQN4Y</td>\n",
              "      <td>Jl arjuna gg citarum</td>\n",
              "      <td>GC6F+CCQ, Labuh Baru Timur</td>\n",
              "      <td>OPERATIONAL</td>\n",
              "      <td>point_of_interest,establishment</td>\n",
              "      <td>0.511089</td>\n",
              "      <td>101.423595</td>\n",
              "      <td>GMAPS</td>\n",
              "      <td>R</td>\n",
              "    </tr>\n",
              "    <tr>\n",
              "      <th>17</th>\n",
              "      <td>ChIJt1nYUIep1TERKLwCkbfj-1o</td>\n",
              "      <td>TMH (Takwin Management House)</td>\n",
              "      <td>Jalan Eka Sari No.1, Labuh Baru Timur</td>\n",
              "      <td>OPERATIONAL</td>\n",
              "      <td>point_of_interest,establishment</td>\n",
              "      <td>0.511529</td>\n",
              "      <td>101.423974</td>\n",
              "      <td>GMAPS</td>\n",
              "      <td>J</td>\n",
              "    </tr>\n",
              "    <tr>\n",
              "      <th>18</th>\n",
              "      <td>ChIJZ9taMwCp1TERwZFHj3OvkEo</td>\n",
              "      <td>Kedai kopi ajete</td>\n",
              "      <td>Jalan Tiung Ujung No.42, Labuh Baru Timur</td>\n",
              "      <td>OPERATIONAL</td>\n",
              "      <td>cafe,food,point_of_interest,store,establishment</td>\n",
              "      <td>0.508350</td>\n",
              "      <td>101.427348</td>\n",
              "      <td>GMAPS</td>\n",
              "      <td>I</td>\n",
              "    </tr>\n",
              "    <tr>\n",
              "      <th>19</th>\n",
              "      <td>ChIJCXHwz5ep1TERQlp7gU9dVJg</td>\n",
              "      <td>Perternakan fourman panjaitan</td>\n",
              "      <td>GC5F+CW4, Gang Jeruk, Labuh Baru Timur</td>\n",
              "      <td>OPERATIONAL</td>\n",
              "      <td>store,point_of_interest,establishment</td>\n",
              "      <td>0.508519</td>\n",
              "      <td>101.424817</td>\n",
              "      <td>GMAPS</td>\n",
              "      <td>C</td>\n",
              "    </tr>\n",
              "  </tbody>\n",
              "</table>\n",
              "</div>\n",
              "    <div class=\"colab-df-buttons\">\n",
              "\n",
              "  <div class=\"colab-df-container\">\n",
              "    <button class=\"colab-df-convert\" onclick=\"convertToInteractive('df-f98aace0-d1d6-4fb2-9a25-de5281c1342a')\"\n",
              "            title=\"Convert this dataframe to an interactive table.\"\n",
              "            style=\"display:none;\">\n",
              "\n",
              "  <svg xmlns=\"http://www.w3.org/2000/svg\" height=\"24px\" viewBox=\"0 -960 960 960\">\n",
              "    <path d=\"M120-120v-720h720v720H120Zm60-500h600v-160H180v160Zm220 220h160v-160H400v160Zm0 220h160v-160H400v160ZM180-400h160v-160H180v160Zm440 0h160v-160H620v160ZM180-180h160v-160H180v160Zm440 0h160v-160H620v160Z\"/>\n",
              "  </svg>\n",
              "    </button>\n",
              "\n",
              "  <style>\n",
              "    .colab-df-container {\n",
              "      display:flex;\n",
              "      gap: 12px;\n",
              "    }\n",
              "\n",
              "    .colab-df-convert {\n",
              "      background-color: #E8F0FE;\n",
              "      border: none;\n",
              "      border-radius: 50%;\n",
              "      cursor: pointer;\n",
              "      display: none;\n",
              "      fill: #1967D2;\n",
              "      height: 32px;\n",
              "      padding: 0 0 0 0;\n",
              "      width: 32px;\n",
              "    }\n",
              "\n",
              "    .colab-df-convert:hover {\n",
              "      background-color: #E2EBFA;\n",
              "      box-shadow: 0px 1px 2px rgba(60, 64, 67, 0.3), 0px 1px 3px 1px rgba(60, 64, 67, 0.15);\n",
              "      fill: #174EA6;\n",
              "    }\n",
              "\n",
              "    .colab-df-buttons div {\n",
              "      margin-bottom: 4px;\n",
              "    }\n",
              "\n",
              "    [theme=dark] .colab-df-convert {\n",
              "      background-color: #3B4455;\n",
              "      fill: #D2E3FC;\n",
              "    }\n",
              "\n",
              "    [theme=dark] .colab-df-convert:hover {\n",
              "      background-color: #434B5C;\n",
              "      box-shadow: 0px 1px 3px 1px rgba(0, 0, 0, 0.15);\n",
              "      filter: drop-shadow(0px 1px 2px rgba(0, 0, 0, 0.3));\n",
              "      fill: #FFFFFF;\n",
              "    }\n",
              "  </style>\n",
              "\n",
              "    <script>\n",
              "      const buttonEl =\n",
              "        document.querySelector('#df-f98aace0-d1d6-4fb2-9a25-de5281c1342a button.colab-df-convert');\n",
              "      buttonEl.style.display =\n",
              "        google.colab.kernel.accessAllowed ? 'block' : 'none';\n",
              "\n",
              "      async function convertToInteractive(key) {\n",
              "        const element = document.querySelector('#df-f98aace0-d1d6-4fb2-9a25-de5281c1342a');\n",
              "        const dataTable =\n",
              "          await google.colab.kernel.invokeFunction('convertToInteractive',\n",
              "                                                    [key], {});\n",
              "        if (!dataTable) return;\n",
              "\n",
              "        const docLinkHtml = 'Like what you see? Visit the ' +\n",
              "          '<a target=\"_blank\" href=https://colab.research.google.com/notebooks/data_table.ipynb>data table notebook</a>'\n",
              "          + ' to learn more about interactive tables.';\n",
              "        element.innerHTML = '';\n",
              "        dataTable['output_type'] = 'display_data';\n",
              "        await google.colab.output.renderOutput(dataTable, element);\n",
              "        const docLink = document.createElement('div');\n",
              "        docLink.innerHTML = docLinkHtml;\n",
              "        element.appendChild(docLink);\n",
              "      }\n",
              "    </script>\n",
              "  </div>\n",
              "\n",
              "\n",
              "    <div id=\"df-c2eb8a72-1d36-4e6d-af03-f398ddac000f\">\n",
              "      <button class=\"colab-df-quickchart\" onclick=\"quickchart('df-c2eb8a72-1d36-4e6d-af03-f398ddac000f')\"\n",
              "                title=\"Suggest charts\"\n",
              "                style=\"display:none;\">\n",
              "\n",
              "<svg xmlns=\"http://www.w3.org/2000/svg\" height=\"24px\"viewBox=\"0 0 24 24\"\n",
              "     width=\"24px\">\n",
              "    <g>\n",
              "        <path d=\"M19 3H5c-1.1 0-2 .9-2 2v14c0 1.1.9 2 2 2h14c1.1 0 2-.9 2-2V5c0-1.1-.9-2-2-2zM9 17H7v-7h2v7zm4 0h-2V7h2v10zm4 0h-2v-4h2v4z\"/>\n",
              "    </g>\n",
              "</svg>\n",
              "      </button>\n",
              "\n",
              "<style>\n",
              "  .colab-df-quickchart {\n",
              "      --bg-color: #E8F0FE;\n",
              "      --fill-color: #1967D2;\n",
              "      --hover-bg-color: #E2EBFA;\n",
              "      --hover-fill-color: #174EA6;\n",
              "      --disabled-fill-color: #AAA;\n",
              "      --disabled-bg-color: #DDD;\n",
              "  }\n",
              "\n",
              "  [theme=dark] .colab-df-quickchart {\n",
              "      --bg-color: #3B4455;\n",
              "      --fill-color: #D2E3FC;\n",
              "      --hover-bg-color: #434B5C;\n",
              "      --hover-fill-color: #FFFFFF;\n",
              "      --disabled-bg-color: #3B4455;\n",
              "      --disabled-fill-color: #666;\n",
              "  }\n",
              "\n",
              "  .colab-df-quickchart {\n",
              "    background-color: var(--bg-color);\n",
              "    border: none;\n",
              "    border-radius: 50%;\n",
              "    cursor: pointer;\n",
              "    display: none;\n",
              "    fill: var(--fill-color);\n",
              "    height: 32px;\n",
              "    padding: 0;\n",
              "    width: 32px;\n",
              "  }\n",
              "\n",
              "  .colab-df-quickchart:hover {\n",
              "    background-color: var(--hover-bg-color);\n",
              "    box-shadow: 0 1px 2px rgba(60, 64, 67, 0.3), 0 1px 3px 1px rgba(60, 64, 67, 0.15);\n",
              "    fill: var(--button-hover-fill-color);\n",
              "  }\n",
              "\n",
              "  .colab-df-quickchart-complete:disabled,\n",
              "  .colab-df-quickchart-complete:disabled:hover {\n",
              "    background-color: var(--disabled-bg-color);\n",
              "    fill: var(--disabled-fill-color);\n",
              "    box-shadow: none;\n",
              "  }\n",
              "\n",
              "  .colab-df-spinner {\n",
              "    border: 2px solid var(--fill-color);\n",
              "    border-color: transparent;\n",
              "    border-bottom-color: var(--fill-color);\n",
              "    animation:\n",
              "      spin 1s steps(1) infinite;\n",
              "  }\n",
              "\n",
              "  @keyframes spin {\n",
              "    0% {\n",
              "      border-color: transparent;\n",
              "      border-bottom-color: var(--fill-color);\n",
              "      border-left-color: var(--fill-color);\n",
              "    }\n",
              "    20% {\n",
              "      border-color: transparent;\n",
              "      border-left-color: var(--fill-color);\n",
              "      border-top-color: var(--fill-color);\n",
              "    }\n",
              "    30% {\n",
              "      border-color: transparent;\n",
              "      border-left-color: var(--fill-color);\n",
              "      border-top-color: var(--fill-color);\n",
              "      border-right-color: var(--fill-color);\n",
              "    }\n",
              "    40% {\n",
              "      border-color: transparent;\n",
              "      border-right-color: var(--fill-color);\n",
              "      border-top-color: var(--fill-color);\n",
              "    }\n",
              "    60% {\n",
              "      border-color: transparent;\n",
              "      border-right-color: var(--fill-color);\n",
              "    }\n",
              "    80% {\n",
              "      border-color: transparent;\n",
              "      border-right-color: var(--fill-color);\n",
              "      border-bottom-color: var(--fill-color);\n",
              "    }\n",
              "    90% {\n",
              "      border-color: transparent;\n",
              "      border-bottom-color: var(--fill-color);\n",
              "    }\n",
              "  }\n",
              "</style>\n",
              "\n",
              "      <script>\n",
              "        async function quickchart(key) {\n",
              "          const quickchartButtonEl =\n",
              "            document.querySelector('#' + key + ' button');\n",
              "          quickchartButtonEl.disabled = true;  // To prevent multiple clicks.\n",
              "          quickchartButtonEl.classList.add('colab-df-spinner');\n",
              "          try {\n",
              "            const charts = await google.colab.kernel.invokeFunction(\n",
              "                'suggestCharts', [key], {});\n",
              "          } catch (error) {\n",
              "            console.error('Error during call to suggestCharts:', error);\n",
              "          }\n",
              "          quickchartButtonEl.classList.remove('colab-df-spinner');\n",
              "          quickchartButtonEl.classList.add('colab-df-quickchart-complete');\n",
              "        }\n",
              "        (() => {\n",
              "          let quickchartButtonEl =\n",
              "            document.querySelector('#df-c2eb8a72-1d36-4e6d-af03-f398ddac000f button');\n",
              "          quickchartButtonEl.style.display =\n",
              "            google.colab.kernel.accessAllowed ? 'block' : 'none';\n",
              "        })();\n",
              "      </script>\n",
              "    </div>\n",
              "\n",
              "    </div>\n",
              "  </div>\n"
            ],
            "application/vnd.google.colaboratory.intrinsic+json": {
              "type": "dataframe",
              "variable_name": "df",
              "summary": "{\n  \"name\": \"df\",\n  \"rows\": 43343,\n  \"fields\": [\n    {\n      \"column\": \"placeId\",\n      \"properties\": {\n        \"dtype\": \"string\",\n        \"num_unique_values\": 43343,\n        \"samples\": [\n          \"osm4561823319\",\n          \"ChIJg65fAQOp1TERYD_RTsoPbnc\",\n          \"ChIJnXA7F1qv1TERKnQamLdWBBk\"\n        ],\n        \"semantic_type\": \"\",\n        \"description\": \"\"\n      }\n    },\n    {\n      \"column\": \"placeName\",\n      \"properties\": {\n        \"dtype\": \"string\",\n        \"num_unique_values\": 41579,\n        \"samples\": [\n          \"Rumah along\",\n          \"Face & Body Care Cikpuan\",\n          \"Rusunawa Univeritas Lancang Kuning\"\n        ],\n        \"semantic_type\": \"\",\n        \"description\": \"\"\n      }\n    },\n    {\n      \"column\": \"placeAddress\",\n      \"properties\": {\n        \"dtype\": \"string\",\n        \"num_unique_values\": 33497,\n        \"samples\": [\n          \"Perumahan Nuansa Kualu Permai , Jl. Tuah Karya, Blok B - C No.3, Kualu\",\n          \"F9R9+MF4, Simpang Baru\",\n          \"GC9P+5WP, Harjosari\"\n        ],\n        \"semantic_type\": \"\",\n        \"description\": \"\"\n      }\n    },\n    {\n      \"column\": \"placeBusinessStatus\",\n      \"properties\": {\n        \"dtype\": \"category\",\n        \"num_unique_values\": 2,\n        \"samples\": [\n          \"CLOSED_TEMPORARILY\",\n          \"OPERATIONAL\"\n        ],\n        \"semantic_type\": \"\",\n        \"description\": \"\"\n      }\n    },\n    {\n      \"column\": \"placeTypes\",\n      \"properties\": {\n        \"dtype\": \"category\",\n        \"num_unique_values\": 518,\n        \"samples\": [\n          \"lawyer,accounting,finance,point_of_interest,establishment\",\n          \"book_store,library,store,point_of_interest,establishment\"\n        ],\n        \"semantic_type\": \"\",\n        \"description\": \"\"\n      }\n    },\n    {\n      \"column\": \"placeLatitude\",\n      \"properties\": {\n        \"dtype\": \"number\",\n        \"std\": 0.03978019225045535,\n        \"min\": 0.4205126,\n        \"max\": 0.6804159,\n        \"num_unique_values\": 40848,\n        \"samples\": [\n          0.4894532,\n          0.4443\n        ],\n        \"semantic_type\": \"\",\n        \"description\": \"\"\n      }\n    },\n    {\n      \"column\": \"placeLongitude\",\n      \"properties\": {\n        \"dtype\": \"number\",\n        \"std\": 0.03897632153870577,\n        \"min\": 101.3325272,\n        \"max\": 101.599236,\n        \"num_unique_values\": 40776,\n        \"samples\": [\n          101.4436653,\n          101.4068151\n        ],\n        \"semantic_type\": \"\",\n        \"description\": \"\"\n      }\n    },\n    {\n      \"column\": \"source\",\n      \"properties\": {\n        \"dtype\": \"category\",\n        \"num_unique_values\": 2,\n        \"samples\": [\n          \"OSM\",\n          \"GMAPS\"\n        ],\n        \"semantic_type\": \"\",\n        \"description\": \"\"\n      }\n    },\n    {\n      \"column\": \"predicted_label\",\n      \"properties\": {\n        \"dtype\": \"category\",\n        \"num_unique_values\": 21,\n        \"samples\": [\n          \"J\",\n          \"E\"\n        ],\n        \"semantic_type\": \"\",\n        \"description\": \"\"\n      }\n    }\n  ]\n}"
            }
          },
          "metadata": {},
          "execution_count": 38
        }
      ]
    },
    {
      "cell_type": "code",
      "source": [
        "df.info()"
      ],
      "metadata": {
        "id": "aGBMfr54qPQE",
        "colab": {
          "base_uri": "https://localhost:8080/"
        },
        "outputId": "076144a8-a1fa-43ac-f13a-a314c0a73b03"
      },
      "execution_count": 39,
      "outputs": [
        {
          "output_type": "stream",
          "name": "stdout",
          "text": [
            "<class 'pandas.core.frame.DataFrame'>\n",
            "RangeIndex: 43343 entries, 0 to 43342\n",
            "Data columns (total 9 columns):\n",
            " #   Column               Non-Null Count  Dtype  \n",
            "---  ------               --------------  -----  \n",
            " 0   placeId              43343 non-null  object \n",
            " 1   placeName            43343 non-null  object \n",
            " 2   placeAddress         41352 non-null  object \n",
            " 3   placeBusinessStatus  43343 non-null  object \n",
            " 4   placeTypes           43343 non-null  object \n",
            " 5   placeLatitude        43343 non-null  float64\n",
            " 6   placeLongitude       43343 non-null  float64\n",
            " 7   source               43343 non-null  object \n",
            " 8   predicted_label      43343 non-null  object \n",
            "dtypes: float64(2), object(7)\n",
            "memory usage: 3.0+ MB\n"
          ]
        }
      ]
    },
    {
      "cell_type": "markdown",
      "source": [
        "### NN"
      ],
      "metadata": {
        "id": "b94fdbSRDXUE"
      }
    },
    {
      "cell_type": "code",
      "source": [
        "model_nn = load_model('/content/drive/MyDrive/BPS_PROJECT/MODEL/klbi_classification/klbi_class_nn.h5')"
      ],
      "metadata": {
        "id": "VdSK3aqmDXUG",
        "colab": {
          "base_uri": "https://localhost:8080/"
        },
        "outputId": "d8ce7280-8c6f-4318-fb95-c29cf7d7c525"
      },
      "execution_count": 40,
      "outputs": [
        {
          "output_type": "stream",
          "name": "stderr",
          "text": [
            "WARNING:absl:Compiled the loaded model, but the compiled metrics have yet to be built. `model.compile_metrics` will be empty until you train or evaluate the model.\n"
          ]
        }
      ]
    },
    {
      "cell_type": "code",
      "source": [
        "with open(\"/content/drive/MyDrive/BPS_PROJECT/MODEL/klbi_classification/tfidf_vectorizer_cnn.pkl\", \"rb\") as f:\n",
        "    tfidf = pickle.load(f)"
      ],
      "metadata": {
        "id": "ojohrkf3DXUH"
      },
      "execution_count": 41,
      "outputs": []
    },
    {
      "cell_type": "code",
      "source": [
        "X_new = tfidf.transform(df['placeName'] + df['placeTypes'])\n",
        "X_new_float = X_new.toarray().astype('float32')"
      ],
      "metadata": {
        "id": "u0UsQgWnDXUI"
      },
      "execution_count": 42,
      "outputs": []
    },
    {
      "cell_type": "code",
      "source": [
        "y_new_probs = model_nn.predict(X_new_float)\n",
        "y_new_pred = y_new_probs.argmax(axis=1)"
      ],
      "metadata": {
        "id": "HmTE-qeaDXUI",
        "colab": {
          "base_uri": "https://localhost:8080/"
        },
        "outputId": "2ffd990f-659f-4cf0-dc30-633bbb65e2cd"
      },
      "execution_count": 43,
      "outputs": [
        {
          "output_type": "stream",
          "name": "stdout",
          "text": [
            "\u001b[1m1355/1355\u001b[0m \u001b[32m━━━━━━━━━━━━━━━━━━━━\u001b[0m\u001b[37m\u001b[0m \u001b[1m2s\u001b[0m 2ms/step\n"
          ]
        }
      ]
    },
    {
      "cell_type": "code",
      "source": [
        "df['predicted_label'] = le.inverse_transform(y_new_pred)"
      ],
      "metadata": {
        "id": "-dLXTXaWDXUJ"
      },
      "execution_count": 44,
      "outputs": []
    },
    {
      "cell_type": "code",
      "source": [
        "df.to_excel(\"//content/drive/MyDrive/BPS_PROJECT/PROCESSED/klbi_classification/PREDICTED_ALL_82ACC_nn.xlsx\", index = False)"
      ],
      "metadata": {
        "id": "uAaLwdAFDXUJ"
      },
      "execution_count": 45,
      "outputs": []
    },
    {
      "cell_type": "code",
      "source": [
        "df.head(20)"
      ],
      "metadata": {
        "id": "8yNFiLPiDXUK",
        "colab": {
          "base_uri": "https://localhost:8080/",
          "height": 1000
        },
        "outputId": "d943128f-2e5f-4387-e18a-d1ed2a840976"
      },
      "execution_count": 46,
      "outputs": [
        {
          "output_type": "execute_result",
          "data": {
            "text/plain": [
              "                        placeId                                     placeName  \\\n",
              "0   ChIJG0i9CEap1TERq1G-K3lxuus                                  Graha Renova   \n",
              "1   ChIJI0kxnE-p1TERVzzCaVLc_-A                          Putri Jaya Abadi. CV   \n",
              "2   ChIJ75xs3BSp1TERjUD6T2Hr7MU                             Warung Ojo Forget   \n",
              "3   ChIJn_QB002p1TERjXQjpmobcjE                      Batam Central Electronik   \n",
              "4   ChIJWxkAUdOp1TERTPhwfB11yBc                     BOS (Bintang Oto Service)   \n",
              "5   ChIJGZ6fZWKp1TER1-ehi3TTs-M                                     Arjuna 51   \n",
              "6   ChIJ7z8NCnmp1TERBB6h6lgxpGk                     Villa Garuda Mas C3 Mawar   \n",
              "7   ChIJuwVlnjir1TERIrSo4VY6KJk  Laundry Sepatu Hotel Shoes Clean & treatment   \n",
              "8   ChIJ0cJza2mp1TERIuIVdKGyDS0                               Vape Pink Store   \n",
              "9   ChIJV698pw2p1TERYF4aEyoypYg                            Bengkel Las Arjuna   \n",
              "10  ChIJu4SfAUqp1TERd53oZM0d_cw                                  Twoone Tenun   \n",
              "11  ChIJh1cF01ap1TERq9TsX2Vo3bo                                 ELLYS FLORIST   \n",
              "12  ChIJeexWilCp1TERdJ1IUOXS5Js                     Amal Parlagutan Niaga. CV   \n",
              "13  ChIJ6bK1DBSp1TER1sxntiaMwWo                                Senior laundry   \n",
              "14  ChIJK99fmFCp1TERc0vElgnIDDg                                  Vilo Fashion   \n",
              "15  ChIJvf4TqIqr1TERlLuo4FE-dL4                             Toko Rezky Arjuna   \n",
              "16  ChIJv6aNItqp1TERZiPTIgiQN4Y                          Jl arjuna gg citarum   \n",
              "17  ChIJt1nYUIep1TERKLwCkbfj-1o                 TMH (Takwin Management House)   \n",
              "18  ChIJZ9taMwCp1TERwZFHj3OvkEo                              Kedai kopi ajete   \n",
              "19  ChIJCXHwz5ep1TERQlp7gU9dVJg                 Perternakan fourman panjaitan   \n",
              "\n",
              "                                         placeAddress placeBusinessStatus  \\\n",
              "0                          GC2C+GP3, Tengkerang Barat         OPERATIONAL   \n",
              "1           Jalan Musyawarah No.184, Labuh Baru Timur         OPERATIONAL   \n",
              "2     GC3G+GQ4, Jalan Soekarno-Hatta, Sidomulyo Timur         OPERATIONAL   \n",
              "3   Komplek Taman Anggrek Blok A4-6, Jl. Tuanku Ta...         OPERATIONAL   \n",
              "4                      Jalan Ikhlas, Labuh Baru Timur         OPERATIONAL   \n",
              "5                          GC6F+7GC, Labuh Baru Timur         OPERATIONAL   \n",
              "6   Villa, Jalan Garuda Mas Mawar No.C3, Labuh Bar...         OPERATIONAL   \n",
              "7                                 Jalan Arjuna No.125         OPERATIONAL   \n",
              "8   Jalan Eka Sari Jalan Arjuna No.56, Labuh Baru ...         OPERATIONAL   \n",
              "9            GC6F+GQG, Jalan Arjuna, Labuh Baru Timur         OPERATIONAL   \n",
              "10                                 Jalan Garuda Sakti         OPERATIONAL   \n",
              "11                              Tim, Labuh Baru Timur         OPERATIONAL   \n",
              "12              Jalan Arjuna No.127, Labuh Baru Timur         OPERATIONAL   \n",
              "13           GC6F+GPQ, Jalan Arjuna, Labuh Baru Timur         OPERATIONAL   \n",
              "14        GC5F+R69, Jl. Waringin II, Labuh Baru Timur         OPERATIONAL   \n",
              "15      Jalan Arjuna 3 No.kelurahan, Labuh Baru Timur         OPERATIONAL   \n",
              "16                         GC6F+CCQ, Labuh Baru Timur         OPERATIONAL   \n",
              "17              Jalan Eka Sari No.1, Labuh Baru Timur         OPERATIONAL   \n",
              "18          Jalan Tiung Ujung No.42, Labuh Baru Timur         OPERATIONAL   \n",
              "19             GC5F+CW4, Gang Jeruk, Labuh Baru Timur         OPERATIONAL   \n",
              "\n",
              "                                           placeTypes  placeLatitude  \\\n",
              "0                     point_of_interest,establishment       0.501254   \n",
              "1   furniture_store,home_goods_store,point_of_inte...       0.503969   \n",
              "2     restaurant,point_of_interest,food,establishment       0.503770   \n",
              "3   electronics_store,point_of_interest,store,esta...       0.503697   \n",
              "4          car_repair,point_of_interest,establishment       0.505233   \n",
              "5             lodging,point_of_interest,establishment       0.510688   \n",
              "6                     point_of_interest,establishment       0.510855   \n",
              "7                     point_of_interest,establishment       0.508483   \n",
              "8               point_of_interest,store,establishment       0.511309   \n",
              "9                     point_of_interest,establishment       0.511312   \n",
              "10              point_of_interest,store,establishment       0.510585   \n",
              "11                    point_of_interest,establishment       0.510826   \n",
              "12                    point_of_interest,establishment       0.508562   \n",
              "13            laundry,point_of_interest,establishment       0.511331   \n",
              "14  clothing_store,point_of_interest,store,establi...       0.509543   \n",
              "15               point_of_interest,food,establishment       0.511485   \n",
              "16                    point_of_interest,establishment       0.511089   \n",
              "17                    point_of_interest,establishment       0.511529   \n",
              "18    cafe,food,point_of_interest,store,establishment       0.508350   \n",
              "19              store,point_of_interest,establishment       0.508519   \n",
              "\n",
              "    placeLongitude source predicted_label  \n",
              "0       101.421803  GMAPS               I  \n",
              "1       101.423609  GMAPS               G  \n",
              "2       101.426964  GMAPS               T  \n",
              "3       101.428838  GMAPS               G  \n",
              "4       101.430264  GMAPS               E  \n",
              "5       101.423754  GMAPS               C  \n",
              "6       101.425538  GMAPS               L  \n",
              "7       101.424036  GMAPS               I  \n",
              "8       101.424465  GMAPS               G  \n",
              "9       101.424466  GMAPS               F  \n",
              "10      101.426052  GMAPS               G  \n",
              "11      101.425882  GMAPS               C  \n",
              "12      101.423740  GMAPS               H  \n",
              "13      101.424346  GMAPS               S  \n",
              "14      101.423102  GMAPS               G  \n",
              "15      101.424696  GMAPS               G  \n",
              "16      101.423595  GMAPS               R  \n",
              "17      101.423974  GMAPS               J  \n",
              "18      101.427348  GMAPS               I  \n",
              "19      101.424817  GMAPS               C  "
            ],
            "text/html": [
              "\n",
              "  <div id=\"df-26cad1f8-00e1-4911-9638-ade01aaf6cad\" class=\"colab-df-container\">\n",
              "    <div>\n",
              "<style scoped>\n",
              "    .dataframe tbody tr th:only-of-type {\n",
              "        vertical-align: middle;\n",
              "    }\n",
              "\n",
              "    .dataframe tbody tr th {\n",
              "        vertical-align: top;\n",
              "    }\n",
              "\n",
              "    .dataframe thead th {\n",
              "        text-align: right;\n",
              "    }\n",
              "</style>\n",
              "<table border=\"1\" class=\"dataframe\">\n",
              "  <thead>\n",
              "    <tr style=\"text-align: right;\">\n",
              "      <th></th>\n",
              "      <th>placeId</th>\n",
              "      <th>placeName</th>\n",
              "      <th>placeAddress</th>\n",
              "      <th>placeBusinessStatus</th>\n",
              "      <th>placeTypes</th>\n",
              "      <th>placeLatitude</th>\n",
              "      <th>placeLongitude</th>\n",
              "      <th>source</th>\n",
              "      <th>predicted_label</th>\n",
              "    </tr>\n",
              "  </thead>\n",
              "  <tbody>\n",
              "    <tr>\n",
              "      <th>0</th>\n",
              "      <td>ChIJG0i9CEap1TERq1G-K3lxuus</td>\n",
              "      <td>Graha Renova</td>\n",
              "      <td>GC2C+GP3, Tengkerang Barat</td>\n",
              "      <td>OPERATIONAL</td>\n",
              "      <td>point_of_interest,establishment</td>\n",
              "      <td>0.501254</td>\n",
              "      <td>101.421803</td>\n",
              "      <td>GMAPS</td>\n",
              "      <td>I</td>\n",
              "    </tr>\n",
              "    <tr>\n",
              "      <th>1</th>\n",
              "      <td>ChIJI0kxnE-p1TERVzzCaVLc_-A</td>\n",
              "      <td>Putri Jaya Abadi. CV</td>\n",
              "      <td>Jalan Musyawarah No.184, Labuh Baru Timur</td>\n",
              "      <td>OPERATIONAL</td>\n",
              "      <td>furniture_store,home_goods_store,point_of_inte...</td>\n",
              "      <td>0.503969</td>\n",
              "      <td>101.423609</td>\n",
              "      <td>GMAPS</td>\n",
              "      <td>G</td>\n",
              "    </tr>\n",
              "    <tr>\n",
              "      <th>2</th>\n",
              "      <td>ChIJ75xs3BSp1TERjUD6T2Hr7MU</td>\n",
              "      <td>Warung Ojo Forget</td>\n",
              "      <td>GC3G+GQ4, Jalan Soekarno-Hatta, Sidomulyo Timur</td>\n",
              "      <td>OPERATIONAL</td>\n",
              "      <td>restaurant,point_of_interest,food,establishment</td>\n",
              "      <td>0.503770</td>\n",
              "      <td>101.426964</td>\n",
              "      <td>GMAPS</td>\n",
              "      <td>T</td>\n",
              "    </tr>\n",
              "    <tr>\n",
              "      <th>3</th>\n",
              "      <td>ChIJn_QB002p1TERjXQjpmobcjE</td>\n",
              "      <td>Batam Central Electronik</td>\n",
              "      <td>Komplek Taman Anggrek Blok A4-6, Jl. Tuanku Ta...</td>\n",
              "      <td>OPERATIONAL</td>\n",
              "      <td>electronics_store,point_of_interest,store,esta...</td>\n",
              "      <td>0.503697</td>\n",
              "      <td>101.428838</td>\n",
              "      <td>GMAPS</td>\n",
              "      <td>G</td>\n",
              "    </tr>\n",
              "    <tr>\n",
              "      <th>4</th>\n",
              "      <td>ChIJWxkAUdOp1TERTPhwfB11yBc</td>\n",
              "      <td>BOS (Bintang Oto Service)</td>\n",
              "      <td>Jalan Ikhlas, Labuh Baru Timur</td>\n",
              "      <td>OPERATIONAL</td>\n",
              "      <td>car_repair,point_of_interest,establishment</td>\n",
              "      <td>0.505233</td>\n",
              "      <td>101.430264</td>\n",
              "      <td>GMAPS</td>\n",
              "      <td>E</td>\n",
              "    </tr>\n",
              "    <tr>\n",
              "      <th>5</th>\n",
              "      <td>ChIJGZ6fZWKp1TER1-ehi3TTs-M</td>\n",
              "      <td>Arjuna 51</td>\n",
              "      <td>GC6F+7GC, Labuh Baru Timur</td>\n",
              "      <td>OPERATIONAL</td>\n",
              "      <td>lodging,point_of_interest,establishment</td>\n",
              "      <td>0.510688</td>\n",
              "      <td>101.423754</td>\n",
              "      <td>GMAPS</td>\n",
              "      <td>C</td>\n",
              "    </tr>\n",
              "    <tr>\n",
              "      <th>6</th>\n",
              "      <td>ChIJ7z8NCnmp1TERBB6h6lgxpGk</td>\n",
              "      <td>Villa Garuda Mas C3 Mawar</td>\n",
              "      <td>Villa, Jalan Garuda Mas Mawar No.C3, Labuh Bar...</td>\n",
              "      <td>OPERATIONAL</td>\n",
              "      <td>point_of_interest,establishment</td>\n",
              "      <td>0.510855</td>\n",
              "      <td>101.425538</td>\n",
              "      <td>GMAPS</td>\n",
              "      <td>L</td>\n",
              "    </tr>\n",
              "    <tr>\n",
              "      <th>7</th>\n",
              "      <td>ChIJuwVlnjir1TERIrSo4VY6KJk</td>\n",
              "      <td>Laundry Sepatu Hotel Shoes Clean &amp; treatment</td>\n",
              "      <td>Jalan Arjuna No.125</td>\n",
              "      <td>OPERATIONAL</td>\n",
              "      <td>point_of_interest,establishment</td>\n",
              "      <td>0.508483</td>\n",
              "      <td>101.424036</td>\n",
              "      <td>GMAPS</td>\n",
              "      <td>I</td>\n",
              "    </tr>\n",
              "    <tr>\n",
              "      <th>8</th>\n",
              "      <td>ChIJ0cJza2mp1TERIuIVdKGyDS0</td>\n",
              "      <td>Vape Pink Store</td>\n",
              "      <td>Jalan Eka Sari Jalan Arjuna No.56, Labuh Baru ...</td>\n",
              "      <td>OPERATIONAL</td>\n",
              "      <td>point_of_interest,store,establishment</td>\n",
              "      <td>0.511309</td>\n",
              "      <td>101.424465</td>\n",
              "      <td>GMAPS</td>\n",
              "      <td>G</td>\n",
              "    </tr>\n",
              "    <tr>\n",
              "      <th>9</th>\n",
              "      <td>ChIJV698pw2p1TERYF4aEyoypYg</td>\n",
              "      <td>Bengkel Las Arjuna</td>\n",
              "      <td>GC6F+GQG, Jalan Arjuna, Labuh Baru Timur</td>\n",
              "      <td>OPERATIONAL</td>\n",
              "      <td>point_of_interest,establishment</td>\n",
              "      <td>0.511312</td>\n",
              "      <td>101.424466</td>\n",
              "      <td>GMAPS</td>\n",
              "      <td>F</td>\n",
              "    </tr>\n",
              "    <tr>\n",
              "      <th>10</th>\n",
              "      <td>ChIJu4SfAUqp1TERd53oZM0d_cw</td>\n",
              "      <td>Twoone Tenun</td>\n",
              "      <td>Jalan Garuda Sakti</td>\n",
              "      <td>OPERATIONAL</td>\n",
              "      <td>point_of_interest,store,establishment</td>\n",
              "      <td>0.510585</td>\n",
              "      <td>101.426052</td>\n",
              "      <td>GMAPS</td>\n",
              "      <td>G</td>\n",
              "    </tr>\n",
              "    <tr>\n",
              "      <th>11</th>\n",
              "      <td>ChIJh1cF01ap1TERq9TsX2Vo3bo</td>\n",
              "      <td>ELLYS FLORIST</td>\n",
              "      <td>Tim, Labuh Baru Timur</td>\n",
              "      <td>OPERATIONAL</td>\n",
              "      <td>point_of_interest,establishment</td>\n",
              "      <td>0.510826</td>\n",
              "      <td>101.425882</td>\n",
              "      <td>GMAPS</td>\n",
              "      <td>C</td>\n",
              "    </tr>\n",
              "    <tr>\n",
              "      <th>12</th>\n",
              "      <td>ChIJeexWilCp1TERdJ1IUOXS5Js</td>\n",
              "      <td>Amal Parlagutan Niaga. CV</td>\n",
              "      <td>Jalan Arjuna No.127, Labuh Baru Timur</td>\n",
              "      <td>OPERATIONAL</td>\n",
              "      <td>point_of_interest,establishment</td>\n",
              "      <td>0.508562</td>\n",
              "      <td>101.423740</td>\n",
              "      <td>GMAPS</td>\n",
              "      <td>H</td>\n",
              "    </tr>\n",
              "    <tr>\n",
              "      <th>13</th>\n",
              "      <td>ChIJ6bK1DBSp1TER1sxntiaMwWo</td>\n",
              "      <td>Senior laundry</td>\n",
              "      <td>GC6F+GPQ, Jalan Arjuna, Labuh Baru Timur</td>\n",
              "      <td>OPERATIONAL</td>\n",
              "      <td>laundry,point_of_interest,establishment</td>\n",
              "      <td>0.511331</td>\n",
              "      <td>101.424346</td>\n",
              "      <td>GMAPS</td>\n",
              "      <td>S</td>\n",
              "    </tr>\n",
              "    <tr>\n",
              "      <th>14</th>\n",
              "      <td>ChIJK99fmFCp1TERc0vElgnIDDg</td>\n",
              "      <td>Vilo Fashion</td>\n",
              "      <td>GC5F+R69, Jl. Waringin II, Labuh Baru Timur</td>\n",
              "      <td>OPERATIONAL</td>\n",
              "      <td>clothing_store,point_of_interest,store,establi...</td>\n",
              "      <td>0.509543</td>\n",
              "      <td>101.423102</td>\n",
              "      <td>GMAPS</td>\n",
              "      <td>G</td>\n",
              "    </tr>\n",
              "    <tr>\n",
              "      <th>15</th>\n",
              "      <td>ChIJvf4TqIqr1TERlLuo4FE-dL4</td>\n",
              "      <td>Toko Rezky Arjuna</td>\n",
              "      <td>Jalan Arjuna 3 No.kelurahan, Labuh Baru Timur</td>\n",
              "      <td>OPERATIONAL</td>\n",
              "      <td>point_of_interest,food,establishment</td>\n",
              "      <td>0.511485</td>\n",
              "      <td>101.424696</td>\n",
              "      <td>GMAPS</td>\n",
              "      <td>G</td>\n",
              "    </tr>\n",
              "    <tr>\n",
              "      <th>16</th>\n",
              "      <td>ChIJv6aNItqp1TERZiPTIgiQN4Y</td>\n",
              "      <td>Jl arjuna gg citarum</td>\n",
              "      <td>GC6F+CCQ, Labuh Baru Timur</td>\n",
              "      <td>OPERATIONAL</td>\n",
              "      <td>point_of_interest,establishment</td>\n",
              "      <td>0.511089</td>\n",
              "      <td>101.423595</td>\n",
              "      <td>GMAPS</td>\n",
              "      <td>R</td>\n",
              "    </tr>\n",
              "    <tr>\n",
              "      <th>17</th>\n",
              "      <td>ChIJt1nYUIep1TERKLwCkbfj-1o</td>\n",
              "      <td>TMH (Takwin Management House)</td>\n",
              "      <td>Jalan Eka Sari No.1, Labuh Baru Timur</td>\n",
              "      <td>OPERATIONAL</td>\n",
              "      <td>point_of_interest,establishment</td>\n",
              "      <td>0.511529</td>\n",
              "      <td>101.423974</td>\n",
              "      <td>GMAPS</td>\n",
              "      <td>J</td>\n",
              "    </tr>\n",
              "    <tr>\n",
              "      <th>18</th>\n",
              "      <td>ChIJZ9taMwCp1TERwZFHj3OvkEo</td>\n",
              "      <td>Kedai kopi ajete</td>\n",
              "      <td>Jalan Tiung Ujung No.42, Labuh Baru Timur</td>\n",
              "      <td>OPERATIONAL</td>\n",
              "      <td>cafe,food,point_of_interest,store,establishment</td>\n",
              "      <td>0.508350</td>\n",
              "      <td>101.427348</td>\n",
              "      <td>GMAPS</td>\n",
              "      <td>I</td>\n",
              "    </tr>\n",
              "    <tr>\n",
              "      <th>19</th>\n",
              "      <td>ChIJCXHwz5ep1TERQlp7gU9dVJg</td>\n",
              "      <td>Perternakan fourman panjaitan</td>\n",
              "      <td>GC5F+CW4, Gang Jeruk, Labuh Baru Timur</td>\n",
              "      <td>OPERATIONAL</td>\n",
              "      <td>store,point_of_interest,establishment</td>\n",
              "      <td>0.508519</td>\n",
              "      <td>101.424817</td>\n",
              "      <td>GMAPS</td>\n",
              "      <td>C</td>\n",
              "    </tr>\n",
              "  </tbody>\n",
              "</table>\n",
              "</div>\n",
              "    <div class=\"colab-df-buttons\">\n",
              "\n",
              "  <div class=\"colab-df-container\">\n",
              "    <button class=\"colab-df-convert\" onclick=\"convertToInteractive('df-26cad1f8-00e1-4911-9638-ade01aaf6cad')\"\n",
              "            title=\"Convert this dataframe to an interactive table.\"\n",
              "            style=\"display:none;\">\n",
              "\n",
              "  <svg xmlns=\"http://www.w3.org/2000/svg\" height=\"24px\" viewBox=\"0 -960 960 960\">\n",
              "    <path d=\"M120-120v-720h720v720H120Zm60-500h600v-160H180v160Zm220 220h160v-160H400v160Zm0 220h160v-160H400v160ZM180-400h160v-160H180v160Zm440 0h160v-160H620v160ZM180-180h160v-160H180v160Zm440 0h160v-160H620v160Z\"/>\n",
              "  </svg>\n",
              "    </button>\n",
              "\n",
              "  <style>\n",
              "    .colab-df-container {\n",
              "      display:flex;\n",
              "      gap: 12px;\n",
              "    }\n",
              "\n",
              "    .colab-df-convert {\n",
              "      background-color: #E8F0FE;\n",
              "      border: none;\n",
              "      border-radius: 50%;\n",
              "      cursor: pointer;\n",
              "      display: none;\n",
              "      fill: #1967D2;\n",
              "      height: 32px;\n",
              "      padding: 0 0 0 0;\n",
              "      width: 32px;\n",
              "    }\n",
              "\n",
              "    .colab-df-convert:hover {\n",
              "      background-color: #E2EBFA;\n",
              "      box-shadow: 0px 1px 2px rgba(60, 64, 67, 0.3), 0px 1px 3px 1px rgba(60, 64, 67, 0.15);\n",
              "      fill: #174EA6;\n",
              "    }\n",
              "\n",
              "    .colab-df-buttons div {\n",
              "      margin-bottom: 4px;\n",
              "    }\n",
              "\n",
              "    [theme=dark] .colab-df-convert {\n",
              "      background-color: #3B4455;\n",
              "      fill: #D2E3FC;\n",
              "    }\n",
              "\n",
              "    [theme=dark] .colab-df-convert:hover {\n",
              "      background-color: #434B5C;\n",
              "      box-shadow: 0px 1px 3px 1px rgba(0, 0, 0, 0.15);\n",
              "      filter: drop-shadow(0px 1px 2px rgba(0, 0, 0, 0.3));\n",
              "      fill: #FFFFFF;\n",
              "    }\n",
              "  </style>\n",
              "\n",
              "    <script>\n",
              "      const buttonEl =\n",
              "        document.querySelector('#df-26cad1f8-00e1-4911-9638-ade01aaf6cad button.colab-df-convert');\n",
              "      buttonEl.style.display =\n",
              "        google.colab.kernel.accessAllowed ? 'block' : 'none';\n",
              "\n",
              "      async function convertToInteractive(key) {\n",
              "        const element = document.querySelector('#df-26cad1f8-00e1-4911-9638-ade01aaf6cad');\n",
              "        const dataTable =\n",
              "          await google.colab.kernel.invokeFunction('convertToInteractive',\n",
              "                                                    [key], {});\n",
              "        if (!dataTable) return;\n",
              "\n",
              "        const docLinkHtml = 'Like what you see? Visit the ' +\n",
              "          '<a target=\"_blank\" href=https://colab.research.google.com/notebooks/data_table.ipynb>data table notebook</a>'\n",
              "          + ' to learn more about interactive tables.';\n",
              "        element.innerHTML = '';\n",
              "        dataTable['output_type'] = 'display_data';\n",
              "        await google.colab.output.renderOutput(dataTable, element);\n",
              "        const docLink = document.createElement('div');\n",
              "        docLink.innerHTML = docLinkHtml;\n",
              "        element.appendChild(docLink);\n",
              "      }\n",
              "    </script>\n",
              "  </div>\n",
              "\n",
              "\n",
              "    <div id=\"df-57632e50-e0c8-404b-88a5-2bd23fc979fc\">\n",
              "      <button class=\"colab-df-quickchart\" onclick=\"quickchart('df-57632e50-e0c8-404b-88a5-2bd23fc979fc')\"\n",
              "                title=\"Suggest charts\"\n",
              "                style=\"display:none;\">\n",
              "\n",
              "<svg xmlns=\"http://www.w3.org/2000/svg\" height=\"24px\"viewBox=\"0 0 24 24\"\n",
              "     width=\"24px\">\n",
              "    <g>\n",
              "        <path d=\"M19 3H5c-1.1 0-2 .9-2 2v14c0 1.1.9 2 2 2h14c1.1 0 2-.9 2-2V5c0-1.1-.9-2-2-2zM9 17H7v-7h2v7zm4 0h-2V7h2v10zm4 0h-2v-4h2v4z\"/>\n",
              "    </g>\n",
              "</svg>\n",
              "      </button>\n",
              "\n",
              "<style>\n",
              "  .colab-df-quickchart {\n",
              "      --bg-color: #E8F0FE;\n",
              "      --fill-color: #1967D2;\n",
              "      --hover-bg-color: #E2EBFA;\n",
              "      --hover-fill-color: #174EA6;\n",
              "      --disabled-fill-color: #AAA;\n",
              "      --disabled-bg-color: #DDD;\n",
              "  }\n",
              "\n",
              "  [theme=dark] .colab-df-quickchart {\n",
              "      --bg-color: #3B4455;\n",
              "      --fill-color: #D2E3FC;\n",
              "      --hover-bg-color: #434B5C;\n",
              "      --hover-fill-color: #FFFFFF;\n",
              "      --disabled-bg-color: #3B4455;\n",
              "      --disabled-fill-color: #666;\n",
              "  }\n",
              "\n",
              "  .colab-df-quickchart {\n",
              "    background-color: var(--bg-color);\n",
              "    border: none;\n",
              "    border-radius: 50%;\n",
              "    cursor: pointer;\n",
              "    display: none;\n",
              "    fill: var(--fill-color);\n",
              "    height: 32px;\n",
              "    padding: 0;\n",
              "    width: 32px;\n",
              "  }\n",
              "\n",
              "  .colab-df-quickchart:hover {\n",
              "    background-color: var(--hover-bg-color);\n",
              "    box-shadow: 0 1px 2px rgba(60, 64, 67, 0.3), 0 1px 3px 1px rgba(60, 64, 67, 0.15);\n",
              "    fill: var(--button-hover-fill-color);\n",
              "  }\n",
              "\n",
              "  .colab-df-quickchart-complete:disabled,\n",
              "  .colab-df-quickchart-complete:disabled:hover {\n",
              "    background-color: var(--disabled-bg-color);\n",
              "    fill: var(--disabled-fill-color);\n",
              "    box-shadow: none;\n",
              "  }\n",
              "\n",
              "  .colab-df-spinner {\n",
              "    border: 2px solid var(--fill-color);\n",
              "    border-color: transparent;\n",
              "    border-bottom-color: var(--fill-color);\n",
              "    animation:\n",
              "      spin 1s steps(1) infinite;\n",
              "  }\n",
              "\n",
              "  @keyframes spin {\n",
              "    0% {\n",
              "      border-color: transparent;\n",
              "      border-bottom-color: var(--fill-color);\n",
              "      border-left-color: var(--fill-color);\n",
              "    }\n",
              "    20% {\n",
              "      border-color: transparent;\n",
              "      border-left-color: var(--fill-color);\n",
              "      border-top-color: var(--fill-color);\n",
              "    }\n",
              "    30% {\n",
              "      border-color: transparent;\n",
              "      border-left-color: var(--fill-color);\n",
              "      border-top-color: var(--fill-color);\n",
              "      border-right-color: var(--fill-color);\n",
              "    }\n",
              "    40% {\n",
              "      border-color: transparent;\n",
              "      border-right-color: var(--fill-color);\n",
              "      border-top-color: var(--fill-color);\n",
              "    }\n",
              "    60% {\n",
              "      border-color: transparent;\n",
              "      border-right-color: var(--fill-color);\n",
              "    }\n",
              "    80% {\n",
              "      border-color: transparent;\n",
              "      border-right-color: var(--fill-color);\n",
              "      border-bottom-color: var(--fill-color);\n",
              "    }\n",
              "    90% {\n",
              "      border-color: transparent;\n",
              "      border-bottom-color: var(--fill-color);\n",
              "    }\n",
              "  }\n",
              "</style>\n",
              "\n",
              "      <script>\n",
              "        async function quickchart(key) {\n",
              "          const quickchartButtonEl =\n",
              "            document.querySelector('#' + key + ' button');\n",
              "          quickchartButtonEl.disabled = true;  // To prevent multiple clicks.\n",
              "          quickchartButtonEl.classList.add('colab-df-spinner');\n",
              "          try {\n",
              "            const charts = await google.colab.kernel.invokeFunction(\n",
              "                'suggestCharts', [key], {});\n",
              "          } catch (error) {\n",
              "            console.error('Error during call to suggestCharts:', error);\n",
              "          }\n",
              "          quickchartButtonEl.classList.remove('colab-df-spinner');\n",
              "          quickchartButtonEl.classList.add('colab-df-quickchart-complete');\n",
              "        }\n",
              "        (() => {\n",
              "          let quickchartButtonEl =\n",
              "            document.querySelector('#df-57632e50-e0c8-404b-88a5-2bd23fc979fc button');\n",
              "          quickchartButtonEl.style.display =\n",
              "            google.colab.kernel.accessAllowed ? 'block' : 'none';\n",
              "        })();\n",
              "      </script>\n",
              "    </div>\n",
              "\n",
              "    </div>\n",
              "  </div>\n"
            ],
            "application/vnd.google.colaboratory.intrinsic+json": {
              "type": "dataframe",
              "variable_name": "df",
              "summary": "{\n  \"name\": \"df\",\n  \"rows\": 43343,\n  \"fields\": [\n    {\n      \"column\": \"placeId\",\n      \"properties\": {\n        \"dtype\": \"string\",\n        \"num_unique_values\": 43343,\n        \"samples\": [\n          \"osm4561823319\",\n          \"ChIJg65fAQOp1TERYD_RTsoPbnc\",\n          \"ChIJnXA7F1qv1TERKnQamLdWBBk\"\n        ],\n        \"semantic_type\": \"\",\n        \"description\": \"\"\n      }\n    },\n    {\n      \"column\": \"placeName\",\n      \"properties\": {\n        \"dtype\": \"string\",\n        \"num_unique_values\": 41579,\n        \"samples\": [\n          \"Rumah along\",\n          \"Face & Body Care Cikpuan\",\n          \"Rusunawa Univeritas Lancang Kuning\"\n        ],\n        \"semantic_type\": \"\",\n        \"description\": \"\"\n      }\n    },\n    {\n      \"column\": \"placeAddress\",\n      \"properties\": {\n        \"dtype\": \"string\",\n        \"num_unique_values\": 33497,\n        \"samples\": [\n          \"Perumahan Nuansa Kualu Permai , Jl. Tuah Karya, Blok B - C No.3, Kualu\",\n          \"F9R9+MF4, Simpang Baru\",\n          \"GC9P+5WP, Harjosari\"\n        ],\n        \"semantic_type\": \"\",\n        \"description\": \"\"\n      }\n    },\n    {\n      \"column\": \"placeBusinessStatus\",\n      \"properties\": {\n        \"dtype\": \"category\",\n        \"num_unique_values\": 2,\n        \"samples\": [\n          \"CLOSED_TEMPORARILY\",\n          \"OPERATIONAL\"\n        ],\n        \"semantic_type\": \"\",\n        \"description\": \"\"\n      }\n    },\n    {\n      \"column\": \"placeTypes\",\n      \"properties\": {\n        \"dtype\": \"category\",\n        \"num_unique_values\": 518,\n        \"samples\": [\n          \"lawyer,accounting,finance,point_of_interest,establishment\",\n          \"book_store,library,store,point_of_interest,establishment\"\n        ],\n        \"semantic_type\": \"\",\n        \"description\": \"\"\n      }\n    },\n    {\n      \"column\": \"placeLatitude\",\n      \"properties\": {\n        \"dtype\": \"number\",\n        \"std\": 0.03978019225045535,\n        \"min\": 0.4205126,\n        \"max\": 0.6804159,\n        \"num_unique_values\": 40848,\n        \"samples\": [\n          0.4894532,\n          0.4443\n        ],\n        \"semantic_type\": \"\",\n        \"description\": \"\"\n      }\n    },\n    {\n      \"column\": \"placeLongitude\",\n      \"properties\": {\n        \"dtype\": \"number\",\n        \"std\": 0.03897632153870577,\n        \"min\": 101.3325272,\n        \"max\": 101.599236,\n        \"num_unique_values\": 40776,\n        \"samples\": [\n          101.4436653,\n          101.4068151\n        ],\n        \"semantic_type\": \"\",\n        \"description\": \"\"\n      }\n    },\n    {\n      \"column\": \"source\",\n      \"properties\": {\n        \"dtype\": \"category\",\n        \"num_unique_values\": 2,\n        \"samples\": [\n          \"OSM\",\n          \"GMAPS\"\n        ],\n        \"semantic_type\": \"\",\n        \"description\": \"\"\n      }\n    },\n    {\n      \"column\": \"predicted_label\",\n      \"properties\": {\n        \"dtype\": \"category\",\n        \"num_unique_values\": 21,\n        \"samples\": [\n          \"I\",\n          \"A\"\n        ],\n        \"semantic_type\": \"\",\n        \"description\": \"\"\n      }\n    }\n  ]\n}"
            }
          },
          "metadata": {},
          "execution_count": 46
        }
      ]
    },
    {
      "cell_type": "code",
      "source": [
        "df.info()"
      ],
      "metadata": {
        "id": "BAJNU0q1DXUK",
        "colab": {
          "base_uri": "https://localhost:8080/"
        },
        "outputId": "2a595141-f1d6-4751-d1c3-3b4ec029e212"
      },
      "execution_count": 47,
      "outputs": [
        {
          "output_type": "stream",
          "name": "stdout",
          "text": [
            "<class 'pandas.core.frame.DataFrame'>\n",
            "RangeIndex: 43343 entries, 0 to 43342\n",
            "Data columns (total 9 columns):\n",
            " #   Column               Non-Null Count  Dtype  \n",
            "---  ------               --------------  -----  \n",
            " 0   placeId              43343 non-null  object \n",
            " 1   placeName            43343 non-null  object \n",
            " 2   placeAddress         41352 non-null  object \n",
            " 3   placeBusinessStatus  43343 non-null  object \n",
            " 4   placeTypes           43343 non-null  object \n",
            " 5   placeLatitude        43343 non-null  float64\n",
            " 6   placeLongitude       43343 non-null  float64\n",
            " 7   source               43343 non-null  object \n",
            " 8   predicted_label      43343 non-null  object \n",
            "dtypes: float64(2), object(7)\n",
            "memory usage: 3.0+ MB\n"
          ]
        }
      ]
    }
  ]
}