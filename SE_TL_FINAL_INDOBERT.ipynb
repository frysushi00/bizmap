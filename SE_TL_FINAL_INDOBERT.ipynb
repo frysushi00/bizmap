{
  "nbformat": 4,
  "nbformat_minor": 0,
  "metadata": {
    "colab": {
      "provenance": [],
      "gpuType": "T4",
      "collapsed_sections": [
        "lfx7gKaakVyW",
        "9_5JEaysmyVt",
        "5ih0lWIKkcUX",
        "0ouLJ6uGk8Dq",
        "ez_3fUvel5od",
        "nkZRmTEYmClc",
        "OaoiVwBSmEeX",
        "ISKRN2t9mG1V",
        "r0RzkLmfmQWT",
        "Dwlv3-_BmVzZ"
      ]
    },
    "kernelspec": {
      "name": "python3",
      "display_name": "Python 3"
    },
    "language_info": {
      "name": "python"
    },
    "accelerator": "GPU"
  },
  "cells": [
    {
      "cell_type": "markdown",
      "source": [
        "#**PLACE SEARCH ENGINE WITH TRANSFORMER INDOBERT BASE P1**\n",
        "\n",
        "* COMBINING SEMANTIC SEACRH WITH CLASSIFICATION MODEL FOR BETTER SEMANTIC SEARCH AND QUERY UNDERSTANDING\n",
        "\n",
        "* FINETUNING THE LAST 4 LAYERS OF INDOBERT BASE P1 AND ADDING CUSTOM LAYERS OF 75 CLASS"
      ],
      "metadata": {
        "id": "uSrVVzwMnIlv"
      }
    },
    {
      "cell_type": "markdown",
      "source": [
        "#IMPORTING LIBRARY"
      ],
      "metadata": {
        "id": "lfx7gKaakVyW"
      }
    },
    {
      "cell_type": "code",
      "execution_count": 22,
      "metadata": {
        "id": "VurtPOj_aBcH"
      },
      "outputs": [],
      "source": [
        "import pandas as pd\n",
        "import numpy as np\n",
        "import torch\n",
        "import torch.nn as nn\n",
        "from torch.utils.data import Dataset, DataLoader\n",
        "from transformers import BertTokenizer, BertModel, get_scheduler\n",
        "from sklearn.preprocessing import LabelEncoder\n",
        "from sklearn.model_selection import train_test_split\n",
        "from tqdm import tqdm\n",
        "from torch.optim import AdamW\n",
        "from sklearn.metrics import classification_report, accuracy_score"
      ]
    },
    {
      "cell_type": "code",
      "source": [
        "from google.colab import drive\n",
        "drive.mount('/content/drive')"
      ],
      "metadata": {
        "colab": {
          "base_uri": "https://localhost:8080/"
        },
        "id": "8Vvsc2UNN6wi",
        "outputId": "2dc330fe-7458-4d58-b433-60a73d803b5a"
      },
      "execution_count": 23,
      "outputs": [
        {
          "output_type": "stream",
          "name": "stdout",
          "text": [
            "Drive already mounted at /content/drive; to attempt to forcibly remount, call drive.mount(\"/content/drive\", force_remount=True).\n"
          ]
        }
      ]
    },
    {
      "cell_type": "code",
      "source": [
        "device = torch.device(\"cuda\" if torch.cuda.is_available() else \"cpu\")"
      ],
      "metadata": {
        "id": "0_6op17Kdo7T"
      },
      "execution_count": 24,
      "outputs": []
    },
    {
      "cell_type": "markdown",
      "source": [
        "#CREATING THE MODEL"
      ],
      "metadata": {
        "id": "9_5JEaysmyVt"
      }
    },
    {
      "cell_type": "markdown",
      "source": [
        "###DATASET PREPARATIONS"
      ],
      "metadata": {
        "id": "5ih0lWIKkcUX"
      }
    },
    {
      "cell_type": "code",
      "source": [
        "df = pd.read_excel(\"/content/drive/MyDrive/corpus_se.xlsx\")\n",
        "df = df.dropna(subset=[\"query\", \"label\"])"
      ],
      "metadata": {
        "id": "J8xYrH07drTf"
      },
      "execution_count": 25,
      "outputs": []
    },
    {
      "cell_type": "markdown",
      "source": [
        "LABEL ENCODER"
      ],
      "metadata": {
        "id": "cAiBKqzikgIU"
      }
    },
    {
      "cell_type": "code",
      "source": [
        "label_encoder = LabelEncoder()\n",
        "df['label_enc'] = label_encoder.fit_transform(df['label'])\n",
        "num_labels = len(label_encoder.classes_)"
      ],
      "metadata": {
        "id": "GpIaBxvGdum9"
      },
      "execution_count": 26,
      "outputs": []
    },
    {
      "cell_type": "markdown",
      "source": [
        "SPLITTING THE DATASET"
      ],
      "metadata": {
        "id": "rdmOoMNvkibP"
      }
    },
    {
      "cell_type": "code",
      "source": [
        "# Train/Val Split\n",
        "train_texts, val_texts, train_labels, val_labels = train_test_split(\n",
        "    df['query'].tolist(), df['label_enc'].tolist(), test_size=0.2, random_state=42, stratify=df['label_enc']\n",
        ")"
      ],
      "metadata": {
        "id": "A9g2ZSw5dwgf"
      },
      "execution_count": 27,
      "outputs": []
    },
    {
      "cell_type": "markdown",
      "source": [
        "TOKENIZER FROM INDOBERT BASE P1"
      ],
      "metadata": {
        "id": "Uj_V3sJ_kp-T"
      }
    },
    {
      "cell_type": "code",
      "source": [
        "# Tokenizer\n",
        "tokenizer = BertTokenizer.from_pretrained(\"indobenchmark/indobert-base-p1\")"
      ],
      "metadata": {
        "id": "0vr84xJ5dyFp"
      },
      "execution_count": 28,
      "outputs": []
    },
    {
      "cell_type": "markdown",
      "source": [
        "PROCESSING THE DATASET"
      ],
      "metadata": {
        "id": "1YIuDH0lkwJJ"
      }
    },
    {
      "cell_type": "code",
      "source": [
        "class PlaceDataset(Dataset):\n",
        "    def __init__(self, texts, labels, tokenizer, max_len=128):\n",
        "        self.texts = texts\n",
        "        self.labels = labels\n",
        "        self.tokenizer = tokenizer\n",
        "        self.max_len = max_len\n",
        "\n",
        "    def __len__(self):\n",
        "        return len(self.texts)\n",
        "\n",
        "    def __getitem__(self, idx):\n",
        "        inputs = self.tokenizer(self.texts[idx], max_length=self.max_len, padding='max_length', truncation=True, return_tensors=\"pt\")\n",
        "        input_ids = inputs['input_ids'].squeeze(0)\n",
        "        attention_mask = inputs['attention_mask'].squeeze(0)\n",
        "        return {\n",
        "            'input_ids': input_ids,\n",
        "            'attention_mask': attention_mask,\n",
        "            'label': torch.tensor(self.labels[idx], dtype=torch.long)\n",
        "        }"
      ],
      "metadata": {
        "id": "_-7LEWR-d06i"
      },
      "execution_count": 29,
      "outputs": []
    },
    {
      "cell_type": "markdown",
      "source": [
        "AUGMENTS THE DATASET"
      ],
      "metadata": {
        "id": "1c3jYhRwkzH6"
      }
    },
    {
      "cell_type": "code",
      "source": [
        "# Create dataset with data augmentation for training\n",
        "def get_augmented_dataset(texts, labels, tokenizer, augment=True):\n",
        "    if augment:\n",
        "        # Simple augmentation: add some noise to sequences (randomly mask tokens)\n",
        "        augmented_texts = texts.copy()\n",
        "        augmented_labels = labels.copy()\n",
        "\n",
        "        # Add slight random noise to some examples (15% of data)\n",
        "        num_to_augment = int(len(texts) * 0.15)\n",
        "        indices = np.random.choice(len(texts), num_to_augment, replace=False)\n",
        "\n",
        "        for idx in indices:\n",
        "            text = texts[idx]\n",
        "            words = text.split()\n",
        "            # Randomly drop or duplicate some words\n",
        "            if len(words) > 3:  # Only if we have enough words\n",
        "                # Randomly choose augmentation type\n",
        "                aug_type = np.random.choice(['drop', 'duplicate'])\n",
        "                if aug_type == 'drop':\n",
        "                    # Drop a random word\n",
        "                    drop_idx = np.random.randint(0, len(words))\n",
        "                    words.pop(drop_idx)\n",
        "                else:\n",
        "                    # Duplicate a random word\n",
        "                    dup_idx = np.random.randint(0, len(words))\n",
        "                    words.insert(dup_idx, words[dup_idx])\n",
        "\n",
        "                augmented_text = ' '.join(words)\n",
        "                augmented_texts.append(augmented_text)\n",
        "                augmented_labels.append(labels[idx])\n",
        "\n",
        "        return PlaceDataset(augmented_texts, augmented_labels, tokenizer)\n",
        "    else:\n",
        "        return PlaceDataset(texts, labels, tokenizer)"
      ],
      "metadata": {
        "id": "GEOD01S1dDYv"
      },
      "execution_count": 30,
      "outputs": []
    },
    {
      "cell_type": "markdown",
      "source": [
        "CREATING DATASET AND DATALOADER"
      ],
      "metadata": {
        "id": "B1jTSwPek4yj"
      }
    },
    {
      "cell_type": "code",
      "source": [
        "# Create datasets with potential augmentation\n",
        "train_dataset = get_augmented_dataset(train_texts, train_labels, tokenizer, augment=True)\n",
        "val_dataset = PlaceDataset(val_texts, val_labels, tokenizer)\n",
        "\n",
        "# Create data loaders with appropriate batch sizes\n",
        "batch_size = 16  # Increased batch size for better generalization\n",
        "train_loader = DataLoader(train_dataset, batch_size=batch_size, shuffle=True)\n",
        "val_loader = DataLoader(val_dataset, batch_size=batch_size)"
      ],
      "metadata": {
        "id": "_QUcpFmOd24e"
      },
      "execution_count": 31,
      "outputs": []
    },
    {
      "cell_type": "markdown",
      "source": [
        "###MODEL INITIALIZATION"
      ],
      "metadata": {
        "id": "0ouLJ6uGk8Dq"
      }
    },
    {
      "cell_type": "markdown",
      "source": [
        "USING **INDOBERT BASE P1** AS THE MODEL AND TRANSFER LEARNING BY FREEZING THE LAYER AND ONLY TRAINING ONLY 4 LAYERS FOR FINETUNING"
      ],
      "metadata": {
        "id": "xfm4Z1G3lBGA"
      }
    },
    {
      "cell_type": "code",
      "source": [
        "class ImprovedPlaceClassifier(nn.Module):\n",
        "    def __init__(self, num_labels, dropout_rate=0.2):\n",
        "        super(ImprovedPlaceClassifier, self).__init__()\n",
        "        self.bert = BertModel.from_pretrained(\"indobenchmark/indobert-base-p1\")\n",
        "\n",
        "        # Effective fine-tuning technique: gradual unfreezing\n",
        "        # First freeze all BERT layers\n",
        "        for param in self.bert.parameters():\n",
        "            param.requires_grad = False\n",
        "\n",
        "        # Then unfreeze last 4 layers for fine-tuning\n",
        "        for i in range(8, 12):\n",
        "            for param in self.bert.encoder.layer[i].parameters():\n",
        "                param.requires_grad = True\n",
        "\n",
        "        # Pooling strategy\n",
        "        self.pooling_type = \"cls\"  # Options: cls, mean, max\n",
        "\n",
        "        # Improved classifier head with batch normalization\n",
        "        self.drop = nn.Dropout(dropout_rate)\n",
        "        self.norm = nn.BatchNorm1d(self.bert.config.hidden_size)\n",
        "\n",
        "        # Wider then narrower architecture\n",
        "        self.classifier = nn.Sequential(\n",
        "            nn.Linear(self.bert.config.hidden_size, 512),\n",
        "            nn.ReLU(),\n",
        "            nn.BatchNorm1d(512),\n",
        "            nn.Dropout(dropout_rate),\n",
        "            nn.Linear(512, 256),\n",
        "            nn.ReLU(),\n",
        "            nn.BatchNorm1d(256),\n",
        "            nn.Dropout(dropout_rate),\n",
        "            nn.Linear(256, num_labels)\n",
        "        )\n",
        "\n",
        "    def forward(self, input_ids, attention_mask, **kwargs):\n",
        "        outputs = self.bert(input_ids=input_ids, attention_mask=attention_mask, **kwargs)\n",
        "\n",
        "        # Different pooling strategies\n",
        "        if self.pooling_type == \"cls\":\n",
        "            pooled_output = outputs.last_hidden_state[:, 0, :]  # [CLS] token\n",
        "        elif self.pooling_type == \"mean\":\n",
        "            # Mean of all tokens (excluding padding)\n",
        "            masked = outputs.last_hidden_state * attention_mask.unsqueeze(-1)\n",
        "            pooled_output = masked.sum(dim=1) / attention_mask.sum(dim=1, keepdim=True)\n",
        "        else:  # max pooling\n",
        "            # Max over all tokens (excluding padding)\n",
        "            masked = outputs.last_hidden_state * attention_mask.unsqueeze(-1)\n",
        "            pooled_output = torch.max(masked, dim=1)[0]\n",
        "\n",
        "        normalized = self.norm(pooled_output)\n",
        "        dropped = self.drop(normalized)\n",
        "        return self.classifier(dropped)"
      ],
      "metadata": {
        "id": "aJHXq4oBd6a5"
      },
      "execution_count": 32,
      "outputs": []
    },
    {
      "cell_type": "code",
      "source": [
        "model = ImprovedPlaceClassifier(num_labels=num_labels).to(device)"
      ],
      "metadata": {
        "id": "5s1eRW49d8dH"
      },
      "execution_count": 33,
      "outputs": []
    },
    {
      "cell_type": "markdown",
      "source": [
        "FULL MODEL ARCHITECTURE"
      ],
      "metadata": {
        "id": "9tZ3E18xlgTf"
      }
    },
    {
      "cell_type": "code",
      "source": [
        "print(model)"
      ],
      "metadata": {
        "id": "og_qlvXHiazP",
        "colab": {
          "base_uri": "https://localhost:8080/"
        },
        "outputId": "52c8c711-4ece-4155-dd1d-f18b4c697240"
      },
      "execution_count": 34,
      "outputs": [
        {
          "output_type": "stream",
          "name": "stdout",
          "text": [
            "ImprovedPlaceClassifier(\n",
            "  (bert): BertModel(\n",
            "    (embeddings): BertEmbeddings(\n",
            "      (word_embeddings): Embedding(50000, 768, padding_idx=0)\n",
            "      (position_embeddings): Embedding(512, 768)\n",
            "      (token_type_embeddings): Embedding(2, 768)\n",
            "      (LayerNorm): LayerNorm((768,), eps=1e-12, elementwise_affine=True)\n",
            "      (dropout): Dropout(p=0.1, inplace=False)\n",
            "    )\n",
            "    (encoder): BertEncoder(\n",
            "      (layer): ModuleList(\n",
            "        (0-11): 12 x BertLayer(\n",
            "          (attention): BertAttention(\n",
            "            (self): BertSdpaSelfAttention(\n",
            "              (query): Linear(in_features=768, out_features=768, bias=True)\n",
            "              (key): Linear(in_features=768, out_features=768, bias=True)\n",
            "              (value): Linear(in_features=768, out_features=768, bias=True)\n",
            "              (dropout): Dropout(p=0.1, inplace=False)\n",
            "            )\n",
            "            (output): BertSelfOutput(\n",
            "              (dense): Linear(in_features=768, out_features=768, bias=True)\n",
            "              (LayerNorm): LayerNorm((768,), eps=1e-12, elementwise_affine=True)\n",
            "              (dropout): Dropout(p=0.1, inplace=False)\n",
            "            )\n",
            "          )\n",
            "          (intermediate): BertIntermediate(\n",
            "            (dense): Linear(in_features=768, out_features=3072, bias=True)\n",
            "            (intermediate_act_fn): GELUActivation()\n",
            "          )\n",
            "          (output): BertOutput(\n",
            "            (dense): Linear(in_features=3072, out_features=768, bias=True)\n",
            "            (LayerNorm): LayerNorm((768,), eps=1e-12, elementwise_affine=True)\n",
            "            (dropout): Dropout(p=0.1, inplace=False)\n",
            "          )\n",
            "        )\n",
            "      )\n",
            "    )\n",
            "    (pooler): BertPooler(\n",
            "      (dense): Linear(in_features=768, out_features=768, bias=True)\n",
            "      (activation): Tanh()\n",
            "    )\n",
            "  )\n",
            "  (drop): Dropout(p=0.2, inplace=False)\n",
            "  (norm): BatchNorm1d(768, eps=1e-05, momentum=0.1, affine=True, track_running_stats=True)\n",
            "  (classifier): Sequential(\n",
            "    (0): Linear(in_features=768, out_features=512, bias=True)\n",
            "    (1): ReLU()\n",
            "    (2): BatchNorm1d(512, eps=1e-05, momentum=0.1, affine=True, track_running_stats=True)\n",
            "    (3): Dropout(p=0.2, inplace=False)\n",
            "    (4): Linear(in_features=512, out_features=256, bias=True)\n",
            "    (5): ReLU()\n",
            "    (6): BatchNorm1d(256, eps=1e-05, momentum=0.1, affine=True, track_running_stats=True)\n",
            "    (7): Dropout(p=0.2, inplace=False)\n",
            "    (8): Linear(in_features=256, out_features=75, bias=True)\n",
            "  )\n",
            ")\n"
          ]
        }
      ]
    },
    {
      "cell_type": "markdown",
      "source": [
        "LOSS"
      ],
      "metadata": {
        "id": "VhXeJPpGlkYf"
      }
    },
    {
      "cell_type": "code",
      "source": [
        "criterion = nn.CrossEntropyLoss(label_smoothing=0.1)\n",
        "weight_decay = 0.01\n",
        "lr = 5e-5\n",
        "# optimizer = AdamW(model.parameters(), lr=5e-5)"
      ],
      "metadata": {
        "id": "FLhp_1d2d-xZ"
      },
      "execution_count": 35,
      "outputs": []
    },
    {
      "cell_type": "markdown",
      "source": [
        "WEIGHT DECAYING"
      ],
      "metadata": {
        "id": "TyE6I-cqlsTl"
      }
    },
    {
      "cell_type": "code",
      "source": [
        "no_decay = [\"bias\", \"LayerNorm.weight\"]\n",
        "optimizer_grouped_parameters = [\n",
        "    {\n",
        "        \"params\": [p for n, p in model.named_parameters() if not any(nd in n for nd in no_decay)],\n",
        "        \"weight_decay\": weight_decay,\n",
        "    },\n",
        "    {\n",
        "        \"params\": [p for n, p in model.named_parameters() if any(nd in n for nd in no_decay)],\n",
        "        \"weight_decay\": 0.0,\n",
        "    },\n",
        "]"
      ],
      "metadata": {
        "id": "H3fqxc-qd2S3"
      },
      "execution_count": 36,
      "outputs": []
    },
    {
      "cell_type": "markdown",
      "source": [
        "OPTIMIZER (ADAM)"
      ],
      "metadata": {
        "id": "TkDc6W5ulxoi"
      }
    },
    {
      "cell_type": "code",
      "source": [
        "optimizer = AdamW(optimizer_grouped_parameters, lr=lr)\n",
        "\n",
        "# Learning rate scheduler with warmup\n",
        "num_epochs = 15  # Reduced number of epochs\n",
        "num_training_steps = len(train_loader) * num_epochs\n",
        "num_warmup_steps = int(0.1 * num_training_steps)  # 10% warmup"
      ],
      "metadata": {
        "id": "8tNcBWyUd4NN"
      },
      "execution_count": 37,
      "outputs": []
    },
    {
      "cell_type": "markdown",
      "source": [
        "LEARNING RATE SCHEDULER"
      ],
      "metadata": {
        "id": "QpQRD6rUl0Zk"
      }
    },
    {
      "cell_type": "code",
      "source": [
        "lr_scheduler = get_scheduler(\n",
        "    name=\"linear\",\n",
        "    optimizer=optimizer,\n",
        "    num_warmup_steps=num_warmup_steps,\n",
        "    num_training_steps=num_training_steps,\n",
        ")"
      ],
      "metadata": {
        "id": "vw1fwyiBeBF-"
      },
      "execution_count": 38,
      "outputs": []
    },
    {
      "cell_type": "markdown",
      "source": [
        "EARLY STOPPING CALLBACKS"
      ],
      "metadata": {
        "id": "r7VebWctl2s2"
      }
    },
    {
      "cell_type": "code",
      "source": [
        "# Early stopping implementation\n",
        "class EarlyStopping:\n",
        "    def __init__(self, patience=3, min_delta=0.001):\n",
        "        self.patience = patience\n",
        "        self.min_delta = min_delta\n",
        "        self.counter = 0\n",
        "        self.best_score = None\n",
        "        self.early_stop = False\n",
        "        self.best_model_state = None\n",
        "\n",
        "    def __call__(self, val_score, model):\n",
        "        if self.best_score is None:\n",
        "            self.best_score = val_score\n",
        "            self.best_model_state = model.state_dict().copy()\n",
        "        elif val_score < self.best_score + self.min_delta:\n",
        "            self.counter += 1\n",
        "            if self.counter >= self.patience:\n",
        "                self.early_stop = True\n",
        "        else:\n",
        "            self.best_score = val_score\n",
        "            self.best_model_state = model.state_dict().copy()\n",
        "            self.counter = 0\n",
        "\n",
        "        return self.early_stop"
      ],
      "metadata": {
        "id": "jR4JosKXeACN"
      },
      "execution_count": 39,
      "outputs": []
    },
    {
      "cell_type": "markdown",
      "source": [
        "###TRAINING AND EVALUATION FUNCTION"
      ],
      "metadata": {
        "id": "ez_3fUvel5od"
      }
    },
    {
      "cell_type": "code",
      "source": [
        "def train_model(model, train_loader, val_loader, optimizer, criterion, scheduler):\n",
        "    early_stopping = EarlyStopping(patience=3)\n",
        "    history = {'train_loss': [], 'val_acc': []}\n",
        "\n",
        "    for epoch in range(num_epochs):\n",
        "        # Training phase\n",
        "        model.train()\n",
        "        total_loss = 0\n",
        "\n",
        "        for batch in tqdm(train_loader, desc=f\"Epoch {epoch+1}\"):\n",
        "            input_ids = batch['input_ids'].to(device)\n",
        "            attention_mask = batch['attention_mask'].to(device)\n",
        "            labels = batch['label'].to(device)\n",
        "\n",
        "            # Forward pass\n",
        "            outputs = model(input_ids=input_ids, attention_mask=attention_mask)\n",
        "            loss = criterion(outputs, labels)\n",
        "\n",
        "            # Backward pass\n",
        "            optimizer.zero_grad()\n",
        "            loss.backward()\n",
        "\n",
        "            # Gradient clipping to prevent exploding gradients\n",
        "            torch.nn.utils.clip_grad_norm_(model.parameters(), max_norm=1.0)\n",
        "\n",
        "            optimizer.step()\n",
        "            scheduler.step()\n",
        "\n",
        "            total_loss += loss.item()\n",
        "\n",
        "        avg_train_loss = total_loss / len(train_loader)\n",
        "        history['train_loss'].append(avg_train_loss)\n",
        "\n",
        "        # Validation phase\n",
        "        val_acc, val_report = evaluate_model(model, val_loader)\n",
        "        history['val_acc'].append(val_acc)\n",
        "\n",
        "        print(f\"Epoch {epoch+1} | Train Loss: {avg_train_loss:.4f} | Val Accuracy: {val_acc:.4f}\")\n",
        "        print(f\"Classification Report:\\n{val_report}\")\n",
        "\n",
        "        # Check for early stopping\n",
        "        if early_stopping(val_acc, model):\n",
        "            print(f\"Early stopping triggered after epoch {epoch+1}\")\n",
        "            # Load the best model\n",
        "            model.load_state_dict(early_stopping.best_model_state)\n",
        "            break\n",
        "\n",
        "    return model, history"
      ],
      "metadata": {
        "id": "0K_8QiDAeDd7"
      },
      "execution_count": 40,
      "outputs": []
    },
    {
      "cell_type": "code",
      "source": [
        "def evaluate_model(model, val_loader):\n",
        "    model.eval()\n",
        "    correct = 0\n",
        "    total = 0\n",
        "    all_preds = []\n",
        "    all_labels = []\n",
        "\n",
        "    with torch.no_grad():\n",
        "        for batch in val_loader:\n",
        "            input_ids = batch['input_ids'].to(device)\n",
        "            attention_mask = batch['attention_mask'].to(device)\n",
        "            labels = batch['label'].to(device)\n",
        "\n",
        "            outputs = model(input_ids=input_ids, attention_mask=attention_mask)\n",
        "            preds = torch.argmax(outputs, dim=1)\n",
        "\n",
        "            all_preds.extend(preds.cpu().numpy())\n",
        "            all_labels.extend(labels.cpu().numpy())\n",
        "\n",
        "            correct += (preds == labels).sum().item()\n",
        "            total += labels.size(0)\n",
        "\n",
        "    acc = correct / total\n",
        "    report = classification_report(all_labels, all_preds, target_names=label_encoder.classes_, zero_division=0)\n",
        "\n",
        "    return acc, report"
      ],
      "metadata": {
        "id": "qKMYSxYCeFdF"
      },
      "execution_count": 41,
      "outputs": []
    },
    {
      "cell_type": "markdown",
      "source": [
        "###TRAINING"
      ],
      "metadata": {
        "id": "nkZRmTEYmClc"
      }
    },
    {
      "cell_type": "code",
      "source": [
        "trained_model, history = train_model(model, train_loader, val_loader, optimizer, criterion, lr_scheduler)"
      ],
      "metadata": {
        "id": "XYQcI-W2eHk9",
        "colab": {
          "base_uri": "https://localhost:8080/"
        },
        "outputId": "b21de411-f026-43d2-a5be-04824186a6c8"
      },
      "execution_count": 42,
      "outputs": [
        {
          "output_type": "stream",
          "name": "stderr",
          "text": [
            "Epoch 1: 100%|██████████| 21/21 [00:03<00:00,  5.44it/s]\n"
          ]
        },
        {
          "output_type": "stream",
          "name": "stdout",
          "text": [
            "Epoch 1 | Train Loss: 4.4761 | Val Accuracy: 0.0400\n",
            "Classification Report:\n",
            "                                 precision    recall  f1-score   support\n",
            "\n",
            "                     accounting       0.00      0.00      0.00         1\n",
            "                    agriculture       0.00      0.00      0.00         1\n",
            "                        airport       0.00      0.00      0.00         1\n",
            "              architecture_firm       0.00      0.00      0.00         1\n",
            "                    art_gallery       0.00      0.00      0.00         1\n",
            "                            atm       0.00      0.00      0.00         1\n",
            "                           bank       0.00      0.00      0.00         1\n",
            "                            bar       0.00      0.00      0.00         1\n",
            "                   beauty_salon       0.00      0.00      0.00         1\n",
            "                          bureu       0.00      0.00      0.00         1\n",
            "                           cafe       0.00      0.00      0.00         1\n",
            "                     car_dealer       0.00      0.00      0.00         1\n",
            "                     car_repair       0.09      1.00      0.17         1\n",
            "                        charity       0.00      0.00      0.00         1\n",
            "                 clothing_store       0.00      0.00      0.00         1\n",
            "                     consultant       0.00      0.00      0.00         1\n",
            "              convenience_store       0.00      0.00      0.00         1\n",
            "                        dentist       0.00      0.00      0.00         1\n",
            "                         design       0.00      0.00      0.00         1\n",
            "        digital_and_information       0.00      0.00      0.00         1\n",
            "                         doctor       0.00      0.00      0.00         1\n",
            "                    electrician       0.00      0.00      0.00         1\n",
            "              electronic_repair       0.00      0.00      0.00         1\n",
            "                        embassy       0.00      0.00      0.00         1\n",
            "                establishment c       0.00      0.00      0.00         1\n",
            "                establishment p       0.00      0.00      0.00         1\n",
            "                establishment r       0.00      0.00      0.00         1\n",
            "                        finance       0.00      0.00      0.00         1\n",
            "                        fishery       0.00      0.00      0.00         1\n",
            "                        florist       0.00      0.00      0.00         1\n",
            "                           food       0.25      1.00      0.40         1\n",
            "                furniture_store       0.00      0.00      0.00         1\n",
            "             general_contractor       0.00      0.00      0.00         1\n",
            "         grocery_or_supermarket       0.00      0.00      0.00         1\n",
            "                            gym       0.00      0.00      0.00         1\n",
            "                      hair_care       0.00      0.00      0.00         1\n",
            "                         health       0.00      0.00      0.00         1\n",
            "                       hospital       0.00      0.00      0.00         1\n",
            "               insurance_agency       0.00      0.00      0.00         1\n",
            "international_government_office       0.00      0.00      0.00         1\n",
            "                        laundry       0.00      0.00      0.00         1\n",
            "                         lawyer       0.00      0.00      0.00         1\n",
            "                        library       0.00      0.00      0.00         1\n",
            "        local_government_office       0.00      0.00      0.00         1\n",
            "                        lodging       0.00      0.00      0.00         1\n",
            "                       logistic       0.00      0.00      0.00         1\n",
            "                     management       0.00      0.00      0.00         1\n",
            "                  meal_takeaway       0.00      0.00      0.00         1\n",
            "                         mining       0.00      0.00      0.00         1\n",
            "                         museum       0.00      0.00      0.00         1\n",
            "                   music_studio       0.00      0.00      0.00         1\n",
            "                           park       0.00      0.00      0.00         1\n",
            "                       pharmacy       0.00      0.00      0.00         1\n",
            "            point_of_interest r       0.00      0.00      0.00         1\n",
            "                         police       0.00      0.00      0.00         1\n",
            "                    post_office       0.00      0.00      0.00         1\n",
            "                 primary_school       0.00      0.00      0.00         1\n",
            "                       printing       0.00      0.00      0.00         1\n",
            "                      publisher       0.00      0.00      0.00         1\n",
            "             real_estate_agency       0.00      0.00      0.00         1\n",
            "                         rental       0.00      0.00      0.00         1\n",
            "                     researcher       0.00      0.00      0.00         1\n",
            "                     restaurant       0.00      0.00      0.00         1\n",
            "                         school       0.00      0.00      0.00         1\n",
            "               secondary_school       0.00      0.00      0.00         1\n",
            "                  shopping_mall       0.00      0.00      0.00         1\n",
            "                          store       0.00      0.00      0.00         1\n",
            "                    supermarket       0.00      0.00      0.00         1\n",
            "                         tailor       0.00      0.00      0.00         1\n",
            "                  travel_agency       0.00      0.00      0.00         1\n",
            "                     university       0.00      0.00      0.00         1\n",
            "                veterinary_care       0.25      1.00      0.40         1\n",
            "                    water_depot       0.00      0.00      0.00         1\n",
            "                water_treatment       0.00      0.00      0.00         1\n",
            "                      waterpark       0.00      0.00      0.00         1\n",
            "\n",
            "                       accuracy                           0.04        75\n",
            "                      macro avg       0.01      0.04      0.01        75\n",
            "                   weighted avg       0.01      0.04      0.01        75\n",
            "\n"
          ]
        },
        {
          "output_type": "stream",
          "name": "stderr",
          "text": [
            "Epoch 2: 100%|██████████| 21/21 [00:03<00:00,  5.45it/s]\n"
          ]
        },
        {
          "output_type": "stream",
          "name": "stdout",
          "text": [
            "Epoch 2 | Train Loss: 4.2492 | Val Accuracy: 0.1067\n",
            "Classification Report:\n",
            "                                 precision    recall  f1-score   support\n",
            "\n",
            "                     accounting       0.00      0.00      0.00         1\n",
            "                    agriculture       0.00      0.00      0.00         1\n",
            "                        airport       0.25      1.00      0.40         1\n",
            "              architecture_firm       0.00      0.00      0.00         1\n",
            "                    art_gallery       0.00      0.00      0.00         1\n",
            "                            atm       0.00      0.00      0.00         1\n",
            "                           bank       1.00      1.00      1.00         1\n",
            "                            bar       0.00      0.00      0.00         1\n",
            "                   beauty_salon       0.00      0.00      0.00         1\n",
            "                          bureu       1.00      1.00      1.00         1\n",
            "                           cafe       0.00      0.00      0.00         1\n",
            "                     car_dealer       0.00      0.00      0.00         1\n",
            "                     car_repair       0.25      1.00      0.40         1\n",
            "                        charity       0.00      0.00      0.00         1\n",
            "                 clothing_store       0.00      0.00      0.00         1\n",
            "                     consultant       0.00      0.00      0.00         1\n",
            "              convenience_store       0.00      0.00      0.00         1\n",
            "                        dentist       0.00      0.00      0.00         1\n",
            "                         design       0.00      0.00      0.00         1\n",
            "        digital_and_information       0.00      0.00      0.00         1\n",
            "                         doctor       0.00      0.00      0.00         1\n",
            "                    electrician       0.00      0.00      0.00         1\n",
            "              electronic_repair       0.00      0.00      0.00         1\n",
            "                        embassy       0.00      0.00      0.00         1\n",
            "                establishment c       0.00      0.00      0.00         1\n",
            "                establishment p       0.00      0.00      0.00         1\n",
            "                establishment r       0.00      0.00      0.00         1\n",
            "                        finance       0.00      0.00      0.00         1\n",
            "                        fishery       0.00      0.00      0.00         1\n",
            "                        florist       0.00      0.00      0.00         1\n",
            "                           food       0.00      0.00      0.00         1\n",
            "                furniture_store       0.00      0.00      0.00         1\n",
            "             general_contractor       0.00      0.00      0.00         1\n",
            "         grocery_or_supermarket       0.00      0.00      0.00         1\n",
            "                            gym       0.00      0.00      0.00         1\n",
            "                      hair_care       0.00      0.00      0.00         1\n",
            "                         health       0.00      0.00      0.00         1\n",
            "                       hospital       0.00      0.00      0.00         1\n",
            "               insurance_agency       0.00      0.00      0.00         1\n",
            "international_government_office       0.00      0.00      0.00         1\n",
            "                        laundry       0.00      0.00      0.00         1\n",
            "                         lawyer       0.00      0.00      0.00         1\n",
            "                        library       0.25      1.00      0.40         1\n",
            "        local_government_office       1.00      1.00      1.00         1\n",
            "                        lodging       1.00      1.00      1.00         1\n",
            "                       logistic       0.00      0.00      0.00         1\n",
            "                     management       0.00      0.00      0.00         1\n",
            "                  meal_takeaway       0.00      0.00      0.00         1\n",
            "                         mining       0.00      0.00      0.00         1\n",
            "                         museum       0.00      0.00      0.00         1\n",
            "                   music_studio       0.00      0.00      0.00         1\n",
            "                           park       0.00      0.00      0.00         1\n",
            "                       pharmacy       0.00      0.00      0.00         1\n",
            "            point_of_interest r       0.00      0.00      0.00         1\n",
            "                         police       0.00      0.00      0.00         1\n",
            "                    post_office       0.00      0.00      0.00         1\n",
            "                 primary_school       0.00      0.00      0.00         1\n",
            "                       printing       0.00      0.00      0.00         1\n",
            "                      publisher       0.00      0.00      0.00         1\n",
            "             real_estate_agency       0.00      0.00      0.00         1\n",
            "                         rental       0.00      0.00      0.00         1\n",
            "                     researcher       0.00      0.00      0.00         1\n",
            "                     restaurant       0.00      0.00      0.00         1\n",
            "                         school       0.00      0.00      0.00         1\n",
            "               secondary_school       0.00      0.00      0.00         1\n",
            "                  shopping_mall       0.00      0.00      0.00         1\n",
            "                          store       0.00      0.00      0.00         1\n",
            "                    supermarket       0.00      0.00      0.00         1\n",
            "                         tailor       0.00      0.00      0.00         1\n",
            "                  travel_agency       0.20      1.00      0.33         1\n",
            "                     university       0.00      0.00      0.00         1\n",
            "                veterinary_care       0.00      0.00      0.00         1\n",
            "                    water_depot       0.00      0.00      0.00         1\n",
            "                water_treatment       0.00      0.00      0.00         1\n",
            "                      waterpark       0.00      0.00      0.00         1\n",
            "\n",
            "                       accuracy                           0.11        75\n",
            "                      macro avg       0.07      0.11      0.07        75\n",
            "                   weighted avg       0.07      0.11      0.07        75\n",
            "\n"
          ]
        },
        {
          "output_type": "stream",
          "name": "stderr",
          "text": [
            "Epoch 3: 100%|██████████| 21/21 [00:03<00:00,  5.42it/s]\n"
          ]
        },
        {
          "output_type": "stream",
          "name": "stdout",
          "text": [
            "Epoch 3 | Train Loss: 3.9475 | Val Accuracy: 0.1867\n",
            "Classification Report:\n",
            "                                 precision    recall  f1-score   support\n",
            "\n",
            "                     accounting       0.00      0.00      0.00         1\n",
            "                    agriculture       0.00      0.00      0.00         1\n",
            "                        airport       0.20      1.00      0.33         1\n",
            "              architecture_firm       0.00      0.00      0.00         1\n",
            "                    art_gallery       0.00      0.00      0.00         1\n",
            "                            atm       0.00      0.00      0.00         1\n",
            "                           bank       0.50      1.00      0.67         1\n",
            "                            bar       0.00      0.00      0.00         1\n",
            "                   beauty_salon       0.00      0.00      0.00         1\n",
            "                          bureu       0.25      1.00      0.40         1\n",
            "                           cafe       0.00      0.00      0.00         1\n",
            "                     car_dealer       0.00      0.00      0.00         1\n",
            "                     car_repair       0.17      1.00      0.29         1\n",
            "                        charity       0.00      0.00      0.00         1\n",
            "                 clothing_store       1.00      1.00      1.00         1\n",
            "                     consultant       0.00      0.00      0.00         1\n",
            "              convenience_store       0.00      0.00      0.00         1\n",
            "                        dentist       0.00      0.00      0.00         1\n",
            "                         design       0.00      0.00      0.00         1\n",
            "        digital_and_information       0.00      0.00      0.00         1\n",
            "                         doctor       0.00      0.00      0.00         1\n",
            "                    electrician       0.00      0.00      0.00         1\n",
            "              electronic_repair       0.00      0.00      0.00         1\n",
            "                        embassy       0.00      0.00      0.00         1\n",
            "                establishment c       0.00      0.00      0.00         1\n",
            "                establishment p       0.00      0.00      0.00         1\n",
            "                establishment r       0.00      0.00      0.00         1\n",
            "                        finance       0.00      0.00      0.00         1\n",
            "                        fishery       0.00      0.00      0.00         1\n",
            "                        florist       1.00      1.00      1.00         1\n",
            "                           food       0.00      0.00      0.00         1\n",
            "                furniture_store       0.33      1.00      0.50         1\n",
            "             general_contractor       0.00      0.00      0.00         1\n",
            "         grocery_or_supermarket       0.00      0.00      0.00         1\n",
            "                            gym       0.00      0.00      0.00         1\n",
            "                      hair_care       0.00      0.00      0.00         1\n",
            "                         health       0.50      1.00      0.67         1\n",
            "                       hospital       0.00      0.00      0.00         1\n",
            "               insurance_agency       0.00      0.00      0.00         1\n",
            "international_government_office       0.00      0.00      0.00         1\n",
            "                        laundry       0.00      0.00      0.00         1\n",
            "                         lawyer       0.00      0.00      0.00         1\n",
            "                        library       1.00      1.00      1.00         1\n",
            "        local_government_office       0.00      0.00      0.00         1\n",
            "                        lodging       0.00      0.00      0.00         1\n",
            "                       logistic       0.00      0.00      0.00         1\n",
            "                     management       0.00      0.00      0.00         1\n",
            "                  meal_takeaway       0.00      0.00      0.00         1\n",
            "                         mining       0.00      0.00      0.00         1\n",
            "                         museum       0.00      0.00      0.00         1\n",
            "                   music_studio       0.00      0.00      0.00         1\n",
            "                           park       0.50      1.00      0.67         1\n",
            "                       pharmacy       0.00      0.00      0.00         1\n",
            "            point_of_interest r       0.20      1.00      0.33         1\n",
            "                         police       0.00      0.00      0.00         1\n",
            "                    post_office       0.00      0.00      0.00         1\n",
            "                 primary_school       0.00      0.00      0.00         1\n",
            "                       printing       0.00      0.00      0.00         1\n",
            "                      publisher       0.00      0.00      0.00         1\n",
            "             real_estate_agency       0.00      0.00      0.00         1\n",
            "                         rental       0.00      0.00      0.00         1\n",
            "                     researcher       1.00      1.00      1.00         1\n",
            "                     restaurant       0.00      0.00      0.00         1\n",
            "                         school       0.50      1.00      0.67         1\n",
            "               secondary_school       0.00      0.00      0.00         1\n",
            "                  shopping_mall       0.00      0.00      0.00         1\n",
            "                          store       0.00      0.00      0.00         1\n",
            "                    supermarket       0.00      0.00      0.00         1\n",
            "                         tailor       0.00      0.00      0.00         1\n",
            "                  travel_agency       0.25      1.00      0.40         1\n",
            "                     university       0.00      0.00      0.00         1\n",
            "                veterinary_care       0.00      0.00      0.00         1\n",
            "                    water_depot       0.00      0.00      0.00         1\n",
            "                water_treatment       0.00      0.00      0.00         1\n",
            "                      waterpark       0.00      0.00      0.00         1\n",
            "\n",
            "                       accuracy                           0.19        75\n",
            "                      macro avg       0.10      0.19      0.12        75\n",
            "                   weighted avg       0.10      0.19      0.12        75\n",
            "\n"
          ]
        },
        {
          "output_type": "stream",
          "name": "stderr",
          "text": [
            "Epoch 4: 100%|██████████| 21/21 [00:03<00:00,  5.32it/s]\n"
          ]
        },
        {
          "output_type": "stream",
          "name": "stdout",
          "text": [
            "Epoch 4 | Train Loss: 3.5938 | Val Accuracy: 0.3333\n",
            "Classification Report:\n",
            "                                 precision    recall  f1-score   support\n",
            "\n",
            "                     accounting       0.00      0.00      0.00         1\n",
            "                    agriculture       0.33      1.00      0.50         1\n",
            "                        airport       1.00      1.00      1.00         1\n",
            "              architecture_firm       0.00      0.00      0.00         1\n",
            "                    art_gallery       0.00      0.00      0.00         1\n",
            "                            atm       0.00      0.00      0.00         1\n",
            "                           bank       1.00      1.00      1.00         1\n",
            "                            bar       0.00      0.00      0.00         1\n",
            "                   beauty_salon       0.00      0.00      0.00         1\n",
            "                          bureu       0.14      1.00      0.25         1\n",
            "                           cafe       0.00      0.00      0.00         1\n",
            "                     car_dealer       0.00      0.00      0.00         1\n",
            "                     car_repair       0.25      1.00      0.40         1\n",
            "                        charity       0.00      0.00      0.00         1\n",
            "                 clothing_store       1.00      1.00      1.00         1\n",
            "                     consultant       0.00      0.00      0.00         1\n",
            "              convenience_store       0.00      0.00      0.00         1\n",
            "                        dentist       0.33      1.00      0.50         1\n",
            "                         design       0.00      0.00      0.00         1\n",
            "        digital_and_information       0.00      0.00      0.00         1\n",
            "                         doctor       0.00      0.00      0.00         1\n",
            "                    electrician       0.00      0.00      0.00         1\n",
            "              electronic_repair       0.00      0.00      0.00         1\n",
            "                        embassy       0.00      0.00      0.00         1\n",
            "                establishment c       0.00      0.00      0.00         1\n",
            "                establishment p       0.00      0.00      0.00         1\n",
            "                establishment r       0.00      0.00      0.00         1\n",
            "                        finance       0.00      0.00      0.00         1\n",
            "                        fishery       0.00      0.00      0.00         1\n",
            "                        florist       1.00      1.00      1.00         1\n",
            "                           food       0.50      1.00      0.67         1\n",
            "                furniture_store       0.00      0.00      0.00         1\n",
            "             general_contractor       0.00      0.00      0.00         1\n",
            "         grocery_or_supermarket       0.00      0.00      0.00         1\n",
            "                            gym       0.00      0.00      0.00         1\n",
            "                      hair_care       0.50      1.00      0.67         1\n",
            "                         health       1.00      1.00      1.00         1\n",
            "                       hospital       0.00      0.00      0.00         1\n",
            "               insurance_agency       0.00      0.00      0.00         1\n",
            "international_government_office       0.50      1.00      0.67         1\n",
            "                        laundry       0.00      0.00      0.00         1\n",
            "                         lawyer       0.00      0.00      0.00         1\n",
            "                        library       1.00      1.00      1.00         1\n",
            "        local_government_office       0.00      0.00      0.00         1\n",
            "                        lodging       0.00      0.00      0.00         1\n",
            "                       logistic       0.00      0.00      0.00         1\n",
            "                     management       0.00      0.00      0.00         1\n",
            "                  meal_takeaway       0.33      1.00      0.50         1\n",
            "                         mining       1.00      1.00      1.00         1\n",
            "                         museum       0.50      1.00      0.67         1\n",
            "                   music_studio       1.00      1.00      1.00         1\n",
            "                           park       0.33      1.00      0.50         1\n",
            "                       pharmacy       0.00      0.00      0.00         1\n",
            "            point_of_interest r       1.00      1.00      1.00         1\n",
            "                         police       0.00      0.00      0.00         1\n",
            "                    post_office       0.00      0.00      0.00         1\n",
            "                 primary_school       0.00      0.00      0.00         1\n",
            "                       printing       0.00      0.00      0.00         1\n",
            "                      publisher       0.20      1.00      0.33         1\n",
            "             real_estate_agency       0.00      0.00      0.00         1\n",
            "                         rental       0.50      1.00      0.67         1\n",
            "                     researcher       0.00      0.00      0.00         1\n",
            "                     restaurant       0.00      0.00      0.00         1\n",
            "                         school       0.50      1.00      0.67         1\n",
            "               secondary_school       0.00      0.00      0.00         1\n",
            "                  shopping_mall       0.00      0.00      0.00         1\n",
            "                          store       0.00      0.00      0.00         1\n",
            "                    supermarket       0.00      0.00      0.00         1\n",
            "                         tailor       1.00      1.00      1.00         1\n",
            "                  travel_agency       0.50      1.00      0.67         1\n",
            "                     university       0.00      0.00      0.00         1\n",
            "                veterinary_care       0.00      0.00      0.00         1\n",
            "                    water_depot       0.00      0.00      0.00         1\n",
            "                water_treatment       0.00      0.00      0.00         1\n",
            "                      waterpark       0.17      1.00      0.29         1\n",
            "\n",
            "                       accuracy                           0.33        75\n",
            "                      macro avg       0.21      0.33      0.24        75\n",
            "                   weighted avg       0.21      0.33      0.24        75\n",
            "\n"
          ]
        },
        {
          "output_type": "stream",
          "name": "stderr",
          "text": [
            "Epoch 5: 100%|██████████| 21/21 [00:04<00:00,  5.22it/s]\n"
          ]
        },
        {
          "output_type": "stream",
          "name": "stdout",
          "text": [
            "Epoch 5 | Train Loss: 3.4034 | Val Accuracy: 0.4400\n",
            "Classification Report:\n",
            "                                 precision    recall  f1-score   support\n",
            "\n",
            "                     accounting       0.00      0.00      0.00         1\n",
            "                    agriculture       0.50      1.00      0.67         1\n",
            "                        airport       0.50      1.00      0.67         1\n",
            "              architecture_firm       0.00      0.00      0.00         1\n",
            "                    art_gallery       1.00      1.00      1.00         1\n",
            "                            atm       1.00      1.00      1.00         1\n",
            "                           bank       0.50      1.00      0.67         1\n",
            "                            bar       0.00      0.00      0.00         1\n",
            "                   beauty_salon       0.00      0.00      0.00         1\n",
            "                          bureu       0.33      1.00      0.50         1\n",
            "                           cafe       0.00      0.00      0.00         1\n",
            "                     car_dealer       0.00      0.00      0.00         1\n",
            "                     car_repair       0.33      1.00      0.50         1\n",
            "                        charity       0.00      0.00      0.00         1\n",
            "                 clothing_store       0.50      1.00      0.67         1\n",
            "                     consultant       0.50      1.00      0.67         1\n",
            "              convenience_store       0.00      0.00      0.00         1\n",
            "                        dentist       0.33      1.00      0.50         1\n",
            "                         design       0.00      0.00      0.00         1\n",
            "        digital_and_information       0.00      0.00      0.00         1\n",
            "                         doctor       0.00      0.00      0.00         1\n",
            "                    electrician       0.00      0.00      0.00         1\n",
            "              electronic_repair       0.00      0.00      0.00         1\n",
            "                        embassy       0.00      0.00      0.00         1\n",
            "                establishment c       0.00      0.00      0.00         1\n",
            "                establishment p       0.00      0.00      0.00         1\n",
            "                establishment r       0.00      0.00      0.00         1\n",
            "                        finance       0.00      0.00      0.00         1\n",
            "                        fishery       0.00      0.00      0.00         1\n",
            "                        florist       0.50      1.00      0.67         1\n",
            "                           food       0.50      1.00      0.67         1\n",
            "                furniture_store       1.00      1.00      1.00         1\n",
            "             general_contractor       0.00      0.00      0.00         1\n",
            "         grocery_or_supermarket       0.00      0.00      0.00         1\n",
            "                            gym       0.00      0.00      0.00         1\n",
            "                      hair_care       0.50      1.00      0.67         1\n",
            "                         health       1.00      1.00      1.00         1\n",
            "                       hospital       0.00      0.00      0.00         1\n",
            "               insurance_agency       0.50      1.00      0.67         1\n",
            "international_government_office       0.50      1.00      0.67         1\n",
            "                        laundry       0.00      0.00      0.00         1\n",
            "                         lawyer       0.00      0.00      0.00         1\n",
            "                        library       1.00      1.00      1.00         1\n",
            "        local_government_office       0.00      0.00      0.00         1\n",
            "                        lodging       0.00      0.00      0.00         1\n",
            "                       logistic       0.00      0.00      0.00         1\n",
            "                     management       0.00      0.00      0.00         1\n",
            "                  meal_takeaway       0.50      1.00      0.67         1\n",
            "                         mining       1.00      1.00      1.00         1\n",
            "                         museum       1.00      1.00      1.00         1\n",
            "                   music_studio       1.00      1.00      1.00         1\n",
            "                           park       0.33      1.00      0.50         1\n",
            "                       pharmacy       0.00      0.00      0.00         1\n",
            "            point_of_interest r       1.00      1.00      1.00         1\n",
            "                         police       0.00      0.00      0.00         1\n",
            "                    post_office       0.00      0.00      0.00         1\n",
            "                 primary_school       0.00      0.00      0.00         1\n",
            "                       printing       0.50      1.00      0.67         1\n",
            "                      publisher       0.50      1.00      0.67         1\n",
            "             real_estate_agency       0.00      0.00      0.00         1\n",
            "                         rental       0.50      1.00      0.67         1\n",
            "                     researcher       0.00      0.00      0.00         1\n",
            "                     restaurant       0.00      0.00      0.00         1\n",
            "                         school       0.33      1.00      0.50         1\n",
            "               secondary_school       0.00      0.00      0.00         1\n",
            "                  shopping_mall       0.00      0.00      0.00         1\n",
            "                          store       0.00      0.00      0.00         1\n",
            "                    supermarket       0.00      0.00      0.00         1\n",
            "                         tailor       1.00      1.00      1.00         1\n",
            "                  travel_agency       1.00      1.00      1.00         1\n",
            "                     university       0.00      0.00      0.00         1\n",
            "                veterinary_care       0.50      1.00      0.67         1\n",
            "                    water_depot       1.00      1.00      1.00         1\n",
            "                water_treatment       0.00      0.00      0.00         1\n",
            "                      waterpark       0.33      1.00      0.50         1\n",
            "\n",
            "                       accuracy                           0.44        75\n",
            "                      macro avg       0.29      0.44      0.33        75\n",
            "                   weighted avg       0.29      0.44      0.33        75\n",
            "\n"
          ]
        },
        {
          "output_type": "stream",
          "name": "stderr",
          "text": [
            "Epoch 6: 100%|██████████| 21/21 [00:04<00:00,  5.22it/s]\n"
          ]
        },
        {
          "output_type": "stream",
          "name": "stdout",
          "text": [
            "Epoch 6 | Train Loss: 3.1040 | Val Accuracy: 0.5333\n",
            "Classification Report:\n",
            "                                 precision    recall  f1-score   support\n",
            "\n",
            "                     accounting       0.00      0.00      0.00         1\n",
            "                    agriculture       0.50      1.00      0.67         1\n",
            "                        airport       0.50      1.00      0.67         1\n",
            "              architecture_firm       0.00      0.00      0.00         1\n",
            "                    art_gallery       1.00      1.00      1.00         1\n",
            "                            atm       1.00      1.00      1.00         1\n",
            "                           bank       0.50      1.00      0.67         1\n",
            "                            bar       0.00      0.00      0.00         1\n",
            "                   beauty_salon       0.00      0.00      0.00         1\n",
            "                          bureu       1.00      1.00      1.00         1\n",
            "                           cafe       1.00      1.00      1.00         1\n",
            "                     car_dealer       0.00      0.00      0.00         1\n",
            "                     car_repair       0.33      1.00      0.50         1\n",
            "                        charity       0.00      0.00      0.00         1\n",
            "                 clothing_store       0.50      1.00      0.67         1\n",
            "                     consultant       0.33      1.00      0.50         1\n",
            "              convenience_store       0.00      0.00      0.00         1\n",
            "                        dentist       0.33      1.00      0.50         1\n",
            "                         design       0.00      0.00      0.00         1\n",
            "        digital_and_information       0.00      0.00      0.00         1\n",
            "                         doctor       0.00      0.00      0.00         1\n",
            "                    electrician       0.00      0.00      0.00         1\n",
            "              electronic_repair       0.00      0.00      0.00         1\n",
            "                        embassy       0.00      0.00      0.00         1\n",
            "                establishment c       0.00      0.00      0.00         1\n",
            "                establishment p       0.00      0.00      0.00         1\n",
            "                establishment r       1.00      1.00      1.00         1\n",
            "                        finance       0.00      0.00      0.00         1\n",
            "                        fishery       0.00      0.00      0.00         1\n",
            "                        florist       1.00      1.00      1.00         1\n",
            "                           food       0.50      1.00      0.67         1\n",
            "                furniture_store       1.00      1.00      1.00         1\n",
            "             general_contractor       0.00      0.00      0.00         1\n",
            "         grocery_or_supermarket       0.00      0.00      0.00         1\n",
            "                            gym       1.00      1.00      1.00         1\n",
            "                      hair_care       0.50      1.00      0.67         1\n",
            "                         health       0.00      0.00      0.00         1\n",
            "                       hospital       0.00      0.00      0.00         1\n",
            "               insurance_agency       1.00      1.00      1.00         1\n",
            "international_government_office       0.33      1.00      0.50         1\n",
            "                        laundry       0.00      0.00      0.00         1\n",
            "                         lawyer       1.00      1.00      1.00         1\n",
            "                        library       1.00      1.00      1.00         1\n",
            "        local_government_office       0.00      0.00      0.00         1\n",
            "                        lodging       0.00      0.00      0.00         1\n",
            "                       logistic       0.00      0.00      0.00         1\n",
            "                     management       0.00      0.00      0.00         1\n",
            "                  meal_takeaway       1.00      1.00      1.00         1\n",
            "                         mining       1.00      1.00      1.00         1\n",
            "                         museum       1.00      1.00      1.00         1\n",
            "                   music_studio       1.00      1.00      1.00         1\n",
            "                           park       0.50      1.00      0.67         1\n",
            "                       pharmacy       0.00      0.00      0.00         1\n",
            "            point_of_interest r       1.00      1.00      1.00         1\n",
            "                         police       0.50      1.00      0.67         1\n",
            "                    post_office       0.00      0.00      0.00         1\n",
            "                 primary_school       0.00      0.00      0.00         1\n",
            "                       printing       0.33      1.00      0.50         1\n",
            "                      publisher       0.25      1.00      0.40         1\n",
            "             real_estate_agency       1.00      1.00      1.00         1\n",
            "                         rental       1.00      1.00      1.00         1\n",
            "                     researcher       1.00      1.00      1.00         1\n",
            "                     restaurant       0.00      0.00      0.00         1\n",
            "                         school       0.50      1.00      0.67         1\n",
            "               secondary_school       0.00      0.00      0.00         1\n",
            "                  shopping_mall       0.00      0.00      0.00         1\n",
            "                          store       1.00      1.00      1.00         1\n",
            "                    supermarket       0.00      0.00      0.00         1\n",
            "                         tailor       1.00      1.00      1.00         1\n",
            "                  travel_agency       1.00      1.00      1.00         1\n",
            "                     university       0.00      0.00      0.00         1\n",
            "                veterinary_care       1.00      1.00      1.00         1\n",
            "                    water_depot       1.00      1.00      1.00         1\n",
            "                water_treatment       0.00      0.00      0.00         1\n",
            "                      waterpark       0.50      1.00      0.67         1\n",
            "\n",
            "                       accuracy                           0.53        75\n",
            "                      macro avg       0.41      0.53      0.45        75\n",
            "                   weighted avg       0.41      0.53      0.45        75\n",
            "\n"
          ]
        },
        {
          "output_type": "stream",
          "name": "stderr",
          "text": [
            "Epoch 7: 100%|██████████| 21/21 [00:04<00:00,  5.14it/s]\n"
          ]
        },
        {
          "output_type": "stream",
          "name": "stdout",
          "text": [
            "Epoch 7 | Train Loss: 2.8743 | Val Accuracy: 0.6400\n",
            "Classification Report:\n",
            "                                 precision    recall  f1-score   support\n",
            "\n",
            "                     accounting       1.00      1.00      1.00         1\n",
            "                    agriculture       0.50      1.00      0.67         1\n",
            "                        airport       1.00      1.00      1.00         1\n",
            "              architecture_firm       0.00      0.00      0.00         1\n",
            "                    art_gallery       1.00      1.00      1.00         1\n",
            "                            atm       1.00      1.00      1.00         1\n",
            "                           bank       0.50      1.00      0.67         1\n",
            "                            bar       0.00      0.00      0.00         1\n",
            "                   beauty_salon       0.00      0.00      0.00         1\n",
            "                          bureu       1.00      1.00      1.00         1\n",
            "                           cafe       1.00      1.00      1.00         1\n",
            "                     car_dealer       0.00      0.00      0.00         1\n",
            "                     car_repair       0.33      1.00      0.50         1\n",
            "                        charity       0.00      0.00      0.00         1\n",
            "                 clothing_store       0.50      1.00      0.67         1\n",
            "                     consultant       0.50      1.00      0.67         1\n",
            "              convenience_store       0.00      0.00      0.00         1\n",
            "                        dentist       0.33      1.00      0.50         1\n",
            "                         design       0.00      0.00      0.00         1\n",
            "        digital_and_information       0.00      0.00      0.00         1\n",
            "                         doctor       0.00      0.00      0.00         1\n",
            "                    electrician       0.00      0.00      0.00         1\n",
            "              electronic_repair       0.00      0.00      0.00         1\n",
            "                        embassy       0.00      0.00      0.00         1\n",
            "                establishment c       0.00      0.00      0.00         1\n",
            "                establishment p       1.00      1.00      1.00         1\n",
            "                establishment r       1.00      1.00      1.00         1\n",
            "                        finance       0.00      0.00      0.00         1\n",
            "                        fishery       0.00      0.00      0.00         1\n",
            "                        florist       1.00      1.00      1.00         1\n",
            "                           food       0.50      1.00      0.67         1\n",
            "                furniture_store       1.00      1.00      1.00         1\n",
            "             general_contractor       0.00      0.00      0.00         1\n",
            "         grocery_or_supermarket       0.00      0.00      0.00         1\n",
            "                            gym       1.00      1.00      1.00         1\n",
            "                      hair_care       0.50      1.00      0.67         1\n",
            "                         health       1.00      1.00      1.00         1\n",
            "                       hospital       0.00      0.00      0.00         1\n",
            "               insurance_agency       0.50      1.00      0.67         1\n",
            "international_government_office       0.33      1.00      0.50         1\n",
            "                        laundry       0.00      0.00      0.00         1\n",
            "                         lawyer       1.00      1.00      1.00         1\n",
            "                        library       1.00      1.00      1.00         1\n",
            "        local_government_office       0.00      0.00      0.00         1\n",
            "                        lodging       1.00      1.00      1.00         1\n",
            "                       logistic       1.00      1.00      1.00         1\n",
            "                     management       0.00      0.00      0.00         1\n",
            "                  meal_takeaway       1.00      1.00      1.00         1\n",
            "                         mining       1.00      1.00      1.00         1\n",
            "                         museum       1.00      1.00      1.00         1\n",
            "                   music_studio       1.00      1.00      1.00         1\n",
            "                           park       1.00      1.00      1.00         1\n",
            "                       pharmacy       0.00      0.00      0.00         1\n",
            "            point_of_interest r       1.00      1.00      1.00         1\n",
            "                         police       0.50      1.00      0.67         1\n",
            "                    post_office       0.00      0.00      0.00         1\n",
            "                 primary_school       0.00      0.00      0.00         1\n",
            "                       printing       0.50      1.00      0.67         1\n",
            "                      publisher       0.50      1.00      0.67         1\n",
            "             real_estate_agency       1.00      1.00      1.00         1\n",
            "                         rental       1.00      1.00      1.00         1\n",
            "                     researcher       1.00      1.00      1.00         1\n",
            "                     restaurant       0.00      0.00      0.00         1\n",
            "                         school       0.50      1.00      0.67         1\n",
            "               secondary_school       0.00      0.00      0.00         1\n",
            "                  shopping_mall       0.50      1.00      0.67         1\n",
            "                          store       1.00      1.00      1.00         1\n",
            "                    supermarket       0.00      0.00      0.00         1\n",
            "                         tailor       0.50      1.00      0.67         1\n",
            "                  travel_agency       1.00      1.00      1.00         1\n",
            "                     university       0.50      1.00      0.67         1\n",
            "                veterinary_care       1.00      1.00      1.00         1\n",
            "                    water_depot       1.00      1.00      1.00         1\n",
            "                water_treatment       0.50      1.00      0.67         1\n",
            "                      waterpark       1.00      1.00      1.00         1\n",
            "\n",
            "                       accuracy                           0.64        75\n",
            "                      macro avg       0.51      0.64      0.55        75\n",
            "                   weighted avg       0.51      0.64      0.55        75\n",
            "\n"
          ]
        },
        {
          "output_type": "stream",
          "name": "stderr",
          "text": [
            "Epoch 8: 100%|██████████| 21/21 [00:04<00:00,  5.16it/s]\n"
          ]
        },
        {
          "output_type": "stream",
          "name": "stdout",
          "text": [
            "Epoch 8 | Train Loss: 2.7074 | Val Accuracy: 0.7200\n",
            "Classification Report:\n",
            "                                 precision    recall  f1-score   support\n",
            "\n",
            "                     accounting       1.00      1.00      1.00         1\n",
            "                    agriculture       0.50      1.00      0.67         1\n",
            "                        airport       1.00      1.00      1.00         1\n",
            "              architecture_firm       0.00      0.00      0.00         1\n",
            "                    art_gallery       1.00      1.00      1.00         1\n",
            "                            atm       1.00      1.00      1.00         1\n",
            "                           bank       1.00      1.00      1.00         1\n",
            "                            bar       0.00      0.00      0.00         1\n",
            "                   beauty_salon       1.00      1.00      1.00         1\n",
            "                          bureu       1.00      1.00      1.00         1\n",
            "                           cafe       1.00      1.00      1.00         1\n",
            "                     car_dealer       0.00      0.00      0.00         1\n",
            "                     car_repair       0.33      1.00      0.50         1\n",
            "                        charity       0.00      0.00      0.00         1\n",
            "                 clothing_store       1.00      1.00      1.00         1\n",
            "                     consultant       0.50      1.00      0.67         1\n",
            "              convenience_store       0.00      0.00      0.00         1\n",
            "                        dentist       0.33      1.00      0.50         1\n",
            "                         design       0.00      0.00      0.00         1\n",
            "        digital_and_information       1.00      1.00      1.00         1\n",
            "                         doctor       0.00      0.00      0.00         1\n",
            "                    electrician       0.00      0.00      0.00         1\n",
            "              electronic_repair       0.00      0.00      0.00         1\n",
            "                        embassy       0.00      0.00      0.00         1\n",
            "                establishment c       0.00      0.00      0.00         1\n",
            "                establishment p       1.00      1.00      1.00         1\n",
            "                establishment r       1.00      1.00      1.00         1\n",
            "                        finance       1.00      1.00      1.00         1\n",
            "                        fishery       0.00      0.00      0.00         1\n",
            "                        florist       0.50      1.00      0.67         1\n",
            "                           food       0.50      1.00      0.67         1\n",
            "                furniture_store       1.00      1.00      1.00         1\n",
            "             general_contractor       0.50      1.00      0.67         1\n",
            "         grocery_or_supermarket       0.00      0.00      0.00         1\n",
            "                            gym       1.00      1.00      1.00         1\n",
            "                      hair_care       1.00      1.00      1.00         1\n",
            "                         health       1.00      1.00      1.00         1\n",
            "                       hospital       0.00      0.00      0.00         1\n",
            "               insurance_agency       0.50      1.00      0.67         1\n",
            "international_government_office       0.50      1.00      0.67         1\n",
            "                        laundry       0.00      0.00      0.00         1\n",
            "                         lawyer       1.00      1.00      1.00         1\n",
            "                        library       1.00      1.00      1.00         1\n",
            "        local_government_office       0.00      0.00      0.00         1\n",
            "                        lodging       1.00      1.00      1.00         1\n",
            "                       logistic       1.00      1.00      1.00         1\n",
            "                     management       1.00      1.00      1.00         1\n",
            "                  meal_takeaway       1.00      1.00      1.00         1\n",
            "                         mining       1.00      1.00      1.00         1\n",
            "                         museum       1.00      1.00      1.00         1\n",
            "                   music_studio       1.00      1.00      1.00         1\n",
            "                           park       1.00      1.00      1.00         1\n",
            "                       pharmacy       0.00      0.00      0.00         1\n",
            "            point_of_interest r       1.00      1.00      1.00         1\n",
            "                         police       0.50      1.00      0.67         1\n",
            "                    post_office       0.00      0.00      0.00         1\n",
            "                 primary_school       1.00      1.00      1.00         1\n",
            "                       printing       0.50      1.00      0.67         1\n",
            "                      publisher       1.00      1.00      1.00         1\n",
            "             real_estate_agency       1.00      1.00      1.00         1\n",
            "                         rental       1.00      1.00      1.00         1\n",
            "                     researcher       1.00      1.00      1.00         1\n",
            "                     restaurant       0.00      0.00      0.00         1\n",
            "                         school       0.50      1.00      0.67         1\n",
            "               secondary_school       0.00      0.00      0.00         1\n",
            "                  shopping_mall       0.50      1.00      0.67         1\n",
            "                          store       1.00      1.00      1.00         1\n",
            "                    supermarket       0.00      0.00      0.00         1\n",
            "                         tailor       0.50      1.00      0.67         1\n",
            "                  travel_agency       1.00      1.00      1.00         1\n",
            "                     university       0.50      1.00      0.67         1\n",
            "                veterinary_care       1.00      1.00      1.00         1\n",
            "                    water_depot       1.00      1.00      1.00         1\n",
            "                water_treatment       1.00      1.00      1.00         1\n",
            "                      waterpark       1.00      1.00      1.00         1\n",
            "\n",
            "                       accuracy                           0.72        75\n",
            "                      macro avg       0.62      0.72      0.65        75\n",
            "                   weighted avg       0.62      0.72      0.65        75\n",
            "\n"
          ]
        },
        {
          "output_type": "stream",
          "name": "stderr",
          "text": [
            "Epoch 9: 100%|██████████| 21/21 [00:04<00:00,  5.24it/s]\n"
          ]
        },
        {
          "output_type": "stream",
          "name": "stdout",
          "text": [
            "Epoch 9 | Train Loss: 2.5404 | Val Accuracy: 0.7333\n",
            "Classification Report:\n",
            "                                 precision    recall  f1-score   support\n",
            "\n",
            "                     accounting       1.00      1.00      1.00         1\n",
            "                    agriculture       0.50      1.00      0.67         1\n",
            "                        airport       1.00      1.00      1.00         1\n",
            "              architecture_firm       0.00      0.00      0.00         1\n",
            "                    art_gallery       1.00      1.00      1.00         1\n",
            "                            atm       1.00      1.00      1.00         1\n",
            "                           bank       1.00      1.00      1.00         1\n",
            "                            bar       0.00      0.00      0.00         1\n",
            "                   beauty_salon       0.00      0.00      0.00         1\n",
            "                          bureu       0.50      1.00      0.67         1\n",
            "                           cafe       1.00      1.00      1.00         1\n",
            "                     car_dealer       1.00      1.00      1.00         1\n",
            "                     car_repair       0.50      1.00      0.67         1\n",
            "                        charity       0.00      0.00      0.00         1\n",
            "                 clothing_store       1.00      1.00      1.00         1\n",
            "                     consultant       0.50      1.00      0.67         1\n",
            "              convenience_store       0.00      0.00      0.00         1\n",
            "                        dentist       0.33      1.00      0.50         1\n",
            "                         design       0.00      0.00      0.00         1\n",
            "        digital_and_information       1.00      1.00      1.00         1\n",
            "                         doctor       0.00      0.00      0.00         1\n",
            "                    electrician       0.50      1.00      0.67         1\n",
            "              electronic_repair       0.00      0.00      0.00         1\n",
            "                        embassy       0.00      0.00      0.00         1\n",
            "                establishment c       0.00      0.00      0.00         1\n",
            "                establishment p       1.00      1.00      1.00         1\n",
            "                establishment r       1.00      1.00      1.00         1\n",
            "                        finance       1.00      1.00      1.00         1\n",
            "                        fishery       0.00      0.00      0.00         1\n",
            "                        florist       0.50      1.00      0.67         1\n",
            "                           food       0.50      1.00      0.67         1\n",
            "                furniture_store       1.00      1.00      1.00         1\n",
            "             general_contractor       1.00      1.00      1.00         1\n",
            "         grocery_or_supermarket       0.00      0.00      0.00         1\n",
            "                            gym       1.00      1.00      1.00         1\n",
            "                      hair_care       0.50      1.00      0.67         1\n",
            "                         health       1.00      1.00      1.00         1\n",
            "                       hospital       0.00      0.00      0.00         1\n",
            "               insurance_agency       0.50      1.00      0.67         1\n",
            "international_government_office       0.50      1.00      0.67         1\n",
            "                        laundry       0.00      0.00      0.00         1\n",
            "                         lawyer       0.00      0.00      0.00         1\n",
            "                        library       1.00      1.00      1.00         1\n",
            "        local_government_office       0.00      0.00      0.00         1\n",
            "                        lodging       1.00      1.00      1.00         1\n",
            "                       logistic       1.00      1.00      1.00         1\n",
            "                     management       1.00      1.00      1.00         1\n",
            "                  meal_takeaway       1.00      1.00      1.00         1\n",
            "                         mining       1.00      1.00      1.00         1\n",
            "                         museum       1.00      1.00      1.00         1\n",
            "                   music_studio       1.00      1.00      1.00         1\n",
            "                           park       1.00      1.00      1.00         1\n",
            "                       pharmacy       0.00      0.00      0.00         1\n",
            "            point_of_interest r       1.00      1.00      1.00         1\n",
            "                         police       1.00      1.00      1.00         1\n",
            "                    post_office       1.00      1.00      1.00         1\n",
            "                 primary_school       1.00      1.00      1.00         1\n",
            "                       printing       0.50      1.00      0.67         1\n",
            "                      publisher       1.00      1.00      1.00         1\n",
            "             real_estate_agency       1.00      1.00      1.00         1\n",
            "                         rental       1.00      1.00      1.00         1\n",
            "                     researcher       1.00      1.00      1.00         1\n",
            "                     restaurant       0.00      0.00      0.00         1\n",
            "                         school       0.50      1.00      0.67         1\n",
            "               secondary_school       0.00      0.00      0.00         1\n",
            "                  shopping_mall       0.50      1.00      0.67         1\n",
            "                          store       1.00      1.00      1.00         1\n",
            "                    supermarket       0.00      0.00      0.00         1\n",
            "                         tailor       0.50      1.00      0.67         1\n",
            "                  travel_agency       1.00      1.00      1.00         1\n",
            "                     university       0.50      1.00      0.67         1\n",
            "                veterinary_care       1.00      1.00      1.00         1\n",
            "                    water_depot       1.00      1.00      1.00         1\n",
            "                water_treatment       1.00      1.00      1.00         1\n",
            "                      waterpark       1.00      1.00      1.00         1\n",
            "\n",
            "                       accuracy                           0.73        75\n",
            "                      macro avg       0.62      0.73      0.66        75\n",
            "                   weighted avg       0.62      0.73      0.66        75\n",
            "\n"
          ]
        },
        {
          "output_type": "stream",
          "name": "stderr",
          "text": [
            "Epoch 10: 100%|██████████| 21/21 [00:03<00:00,  5.26it/s]\n"
          ]
        },
        {
          "output_type": "stream",
          "name": "stdout",
          "text": [
            "Epoch 10 | Train Loss: 2.4839 | Val Accuracy: 0.7467\n",
            "Classification Report:\n",
            "                                 precision    recall  f1-score   support\n",
            "\n",
            "                     accounting       1.00      1.00      1.00         1\n",
            "                    agriculture       1.00      1.00      1.00         1\n",
            "                        airport       1.00      1.00      1.00         1\n",
            "              architecture_firm       0.00      0.00      0.00         1\n",
            "                    art_gallery       1.00      1.00      1.00         1\n",
            "                            atm       1.00      1.00      1.00         1\n",
            "                           bank       0.50      1.00      0.67         1\n",
            "                            bar       0.00      0.00      0.00         1\n",
            "                   beauty_salon       1.00      1.00      1.00         1\n",
            "                          bureu       1.00      1.00      1.00         1\n",
            "                           cafe       1.00      1.00      1.00         1\n",
            "                     car_dealer       1.00      1.00      1.00         1\n",
            "                     car_repair       0.50      1.00      0.67         1\n",
            "                        charity       0.00      0.00      0.00         1\n",
            "                 clothing_store       1.00      1.00      1.00         1\n",
            "                     consultant       0.50      1.00      0.67         1\n",
            "              convenience_store       0.00      0.00      0.00         1\n",
            "                        dentist       1.00      1.00      1.00         1\n",
            "                         design       0.00      0.00      0.00         1\n",
            "        digital_and_information       1.00      1.00      1.00         1\n",
            "                         doctor       1.00      1.00      1.00         1\n",
            "                    electrician       0.00      0.00      0.00         1\n",
            "              electronic_repair       0.00      0.00      0.00         1\n",
            "                        embassy       0.00      0.00      0.00         1\n",
            "                establishment c       0.00      0.00      0.00         1\n",
            "                establishment p       1.00      1.00      1.00         1\n",
            "                establishment r       0.00      0.00      0.00         1\n",
            "                        finance       0.00      0.00      0.00         1\n",
            "                        fishery       1.00      1.00      1.00         1\n",
            "                        florist       0.50      1.00      0.67         1\n",
            "                           food       0.50      1.00      0.67         1\n",
            "                furniture_store       1.00      1.00      1.00         1\n",
            "             general_contractor       0.50      1.00      0.67         1\n",
            "         grocery_or_supermarket       0.00      0.00      0.00         1\n",
            "                            gym       1.00      1.00      1.00         1\n",
            "                      hair_care       1.00      1.00      1.00         1\n",
            "                         health       1.00      1.00      1.00         1\n",
            "                       hospital       1.00      1.00      1.00         1\n",
            "               insurance_agency       0.50      1.00      0.67         1\n",
            "international_government_office       0.50      1.00      0.67         1\n",
            "                        laundry       0.00      0.00      0.00         1\n",
            "                         lawyer       1.00      1.00      1.00         1\n",
            "                        library       1.00      1.00      1.00         1\n",
            "        local_government_office       0.00      0.00      0.00         1\n",
            "                        lodging       1.00      1.00      1.00         1\n",
            "                       logistic       1.00      1.00      1.00         1\n",
            "                     management       1.00      1.00      1.00         1\n",
            "                  meal_takeaway       1.00      1.00      1.00         1\n",
            "                         mining       1.00      1.00      1.00         1\n",
            "                         museum       1.00      1.00      1.00         1\n",
            "                   music_studio       1.00      1.00      1.00         1\n",
            "                           park       1.00      1.00      1.00         1\n",
            "                       pharmacy       0.00      0.00      0.00         1\n",
            "            point_of_interest r       0.50      1.00      0.67         1\n",
            "                         police       1.00      1.00      1.00         1\n",
            "                    post_office       0.50      1.00      0.67         1\n",
            "                 primary_school       0.50      1.00      0.67         1\n",
            "                       printing       0.50      1.00      0.67         1\n",
            "                      publisher       1.00      1.00      1.00         1\n",
            "             real_estate_agency       1.00      1.00      1.00         1\n",
            "                         rental       1.00      1.00      1.00         1\n",
            "                     researcher       1.00      1.00      1.00         1\n",
            "                     restaurant       0.00      0.00      0.00         1\n",
            "                         school       1.00      1.00      1.00         1\n",
            "               secondary_school       0.00      0.00      0.00         1\n",
            "                  shopping_mall       0.00      0.00      0.00         1\n",
            "                          store       1.00      1.00      1.00         1\n",
            "                    supermarket       0.00      0.00      0.00         1\n",
            "                         tailor       1.00      1.00      1.00         1\n",
            "                  travel_agency       1.00      1.00      1.00         1\n",
            "                     university       0.50      1.00      0.67         1\n",
            "                veterinary_care       1.00      1.00      1.00         1\n",
            "                    water_depot       1.00      1.00      1.00         1\n",
            "                water_treatment       1.00      1.00      1.00         1\n",
            "                      waterpark       1.00      1.00      1.00         1\n",
            "\n",
            "                       accuracy                           0.75        75\n",
            "                      macro avg       0.66      0.75      0.69        75\n",
            "                   weighted avg       0.66      0.75      0.69        75\n",
            "\n"
          ]
        },
        {
          "output_type": "stream",
          "name": "stderr",
          "text": [
            "Epoch 11: 100%|██████████| 21/21 [00:03<00:00,  5.38it/s]\n"
          ]
        },
        {
          "output_type": "stream",
          "name": "stdout",
          "text": [
            "Epoch 11 | Train Loss: 2.3903 | Val Accuracy: 0.7867\n",
            "Classification Report:\n",
            "                                 precision    recall  f1-score   support\n",
            "\n",
            "                     accounting       1.00      1.00      1.00         1\n",
            "                    agriculture       1.00      1.00      1.00         1\n",
            "                        airport       1.00      1.00      1.00         1\n",
            "              architecture_firm       1.00      1.00      1.00         1\n",
            "                    art_gallery       1.00      1.00      1.00         1\n",
            "                            atm       1.00      1.00      1.00         1\n",
            "                           bank       1.00      1.00      1.00         1\n",
            "                            bar       0.00      0.00      0.00         1\n",
            "                   beauty_salon       1.00      1.00      1.00         1\n",
            "                          bureu       0.50      1.00      0.67         1\n",
            "                           cafe       1.00      1.00      1.00         1\n",
            "                     car_dealer       1.00      1.00      1.00         1\n",
            "                     car_repair       0.50      1.00      0.67         1\n",
            "                        charity       0.00      0.00      0.00         1\n",
            "                 clothing_store       1.00      1.00      1.00         1\n",
            "                     consultant       1.00      1.00      1.00         1\n",
            "              convenience_store       0.00      0.00      0.00         1\n",
            "                        dentist       0.50      1.00      0.67         1\n",
            "                         design       0.00      0.00      0.00         1\n",
            "        digital_and_information       1.00      1.00      1.00         1\n",
            "                         doctor       1.00      1.00      1.00         1\n",
            "                    electrician       0.50      1.00      0.67         1\n",
            "              electronic_repair       0.00      0.00      0.00         1\n",
            "                        embassy       0.00      0.00      0.00         1\n",
            "                establishment c       0.00      0.00      0.00         1\n",
            "                establishment p       1.00      1.00      1.00         1\n",
            "                establishment r       1.00      1.00      1.00         1\n",
            "                        finance       1.00      1.00      1.00         1\n",
            "                        fishery       1.00      1.00      1.00         1\n",
            "                        florist       0.50      1.00      0.67         1\n",
            "                           food       0.50      1.00      0.67         1\n",
            "                furniture_store       1.00      1.00      1.00         1\n",
            "             general_contractor       1.00      1.00      1.00         1\n",
            "         grocery_or_supermarket       0.00      0.00      0.00         1\n",
            "                            gym       1.00      1.00      1.00         1\n",
            "                      hair_care       1.00      1.00      1.00         1\n",
            "                         health       1.00      1.00      1.00         1\n",
            "                       hospital       0.00      0.00      0.00         1\n",
            "               insurance_agency       0.50      1.00      0.67         1\n",
            "international_government_office       0.50      1.00      0.67         1\n",
            "                        laundry       0.00      0.00      0.00         1\n",
            "                         lawyer       0.00      0.00      0.00         1\n",
            "                        library       1.00      1.00      1.00         1\n",
            "        local_government_office       0.00      0.00      0.00         1\n",
            "                        lodging       1.00      1.00      1.00         1\n",
            "                       logistic       1.00      1.00      1.00         1\n",
            "                     management       1.00      1.00      1.00         1\n",
            "                  meal_takeaway       1.00      1.00      1.00         1\n",
            "                         mining       1.00      1.00      1.00         1\n",
            "                         museum       1.00      1.00      1.00         1\n",
            "                   music_studio       1.00      1.00      1.00         1\n",
            "                           park       1.00      1.00      1.00         1\n",
            "                       pharmacy       0.00      0.00      0.00         1\n",
            "            point_of_interest r       1.00      1.00      1.00         1\n",
            "                         police       1.00      1.00      1.00         1\n",
            "                    post_office       1.00      1.00      1.00         1\n",
            "                 primary_school       1.00      1.00      1.00         1\n",
            "                       printing       0.50      1.00      0.67         1\n",
            "                      publisher       1.00      1.00      1.00         1\n",
            "             real_estate_agency       1.00      1.00      1.00         1\n",
            "                         rental       1.00      1.00      1.00         1\n",
            "                     researcher       1.00      1.00      1.00         1\n",
            "                     restaurant       0.00      0.00      0.00         1\n",
            "                         school       0.50      1.00      0.67         1\n",
            "               secondary_school       0.00      0.00      0.00         1\n",
            "                  shopping_mall       0.00      0.00      0.00         1\n",
            "                          store       1.00      1.00      1.00         1\n",
            "                    supermarket       0.33      1.00      0.50         1\n",
            "                         tailor       0.50      1.00      0.67         1\n",
            "                  travel_agency       1.00      1.00      1.00         1\n",
            "                     university       0.50      1.00      0.67         1\n",
            "                veterinary_care       1.00      1.00      1.00         1\n",
            "                    water_depot       1.00      1.00      1.00         1\n",
            "                water_treatment       1.00      1.00      1.00         1\n",
            "                      waterpark       1.00      1.00      1.00         1\n",
            "\n",
            "                       accuracy                           0.79        75\n",
            "                      macro avg       0.70      0.79      0.73        75\n",
            "                   weighted avg       0.70      0.79      0.73        75\n",
            "\n"
          ]
        },
        {
          "output_type": "stream",
          "name": "stderr",
          "text": [
            "Epoch 12: 100%|██████████| 21/21 [00:03<00:00,  5.40it/s]\n"
          ]
        },
        {
          "output_type": "stream",
          "name": "stdout",
          "text": [
            "Epoch 12 | Train Loss: 2.2942 | Val Accuracy: 0.8133\n",
            "Classification Report:\n",
            "                                 precision    recall  f1-score   support\n",
            "\n",
            "                     accounting       1.00      1.00      1.00         1\n",
            "                    agriculture       1.00      1.00      1.00         1\n",
            "                        airport       1.00      1.00      1.00         1\n",
            "              architecture_firm       1.00      1.00      1.00         1\n",
            "                    art_gallery       1.00      1.00      1.00         1\n",
            "                            atm       1.00      1.00      1.00         1\n",
            "                           bank       1.00      1.00      1.00         1\n",
            "                            bar       0.00      0.00      0.00         1\n",
            "                   beauty_salon       1.00      1.00      1.00         1\n",
            "                          bureu       1.00      1.00      1.00         1\n",
            "                           cafe       1.00      1.00      1.00         1\n",
            "                     car_dealer       1.00      1.00      1.00         1\n",
            "                     car_repair       1.00      1.00      1.00         1\n",
            "                        charity       0.00      0.00      0.00         1\n",
            "                 clothing_store       1.00      1.00      1.00         1\n",
            "                     consultant       1.00      1.00      1.00         1\n",
            "              convenience_store       0.00      0.00      0.00         1\n",
            "                        dentist       0.50      1.00      0.67         1\n",
            "                         design       0.00      0.00      0.00         1\n",
            "        digital_and_information       1.00      1.00      1.00         1\n",
            "                         doctor       1.00      1.00      1.00         1\n",
            "                    electrician       0.50      1.00      0.67         1\n",
            "              electronic_repair       1.00      1.00      1.00         1\n",
            "                        embassy       0.00      0.00      0.00         1\n",
            "                establishment c       0.00      0.00      0.00         1\n",
            "                establishment p       1.00      1.00      1.00         1\n",
            "                establishment r       1.00      1.00      1.00         1\n",
            "                        finance       1.00      1.00      1.00         1\n",
            "                        fishery       1.00      1.00      1.00         1\n",
            "                        florist       0.50      1.00      0.67         1\n",
            "                           food       0.50      1.00      0.67         1\n",
            "                furniture_store       1.00      1.00      1.00         1\n",
            "             general_contractor       1.00      1.00      1.00         1\n",
            "         grocery_or_supermarket       0.00      0.00      0.00         1\n",
            "                            gym       1.00      1.00      1.00         1\n",
            "                      hair_care       1.00      1.00      1.00         1\n",
            "                         health       1.00      1.00      1.00         1\n",
            "                       hospital       0.00      0.00      0.00         1\n",
            "               insurance_agency       0.50      1.00      0.67         1\n",
            "international_government_office       0.50      1.00      0.67         1\n",
            "                        laundry       0.00      0.00      0.00         1\n",
            "                         lawyer       1.00      1.00      1.00         1\n",
            "                        library       1.00      1.00      1.00         1\n",
            "        local_government_office       0.00      0.00      0.00         1\n",
            "                        lodging       1.00      1.00      1.00         1\n",
            "                       logistic       1.00      1.00      1.00         1\n",
            "                     management       1.00      1.00      1.00         1\n",
            "                  meal_takeaway       1.00      1.00      1.00         1\n",
            "                         mining       1.00      1.00      1.00         1\n",
            "                         museum       1.00      1.00      1.00         1\n",
            "                   music_studio       1.00      1.00      1.00         1\n",
            "                           park       1.00      1.00      1.00         1\n",
            "                       pharmacy       0.00      0.00      0.00         1\n",
            "            point_of_interest r       1.00      1.00      1.00         1\n",
            "                         police       1.00      1.00      1.00         1\n",
            "                    post_office       1.00      1.00      1.00         1\n",
            "                 primary_school       1.00      1.00      1.00         1\n",
            "                       printing       0.50      1.00      0.67         1\n",
            "                      publisher       1.00      1.00      1.00         1\n",
            "             real_estate_agency       1.00      1.00      1.00         1\n",
            "                         rental       1.00      1.00      1.00         1\n",
            "                     researcher       1.00      1.00      1.00         1\n",
            "                     restaurant       0.00      0.00      0.00         1\n",
            "                         school       0.50      1.00      0.67         1\n",
            "               secondary_school       0.00      0.00      0.00         1\n",
            "                  shopping_mall       0.50      1.00      0.67         1\n",
            "                          store       1.00      1.00      1.00         1\n",
            "                    supermarket       0.00      0.00      0.00         1\n",
            "                         tailor       0.50      1.00      0.67         1\n",
            "                  travel_agency       1.00      1.00      1.00         1\n",
            "                     university       0.50      1.00      0.67         1\n",
            "                veterinary_care       1.00      1.00      1.00         1\n",
            "                    water_depot       1.00      1.00      1.00         1\n",
            "                water_treatment       1.00      1.00      1.00         1\n",
            "                      waterpark       1.00      1.00      1.00         1\n",
            "\n",
            "                       accuracy                           0.81        75\n",
            "                      macro avg       0.74      0.81      0.76        75\n",
            "                   weighted avg       0.74      0.81      0.76        75\n",
            "\n"
          ]
        },
        {
          "output_type": "stream",
          "name": "stderr",
          "text": [
            "Epoch 13: 100%|██████████| 21/21 [00:03<00:00,  5.35it/s]\n"
          ]
        },
        {
          "output_type": "stream",
          "name": "stdout",
          "text": [
            "Epoch 13 | Train Loss: 2.2268 | Val Accuracy: 0.8133\n",
            "Classification Report:\n",
            "                                 precision    recall  f1-score   support\n",
            "\n",
            "                     accounting       1.00      1.00      1.00         1\n",
            "                    agriculture       0.50      1.00      0.67         1\n",
            "                        airport       1.00      1.00      1.00         1\n",
            "              architecture_firm       1.00      1.00      1.00         1\n",
            "                    art_gallery       1.00      1.00      1.00         1\n",
            "                            atm       1.00      1.00      1.00         1\n",
            "                           bank       1.00      1.00      1.00         1\n",
            "                            bar       1.00      1.00      1.00         1\n",
            "                   beauty_salon       1.00      1.00      1.00         1\n",
            "                          bureu       1.00      1.00      1.00         1\n",
            "                           cafe       1.00      1.00      1.00         1\n",
            "                     car_dealer       1.00      1.00      1.00         1\n",
            "                     car_repair       1.00      1.00      1.00         1\n",
            "                        charity       0.00      0.00      0.00         1\n",
            "                 clothing_store       1.00      1.00      1.00         1\n",
            "                     consultant       1.00      1.00      1.00         1\n",
            "              convenience_store       0.00      0.00      0.00         1\n",
            "                        dentist       0.50      1.00      0.67         1\n",
            "                         design       0.00      0.00      0.00         1\n",
            "        digital_and_information       1.00      1.00      1.00         1\n",
            "                         doctor       1.00      1.00      1.00         1\n",
            "                    electrician       0.50      1.00      0.67         1\n",
            "              electronic_repair       1.00      1.00      1.00         1\n",
            "                        embassy       0.00      0.00      0.00         1\n",
            "                establishment c       0.00      0.00      0.00         1\n",
            "                establishment p       1.00      1.00      1.00         1\n",
            "                establishment r       1.00      1.00      1.00         1\n",
            "                        finance       1.00      1.00      1.00         1\n",
            "                        fishery       0.00      0.00      0.00         1\n",
            "                        florist       0.50      1.00      0.67         1\n",
            "                           food       0.50      1.00      0.67         1\n",
            "                furniture_store       1.00      1.00      1.00         1\n",
            "             general_contractor       1.00      1.00      1.00         1\n",
            "         grocery_or_supermarket       0.00      0.00      0.00         1\n",
            "                            gym       1.00      1.00      1.00         1\n",
            "                      hair_care       1.00      1.00      1.00         1\n",
            "                         health       1.00      1.00      1.00         1\n",
            "                       hospital       0.00      0.00      0.00         1\n",
            "               insurance_agency       0.50      1.00      0.67         1\n",
            "international_government_office       0.50      1.00      0.67         1\n",
            "                        laundry       0.00      0.00      0.00         1\n",
            "                         lawyer       1.00      1.00      1.00         1\n",
            "                        library       1.00      1.00      1.00         1\n",
            "        local_government_office       0.00      0.00      0.00         1\n",
            "                        lodging       1.00      1.00      1.00         1\n",
            "                       logistic       1.00      1.00      1.00         1\n",
            "                     management       1.00      1.00      1.00         1\n",
            "                  meal_takeaway       1.00      1.00      1.00         1\n",
            "                         mining       1.00      1.00      1.00         1\n",
            "                         museum       1.00      1.00      1.00         1\n",
            "                   music_studio       1.00      1.00      1.00         1\n",
            "                           park       1.00      1.00      1.00         1\n",
            "                       pharmacy       0.00      0.00      0.00         1\n",
            "            point_of_interest r       1.00      1.00      1.00         1\n",
            "                         police       1.00      1.00      1.00         1\n",
            "                    post_office       1.00      1.00      1.00         1\n",
            "                 primary_school       1.00      1.00      1.00         1\n",
            "                       printing       0.50      1.00      0.67         1\n",
            "                      publisher       1.00      1.00      1.00         1\n",
            "             real_estate_agency       1.00      1.00      1.00         1\n",
            "                         rental       1.00      1.00      1.00         1\n",
            "                     researcher       1.00      1.00      1.00         1\n",
            "                     restaurant       0.00      0.00      0.00         1\n",
            "                         school       0.50      1.00      0.67         1\n",
            "               secondary_school       0.00      0.00      0.00         1\n",
            "                  shopping_mall       0.50      1.00      0.67         1\n",
            "                          store       1.00      1.00      1.00         1\n",
            "                    supermarket       0.00      0.00      0.00         1\n",
            "                         tailor       0.50      1.00      0.67         1\n",
            "                  travel_agency       1.00      1.00      1.00         1\n",
            "                     university       0.50      1.00      0.67         1\n",
            "                veterinary_care       1.00      1.00      1.00         1\n",
            "                    water_depot       1.00      1.00      1.00         1\n",
            "                water_treatment       1.00      1.00      1.00         1\n",
            "                      waterpark       1.00      1.00      1.00         1\n",
            "\n",
            "                       accuracy                           0.81        75\n",
            "                      macro avg       0.73      0.81      0.76        75\n",
            "                   weighted avg       0.73      0.81      0.76        75\n",
            "\n"
          ]
        },
        {
          "output_type": "stream",
          "name": "stderr",
          "text": [
            "Epoch 14: 100%|██████████| 21/21 [00:03<00:00,  5.47it/s]\n"
          ]
        },
        {
          "output_type": "stream",
          "name": "stdout",
          "text": [
            "Epoch 14 | Train Loss: 2.2032 | Val Accuracy: 0.8133\n",
            "Classification Report:\n",
            "                                 precision    recall  f1-score   support\n",
            "\n",
            "                     accounting       1.00      1.00      1.00         1\n",
            "                    agriculture       0.50      1.00      0.67         1\n",
            "                        airport       1.00      1.00      1.00         1\n",
            "              architecture_firm       1.00      1.00      1.00         1\n",
            "                    art_gallery       1.00      1.00      1.00         1\n",
            "                            atm       1.00      1.00      1.00         1\n",
            "                           bank       1.00      1.00      1.00         1\n",
            "                            bar       1.00      1.00      1.00         1\n",
            "                   beauty_salon       1.00      1.00      1.00         1\n",
            "                          bureu       1.00      1.00      1.00         1\n",
            "                           cafe       1.00      1.00      1.00         1\n",
            "                     car_dealer       1.00      1.00      1.00         1\n",
            "                     car_repair       1.00      1.00      1.00         1\n",
            "                        charity       0.00      0.00      0.00         1\n",
            "                 clothing_store       1.00      1.00      1.00         1\n",
            "                     consultant       1.00      1.00      1.00         1\n",
            "              convenience_store       0.00      0.00      0.00         1\n",
            "                        dentist       0.50      1.00      0.67         1\n",
            "                         design       0.00      0.00      0.00         1\n",
            "        digital_and_information       1.00      1.00      1.00         1\n",
            "                         doctor       1.00      1.00      1.00         1\n",
            "                    electrician       0.50      1.00      0.67         1\n",
            "              electronic_repair       1.00      1.00      1.00         1\n",
            "                        embassy       0.00      0.00      0.00         1\n",
            "                establishment c       0.00      0.00      0.00         1\n",
            "                establishment p       1.00      1.00      1.00         1\n",
            "                establishment r       1.00      1.00      1.00         1\n",
            "                        finance       1.00      1.00      1.00         1\n",
            "                        fishery       0.00      0.00      0.00         1\n",
            "                        florist       0.50      1.00      0.67         1\n",
            "                           food       0.50      1.00      0.67         1\n",
            "                furniture_store       1.00      1.00      1.00         1\n",
            "             general_contractor       1.00      1.00      1.00         1\n",
            "         grocery_or_supermarket       0.00      0.00      0.00         1\n",
            "                            gym       1.00      1.00      1.00         1\n",
            "                      hair_care       1.00      1.00      1.00         1\n",
            "                         health       1.00      1.00      1.00         1\n",
            "                       hospital       0.00      0.00      0.00         1\n",
            "               insurance_agency       0.50      1.00      0.67         1\n",
            "international_government_office       0.50      1.00      0.67         1\n",
            "                        laundry       0.00      0.00      0.00         1\n",
            "                         lawyer       1.00      1.00      1.00         1\n",
            "                        library       1.00      1.00      1.00         1\n",
            "        local_government_office       0.00      0.00      0.00         1\n",
            "                        lodging       1.00      1.00      1.00         1\n",
            "                       logistic       1.00      1.00      1.00         1\n",
            "                     management       1.00      1.00      1.00         1\n",
            "                  meal_takeaway       1.00      1.00      1.00         1\n",
            "                         mining       1.00      1.00      1.00         1\n",
            "                         museum       1.00      1.00      1.00         1\n",
            "                   music_studio       1.00      1.00      1.00         1\n",
            "                           park       1.00      1.00      1.00         1\n",
            "                       pharmacy       0.00      0.00      0.00         1\n",
            "            point_of_interest r       1.00      1.00      1.00         1\n",
            "                         police       1.00      1.00      1.00         1\n",
            "                    post_office       1.00      1.00      1.00         1\n",
            "                 primary_school       1.00      1.00      1.00         1\n",
            "                       printing       0.50      1.00      0.67         1\n",
            "                      publisher       1.00      1.00      1.00         1\n",
            "             real_estate_agency       1.00      1.00      1.00         1\n",
            "                         rental       1.00      1.00      1.00         1\n",
            "                     researcher       1.00      1.00      1.00         1\n",
            "                     restaurant       0.00      0.00      0.00         1\n",
            "                         school       0.50      1.00      0.67         1\n",
            "               secondary_school       0.00      0.00      0.00         1\n",
            "                  shopping_mall       0.00      0.00      0.00         1\n",
            "                          store       1.00      1.00      1.00         1\n",
            "                    supermarket       0.33      1.00      0.50         1\n",
            "                         tailor       0.50      1.00      0.67         1\n",
            "                  travel_agency       1.00      1.00      1.00         1\n",
            "                     university       0.50      1.00      0.67         1\n",
            "                veterinary_care       1.00      1.00      1.00         1\n",
            "                    water_depot       1.00      1.00      1.00         1\n",
            "                water_treatment       1.00      1.00      1.00         1\n",
            "                      waterpark       1.00      1.00      1.00         1\n",
            "\n",
            "                       accuracy                           0.81        75\n",
            "                      macro avg       0.73      0.81      0.76        75\n",
            "                   weighted avg       0.73      0.81      0.76        75\n",
            "\n"
          ]
        },
        {
          "output_type": "stream",
          "name": "stderr",
          "text": [
            "Epoch 15: 100%|██████████| 21/21 [00:03<00:00,  5.49it/s]\n"
          ]
        },
        {
          "output_type": "stream",
          "name": "stdout",
          "text": [
            "Epoch 15 | Train Loss: 2.1603 | Val Accuracy: 0.8133\n",
            "Classification Report:\n",
            "                                 precision    recall  f1-score   support\n",
            "\n",
            "                     accounting       1.00      1.00      1.00         1\n",
            "                    agriculture       0.50      1.00      0.67         1\n",
            "                        airport       1.00      1.00      1.00         1\n",
            "              architecture_firm       1.00      1.00      1.00         1\n",
            "                    art_gallery       1.00      1.00      1.00         1\n",
            "                            atm       1.00      1.00      1.00         1\n",
            "                           bank       1.00      1.00      1.00         1\n",
            "                            bar       0.00      0.00      0.00         1\n",
            "                   beauty_salon       1.00      1.00      1.00         1\n",
            "                          bureu       1.00      1.00      1.00         1\n",
            "                           cafe       1.00      1.00      1.00         1\n",
            "                     car_dealer       1.00      1.00      1.00         1\n",
            "                     car_repair       1.00      1.00      1.00         1\n",
            "                        charity       0.00      0.00      0.00         1\n",
            "                 clothing_store       1.00      1.00      1.00         1\n",
            "                     consultant       1.00      1.00      1.00         1\n",
            "              convenience_store       0.00      0.00      0.00         1\n",
            "                        dentist       0.50      1.00      0.67         1\n",
            "                         design       0.00      0.00      0.00         1\n",
            "        digital_and_information       1.00      1.00      1.00         1\n",
            "                         doctor       1.00      1.00      1.00         1\n",
            "                    electrician       0.50      1.00      0.67         1\n",
            "              electronic_repair       1.00      1.00      1.00         1\n",
            "                        embassy       0.00      0.00      0.00         1\n",
            "                establishment c       0.00      0.00      0.00         1\n",
            "                establishment p       1.00      1.00      1.00         1\n",
            "                establishment r       1.00      1.00      1.00         1\n",
            "                        finance       1.00      1.00      1.00         1\n",
            "                        fishery       0.00      0.00      0.00         1\n",
            "                        florist       0.50      1.00      0.67         1\n",
            "                           food       0.50      1.00      0.67         1\n",
            "                furniture_store       1.00      1.00      1.00         1\n",
            "             general_contractor       1.00      1.00      1.00         1\n",
            "         grocery_or_supermarket       0.00      0.00      0.00         1\n",
            "                            gym       1.00      1.00      1.00         1\n",
            "                      hair_care       1.00      1.00      1.00         1\n",
            "                         health       1.00      1.00      1.00         1\n",
            "                       hospital       0.00      0.00      0.00         1\n",
            "               insurance_agency       0.50      1.00      0.67         1\n",
            "international_government_office       0.50      1.00      0.67         1\n",
            "                        laundry       0.00      0.00      0.00         1\n",
            "                         lawyer       1.00      1.00      1.00         1\n",
            "                        library       1.00      1.00      1.00         1\n",
            "        local_government_office       0.00      0.00      0.00         1\n",
            "                        lodging       1.00      1.00      1.00         1\n",
            "                       logistic       1.00      1.00      1.00         1\n",
            "                     management       1.00      1.00      1.00         1\n",
            "                  meal_takeaway       1.00      1.00      1.00         1\n",
            "                         mining       1.00      1.00      1.00         1\n",
            "                         museum       1.00      1.00      1.00         1\n",
            "                   music_studio       1.00      1.00      1.00         1\n",
            "                           park       1.00      1.00      1.00         1\n",
            "                       pharmacy       0.00      0.00      0.00         1\n",
            "            point_of_interest r       1.00      1.00      1.00         1\n",
            "                         police       1.00      1.00      1.00         1\n",
            "                    post_office       1.00      1.00      1.00         1\n",
            "                 primary_school       1.00      1.00      1.00         1\n",
            "                       printing       0.50      1.00      0.67         1\n",
            "                      publisher       1.00      1.00      1.00         1\n",
            "             real_estate_agency       1.00      1.00      1.00         1\n",
            "                         rental       1.00      1.00      1.00         1\n",
            "                     researcher       1.00      1.00      1.00         1\n",
            "                     restaurant       0.00      0.00      0.00         1\n",
            "                         school       0.50      1.00      0.67         1\n",
            "               secondary_school       0.00      0.00      0.00         1\n",
            "                  shopping_mall       1.00      1.00      1.00         1\n",
            "                          store       1.00      1.00      1.00         1\n",
            "                    supermarket       0.50      1.00      0.67         1\n",
            "                         tailor       0.50      1.00      0.67         1\n",
            "                  travel_agency       1.00      1.00      1.00         1\n",
            "                     university       0.50      1.00      0.67         1\n",
            "                veterinary_care       1.00      1.00      1.00         1\n",
            "                    water_depot       1.00      1.00      1.00         1\n",
            "                water_treatment       1.00      1.00      1.00         1\n",
            "                      waterpark       1.00      1.00      1.00         1\n",
            "\n",
            "                       accuracy                           0.81        75\n",
            "                      macro avg       0.73      0.81      0.76        75\n",
            "                   weighted avg       0.73      0.81      0.76        75\n",
            "\n",
            "Early stopping triggered after epoch 15\n"
          ]
        }
      ]
    },
    {
      "cell_type": "markdown",
      "source": [
        "###SAVING THE MODEL"
      ],
      "metadata": {
        "id": "OaoiVwBSmEeX"
      }
    },
    {
      "cell_type": "code",
      "source": [
        "def save_model(model, tokenizer, label_encoder, output_dir=\"./saved_model\"):\n",
        "    import os\n",
        "    import pickle\n",
        "    import h5py\n",
        "\n",
        "    # Create directory if it doesn't exist\n",
        "    if not os.path.exists(output_dir):\n",
        "        os.makedirs(output_dir)\n",
        "\n",
        "    # Save model state dictionary using H5 format\n",
        "    torch.save(model.state_dict(), f\"{output_dir}/model_weights.h5\")\n",
        "\n",
        "    # Save model configuration (architecture) using H5 format\n",
        "    torch.save({\n",
        "        'model_state_dict': model.state_dict(),\n",
        "        'optimizer_state_dict': optimizer.state_dict(),\n",
        "        'num_labels': num_labels,\n",
        "        'model_config': model.bert.config.to_dict() if hasattr(model, 'bert') else None,\n",
        "    }, f\"{output_dir}/model_full.h5\")\n",
        "\n",
        "    # Save tokenizer\n",
        "    tokenizer.save_pretrained(output_dir)\n",
        ""
      ],
      "metadata": {
        "id": "Pi-89TqJiu05"
      },
      "execution_count": 51,
      "outputs": []
    },
    {
      "cell_type": "code",
      "source": [
        "save_model(trained_model, tokenizer, label_encoder)"
      ],
      "metadata": {
        "id": "xYAXwAETieWG"
      },
      "execution_count": 52,
      "outputs": []
    },
    {
      "cell_type": "markdown",
      "source": [
        "#SEARCH ENGINE FUNCTION"
      ],
      "metadata": {
        "id": "ISKRN2t9mG1V"
      }
    },
    {
      "cell_type": "markdown",
      "source": [
        "###PREDICT WITH TEST SET"
      ],
      "metadata": {
        "id": "r0RzkLmfmQWT"
      }
    },
    {
      "cell_type": "code",
      "source": [
        "def predict(text, model, tokenizer):\n",
        "    model.eval()\n",
        "    inputs = tokenizer(\n",
        "        text,\n",
        "        max_length=128,\n",
        "        padding='max_length',\n",
        "        truncation=True,\n",
        "        return_tensors=\"pt\"\n",
        "    )\n",
        "    input_ids = inputs['input_ids'].to(device)\n",
        "    attention_mask = inputs['attention_mask'].to(device)\n",
        "\n",
        "    with torch.no_grad():\n",
        "        outputs = model(input_ids=input_ids, attention_mask=attention_mask)\n",
        "        probs = torch.nn.functional.softmax(outputs, dim=1)\n",
        "        pred_class = torch.argmax(probs, dim=1).item()\n",
        "\n",
        "    predicted_label = label_encoder.classes_[pred_class]\n",
        "    confidence = probs[0, pred_class].item()\n",
        "\n",
        "    return predicted_label, confidence"
      ],
      "metadata": {
        "id": "g888Zmh1ebgl"
      },
      "execution_count": 43,
      "outputs": []
    },
    {
      "cell_type": "markdown",
      "source": [
        "TESTING"
      ],
      "metadata": {
        "id": "n03HJxDZmNtv"
      }
    },
    {
      "cell_type": "code",
      "source": [
        "query = \"restoran western sekitar\"\n",
        "model.eval()\n",
        "inputs = tokenizer(query, return_tensors=\"pt\", truncation=True, padding=True).to(device)\n",
        "output = model(**inputs)\n",
        "pred_label = torch.argmax(output, dim=1).item()\n",
        "pred_place_type = label_encoder.inverse_transform([pred_label])[0]\n",
        "print(f\"Detected place type: {pred_place_type}\")"
      ],
      "metadata": {
        "id": "ij48tM3oeLug",
        "colab": {
          "base_uri": "https://localhost:8080/"
        },
        "outputId": "db80c859-1b7f-45b5-f279-d7ad9ff86809"
      },
      "execution_count": 44,
      "outputs": [
        {
          "output_type": "stream",
          "name": "stderr",
          "text": [
            "Asking to truncate to max_length but no maximum length is provided and the model has no predefined maximum length. Default to no truncation.\n"
          ]
        },
        {
          "output_type": "stream",
          "name": "stdout",
          "text": [
            "Detected place type: restaurant\n"
          ]
        }
      ]
    },
    {
      "cell_type": "markdown",
      "source": [
        "###SEARCH ENGINE FUNCTION FULL TO THE DATASET"
      ],
      "metadata": {
        "id": "Dwlv3-_BmVzZ"
      }
    },
    {
      "cell_type": "code",
      "source": [
        "def haversine(lat1, lon1, lat2, lon2):\n",
        "    R = 6371  # Earth radius in KM\n",
        "    lat1, lon1, lat2, lon2 = map(np.radians, [lat1, lon1, lat2, lon2])\n",
        "    dlat = lat2 - lat1\n",
        "    dlon = lon2 - lon1\n",
        "    a = np.sin(dlat / 2)**2 + np.cos(lat1) * np.cos(lat2) * np.sin(dlon / 2)**2\n",
        "    return 2 * R * np.arcsin(np.sqrt(a))"
      ],
      "metadata": {
        "id": "tLjsybY3fuTq"
      },
      "execution_count": 45,
      "outputs": []
    },
    {
      "cell_type": "code",
      "source": [
        "def filter_places_by_type_and_distance(user_query, user_lat, user_lon, model, tokenizer, label_encoder, places_df, radius_km=5):\n",
        "    # 1. Predict place type\n",
        "    model.eval()\n",
        "    inputs = tokenizer(user_query, return_tensors=\"pt\", truncation=True, padding=True).to(device)\n",
        "    outputs = model(**inputs)\n",
        "    pred_label = torch.argmax(outputs, dim=1).item()\n",
        "    place_type = label_encoder.inverse_transform([pred_label])[0]\n",
        "\n",
        "    # 2. Keyword extraction\n",
        "    keywords = user_query.lower().split()\n",
        "\n",
        "    # 3. Exact match ke nama tempat (berbasis keyword)\n",
        "    exact_match = places_df[\n",
        "        places_df['placeName'].str.lower().apply(lambda name: any(kw in name for kw in keywords))\n",
        "    ].copy()\n",
        "\n",
        "    # 4. Hitung jarak jika exact match ada\n",
        "    if not exact_match.empty:\n",
        "        exact_match['distance_km'] = haversine(user_lat, user_lon, exact_match['placeLatitude'], exact_match['placeLongitude'])\n",
        "        nearby = exact_match[exact_match['distance_km'] <= radius_km].sort_values(by='distance_km').head(5)\n",
        "        return place_type, nearby\n",
        "\n",
        "    # 5. Jika tidak ada exact match, fallback ke filter by place_type\n",
        "    match_type = places_df['placeTypes'].str.lower().str.contains(place_type.lower(), na=False)\n",
        "    fallback = places_df[match_type].copy()\n",
        "\n",
        "    fallback['distance_km'] = haversine(user_lat, user_lon, fallback['placeLatitude'], fallback['placeLongitude'])\n",
        "    nearby = fallback[fallback['distance_km'] <= radius_km].sort_values(by='distance_km').head(5)\n",
        "\n",
        "    return place_type, nearby\n"
      ],
      "metadata": {
        "id": "ZjBhm1_w4NlJ"
      },
      "execution_count": 46,
      "outputs": []
    },
    {
      "cell_type": "markdown",
      "source": [
        "TESTING WITH FULL DATASET"
      ],
      "metadata": {
        "id": "Z837qLLXmZex"
      }
    },
    {
      "cell_type": "code",
      "source": [
        "places_df = pd.read_excel(\"/content/drive/MyDrive/final_banget_pc_70_amen (1).xlsx\")\n",
        "\n",
        "user_query = \"ampera dekat saya\"\n",
        "user_lat, user_lon = 0.509954, 101.454620\n",
        "\n",
        "predicted_type, results = filter_places_by_type_and_distance(\n",
        "    user_query, user_lat, user_lon,\n",
        "    model, tokenizer, label_encoder, places_df,\n",
        "    radius_km=2\n",
        ")\n",
        "\n",
        "print(f\"Detected type: {predicted_type}\")\n",
        "print(results[['placeName', 'distance_km']])\n"
      ],
      "metadata": {
        "id": "8IQAUP5Cf5s3",
        "colab": {
          "base_uri": "https://localhost:8080/"
        },
        "outputId": "8337c5e5-b599-4510-dd73-e01d4bc48d0f"
      },
      "execution_count": 47,
      "outputs": [
        {
          "output_type": "stream",
          "name": "stdout",
          "text": [
            "Detected type: food\n",
            "                            placeName  distance_km\n",
            "31655                   AMPERA PESONA     0.133576\n",
            "31729         Rumah Makan Raja Ampera     0.385808\n",
            "31858              Ampera Ninjau Raya     0.469585\n",
            "31792  Rumah makan Ampera Family Jaya     0.479765\n",
            "40120                 Ampera Kak Baya     0.650941\n"
          ]
        }
      ]
    }
  ]
}