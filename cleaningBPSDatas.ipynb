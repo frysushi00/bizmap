{
  "nbformat": 4,
  "nbformat_minor": 0,
  "metadata": {
    "colab": {
      "provenance": []
    },
    "kernelspec": {
      "name": "python3",
      "display_name": "Python 3"
    },
    "language_info": {
      "name": "python"
    }
  },
  "cells": [
    {
      "cell_type": "markdown",
      "source": [
        "#CLEANING AND ASSESSING OSM DATASET"
      ],
      "metadata": {
        "id": "cRajK-O96Xme"
      }
    },
    {
      "cell_type": "markdown",
      "source": [
        "MELAKUKAN DATA ASSESSING PADA DATASET HASIL SCRAPING DARI OSM, BERIKUT HAL YANG SAYA LAKUKAN:\n",
        "\n",
        "\n",
        "*   Mengambil kolom-kolom *addr:housenumber, addr:street, addr:suburb, addr:city* dan menggabungkannya menjadi 1 kolom yakni kolom *placeAddress* agar sama dengan dataset dari GMAPS (address bersifat opsional agar tidak ada yang *NULL*)\n",
        "*   Mengambil *latitude* dan *longitude* lokasi dari elemen* node, way, relation* yang berupa *center* atau *geometry* untuk mengisi baris yang kolom *latitude* dan *longitude* nya kosong\n",
        "* Menambah kolom *placeBussinessStatus* dengan asumsi semua bangunan masih beroperasi atau **OPERATIONAL**\n",
        "* Menambah kolom *source* untuk label asal data yakni dari **OSM**\n",
        "* Kolom lain hanya diganti nama kolomnya untuk generalisasi\n",
        "\n"
      ],
      "metadata": {
        "id": "K1Ma0GMtgANz"
      }
    },
    {
      "cell_type": "code",
      "execution_count": 112,
      "metadata": {
        "id": "B7zkAiefHyFj"
      },
      "outputs": [],
      "source": [
        "import pandas as pd\n",
        "import numpy as np\n",
        "import ast\n",
        "import json"
      ]
    },
    {
      "cell_type": "code",
      "source": [
        "!pip install rapidfuzz"
      ],
      "metadata": {
        "colab": {
          "base_uri": "https://localhost:8080/"
        },
        "id": "kYyCgdTLznea",
        "outputId": "7a4b8ee8-3e04-48ac-8bf8-09376b69cd9f"
      },
      "execution_count": 113,
      "outputs": [
        {
          "output_type": "stream",
          "name": "stdout",
          "text": [
            "Requirement already satisfied: rapidfuzz in /usr/local/lib/python3.11/dist-packages (3.13.0)\n"
          ]
        }
      ]
    },
    {
      "cell_type": "code",
      "source": [
        "import pandas as pd\n",
        "import numpy as np\n",
        "import matplotlib.pyplot as pyplot\n",
        "from sklearn.cluster import DBSCAN\n",
        "from geopy.distance import geodesic\n",
        "from rapidfuzz import fuzz\n",
        "from sklearn.neighbors import BallTree"
      ],
      "metadata": {
        "id": "3OqwagGVIJmF"
      },
      "execution_count": 114,
      "outputs": []
    },
    {
      "cell_type": "code",
      "source": [
        "with open('/content/drive/MyDrive/BPS_PROJECT/PRE-PROCESSED/osm.json') as f:\n",
        "    dataOSM = json.load(f)"
      ],
      "metadata": {
        "id": "_oPnMa4eI5DI"
      },
      "execution_count": 115,
      "outputs": []
    },
    {
      "cell_type": "markdown",
      "source": [
        "###PARSING HASIL SCRAPING"
      ],
      "metadata": {
        "id": "I1pAu9bEaEAT"
      }
    },
    {
      "cell_type": "code",
      "source": [
        "places = []\n",
        "for element in dataOSM['elements']:\n",
        "    tags = element.get('tags', {})\n",
        "    place_id = f\"osm{element['id']}\"\n",
        "    name = tags.get('name', 'Unknown')\n",
        "\n",
        "    address_parts = [tags.get(k) for k in ['addr:housenumber', 'addr:street', 'addr:suburb', 'addr:city']]\n",
        "    address = ', '.join([part for part in address_parts if part])\n",
        "\n",
        "    lat = (\n",
        "        element.get('lat') or\n",
        "        element.get('center', {}).get('lat') or\n",
        "        (element.get('geometry')[0]['lat'] if element.get('geometry') else None)\n",
        "    )\n",
        "    lon = (\n",
        "        element.get('lon') or\n",
        "        element.get('center', {}).get('lon') or\n",
        "        (element.get('geometry')[0]['lon'] if element.get('geometry') else None)\n",
        "    )\n",
        "\n",
        "    types = []\n",
        "    for k in ['amenity', 'shop', 'office']:\n",
        "        if k in tags:\n",
        "            types.append(tags[k])\n",
        "    types.append(\"point_of_interest\")\n",
        "    types.append(\"establishment\")\n",
        "\n",
        "    places.append({\n",
        "        'placeId': place_id,\n",
        "        'placeName': name,\n",
        "        'placeBusinessStatus': 'OPERATIONAL',\n",
        "        'placeAddress': address,\n",
        "        'placeTypes': ','.join(types),\n",
        "        'placeLatitude': lat,\n",
        "        'placeLongitude': lon,\n",
        "        'source': 'OSM'\n",
        "    })\n"
      ],
      "metadata": {
        "id": "rbsuDRXsZewR"
      },
      "execution_count": 116,
      "outputs": []
    },
    {
      "cell_type": "code",
      "source": [
        "dfOSM = pd.DataFrame(places)"
      ],
      "metadata": {
        "id": "kL0qtTdOb7q9"
      },
      "execution_count": 117,
      "outputs": []
    },
    {
      "cell_type": "code",
      "source": [
        "dfOSM.info()"
      ],
      "metadata": {
        "colab": {
          "base_uri": "https://localhost:8080/"
        },
        "id": "eY-s8hcUc-K9",
        "outputId": "3ff1af88-ce10-41d7-e381-bade9c4bc119"
      },
      "execution_count": 118,
      "outputs": [
        {
          "output_type": "stream",
          "name": "stdout",
          "text": [
            "<class 'pandas.core.frame.DataFrame'>\n",
            "RangeIndex: 2580 entries, 0 to 2579\n",
            "Data columns (total 8 columns):\n",
            " #   Column               Non-Null Count  Dtype  \n",
            "---  ------               --------------  -----  \n",
            " 0   placeId              2580 non-null   object \n",
            " 1   placeName            2580 non-null   object \n",
            " 2   placeBusinessStatus  2580 non-null   object \n",
            " 3   placeAddress         2580 non-null   object \n",
            " 4   placeTypes           2580 non-null   object \n",
            " 5   placeLatitude        2580 non-null   float64\n",
            " 6   placeLongitude       2580 non-null   float64\n",
            " 7   source               2580 non-null   object \n",
            "dtypes: float64(2), object(6)\n",
            "memory usage: 161.4+ KB\n"
          ]
        }
      ]
    },
    {
      "cell_type": "code",
      "source": [
        "dfOSM.head(20)"
      ],
      "metadata": {
        "colab": {
          "base_uri": "https://localhost:8080/",
          "height": 677
        },
        "id": "nolICazaeNkQ",
        "outputId": "1de12ce3-6787-4b34-9a56-0dea9ce47b7e"
      },
      "execution_count": 119,
      "outputs": [
        {
          "output_type": "execute_result",
          "data": {
            "text/plain": [
              "          placeId                  placeName placeBusinessStatus  \\\n",
              "0    osm456045476                       SPBU         OPERATIONAL   \n",
              "1    osm457837210                  Pertamina         OPERATIONAL   \n",
              "2    osm457837500                  Pertamina         OPERATIONAL   \n",
              "3    osm457837513                  Pertamina         OPERATIONAL   \n",
              "4    osm461577405         RM Sederhana Loket         OPERATIONAL   \n",
              "5    osm461802011        Ayam Goreng Suharti         OPERATIONAL   \n",
              "6    osm462161178  Rumah Makan Minan Harapan         OPERATIONAL   \n",
              "7    osm462165004                       SPBU         OPERATIONAL   \n",
              "8    osm465135769          Bank Central Asia         OPERATIONAL   \n",
              "9    osm467530312                  Pertamina         OPERATIONAL   \n",
              "10   osm470790180             SPBU Pertamina         OPERATIONAL   \n",
              "11   osm470790469                  Pertamina         OPERATIONAL   \n",
              "12   osm485897854               Pasar Rumbai         OPERATIONAL   \n",
              "13   osm799261457               SPBU Arengka         OPERATIONAL   \n",
              "14   osm799261468                  Pertamina         OPERATIONAL   \n",
              "15   osm799261509                  Pertamina         OPERATIONAL   \n",
              "16   osm859634969                  Pertamina         OPERATIONAL   \n",
              "17   osm859646823                  Pertamina         OPERATIONAL   \n",
              "18   osm885991631                       SPBU         OPERATIONAL   \n",
              "19  osm1360108930            Pempek Tini 628         OPERATIONAL   \n",
              "\n",
              "                       placeAddress  \\\n",
              "0   Jl. H. Imam Munandar, Pekanbaru   \n",
              "1                                     \n",
              "2                                     \n",
              "3                                     \n",
              "4                                     \n",
              "5                        Jalan Riau   \n",
              "6                                     \n",
              "7                                     \n",
              "8                                     \n",
              "9                                     \n",
              "10       Jalan Hang Tuah, Pekanbaru   \n",
              "11                                    \n",
              "12             Jl. Sekolah/Kayangan   \n",
              "13                                    \n",
              "14                                    \n",
              "15                                    \n",
              "16    Jalan Tanjung Batu, Pekanbaru   \n",
              "17    Jalan Tanjung Batu, Pekanbaru   \n",
              "18              Jalan Arifin Achmad   \n",
              "19           Jalan Sisingamangaraja   \n",
              "\n",
              "                                     placeTypes  placeLatitude  \\\n",
              "0          fuel,point_of_interest,establishment       0.500350   \n",
              "1          fuel,point_of_interest,establishment       0.612717   \n",
              "2          fuel,point_of_interest,establishment       0.538436   \n",
              "3          fuel,point_of_interest,establishment       0.573834   \n",
              "4    restaurant,point_of_interest,establishment       0.508595   \n",
              "5    restaurant,point_of_interest,establishment       0.535625   \n",
              "6    restaurant,point_of_interest,establishment       0.491418   \n",
              "7          fuel,point_of_interest,establishment       0.512301   \n",
              "8          bank,point_of_interest,establishment       0.521243   \n",
              "9          fuel,point_of_interest,establishment       0.464999   \n",
              "10         fuel,point_of_interest,establishment       0.513640   \n",
              "11         fuel,point_of_interest,establishment       0.457805   \n",
              "12  marketplace,point_of_interest,establishment       0.560123   \n",
              "13         fuel,point_of_interest,establishment       0.453648   \n",
              "14         fuel,point_of_interest,establishment       0.447945   \n",
              "15         fuel,point_of_interest,establishment       0.500004   \n",
              "16         fuel,point_of_interest,establishment       0.540254   \n",
              "17         fuel,point_of_interest,establishment       0.541554   \n",
              "18         fuel,point_of_interest,establishment       0.477469   \n",
              "19   restaurant,point_of_interest,establishment       0.528412   \n",
              "\n",
              "    placeLongitude source  \n",
              "0       101.471285    OSM  \n",
              "1       101.428377    OSM  \n",
              "2       101.402952    OSM  \n",
              "3       101.398519    OSM  \n",
              "4       101.444694    OSM  \n",
              "5       101.432480    OSM  \n",
              "6       101.486844    OSM  \n",
              "7       101.395726    OSM  \n",
              "8       101.447123    OSM  \n",
              "9       101.526956    OSM  \n",
              "10      101.489679    OSM  \n",
              "11      101.568445    OSM  \n",
              "12      101.442397    OSM  \n",
              "13      101.418877    OSM  \n",
              "14      101.417951    OSM  \n",
              "15      101.507575    OSM  \n",
              "16      101.450138    OSM  \n",
              "17      101.456291    OSM  \n",
              "18      101.453033    OSM  \n",
              "19      101.455055    OSM  "
            ],
            "text/html": [
              "\n",
              "  <div id=\"df-a8633a4b-396d-4dbf-acb4-153be12559fa\" class=\"colab-df-container\">\n",
              "    <div>\n",
              "<style scoped>\n",
              "    .dataframe tbody tr th:only-of-type {\n",
              "        vertical-align: middle;\n",
              "    }\n",
              "\n",
              "    .dataframe tbody tr th {\n",
              "        vertical-align: top;\n",
              "    }\n",
              "\n",
              "    .dataframe thead th {\n",
              "        text-align: right;\n",
              "    }\n",
              "</style>\n",
              "<table border=\"1\" class=\"dataframe\">\n",
              "  <thead>\n",
              "    <tr style=\"text-align: right;\">\n",
              "      <th></th>\n",
              "      <th>placeId</th>\n",
              "      <th>placeName</th>\n",
              "      <th>placeBusinessStatus</th>\n",
              "      <th>placeAddress</th>\n",
              "      <th>placeTypes</th>\n",
              "      <th>placeLatitude</th>\n",
              "      <th>placeLongitude</th>\n",
              "      <th>source</th>\n",
              "    </tr>\n",
              "  </thead>\n",
              "  <tbody>\n",
              "    <tr>\n",
              "      <th>0</th>\n",
              "      <td>osm456045476</td>\n",
              "      <td>SPBU</td>\n",
              "      <td>OPERATIONAL</td>\n",
              "      <td>Jl. H. Imam Munandar, Pekanbaru</td>\n",
              "      <td>fuel,point_of_interest,establishment</td>\n",
              "      <td>0.500350</td>\n",
              "      <td>101.471285</td>\n",
              "      <td>OSM</td>\n",
              "    </tr>\n",
              "    <tr>\n",
              "      <th>1</th>\n",
              "      <td>osm457837210</td>\n",
              "      <td>Pertamina</td>\n",
              "      <td>OPERATIONAL</td>\n",
              "      <td></td>\n",
              "      <td>fuel,point_of_interest,establishment</td>\n",
              "      <td>0.612717</td>\n",
              "      <td>101.428377</td>\n",
              "      <td>OSM</td>\n",
              "    </tr>\n",
              "    <tr>\n",
              "      <th>2</th>\n",
              "      <td>osm457837500</td>\n",
              "      <td>Pertamina</td>\n",
              "      <td>OPERATIONAL</td>\n",
              "      <td></td>\n",
              "      <td>fuel,point_of_interest,establishment</td>\n",
              "      <td>0.538436</td>\n",
              "      <td>101.402952</td>\n",
              "      <td>OSM</td>\n",
              "    </tr>\n",
              "    <tr>\n",
              "      <th>3</th>\n",
              "      <td>osm457837513</td>\n",
              "      <td>Pertamina</td>\n",
              "      <td>OPERATIONAL</td>\n",
              "      <td></td>\n",
              "      <td>fuel,point_of_interest,establishment</td>\n",
              "      <td>0.573834</td>\n",
              "      <td>101.398519</td>\n",
              "      <td>OSM</td>\n",
              "    </tr>\n",
              "    <tr>\n",
              "      <th>4</th>\n",
              "      <td>osm461577405</td>\n",
              "      <td>RM Sederhana Loket</td>\n",
              "      <td>OPERATIONAL</td>\n",
              "      <td></td>\n",
              "      <td>restaurant,point_of_interest,establishment</td>\n",
              "      <td>0.508595</td>\n",
              "      <td>101.444694</td>\n",
              "      <td>OSM</td>\n",
              "    </tr>\n",
              "    <tr>\n",
              "      <th>5</th>\n",
              "      <td>osm461802011</td>\n",
              "      <td>Ayam Goreng Suharti</td>\n",
              "      <td>OPERATIONAL</td>\n",
              "      <td>Jalan Riau</td>\n",
              "      <td>restaurant,point_of_interest,establishment</td>\n",
              "      <td>0.535625</td>\n",
              "      <td>101.432480</td>\n",
              "      <td>OSM</td>\n",
              "    </tr>\n",
              "    <tr>\n",
              "      <th>6</th>\n",
              "      <td>osm462161178</td>\n",
              "      <td>Rumah Makan Minan Harapan</td>\n",
              "      <td>OPERATIONAL</td>\n",
              "      <td></td>\n",
              "      <td>restaurant,point_of_interest,establishment</td>\n",
              "      <td>0.491418</td>\n",
              "      <td>101.486844</td>\n",
              "      <td>OSM</td>\n",
              "    </tr>\n",
              "    <tr>\n",
              "      <th>7</th>\n",
              "      <td>osm462165004</td>\n",
              "      <td>SPBU</td>\n",
              "      <td>OPERATIONAL</td>\n",
              "      <td></td>\n",
              "      <td>fuel,point_of_interest,establishment</td>\n",
              "      <td>0.512301</td>\n",
              "      <td>101.395726</td>\n",
              "      <td>OSM</td>\n",
              "    </tr>\n",
              "    <tr>\n",
              "      <th>8</th>\n",
              "      <td>osm465135769</td>\n",
              "      <td>Bank Central Asia</td>\n",
              "      <td>OPERATIONAL</td>\n",
              "      <td></td>\n",
              "      <td>bank,point_of_interest,establishment</td>\n",
              "      <td>0.521243</td>\n",
              "      <td>101.447123</td>\n",
              "      <td>OSM</td>\n",
              "    </tr>\n",
              "    <tr>\n",
              "      <th>9</th>\n",
              "      <td>osm467530312</td>\n",
              "      <td>Pertamina</td>\n",
              "      <td>OPERATIONAL</td>\n",
              "      <td></td>\n",
              "      <td>fuel,point_of_interest,establishment</td>\n",
              "      <td>0.464999</td>\n",
              "      <td>101.526956</td>\n",
              "      <td>OSM</td>\n",
              "    </tr>\n",
              "    <tr>\n",
              "      <th>10</th>\n",
              "      <td>osm470790180</td>\n",
              "      <td>SPBU Pertamina</td>\n",
              "      <td>OPERATIONAL</td>\n",
              "      <td>Jalan Hang Tuah, Pekanbaru</td>\n",
              "      <td>fuel,point_of_interest,establishment</td>\n",
              "      <td>0.513640</td>\n",
              "      <td>101.489679</td>\n",
              "      <td>OSM</td>\n",
              "    </tr>\n",
              "    <tr>\n",
              "      <th>11</th>\n",
              "      <td>osm470790469</td>\n",
              "      <td>Pertamina</td>\n",
              "      <td>OPERATIONAL</td>\n",
              "      <td></td>\n",
              "      <td>fuel,point_of_interest,establishment</td>\n",
              "      <td>0.457805</td>\n",
              "      <td>101.568445</td>\n",
              "      <td>OSM</td>\n",
              "    </tr>\n",
              "    <tr>\n",
              "      <th>12</th>\n",
              "      <td>osm485897854</td>\n",
              "      <td>Pasar Rumbai</td>\n",
              "      <td>OPERATIONAL</td>\n",
              "      <td>Jl. Sekolah/Kayangan</td>\n",
              "      <td>marketplace,point_of_interest,establishment</td>\n",
              "      <td>0.560123</td>\n",
              "      <td>101.442397</td>\n",
              "      <td>OSM</td>\n",
              "    </tr>\n",
              "    <tr>\n",
              "      <th>13</th>\n",
              "      <td>osm799261457</td>\n",
              "      <td>SPBU Arengka</td>\n",
              "      <td>OPERATIONAL</td>\n",
              "      <td></td>\n",
              "      <td>fuel,point_of_interest,establishment</td>\n",
              "      <td>0.453648</td>\n",
              "      <td>101.418877</td>\n",
              "      <td>OSM</td>\n",
              "    </tr>\n",
              "    <tr>\n",
              "      <th>14</th>\n",
              "      <td>osm799261468</td>\n",
              "      <td>Pertamina</td>\n",
              "      <td>OPERATIONAL</td>\n",
              "      <td></td>\n",
              "      <td>fuel,point_of_interest,establishment</td>\n",
              "      <td>0.447945</td>\n",
              "      <td>101.417951</td>\n",
              "      <td>OSM</td>\n",
              "    </tr>\n",
              "    <tr>\n",
              "      <th>15</th>\n",
              "      <td>osm799261509</td>\n",
              "      <td>Pertamina</td>\n",
              "      <td>OPERATIONAL</td>\n",
              "      <td></td>\n",
              "      <td>fuel,point_of_interest,establishment</td>\n",
              "      <td>0.500004</td>\n",
              "      <td>101.507575</td>\n",
              "      <td>OSM</td>\n",
              "    </tr>\n",
              "    <tr>\n",
              "      <th>16</th>\n",
              "      <td>osm859634969</td>\n",
              "      <td>Pertamina</td>\n",
              "      <td>OPERATIONAL</td>\n",
              "      <td>Jalan Tanjung Batu, Pekanbaru</td>\n",
              "      <td>fuel,point_of_interest,establishment</td>\n",
              "      <td>0.540254</td>\n",
              "      <td>101.450138</td>\n",
              "      <td>OSM</td>\n",
              "    </tr>\n",
              "    <tr>\n",
              "      <th>17</th>\n",
              "      <td>osm859646823</td>\n",
              "      <td>Pertamina</td>\n",
              "      <td>OPERATIONAL</td>\n",
              "      <td>Jalan Tanjung Batu, Pekanbaru</td>\n",
              "      <td>fuel,point_of_interest,establishment</td>\n",
              "      <td>0.541554</td>\n",
              "      <td>101.456291</td>\n",
              "      <td>OSM</td>\n",
              "    </tr>\n",
              "    <tr>\n",
              "      <th>18</th>\n",
              "      <td>osm885991631</td>\n",
              "      <td>SPBU</td>\n",
              "      <td>OPERATIONAL</td>\n",
              "      <td>Jalan Arifin Achmad</td>\n",
              "      <td>fuel,point_of_interest,establishment</td>\n",
              "      <td>0.477469</td>\n",
              "      <td>101.453033</td>\n",
              "      <td>OSM</td>\n",
              "    </tr>\n",
              "    <tr>\n",
              "      <th>19</th>\n",
              "      <td>osm1360108930</td>\n",
              "      <td>Pempek Tini 628</td>\n",
              "      <td>OPERATIONAL</td>\n",
              "      <td>Jalan Sisingamangaraja</td>\n",
              "      <td>restaurant,point_of_interest,establishment</td>\n",
              "      <td>0.528412</td>\n",
              "      <td>101.455055</td>\n",
              "      <td>OSM</td>\n",
              "    </tr>\n",
              "  </tbody>\n",
              "</table>\n",
              "</div>\n",
              "    <div class=\"colab-df-buttons\">\n",
              "\n",
              "  <div class=\"colab-df-container\">\n",
              "    <button class=\"colab-df-convert\" onclick=\"convertToInteractive('df-a8633a4b-396d-4dbf-acb4-153be12559fa')\"\n",
              "            title=\"Convert this dataframe to an interactive table.\"\n",
              "            style=\"display:none;\">\n",
              "\n",
              "  <svg xmlns=\"http://www.w3.org/2000/svg\" height=\"24px\" viewBox=\"0 -960 960 960\">\n",
              "    <path d=\"M120-120v-720h720v720H120Zm60-500h600v-160H180v160Zm220 220h160v-160H400v160Zm0 220h160v-160H400v160ZM180-400h160v-160H180v160Zm440 0h160v-160H620v160ZM180-180h160v-160H180v160Zm440 0h160v-160H620v160Z\"/>\n",
              "  </svg>\n",
              "    </button>\n",
              "\n",
              "  <style>\n",
              "    .colab-df-container {\n",
              "      display:flex;\n",
              "      gap: 12px;\n",
              "    }\n",
              "\n",
              "    .colab-df-convert {\n",
              "      background-color: #E8F0FE;\n",
              "      border: none;\n",
              "      border-radius: 50%;\n",
              "      cursor: pointer;\n",
              "      display: none;\n",
              "      fill: #1967D2;\n",
              "      height: 32px;\n",
              "      padding: 0 0 0 0;\n",
              "      width: 32px;\n",
              "    }\n",
              "\n",
              "    .colab-df-convert:hover {\n",
              "      background-color: #E2EBFA;\n",
              "      box-shadow: 0px 1px 2px rgba(60, 64, 67, 0.3), 0px 1px 3px 1px rgba(60, 64, 67, 0.15);\n",
              "      fill: #174EA6;\n",
              "    }\n",
              "\n",
              "    .colab-df-buttons div {\n",
              "      margin-bottom: 4px;\n",
              "    }\n",
              "\n",
              "    [theme=dark] .colab-df-convert {\n",
              "      background-color: #3B4455;\n",
              "      fill: #D2E3FC;\n",
              "    }\n",
              "\n",
              "    [theme=dark] .colab-df-convert:hover {\n",
              "      background-color: #434B5C;\n",
              "      box-shadow: 0px 1px 3px 1px rgba(0, 0, 0, 0.15);\n",
              "      filter: drop-shadow(0px 1px 2px rgba(0, 0, 0, 0.3));\n",
              "      fill: #FFFFFF;\n",
              "    }\n",
              "  </style>\n",
              "\n",
              "    <script>\n",
              "      const buttonEl =\n",
              "        document.querySelector('#df-a8633a4b-396d-4dbf-acb4-153be12559fa button.colab-df-convert');\n",
              "      buttonEl.style.display =\n",
              "        google.colab.kernel.accessAllowed ? 'block' : 'none';\n",
              "\n",
              "      async function convertToInteractive(key) {\n",
              "        const element = document.querySelector('#df-a8633a4b-396d-4dbf-acb4-153be12559fa');\n",
              "        const dataTable =\n",
              "          await google.colab.kernel.invokeFunction('convertToInteractive',\n",
              "                                                    [key], {});\n",
              "        if (!dataTable) return;\n",
              "\n",
              "        const docLinkHtml = 'Like what you see? Visit the ' +\n",
              "          '<a target=\"_blank\" href=https://colab.research.google.com/notebooks/data_table.ipynb>data table notebook</a>'\n",
              "          + ' to learn more about interactive tables.';\n",
              "        element.innerHTML = '';\n",
              "        dataTable['output_type'] = 'display_data';\n",
              "        await google.colab.output.renderOutput(dataTable, element);\n",
              "        const docLink = document.createElement('div');\n",
              "        docLink.innerHTML = docLinkHtml;\n",
              "        element.appendChild(docLink);\n",
              "      }\n",
              "    </script>\n",
              "  </div>\n",
              "\n",
              "\n",
              "    <div id=\"df-0325bfa2-5bb9-45e2-a57a-41fc6f0bc10d\">\n",
              "      <button class=\"colab-df-quickchart\" onclick=\"quickchart('df-0325bfa2-5bb9-45e2-a57a-41fc6f0bc10d')\"\n",
              "                title=\"Suggest charts\"\n",
              "                style=\"display:none;\">\n",
              "\n",
              "<svg xmlns=\"http://www.w3.org/2000/svg\" height=\"24px\"viewBox=\"0 0 24 24\"\n",
              "     width=\"24px\">\n",
              "    <g>\n",
              "        <path d=\"M19 3H5c-1.1 0-2 .9-2 2v14c0 1.1.9 2 2 2h14c1.1 0 2-.9 2-2V5c0-1.1-.9-2-2-2zM9 17H7v-7h2v7zm4 0h-2V7h2v10zm4 0h-2v-4h2v4z\"/>\n",
              "    </g>\n",
              "</svg>\n",
              "      </button>\n",
              "\n",
              "<style>\n",
              "  .colab-df-quickchart {\n",
              "      --bg-color: #E8F0FE;\n",
              "      --fill-color: #1967D2;\n",
              "      --hover-bg-color: #E2EBFA;\n",
              "      --hover-fill-color: #174EA6;\n",
              "      --disabled-fill-color: #AAA;\n",
              "      --disabled-bg-color: #DDD;\n",
              "  }\n",
              "\n",
              "  [theme=dark] .colab-df-quickchart {\n",
              "      --bg-color: #3B4455;\n",
              "      --fill-color: #D2E3FC;\n",
              "      --hover-bg-color: #434B5C;\n",
              "      --hover-fill-color: #FFFFFF;\n",
              "      --disabled-bg-color: #3B4455;\n",
              "      --disabled-fill-color: #666;\n",
              "  }\n",
              "\n",
              "  .colab-df-quickchart {\n",
              "    background-color: var(--bg-color);\n",
              "    border: none;\n",
              "    border-radius: 50%;\n",
              "    cursor: pointer;\n",
              "    display: none;\n",
              "    fill: var(--fill-color);\n",
              "    height: 32px;\n",
              "    padding: 0;\n",
              "    width: 32px;\n",
              "  }\n",
              "\n",
              "  .colab-df-quickchart:hover {\n",
              "    background-color: var(--hover-bg-color);\n",
              "    box-shadow: 0 1px 2px rgba(60, 64, 67, 0.3), 0 1px 3px 1px rgba(60, 64, 67, 0.15);\n",
              "    fill: var(--button-hover-fill-color);\n",
              "  }\n",
              "\n",
              "  .colab-df-quickchart-complete:disabled,\n",
              "  .colab-df-quickchart-complete:disabled:hover {\n",
              "    background-color: var(--disabled-bg-color);\n",
              "    fill: var(--disabled-fill-color);\n",
              "    box-shadow: none;\n",
              "  }\n",
              "\n",
              "  .colab-df-spinner {\n",
              "    border: 2px solid var(--fill-color);\n",
              "    border-color: transparent;\n",
              "    border-bottom-color: var(--fill-color);\n",
              "    animation:\n",
              "      spin 1s steps(1) infinite;\n",
              "  }\n",
              "\n",
              "  @keyframes spin {\n",
              "    0% {\n",
              "      border-color: transparent;\n",
              "      border-bottom-color: var(--fill-color);\n",
              "      border-left-color: var(--fill-color);\n",
              "    }\n",
              "    20% {\n",
              "      border-color: transparent;\n",
              "      border-left-color: var(--fill-color);\n",
              "      border-top-color: var(--fill-color);\n",
              "    }\n",
              "    30% {\n",
              "      border-color: transparent;\n",
              "      border-left-color: var(--fill-color);\n",
              "      border-top-color: var(--fill-color);\n",
              "      border-right-color: var(--fill-color);\n",
              "    }\n",
              "    40% {\n",
              "      border-color: transparent;\n",
              "      border-right-color: var(--fill-color);\n",
              "      border-top-color: var(--fill-color);\n",
              "    }\n",
              "    60% {\n",
              "      border-color: transparent;\n",
              "      border-right-color: var(--fill-color);\n",
              "    }\n",
              "    80% {\n",
              "      border-color: transparent;\n",
              "      border-right-color: var(--fill-color);\n",
              "      border-bottom-color: var(--fill-color);\n",
              "    }\n",
              "    90% {\n",
              "      border-color: transparent;\n",
              "      border-bottom-color: var(--fill-color);\n",
              "    }\n",
              "  }\n",
              "</style>\n",
              "\n",
              "      <script>\n",
              "        async function quickchart(key) {\n",
              "          const quickchartButtonEl =\n",
              "            document.querySelector('#' + key + ' button');\n",
              "          quickchartButtonEl.disabled = true;  // To prevent multiple clicks.\n",
              "          quickchartButtonEl.classList.add('colab-df-spinner');\n",
              "          try {\n",
              "            const charts = await google.colab.kernel.invokeFunction(\n",
              "                'suggestCharts', [key], {});\n",
              "          } catch (error) {\n",
              "            console.error('Error during call to suggestCharts:', error);\n",
              "          }\n",
              "          quickchartButtonEl.classList.remove('colab-df-spinner');\n",
              "          quickchartButtonEl.classList.add('colab-df-quickchart-complete');\n",
              "        }\n",
              "        (() => {\n",
              "          let quickchartButtonEl =\n",
              "            document.querySelector('#df-0325bfa2-5bb9-45e2-a57a-41fc6f0bc10d button');\n",
              "          quickchartButtonEl.style.display =\n",
              "            google.colab.kernel.accessAllowed ? 'block' : 'none';\n",
              "        })();\n",
              "      </script>\n",
              "    </div>\n",
              "\n",
              "    </div>\n",
              "  </div>\n"
            ],
            "application/vnd.google.colaboratory.intrinsic+json": {
              "type": "dataframe",
              "variable_name": "dfOSM",
              "summary": "{\n  \"name\": \"dfOSM\",\n  \"rows\": 2580,\n  \"fields\": [\n    {\n      \"column\": \"placeId\",\n      \"properties\": {\n        \"dtype\": \"string\",\n        \"num_unique_values\": 2580,\n        \"samples\": [\n          \"osm4785422293\",\n          \"osm1118056814\",\n          \"osm4783966451\"\n        ],\n        \"semantic_type\": \"\",\n        \"description\": \"\"\n      }\n    },\n    {\n      \"column\": \"placeName\",\n      \"properties\": {\n        \"dtype\": \"string\",\n        \"num_unique_values\": 1944,\n        \"samples\": [\n          \"Universitas Islam Negeri Sultan Syarif Kasim Riau\",\n          \"mesjid Al muhajirin\",\n          \"SPBU 14.282.6114\"\n        ],\n        \"semantic_type\": \"\",\n        \"description\": \"\"\n      }\n    },\n    {\n      \"column\": \"placeBusinessStatus\",\n      \"properties\": {\n        \"dtype\": \"category\",\n        \"num_unique_values\": 1,\n        \"samples\": [\n          \"OPERATIONAL\"\n        ],\n        \"semantic_type\": \"\",\n        \"description\": \"\"\n      }\n    },\n    {\n      \"column\": \"placeAddress\",\n      \"properties\": {\n        \"dtype\": \"category\",\n        \"num_unique_values\": 371,\n        \"samples\": [\n          \"Jalan Diponegoro XI, Pekanbaru\"\n        ],\n        \"semantic_type\": \"\",\n        \"description\": \"\"\n      }\n    },\n    {\n      \"column\": \"placeTypes\",\n      \"properties\": {\n        \"dtype\": \"category\",\n        \"num_unique_values\": 84,\n        \"samples\": [\n          \"prison,point_of_interest,establishment\"\n        ],\n        \"semantic_type\": \"\",\n        \"description\": \"\"\n      }\n    },\n    {\n      \"column\": \"placeLatitude\",\n      \"properties\": {\n        \"dtype\": \"number\",\n        \"std\": 0.03583558926829432,\n        \"min\": 0.4228153,\n        \"max\": 0.6487595,\n        \"num_unique_values\": 2574,\n        \"samples\": [\n          0.51243\n        ],\n        \"semantic_type\": \"\",\n        \"description\": \"\"\n      }\n    },\n    {\n      \"column\": \"placeLongitude\",\n      \"properties\": {\n        \"dtype\": \"number\",\n        \"std\": 0.03794461832782981,\n        \"min\": 101.3489258,\n        \"max\": 101.5739582,\n        \"num_unique_values\": 2568,\n        \"samples\": [\n          101.447883\n        ],\n        \"semantic_type\": \"\",\n        \"description\": \"\"\n      }\n    },\n    {\n      \"column\": \"source\",\n      \"properties\": {\n        \"dtype\": \"category\",\n        \"num_unique_values\": 1,\n        \"samples\": [\n          \"OSM\"\n        ],\n        \"semantic_type\": \"\",\n        \"description\": \"\"\n      }\n    }\n  ]\n}"
            }
          },
          "metadata": {},
          "execution_count": 119
        }
      ]
    },
    {
      "cell_type": "code",
      "source": [
        "dfOSM.columns"
      ],
      "metadata": {
        "colab": {
          "base_uri": "https://localhost:8080/"
        },
        "id": "iQ2QMdy1jIka",
        "outputId": "a28dc636-783e-4099-85a7-f2577657feac"
      },
      "execution_count": 120,
      "outputs": [
        {
          "output_type": "execute_result",
          "data": {
            "text/plain": [
              "Index(['placeId', 'placeName', 'placeBusinessStatus', 'placeAddress',\n",
              "       'placeTypes', 'placeLatitude', 'placeLongitude', 'source'],\n",
              "      dtype='object')"
            ]
          },
          "metadata": {},
          "execution_count": 120
        }
      ]
    },
    {
      "cell_type": "code",
      "source": [
        "dfOSM.to_excel(\"/content/drive/MyDrive/BPS_PROJECT/PROCESSED/klbi_classification/OSM_FINAL_CLEANED.xlsx\")"
      ],
      "metadata": {
        "id": "UZSzFF8miI9G"
      },
      "execution_count": 121,
      "outputs": []
    },
    {
      "cell_type": "markdown",
      "source": [
        "#CLEANING AND ASSESSING GOOGLE MAPS DATASET"
      ],
      "metadata": {
        "id": "SQVJJuLt66Q8"
      }
    },
    {
      "cell_type": "markdown",
      "source": [
        "ADDING THE SOURCE COLUMN TO GMAPS DATASET"
      ],
      "metadata": {
        "id": "6VOdH2quiAUO"
      }
    },
    {
      "cell_type": "code",
      "source": [
        "dataGM = pd.read_excel(\"/content/drive/MyDrive/BPS_PROJECT/PRE-PROCESSED/SamplePlace_1471.xlsx\")"
      ],
      "metadata": {
        "id": "Yq9q5sIq7Al4"
      },
      "execution_count": 122,
      "outputs": []
    },
    {
      "cell_type": "code",
      "source": [
        "dataGM.head()"
      ],
      "metadata": {
        "colab": {
          "base_uri": "https://localhost:8080/",
          "height": 207
        },
        "id": "lUsDwC81-piP",
        "outputId": "fe3f8dc0-245b-4a82-da0c-bd912cd162e4"
      },
      "execution_count": 123,
      "outputs": [
        {
          "output_type": "execute_result",
          "data": {
            "text/plain": [
              "                       placeId                  placeName  \\\n",
              "0  ChIJG0i9CEap1TERq1G-K3lxuus               Graha Renova   \n",
              "1  ChIJI0kxnE-p1TERVzzCaVLc_-A       Putri Jaya Abadi. CV   \n",
              "2  ChIJ75xs3BSp1TERjUD6T2Hr7MU          Warung Ojo Forget   \n",
              "3  ChIJn_QB002p1TERjXQjpmobcjE   Batam Central Electronik   \n",
              "4  ChIJWxkAUdOp1TERTPhwfB11yBc  BOS (Bintang Oto Service)   \n",
              "\n",
              "                                        placeAddress placeBusinessStatus  \\\n",
              "0                         GC2C+GP3, Tengkerang Barat         OPERATIONAL   \n",
              "1          Jalan Musyawarah No.184, Labuh Baru Timur         OPERATIONAL   \n",
              "2    GC3G+GQ4, Jalan Soekarno-Hatta, Sidomulyo Timur         OPERATIONAL   \n",
              "3  Komplek Taman Anggrek Blok A4-6, Jl. Tuanku Ta...         OPERATIONAL   \n",
              "4                     Jalan Ikhlas, Labuh Baru Timur         OPERATIONAL   \n",
              "\n",
              "                                          placeTypes  placeLatitude  \\\n",
              "0                    point_of_interest,establishment       0.501254   \n",
              "1  furniture_store,home_goods_store,point_of_inte...       0.503969   \n",
              "2    restaurant,point_of_interest,food,establishment       0.503770   \n",
              "3  electronics_store,point_of_interest,store,esta...       0.503697   \n",
              "4         car_repair,point_of_interest,establishment       0.505233   \n",
              "\n",
              "   placeLongitude  \n",
              "0      101.421803  \n",
              "1      101.423609  \n",
              "2      101.426964  \n",
              "3      101.428838  \n",
              "4      101.430264  "
            ],
            "text/html": [
              "\n",
              "  <div id=\"df-32d98508-03e8-4b05-a157-fa59ab92eddd\" class=\"colab-df-container\">\n",
              "    <div>\n",
              "<style scoped>\n",
              "    .dataframe tbody tr th:only-of-type {\n",
              "        vertical-align: middle;\n",
              "    }\n",
              "\n",
              "    .dataframe tbody tr th {\n",
              "        vertical-align: top;\n",
              "    }\n",
              "\n",
              "    .dataframe thead th {\n",
              "        text-align: right;\n",
              "    }\n",
              "</style>\n",
              "<table border=\"1\" class=\"dataframe\">\n",
              "  <thead>\n",
              "    <tr style=\"text-align: right;\">\n",
              "      <th></th>\n",
              "      <th>placeId</th>\n",
              "      <th>placeName</th>\n",
              "      <th>placeAddress</th>\n",
              "      <th>placeBusinessStatus</th>\n",
              "      <th>placeTypes</th>\n",
              "      <th>placeLatitude</th>\n",
              "      <th>placeLongitude</th>\n",
              "    </tr>\n",
              "  </thead>\n",
              "  <tbody>\n",
              "    <tr>\n",
              "      <th>0</th>\n",
              "      <td>ChIJG0i9CEap1TERq1G-K3lxuus</td>\n",
              "      <td>Graha Renova</td>\n",
              "      <td>GC2C+GP3, Tengkerang Barat</td>\n",
              "      <td>OPERATIONAL</td>\n",
              "      <td>point_of_interest,establishment</td>\n",
              "      <td>0.501254</td>\n",
              "      <td>101.421803</td>\n",
              "    </tr>\n",
              "    <tr>\n",
              "      <th>1</th>\n",
              "      <td>ChIJI0kxnE-p1TERVzzCaVLc_-A</td>\n",
              "      <td>Putri Jaya Abadi. CV</td>\n",
              "      <td>Jalan Musyawarah No.184, Labuh Baru Timur</td>\n",
              "      <td>OPERATIONAL</td>\n",
              "      <td>furniture_store,home_goods_store,point_of_inte...</td>\n",
              "      <td>0.503969</td>\n",
              "      <td>101.423609</td>\n",
              "    </tr>\n",
              "    <tr>\n",
              "      <th>2</th>\n",
              "      <td>ChIJ75xs3BSp1TERjUD6T2Hr7MU</td>\n",
              "      <td>Warung Ojo Forget</td>\n",
              "      <td>GC3G+GQ4, Jalan Soekarno-Hatta, Sidomulyo Timur</td>\n",
              "      <td>OPERATIONAL</td>\n",
              "      <td>restaurant,point_of_interest,food,establishment</td>\n",
              "      <td>0.503770</td>\n",
              "      <td>101.426964</td>\n",
              "    </tr>\n",
              "    <tr>\n",
              "      <th>3</th>\n",
              "      <td>ChIJn_QB002p1TERjXQjpmobcjE</td>\n",
              "      <td>Batam Central Electronik</td>\n",
              "      <td>Komplek Taman Anggrek Blok A4-6, Jl. Tuanku Ta...</td>\n",
              "      <td>OPERATIONAL</td>\n",
              "      <td>electronics_store,point_of_interest,store,esta...</td>\n",
              "      <td>0.503697</td>\n",
              "      <td>101.428838</td>\n",
              "    </tr>\n",
              "    <tr>\n",
              "      <th>4</th>\n",
              "      <td>ChIJWxkAUdOp1TERTPhwfB11yBc</td>\n",
              "      <td>BOS (Bintang Oto Service)</td>\n",
              "      <td>Jalan Ikhlas, Labuh Baru Timur</td>\n",
              "      <td>OPERATIONAL</td>\n",
              "      <td>car_repair,point_of_interest,establishment</td>\n",
              "      <td>0.505233</td>\n",
              "      <td>101.430264</td>\n",
              "    </tr>\n",
              "  </tbody>\n",
              "</table>\n",
              "</div>\n",
              "    <div class=\"colab-df-buttons\">\n",
              "\n",
              "  <div class=\"colab-df-container\">\n",
              "    <button class=\"colab-df-convert\" onclick=\"convertToInteractive('df-32d98508-03e8-4b05-a157-fa59ab92eddd')\"\n",
              "            title=\"Convert this dataframe to an interactive table.\"\n",
              "            style=\"display:none;\">\n",
              "\n",
              "  <svg xmlns=\"http://www.w3.org/2000/svg\" height=\"24px\" viewBox=\"0 -960 960 960\">\n",
              "    <path d=\"M120-120v-720h720v720H120Zm60-500h600v-160H180v160Zm220 220h160v-160H400v160Zm0 220h160v-160H400v160ZM180-400h160v-160H180v160Zm440 0h160v-160H620v160ZM180-180h160v-160H180v160Zm440 0h160v-160H620v160Z\"/>\n",
              "  </svg>\n",
              "    </button>\n",
              "\n",
              "  <style>\n",
              "    .colab-df-container {\n",
              "      display:flex;\n",
              "      gap: 12px;\n",
              "    }\n",
              "\n",
              "    .colab-df-convert {\n",
              "      background-color: #E8F0FE;\n",
              "      border: none;\n",
              "      border-radius: 50%;\n",
              "      cursor: pointer;\n",
              "      display: none;\n",
              "      fill: #1967D2;\n",
              "      height: 32px;\n",
              "      padding: 0 0 0 0;\n",
              "      width: 32px;\n",
              "    }\n",
              "\n",
              "    .colab-df-convert:hover {\n",
              "      background-color: #E2EBFA;\n",
              "      box-shadow: 0px 1px 2px rgba(60, 64, 67, 0.3), 0px 1px 3px 1px rgba(60, 64, 67, 0.15);\n",
              "      fill: #174EA6;\n",
              "    }\n",
              "\n",
              "    .colab-df-buttons div {\n",
              "      margin-bottom: 4px;\n",
              "    }\n",
              "\n",
              "    [theme=dark] .colab-df-convert {\n",
              "      background-color: #3B4455;\n",
              "      fill: #D2E3FC;\n",
              "    }\n",
              "\n",
              "    [theme=dark] .colab-df-convert:hover {\n",
              "      background-color: #434B5C;\n",
              "      box-shadow: 0px 1px 3px 1px rgba(0, 0, 0, 0.15);\n",
              "      filter: drop-shadow(0px 1px 2px rgba(0, 0, 0, 0.3));\n",
              "      fill: #FFFFFF;\n",
              "    }\n",
              "  </style>\n",
              "\n",
              "    <script>\n",
              "      const buttonEl =\n",
              "        document.querySelector('#df-32d98508-03e8-4b05-a157-fa59ab92eddd button.colab-df-convert');\n",
              "      buttonEl.style.display =\n",
              "        google.colab.kernel.accessAllowed ? 'block' : 'none';\n",
              "\n",
              "      async function convertToInteractive(key) {\n",
              "        const element = document.querySelector('#df-32d98508-03e8-4b05-a157-fa59ab92eddd');\n",
              "        const dataTable =\n",
              "          await google.colab.kernel.invokeFunction('convertToInteractive',\n",
              "                                                    [key], {});\n",
              "        if (!dataTable) return;\n",
              "\n",
              "        const docLinkHtml = 'Like what you see? Visit the ' +\n",
              "          '<a target=\"_blank\" href=https://colab.research.google.com/notebooks/data_table.ipynb>data table notebook</a>'\n",
              "          + ' to learn more about interactive tables.';\n",
              "        element.innerHTML = '';\n",
              "        dataTable['output_type'] = 'display_data';\n",
              "        await google.colab.output.renderOutput(dataTable, element);\n",
              "        const docLink = document.createElement('div');\n",
              "        docLink.innerHTML = docLinkHtml;\n",
              "        element.appendChild(docLink);\n",
              "      }\n",
              "    </script>\n",
              "  </div>\n",
              "\n",
              "\n",
              "    <div id=\"df-f169c504-1008-49a4-aa9d-f41df544be58\">\n",
              "      <button class=\"colab-df-quickchart\" onclick=\"quickchart('df-f169c504-1008-49a4-aa9d-f41df544be58')\"\n",
              "                title=\"Suggest charts\"\n",
              "                style=\"display:none;\">\n",
              "\n",
              "<svg xmlns=\"http://www.w3.org/2000/svg\" height=\"24px\"viewBox=\"0 0 24 24\"\n",
              "     width=\"24px\">\n",
              "    <g>\n",
              "        <path d=\"M19 3H5c-1.1 0-2 .9-2 2v14c0 1.1.9 2 2 2h14c1.1 0 2-.9 2-2V5c0-1.1-.9-2-2-2zM9 17H7v-7h2v7zm4 0h-2V7h2v10zm4 0h-2v-4h2v4z\"/>\n",
              "    </g>\n",
              "</svg>\n",
              "      </button>\n",
              "\n",
              "<style>\n",
              "  .colab-df-quickchart {\n",
              "      --bg-color: #E8F0FE;\n",
              "      --fill-color: #1967D2;\n",
              "      --hover-bg-color: #E2EBFA;\n",
              "      --hover-fill-color: #174EA6;\n",
              "      --disabled-fill-color: #AAA;\n",
              "      --disabled-bg-color: #DDD;\n",
              "  }\n",
              "\n",
              "  [theme=dark] .colab-df-quickchart {\n",
              "      --bg-color: #3B4455;\n",
              "      --fill-color: #D2E3FC;\n",
              "      --hover-bg-color: #434B5C;\n",
              "      --hover-fill-color: #FFFFFF;\n",
              "      --disabled-bg-color: #3B4455;\n",
              "      --disabled-fill-color: #666;\n",
              "  }\n",
              "\n",
              "  .colab-df-quickchart {\n",
              "    background-color: var(--bg-color);\n",
              "    border: none;\n",
              "    border-radius: 50%;\n",
              "    cursor: pointer;\n",
              "    display: none;\n",
              "    fill: var(--fill-color);\n",
              "    height: 32px;\n",
              "    padding: 0;\n",
              "    width: 32px;\n",
              "  }\n",
              "\n",
              "  .colab-df-quickchart:hover {\n",
              "    background-color: var(--hover-bg-color);\n",
              "    box-shadow: 0 1px 2px rgba(60, 64, 67, 0.3), 0 1px 3px 1px rgba(60, 64, 67, 0.15);\n",
              "    fill: var(--button-hover-fill-color);\n",
              "  }\n",
              "\n",
              "  .colab-df-quickchart-complete:disabled,\n",
              "  .colab-df-quickchart-complete:disabled:hover {\n",
              "    background-color: var(--disabled-bg-color);\n",
              "    fill: var(--disabled-fill-color);\n",
              "    box-shadow: none;\n",
              "  }\n",
              "\n",
              "  .colab-df-spinner {\n",
              "    border: 2px solid var(--fill-color);\n",
              "    border-color: transparent;\n",
              "    border-bottom-color: var(--fill-color);\n",
              "    animation:\n",
              "      spin 1s steps(1) infinite;\n",
              "  }\n",
              "\n",
              "  @keyframes spin {\n",
              "    0% {\n",
              "      border-color: transparent;\n",
              "      border-bottom-color: var(--fill-color);\n",
              "      border-left-color: var(--fill-color);\n",
              "    }\n",
              "    20% {\n",
              "      border-color: transparent;\n",
              "      border-left-color: var(--fill-color);\n",
              "      border-top-color: var(--fill-color);\n",
              "    }\n",
              "    30% {\n",
              "      border-color: transparent;\n",
              "      border-left-color: var(--fill-color);\n",
              "      border-top-color: var(--fill-color);\n",
              "      border-right-color: var(--fill-color);\n",
              "    }\n",
              "    40% {\n",
              "      border-color: transparent;\n",
              "      border-right-color: var(--fill-color);\n",
              "      border-top-color: var(--fill-color);\n",
              "    }\n",
              "    60% {\n",
              "      border-color: transparent;\n",
              "      border-right-color: var(--fill-color);\n",
              "    }\n",
              "    80% {\n",
              "      border-color: transparent;\n",
              "      border-right-color: var(--fill-color);\n",
              "      border-bottom-color: var(--fill-color);\n",
              "    }\n",
              "    90% {\n",
              "      border-color: transparent;\n",
              "      border-bottom-color: var(--fill-color);\n",
              "    }\n",
              "  }\n",
              "</style>\n",
              "\n",
              "      <script>\n",
              "        async function quickchart(key) {\n",
              "          const quickchartButtonEl =\n",
              "            document.querySelector('#' + key + ' button');\n",
              "          quickchartButtonEl.disabled = true;  // To prevent multiple clicks.\n",
              "          quickchartButtonEl.classList.add('colab-df-spinner');\n",
              "          try {\n",
              "            const charts = await google.colab.kernel.invokeFunction(\n",
              "                'suggestCharts', [key], {});\n",
              "          } catch (error) {\n",
              "            console.error('Error during call to suggestCharts:', error);\n",
              "          }\n",
              "          quickchartButtonEl.classList.remove('colab-df-spinner');\n",
              "          quickchartButtonEl.classList.add('colab-df-quickchart-complete');\n",
              "        }\n",
              "        (() => {\n",
              "          let quickchartButtonEl =\n",
              "            document.querySelector('#df-f169c504-1008-49a4-aa9d-f41df544be58 button');\n",
              "          quickchartButtonEl.style.display =\n",
              "            google.colab.kernel.accessAllowed ? 'block' : 'none';\n",
              "        })();\n",
              "      </script>\n",
              "    </div>\n",
              "\n",
              "    </div>\n",
              "  </div>\n"
            ],
            "application/vnd.google.colaboratory.intrinsic+json": {
              "type": "dataframe",
              "variable_name": "dataGM",
              "summary": "{\n  \"name\": \"dataGM\",\n  \"rows\": 40763,\n  \"fields\": [\n    {\n      \"column\": \"placeId\",\n      \"properties\": {\n        \"dtype\": \"string\",\n        \"num_unique_values\": 40763,\n        \"samples\": [\n          \"ChIJV8P2OQCv1TERzihPurfFhrA\",\n          \"ChIJN5vYkOev1TERvmZ3UualN5U\",\n          \"ChIJqV6xWFSp1TERXv1JRy39N9U\"\n        ],\n        \"semantic_type\": \"\",\n        \"description\": \"\"\n      }\n    },\n    {\n      \"column\": \"placeName\",\n      \"properties\": {\n        \"dtype\": \"string\",\n        \"num_unique_values\": 39793,\n        \"samples\": [\n          \"Toko Lily Jaya - Fajar\",\n          \"Susu Kambing Etawa Labn Goat\",\n          \"KurniaKue\"\n        ],\n        \"semantic_type\": \"\",\n        \"description\": \"\"\n      }\n    },\n    {\n      \"column\": \"placeAddress\",\n      \"properties\": {\n        \"dtype\": \"string\",\n        \"num_unique_values\": 33145,\n        \"samples\": [\n          \"F998+PMH, Jalan Garuda Sakti, Simpang Baru\",\n          \"Jalan Teropong Karya\",\n          \"JL Subrantas, 15-C, Pekanbaru, 28292, Delima\"\n        ],\n        \"semantic_type\": \"\",\n        \"description\": \"\"\n      }\n    },\n    {\n      \"column\": \"placeBusinessStatus\",\n      \"properties\": {\n        \"dtype\": \"category\",\n        \"num_unique_values\": 2,\n        \"samples\": [\n          \"CLOSED_TEMPORARILY\",\n          \"OPERATIONAL\"\n        ],\n        \"semantic_type\": \"\",\n        \"description\": \"\"\n      }\n    },\n    {\n      \"column\": \"placeTypes\",\n      \"properties\": {\n        \"dtype\": \"category\",\n        \"num_unique_values\": 443,\n        \"samples\": [\n          \"grocery_or_supermarket,restaurant,point_of_interest,store,food,establishment\",\n          \"point_of_interest,store,health,establishment\"\n        ],\n        \"semantic_type\": \"\",\n        \"description\": \"\"\n      }\n    },\n    {\n      \"column\": \"placeLatitude\",\n      \"properties\": {\n        \"dtype\": \"number\",\n        \"std\": 0.040002561138728215,\n        \"min\": 0.4205126,\n        \"max\": 0.6804159,\n        \"num_unique_values\": 38364,\n        \"samples\": [\n          0.4465316,\n          0.4698587\n        ],\n        \"semantic_type\": \"\",\n        \"description\": \"\"\n      }\n    },\n    {\n      \"column\": \"placeLongitude\",\n      \"properties\": {\n        \"dtype\": \"number\",\n        \"std\": 0.038938951192074904,\n        \"min\": 101.3325272,\n        \"max\": 101.599236,\n        \"num_unique_values\": 38283,\n        \"samples\": [\n          101.4603426,\n          101.4363429\n        ],\n        \"semantic_type\": \"\",\n        \"description\": \"\"\n      }\n    }\n  ]\n}"
            }
          },
          "metadata": {},
          "execution_count": 123
        }
      ]
    },
    {
      "cell_type": "code",
      "source": [
        "dataGM.columns"
      ],
      "metadata": {
        "colab": {
          "base_uri": "https://localhost:8080/"
        },
        "id": "ILQMehxCjML1",
        "outputId": "917296c9-c2ce-444d-b919-1107e08e6183"
      },
      "execution_count": 124,
      "outputs": [
        {
          "output_type": "execute_result",
          "data": {
            "text/plain": [
              "Index(['placeId', 'placeName', 'placeAddress', 'placeBusinessStatus',\n",
              "       'placeTypes', 'placeLatitude', 'placeLongitude'],\n",
              "      dtype='object')"
            ]
          },
          "metadata": {},
          "execution_count": 124
        }
      ]
    },
    {
      "cell_type": "code",
      "source": [
        "dataGM.info()"
      ],
      "metadata": {
        "colab": {
          "base_uri": "https://localhost:8080/"
        },
        "id": "BttDUTfFibpj",
        "outputId": "0a9030fe-7494-4d19-a178-1628d872a122"
      },
      "execution_count": 125,
      "outputs": [
        {
          "output_type": "stream",
          "name": "stdout",
          "text": [
            "<class 'pandas.core.frame.DataFrame'>\n",
            "RangeIndex: 40763 entries, 0 to 40762\n",
            "Data columns (total 7 columns):\n",
            " #   Column               Non-Null Count  Dtype  \n",
            "---  ------               --------------  -----  \n",
            " 0   placeId              40763 non-null  object \n",
            " 1   placeName            40763 non-null  object \n",
            " 2   placeAddress         40755 non-null  object \n",
            " 3   placeBusinessStatus  40760 non-null  object \n",
            " 4   placeTypes           40763 non-null  object \n",
            " 5   placeLatitude        40763 non-null  float64\n",
            " 6   placeLongitude       40763 non-null  float64\n",
            "dtypes: float64(2), object(5)\n",
            "memory usage: 2.2+ MB\n"
          ]
        }
      ]
    },
    {
      "cell_type": "code",
      "source": [
        "dataGM['placeAddress'] = dataGM['placeAddress'].fillna('')\n",
        "dataGM['placeBusinessStatus'] = dataGM['placeBusinessStatus'].fillna('OPERATIONAL')"
      ],
      "metadata": {
        "id": "QhbWTVHUlT6s"
      },
      "execution_count": 126,
      "outputs": []
    },
    {
      "cell_type": "code",
      "source": [
        "dataGM.info()"
      ],
      "metadata": {
        "colab": {
          "base_uri": "https://localhost:8080/"
        },
        "id": "JhqYy-FLlmxh",
        "outputId": "437a2395-2c43-4ec4-df87-7d43622406c8"
      },
      "execution_count": 127,
      "outputs": [
        {
          "output_type": "stream",
          "name": "stdout",
          "text": [
            "<class 'pandas.core.frame.DataFrame'>\n",
            "RangeIndex: 40763 entries, 0 to 40762\n",
            "Data columns (total 7 columns):\n",
            " #   Column               Non-Null Count  Dtype  \n",
            "---  ------               --------------  -----  \n",
            " 0   placeId              40763 non-null  object \n",
            " 1   placeName            40763 non-null  object \n",
            " 2   placeAddress         40763 non-null  object \n",
            " 3   placeBusinessStatus  40763 non-null  object \n",
            " 4   placeTypes           40763 non-null  object \n",
            " 5   placeLatitude        40763 non-null  float64\n",
            " 6   placeLongitude       40763 non-null  float64\n",
            "dtypes: float64(2), object(5)\n",
            "memory usage: 2.2+ MB\n"
          ]
        }
      ]
    },
    {
      "cell_type": "code",
      "source": [
        "dataGM['source'] = 'GMAPS'"
      ],
      "metadata": {
        "id": "YbJzEk1l_GT7"
      },
      "execution_count": 128,
      "outputs": []
    },
    {
      "cell_type": "code",
      "source": [
        "dataGM.head()"
      ],
      "metadata": {
        "colab": {
          "base_uri": "https://localhost:8080/",
          "height": 207
        },
        "id": "DvZYnEJO_Ma4",
        "outputId": "cefcefa2-54da-4856-fd3d-76dd4b4fe5a6"
      },
      "execution_count": 129,
      "outputs": [
        {
          "output_type": "execute_result",
          "data": {
            "text/plain": [
              "                       placeId                  placeName  \\\n",
              "0  ChIJG0i9CEap1TERq1G-K3lxuus               Graha Renova   \n",
              "1  ChIJI0kxnE-p1TERVzzCaVLc_-A       Putri Jaya Abadi. CV   \n",
              "2  ChIJ75xs3BSp1TERjUD6T2Hr7MU          Warung Ojo Forget   \n",
              "3  ChIJn_QB002p1TERjXQjpmobcjE   Batam Central Electronik   \n",
              "4  ChIJWxkAUdOp1TERTPhwfB11yBc  BOS (Bintang Oto Service)   \n",
              "\n",
              "                                        placeAddress placeBusinessStatus  \\\n",
              "0                         GC2C+GP3, Tengkerang Barat         OPERATIONAL   \n",
              "1          Jalan Musyawarah No.184, Labuh Baru Timur         OPERATIONAL   \n",
              "2    GC3G+GQ4, Jalan Soekarno-Hatta, Sidomulyo Timur         OPERATIONAL   \n",
              "3  Komplek Taman Anggrek Blok A4-6, Jl. Tuanku Ta...         OPERATIONAL   \n",
              "4                     Jalan Ikhlas, Labuh Baru Timur         OPERATIONAL   \n",
              "\n",
              "                                          placeTypes  placeLatitude  \\\n",
              "0                    point_of_interest,establishment       0.501254   \n",
              "1  furniture_store,home_goods_store,point_of_inte...       0.503969   \n",
              "2    restaurant,point_of_interest,food,establishment       0.503770   \n",
              "3  electronics_store,point_of_interest,store,esta...       0.503697   \n",
              "4         car_repair,point_of_interest,establishment       0.505233   \n",
              "\n",
              "   placeLongitude source  \n",
              "0      101.421803  GMAPS  \n",
              "1      101.423609  GMAPS  \n",
              "2      101.426964  GMAPS  \n",
              "3      101.428838  GMAPS  \n",
              "4      101.430264  GMAPS  "
            ],
            "text/html": [
              "\n",
              "  <div id=\"df-14233271-5eb4-4bf9-8d93-dc580fe5a159\" class=\"colab-df-container\">\n",
              "    <div>\n",
              "<style scoped>\n",
              "    .dataframe tbody tr th:only-of-type {\n",
              "        vertical-align: middle;\n",
              "    }\n",
              "\n",
              "    .dataframe tbody tr th {\n",
              "        vertical-align: top;\n",
              "    }\n",
              "\n",
              "    .dataframe thead th {\n",
              "        text-align: right;\n",
              "    }\n",
              "</style>\n",
              "<table border=\"1\" class=\"dataframe\">\n",
              "  <thead>\n",
              "    <tr style=\"text-align: right;\">\n",
              "      <th></th>\n",
              "      <th>placeId</th>\n",
              "      <th>placeName</th>\n",
              "      <th>placeAddress</th>\n",
              "      <th>placeBusinessStatus</th>\n",
              "      <th>placeTypes</th>\n",
              "      <th>placeLatitude</th>\n",
              "      <th>placeLongitude</th>\n",
              "      <th>source</th>\n",
              "    </tr>\n",
              "  </thead>\n",
              "  <tbody>\n",
              "    <tr>\n",
              "      <th>0</th>\n",
              "      <td>ChIJG0i9CEap1TERq1G-K3lxuus</td>\n",
              "      <td>Graha Renova</td>\n",
              "      <td>GC2C+GP3, Tengkerang Barat</td>\n",
              "      <td>OPERATIONAL</td>\n",
              "      <td>point_of_interest,establishment</td>\n",
              "      <td>0.501254</td>\n",
              "      <td>101.421803</td>\n",
              "      <td>GMAPS</td>\n",
              "    </tr>\n",
              "    <tr>\n",
              "      <th>1</th>\n",
              "      <td>ChIJI0kxnE-p1TERVzzCaVLc_-A</td>\n",
              "      <td>Putri Jaya Abadi. CV</td>\n",
              "      <td>Jalan Musyawarah No.184, Labuh Baru Timur</td>\n",
              "      <td>OPERATIONAL</td>\n",
              "      <td>furniture_store,home_goods_store,point_of_inte...</td>\n",
              "      <td>0.503969</td>\n",
              "      <td>101.423609</td>\n",
              "      <td>GMAPS</td>\n",
              "    </tr>\n",
              "    <tr>\n",
              "      <th>2</th>\n",
              "      <td>ChIJ75xs3BSp1TERjUD6T2Hr7MU</td>\n",
              "      <td>Warung Ojo Forget</td>\n",
              "      <td>GC3G+GQ4, Jalan Soekarno-Hatta, Sidomulyo Timur</td>\n",
              "      <td>OPERATIONAL</td>\n",
              "      <td>restaurant,point_of_interest,food,establishment</td>\n",
              "      <td>0.503770</td>\n",
              "      <td>101.426964</td>\n",
              "      <td>GMAPS</td>\n",
              "    </tr>\n",
              "    <tr>\n",
              "      <th>3</th>\n",
              "      <td>ChIJn_QB002p1TERjXQjpmobcjE</td>\n",
              "      <td>Batam Central Electronik</td>\n",
              "      <td>Komplek Taman Anggrek Blok A4-6, Jl. Tuanku Ta...</td>\n",
              "      <td>OPERATIONAL</td>\n",
              "      <td>electronics_store,point_of_interest,store,esta...</td>\n",
              "      <td>0.503697</td>\n",
              "      <td>101.428838</td>\n",
              "      <td>GMAPS</td>\n",
              "    </tr>\n",
              "    <tr>\n",
              "      <th>4</th>\n",
              "      <td>ChIJWxkAUdOp1TERTPhwfB11yBc</td>\n",
              "      <td>BOS (Bintang Oto Service)</td>\n",
              "      <td>Jalan Ikhlas, Labuh Baru Timur</td>\n",
              "      <td>OPERATIONAL</td>\n",
              "      <td>car_repair,point_of_interest,establishment</td>\n",
              "      <td>0.505233</td>\n",
              "      <td>101.430264</td>\n",
              "      <td>GMAPS</td>\n",
              "    </tr>\n",
              "  </tbody>\n",
              "</table>\n",
              "</div>\n",
              "    <div class=\"colab-df-buttons\">\n",
              "\n",
              "  <div class=\"colab-df-container\">\n",
              "    <button class=\"colab-df-convert\" onclick=\"convertToInteractive('df-14233271-5eb4-4bf9-8d93-dc580fe5a159')\"\n",
              "            title=\"Convert this dataframe to an interactive table.\"\n",
              "            style=\"display:none;\">\n",
              "\n",
              "  <svg xmlns=\"http://www.w3.org/2000/svg\" height=\"24px\" viewBox=\"0 -960 960 960\">\n",
              "    <path d=\"M120-120v-720h720v720H120Zm60-500h600v-160H180v160Zm220 220h160v-160H400v160Zm0 220h160v-160H400v160ZM180-400h160v-160H180v160Zm440 0h160v-160H620v160ZM180-180h160v-160H180v160Zm440 0h160v-160H620v160Z\"/>\n",
              "  </svg>\n",
              "    </button>\n",
              "\n",
              "  <style>\n",
              "    .colab-df-container {\n",
              "      display:flex;\n",
              "      gap: 12px;\n",
              "    }\n",
              "\n",
              "    .colab-df-convert {\n",
              "      background-color: #E8F0FE;\n",
              "      border: none;\n",
              "      border-radius: 50%;\n",
              "      cursor: pointer;\n",
              "      display: none;\n",
              "      fill: #1967D2;\n",
              "      height: 32px;\n",
              "      padding: 0 0 0 0;\n",
              "      width: 32px;\n",
              "    }\n",
              "\n",
              "    .colab-df-convert:hover {\n",
              "      background-color: #E2EBFA;\n",
              "      box-shadow: 0px 1px 2px rgba(60, 64, 67, 0.3), 0px 1px 3px 1px rgba(60, 64, 67, 0.15);\n",
              "      fill: #174EA6;\n",
              "    }\n",
              "\n",
              "    .colab-df-buttons div {\n",
              "      margin-bottom: 4px;\n",
              "    }\n",
              "\n",
              "    [theme=dark] .colab-df-convert {\n",
              "      background-color: #3B4455;\n",
              "      fill: #D2E3FC;\n",
              "    }\n",
              "\n",
              "    [theme=dark] .colab-df-convert:hover {\n",
              "      background-color: #434B5C;\n",
              "      box-shadow: 0px 1px 3px 1px rgba(0, 0, 0, 0.15);\n",
              "      filter: drop-shadow(0px 1px 2px rgba(0, 0, 0, 0.3));\n",
              "      fill: #FFFFFF;\n",
              "    }\n",
              "  </style>\n",
              "\n",
              "    <script>\n",
              "      const buttonEl =\n",
              "        document.querySelector('#df-14233271-5eb4-4bf9-8d93-dc580fe5a159 button.colab-df-convert');\n",
              "      buttonEl.style.display =\n",
              "        google.colab.kernel.accessAllowed ? 'block' : 'none';\n",
              "\n",
              "      async function convertToInteractive(key) {\n",
              "        const element = document.querySelector('#df-14233271-5eb4-4bf9-8d93-dc580fe5a159');\n",
              "        const dataTable =\n",
              "          await google.colab.kernel.invokeFunction('convertToInteractive',\n",
              "                                                    [key], {});\n",
              "        if (!dataTable) return;\n",
              "\n",
              "        const docLinkHtml = 'Like what you see? Visit the ' +\n",
              "          '<a target=\"_blank\" href=https://colab.research.google.com/notebooks/data_table.ipynb>data table notebook</a>'\n",
              "          + ' to learn more about interactive tables.';\n",
              "        element.innerHTML = '';\n",
              "        dataTable['output_type'] = 'display_data';\n",
              "        await google.colab.output.renderOutput(dataTable, element);\n",
              "        const docLink = document.createElement('div');\n",
              "        docLink.innerHTML = docLinkHtml;\n",
              "        element.appendChild(docLink);\n",
              "      }\n",
              "    </script>\n",
              "  </div>\n",
              "\n",
              "\n",
              "    <div id=\"df-255e1116-0e14-4877-ab2b-20ef3ec8cb15\">\n",
              "      <button class=\"colab-df-quickchart\" onclick=\"quickchart('df-255e1116-0e14-4877-ab2b-20ef3ec8cb15')\"\n",
              "                title=\"Suggest charts\"\n",
              "                style=\"display:none;\">\n",
              "\n",
              "<svg xmlns=\"http://www.w3.org/2000/svg\" height=\"24px\"viewBox=\"0 0 24 24\"\n",
              "     width=\"24px\">\n",
              "    <g>\n",
              "        <path d=\"M19 3H5c-1.1 0-2 .9-2 2v14c0 1.1.9 2 2 2h14c1.1 0 2-.9 2-2V5c0-1.1-.9-2-2-2zM9 17H7v-7h2v7zm4 0h-2V7h2v10zm4 0h-2v-4h2v4z\"/>\n",
              "    </g>\n",
              "</svg>\n",
              "      </button>\n",
              "\n",
              "<style>\n",
              "  .colab-df-quickchart {\n",
              "      --bg-color: #E8F0FE;\n",
              "      --fill-color: #1967D2;\n",
              "      --hover-bg-color: #E2EBFA;\n",
              "      --hover-fill-color: #174EA6;\n",
              "      --disabled-fill-color: #AAA;\n",
              "      --disabled-bg-color: #DDD;\n",
              "  }\n",
              "\n",
              "  [theme=dark] .colab-df-quickchart {\n",
              "      --bg-color: #3B4455;\n",
              "      --fill-color: #D2E3FC;\n",
              "      --hover-bg-color: #434B5C;\n",
              "      --hover-fill-color: #FFFFFF;\n",
              "      --disabled-bg-color: #3B4455;\n",
              "      --disabled-fill-color: #666;\n",
              "  }\n",
              "\n",
              "  .colab-df-quickchart {\n",
              "    background-color: var(--bg-color);\n",
              "    border: none;\n",
              "    border-radius: 50%;\n",
              "    cursor: pointer;\n",
              "    display: none;\n",
              "    fill: var(--fill-color);\n",
              "    height: 32px;\n",
              "    padding: 0;\n",
              "    width: 32px;\n",
              "  }\n",
              "\n",
              "  .colab-df-quickchart:hover {\n",
              "    background-color: var(--hover-bg-color);\n",
              "    box-shadow: 0 1px 2px rgba(60, 64, 67, 0.3), 0 1px 3px 1px rgba(60, 64, 67, 0.15);\n",
              "    fill: var(--button-hover-fill-color);\n",
              "  }\n",
              "\n",
              "  .colab-df-quickchart-complete:disabled,\n",
              "  .colab-df-quickchart-complete:disabled:hover {\n",
              "    background-color: var(--disabled-bg-color);\n",
              "    fill: var(--disabled-fill-color);\n",
              "    box-shadow: none;\n",
              "  }\n",
              "\n",
              "  .colab-df-spinner {\n",
              "    border: 2px solid var(--fill-color);\n",
              "    border-color: transparent;\n",
              "    border-bottom-color: var(--fill-color);\n",
              "    animation:\n",
              "      spin 1s steps(1) infinite;\n",
              "  }\n",
              "\n",
              "  @keyframes spin {\n",
              "    0% {\n",
              "      border-color: transparent;\n",
              "      border-bottom-color: var(--fill-color);\n",
              "      border-left-color: var(--fill-color);\n",
              "    }\n",
              "    20% {\n",
              "      border-color: transparent;\n",
              "      border-left-color: var(--fill-color);\n",
              "      border-top-color: var(--fill-color);\n",
              "    }\n",
              "    30% {\n",
              "      border-color: transparent;\n",
              "      border-left-color: var(--fill-color);\n",
              "      border-top-color: var(--fill-color);\n",
              "      border-right-color: var(--fill-color);\n",
              "    }\n",
              "    40% {\n",
              "      border-color: transparent;\n",
              "      border-right-color: var(--fill-color);\n",
              "      border-top-color: var(--fill-color);\n",
              "    }\n",
              "    60% {\n",
              "      border-color: transparent;\n",
              "      border-right-color: var(--fill-color);\n",
              "    }\n",
              "    80% {\n",
              "      border-color: transparent;\n",
              "      border-right-color: var(--fill-color);\n",
              "      border-bottom-color: var(--fill-color);\n",
              "    }\n",
              "    90% {\n",
              "      border-color: transparent;\n",
              "      border-bottom-color: var(--fill-color);\n",
              "    }\n",
              "  }\n",
              "</style>\n",
              "\n",
              "      <script>\n",
              "        async function quickchart(key) {\n",
              "          const quickchartButtonEl =\n",
              "            document.querySelector('#' + key + ' button');\n",
              "          quickchartButtonEl.disabled = true;  // To prevent multiple clicks.\n",
              "          quickchartButtonEl.classList.add('colab-df-spinner');\n",
              "          try {\n",
              "            const charts = await google.colab.kernel.invokeFunction(\n",
              "                'suggestCharts', [key], {});\n",
              "          } catch (error) {\n",
              "            console.error('Error during call to suggestCharts:', error);\n",
              "          }\n",
              "          quickchartButtonEl.classList.remove('colab-df-spinner');\n",
              "          quickchartButtonEl.classList.add('colab-df-quickchart-complete');\n",
              "        }\n",
              "        (() => {\n",
              "          let quickchartButtonEl =\n",
              "            document.querySelector('#df-255e1116-0e14-4877-ab2b-20ef3ec8cb15 button');\n",
              "          quickchartButtonEl.style.display =\n",
              "            google.colab.kernel.accessAllowed ? 'block' : 'none';\n",
              "        })();\n",
              "      </script>\n",
              "    </div>\n",
              "\n",
              "    </div>\n",
              "  </div>\n"
            ],
            "application/vnd.google.colaboratory.intrinsic+json": {
              "type": "dataframe",
              "variable_name": "dataGM",
              "summary": "{\n  \"name\": \"dataGM\",\n  \"rows\": 40763,\n  \"fields\": [\n    {\n      \"column\": \"placeId\",\n      \"properties\": {\n        \"dtype\": \"string\",\n        \"num_unique_values\": 40763,\n        \"samples\": [\n          \"ChIJV8P2OQCv1TERzihPurfFhrA\",\n          \"ChIJN5vYkOev1TERvmZ3UualN5U\",\n          \"ChIJqV6xWFSp1TERXv1JRy39N9U\"\n        ],\n        \"semantic_type\": \"\",\n        \"description\": \"\"\n      }\n    },\n    {\n      \"column\": \"placeName\",\n      \"properties\": {\n        \"dtype\": \"string\",\n        \"num_unique_values\": 39793,\n        \"samples\": [\n          \"Toko Lily Jaya - Fajar\",\n          \"Susu Kambing Etawa Labn Goat\",\n          \"KurniaKue\"\n        ],\n        \"semantic_type\": \"\",\n        \"description\": \"\"\n      }\n    },\n    {\n      \"column\": \"placeAddress\",\n      \"properties\": {\n        \"dtype\": \"string\",\n        \"num_unique_values\": 33146,\n        \"samples\": [\n          \"UD BANGKIT JAYA ABADI, Jalan Soekarno - Hatta No.19 kel blok C, Tengkerang Barat\",\n          \"perumahan griya permata blok d.17, Kulim\",\n          \"Putra hills cluster, Blok A No.4\"\n        ],\n        \"semantic_type\": \"\",\n        \"description\": \"\"\n      }\n    },\n    {\n      \"column\": \"placeBusinessStatus\",\n      \"properties\": {\n        \"dtype\": \"category\",\n        \"num_unique_values\": 2,\n        \"samples\": [\n          \"CLOSED_TEMPORARILY\",\n          \"OPERATIONAL\"\n        ],\n        \"semantic_type\": \"\",\n        \"description\": \"\"\n      }\n    },\n    {\n      \"column\": \"placeTypes\",\n      \"properties\": {\n        \"dtype\": \"category\",\n        \"num_unique_values\": 443,\n        \"samples\": [\n          \"grocery_or_supermarket,restaurant,point_of_interest,store,food,establishment\",\n          \"point_of_interest,store,health,establishment\"\n        ],\n        \"semantic_type\": \"\",\n        \"description\": \"\"\n      }\n    },\n    {\n      \"column\": \"placeLatitude\",\n      \"properties\": {\n        \"dtype\": \"number\",\n        \"std\": 0.040002561138728215,\n        \"min\": 0.4205126,\n        \"max\": 0.6804159,\n        \"num_unique_values\": 38364,\n        \"samples\": [\n          0.4465316,\n          0.4698587\n        ],\n        \"semantic_type\": \"\",\n        \"description\": \"\"\n      }\n    },\n    {\n      \"column\": \"placeLongitude\",\n      \"properties\": {\n        \"dtype\": \"number\",\n        \"std\": 0.038938951192074904,\n        \"min\": 101.3325272,\n        \"max\": 101.599236,\n        \"num_unique_values\": 38283,\n        \"samples\": [\n          101.4603426,\n          101.4363429\n        ],\n        \"semantic_type\": \"\",\n        \"description\": \"\"\n      }\n    },\n    {\n      \"column\": \"source\",\n      \"properties\": {\n        \"dtype\": \"category\",\n        \"num_unique_values\": 1,\n        \"samples\": [\n          \"GMAPS\"\n        ],\n        \"semantic_type\": \"\",\n        \"description\": \"\"\n      }\n    }\n  ]\n}"
            }
          },
          "metadata": {},
          "execution_count": 129
        }
      ]
    },
    {
      "cell_type": "code",
      "source": [
        "dataGM.to_excel(\"/content/drive/MyDrive/BPS_PROJECT/PROCESSED/klbi_classification/GM_FINAL_CLEANED.xlsx\", index=False)"
      ],
      "metadata": {
        "id": "acFFpzw4_da6"
      },
      "execution_count": 130,
      "outputs": []
    },
    {
      "cell_type": "markdown",
      "source": [
        "#MERGING OSM AND GMAPS DATASET"
      ],
      "metadata": {
        "id": "UB1rOySj_j-N"
      }
    },
    {
      "cell_type": "code",
      "source": [
        "gmaps = pd.read_excel(\"/content/drive/MyDrive/BPS_PROJECT/PROCESSED/klbi_classification/GM_FINAL_CLEANED.xlsx\")\n",
        "osm = pd.read_excel(\"/content/drive/MyDrive/BPS_PROJECT/PROCESSED/klbi_classification/OSM_FINAL_CLEANED.xlsx\")"
      ],
      "metadata": {
        "id": "dQGWsHBt_o40"
      },
      "execution_count": 131,
      "outputs": []
    },
    {
      "cell_type": "code",
      "source": [
        "combined_df = pd.concat([gmaps, osm], ignore_index=True)"
      ],
      "metadata": {
        "id": "gHwM7SSTABAr"
      },
      "execution_count": 132,
      "outputs": []
    },
    {
      "cell_type": "code",
      "source": [
        "combined_df = combined_df.drop('Unnamed: 0', axis=1)"
      ],
      "metadata": {
        "id": "2XDOYIZZmBIr"
      },
      "execution_count": 133,
      "outputs": []
    },
    {
      "cell_type": "code",
      "source": [
        "combined_df.info()"
      ],
      "metadata": {
        "colab": {
          "base_uri": "https://localhost:8080/"
        },
        "id": "yeXYk9K3ASeq",
        "outputId": "75379633-560f-4d4e-b40a-7da9e689484f"
      },
      "execution_count": 134,
      "outputs": [
        {
          "output_type": "stream",
          "name": "stdout",
          "text": [
            "<class 'pandas.core.frame.DataFrame'>\n",
            "RangeIndex: 43343 entries, 0 to 43342\n",
            "Data columns (total 8 columns):\n",
            " #   Column               Non-Null Count  Dtype  \n",
            "---  ------               --------------  -----  \n",
            " 0   placeId              43343 non-null  object \n",
            " 1   placeName            43343 non-null  object \n",
            " 2   placeAddress         41352 non-null  object \n",
            " 3   placeBusinessStatus  43343 non-null  object \n",
            " 4   placeTypes           43343 non-null  object \n",
            " 5   placeLatitude        43343 non-null  float64\n",
            " 6   placeLongitude       43343 non-null  float64\n",
            " 7   source               43343 non-null  object \n",
            "dtypes: float64(2), object(6)\n",
            "memory usage: 2.6+ MB\n"
          ]
        }
      ]
    },
    {
      "cell_type": "code",
      "source": [
        "combined_df['placeAddress'] = combined_df['placeAddress'].fillna('-')"
      ],
      "metadata": {
        "id": "1TvUQwSXnBcA"
      },
      "execution_count": 135,
      "outputs": []
    },
    {
      "cell_type": "code",
      "source": [
        "combined_df.info()"
      ],
      "metadata": {
        "colab": {
          "base_uri": "https://localhost:8080/"
        },
        "id": "OI8TIr-PnLtU",
        "outputId": "8fa19121-cb8e-4fdf-d694-8d9a0bac6ef8"
      },
      "execution_count": 136,
      "outputs": [
        {
          "output_type": "stream",
          "name": "stdout",
          "text": [
            "<class 'pandas.core.frame.DataFrame'>\n",
            "RangeIndex: 43343 entries, 0 to 43342\n",
            "Data columns (total 8 columns):\n",
            " #   Column               Non-Null Count  Dtype  \n",
            "---  ------               --------------  -----  \n",
            " 0   placeId              43343 non-null  object \n",
            " 1   placeName            43343 non-null  object \n",
            " 2   placeAddress         43343 non-null  object \n",
            " 3   placeBusinessStatus  43343 non-null  object \n",
            " 4   placeTypes           43343 non-null  object \n",
            " 5   placeLatitude        43343 non-null  float64\n",
            " 6   placeLongitude       43343 non-null  float64\n",
            " 7   source               43343 non-null  object \n",
            "dtypes: float64(2), object(6)\n",
            "memory usage: 2.6+ MB\n"
          ]
        }
      ]
    },
    {
      "cell_type": "code",
      "source": [
        "combined_df.to_excel('/content/drive/MyDrive/BPS_PROJECT/PROCESSED/klbi_classification/merged.xlsx')"
      ],
      "metadata": {
        "id": "ceVs3et2867O"
      },
      "execution_count": 137,
      "outputs": []
    },
    {
      "cell_type": "markdown",
      "source": [
        "#DATA ASSESSING"
      ],
      "metadata": {
        "id": "HfnzLo_YCI3X"
      }
    },
    {
      "cell_type": "markdown",
      "source": [
        "* Memeriksa data dan mengecek apakah missing value, memeriksa apakah ada duplikasi\n",
        "* Mengisi kolom atau mendrop baris yang memiliki missing value"
      ],
      "metadata": {
        "id": "gixRhQeiFVGY"
      }
    },
    {
      "cell_type": "code",
      "source": [
        "print(\"Jumlah duplikasi: \", combined_df.duplicated().sum())"
      ],
      "metadata": {
        "colab": {
          "base_uri": "https://localhost:8080/"
        },
        "id": "p8G39xqJCLeY",
        "outputId": "1b69cfb3-20bf-40d4-8038-f64878e2d36b"
      },
      "execution_count": 138,
      "outputs": [
        {
          "output_type": "stream",
          "name": "stdout",
          "text": [
            "Jumlah duplikasi:  0\n"
          ]
        }
      ]
    },
    {
      "cell_type": "code",
      "source": [
        "combined_df.isna().sum()"
      ],
      "metadata": {
        "colab": {
          "base_uri": "https://localhost:8080/",
          "height": 335
        },
        "id": "_VlAoU84CRcz",
        "outputId": "f00cc130-8ed4-42cf-b346-2307e1c20207"
      },
      "execution_count": 139,
      "outputs": [
        {
          "output_type": "execute_result",
          "data": {
            "text/plain": [
              "placeId                0\n",
              "placeName              0\n",
              "placeAddress           0\n",
              "placeBusinessStatus    0\n",
              "placeTypes             0\n",
              "placeLatitude          0\n",
              "placeLongitude         0\n",
              "source                 0\n",
              "dtype: int64"
            ],
            "text/html": [
              "<div>\n",
              "<style scoped>\n",
              "    .dataframe tbody tr th:only-of-type {\n",
              "        vertical-align: middle;\n",
              "    }\n",
              "\n",
              "    .dataframe tbody tr th {\n",
              "        vertical-align: top;\n",
              "    }\n",
              "\n",
              "    .dataframe thead th {\n",
              "        text-align: right;\n",
              "    }\n",
              "</style>\n",
              "<table border=\"1\" class=\"dataframe\">\n",
              "  <thead>\n",
              "    <tr style=\"text-align: right;\">\n",
              "      <th></th>\n",
              "      <th>0</th>\n",
              "    </tr>\n",
              "  </thead>\n",
              "  <tbody>\n",
              "    <tr>\n",
              "      <th>placeId</th>\n",
              "      <td>0</td>\n",
              "    </tr>\n",
              "    <tr>\n",
              "      <th>placeName</th>\n",
              "      <td>0</td>\n",
              "    </tr>\n",
              "    <tr>\n",
              "      <th>placeAddress</th>\n",
              "      <td>0</td>\n",
              "    </tr>\n",
              "    <tr>\n",
              "      <th>placeBusinessStatus</th>\n",
              "      <td>0</td>\n",
              "    </tr>\n",
              "    <tr>\n",
              "      <th>placeTypes</th>\n",
              "      <td>0</td>\n",
              "    </tr>\n",
              "    <tr>\n",
              "      <th>placeLatitude</th>\n",
              "      <td>0</td>\n",
              "    </tr>\n",
              "    <tr>\n",
              "      <th>placeLongitude</th>\n",
              "      <td>0</td>\n",
              "    </tr>\n",
              "    <tr>\n",
              "      <th>source</th>\n",
              "      <td>0</td>\n",
              "    </tr>\n",
              "  </tbody>\n",
              "</table>\n",
              "</div><br><label><b>dtype:</b> int64</label>"
            ]
          },
          "metadata": {},
          "execution_count": 139
        }
      ]
    },
    {
      "cell_type": "code",
      "source": [
        "combined_df.describe()"
      ],
      "metadata": {
        "colab": {
          "base_uri": "https://localhost:8080/",
          "height": 301
        },
        "id": "DU8Zs6Yvne6I",
        "outputId": "10ac33ae-2d03-408c-ef82-b0a9f469a9c9"
      },
      "execution_count": 140,
      "outputs": [
        {
          "output_type": "execute_result",
          "data": {
            "text/plain": [
              "       placeLatitude  placeLongitude\n",
              "count   43343.000000    43343.000000\n",
              "mean        0.498549      101.433454\n",
              "std         0.039780        0.038976\n",
              "min         0.420513      101.332527\n",
              "25%         0.467235      101.406718\n",
              "50%         0.496659      101.435286\n",
              "75%         0.524405      101.456568\n",
              "max         0.680416      101.599236"
            ],
            "text/html": [
              "\n",
              "  <div id=\"df-8fe13777-341c-4df8-a994-1438de01cb7f\" class=\"colab-df-container\">\n",
              "    <div>\n",
              "<style scoped>\n",
              "    .dataframe tbody tr th:only-of-type {\n",
              "        vertical-align: middle;\n",
              "    }\n",
              "\n",
              "    .dataframe tbody tr th {\n",
              "        vertical-align: top;\n",
              "    }\n",
              "\n",
              "    .dataframe thead th {\n",
              "        text-align: right;\n",
              "    }\n",
              "</style>\n",
              "<table border=\"1\" class=\"dataframe\">\n",
              "  <thead>\n",
              "    <tr style=\"text-align: right;\">\n",
              "      <th></th>\n",
              "      <th>placeLatitude</th>\n",
              "      <th>placeLongitude</th>\n",
              "    </tr>\n",
              "  </thead>\n",
              "  <tbody>\n",
              "    <tr>\n",
              "      <th>count</th>\n",
              "      <td>43343.000000</td>\n",
              "      <td>43343.000000</td>\n",
              "    </tr>\n",
              "    <tr>\n",
              "      <th>mean</th>\n",
              "      <td>0.498549</td>\n",
              "      <td>101.433454</td>\n",
              "    </tr>\n",
              "    <tr>\n",
              "      <th>std</th>\n",
              "      <td>0.039780</td>\n",
              "      <td>0.038976</td>\n",
              "    </tr>\n",
              "    <tr>\n",
              "      <th>min</th>\n",
              "      <td>0.420513</td>\n",
              "      <td>101.332527</td>\n",
              "    </tr>\n",
              "    <tr>\n",
              "      <th>25%</th>\n",
              "      <td>0.467235</td>\n",
              "      <td>101.406718</td>\n",
              "    </tr>\n",
              "    <tr>\n",
              "      <th>50%</th>\n",
              "      <td>0.496659</td>\n",
              "      <td>101.435286</td>\n",
              "    </tr>\n",
              "    <tr>\n",
              "      <th>75%</th>\n",
              "      <td>0.524405</td>\n",
              "      <td>101.456568</td>\n",
              "    </tr>\n",
              "    <tr>\n",
              "      <th>max</th>\n",
              "      <td>0.680416</td>\n",
              "      <td>101.599236</td>\n",
              "    </tr>\n",
              "  </tbody>\n",
              "</table>\n",
              "</div>\n",
              "    <div class=\"colab-df-buttons\">\n",
              "\n",
              "  <div class=\"colab-df-container\">\n",
              "    <button class=\"colab-df-convert\" onclick=\"convertToInteractive('df-8fe13777-341c-4df8-a994-1438de01cb7f')\"\n",
              "            title=\"Convert this dataframe to an interactive table.\"\n",
              "            style=\"display:none;\">\n",
              "\n",
              "  <svg xmlns=\"http://www.w3.org/2000/svg\" height=\"24px\" viewBox=\"0 -960 960 960\">\n",
              "    <path d=\"M120-120v-720h720v720H120Zm60-500h600v-160H180v160Zm220 220h160v-160H400v160Zm0 220h160v-160H400v160ZM180-400h160v-160H180v160Zm440 0h160v-160H620v160ZM180-180h160v-160H180v160Zm440 0h160v-160H620v160Z\"/>\n",
              "  </svg>\n",
              "    </button>\n",
              "\n",
              "  <style>\n",
              "    .colab-df-container {\n",
              "      display:flex;\n",
              "      gap: 12px;\n",
              "    }\n",
              "\n",
              "    .colab-df-convert {\n",
              "      background-color: #E8F0FE;\n",
              "      border: none;\n",
              "      border-radius: 50%;\n",
              "      cursor: pointer;\n",
              "      display: none;\n",
              "      fill: #1967D2;\n",
              "      height: 32px;\n",
              "      padding: 0 0 0 0;\n",
              "      width: 32px;\n",
              "    }\n",
              "\n",
              "    .colab-df-convert:hover {\n",
              "      background-color: #E2EBFA;\n",
              "      box-shadow: 0px 1px 2px rgba(60, 64, 67, 0.3), 0px 1px 3px 1px rgba(60, 64, 67, 0.15);\n",
              "      fill: #174EA6;\n",
              "    }\n",
              "\n",
              "    .colab-df-buttons div {\n",
              "      margin-bottom: 4px;\n",
              "    }\n",
              "\n",
              "    [theme=dark] .colab-df-convert {\n",
              "      background-color: #3B4455;\n",
              "      fill: #D2E3FC;\n",
              "    }\n",
              "\n",
              "    [theme=dark] .colab-df-convert:hover {\n",
              "      background-color: #434B5C;\n",
              "      box-shadow: 0px 1px 3px 1px rgba(0, 0, 0, 0.15);\n",
              "      filter: drop-shadow(0px 1px 2px rgba(0, 0, 0, 0.3));\n",
              "      fill: #FFFFFF;\n",
              "    }\n",
              "  </style>\n",
              "\n",
              "    <script>\n",
              "      const buttonEl =\n",
              "        document.querySelector('#df-8fe13777-341c-4df8-a994-1438de01cb7f button.colab-df-convert');\n",
              "      buttonEl.style.display =\n",
              "        google.colab.kernel.accessAllowed ? 'block' : 'none';\n",
              "\n",
              "      async function convertToInteractive(key) {\n",
              "        const element = document.querySelector('#df-8fe13777-341c-4df8-a994-1438de01cb7f');\n",
              "        const dataTable =\n",
              "          await google.colab.kernel.invokeFunction('convertToInteractive',\n",
              "                                                    [key], {});\n",
              "        if (!dataTable) return;\n",
              "\n",
              "        const docLinkHtml = 'Like what you see? Visit the ' +\n",
              "          '<a target=\"_blank\" href=https://colab.research.google.com/notebooks/data_table.ipynb>data table notebook</a>'\n",
              "          + ' to learn more about interactive tables.';\n",
              "        element.innerHTML = '';\n",
              "        dataTable['output_type'] = 'display_data';\n",
              "        await google.colab.output.renderOutput(dataTable, element);\n",
              "        const docLink = document.createElement('div');\n",
              "        docLink.innerHTML = docLinkHtml;\n",
              "        element.appendChild(docLink);\n",
              "      }\n",
              "    </script>\n",
              "  </div>\n",
              "\n",
              "\n",
              "    <div id=\"df-1cea5704-fbae-4d09-9d72-33be53e8dfce\">\n",
              "      <button class=\"colab-df-quickchart\" onclick=\"quickchart('df-1cea5704-fbae-4d09-9d72-33be53e8dfce')\"\n",
              "                title=\"Suggest charts\"\n",
              "                style=\"display:none;\">\n",
              "\n",
              "<svg xmlns=\"http://www.w3.org/2000/svg\" height=\"24px\"viewBox=\"0 0 24 24\"\n",
              "     width=\"24px\">\n",
              "    <g>\n",
              "        <path d=\"M19 3H5c-1.1 0-2 .9-2 2v14c0 1.1.9 2 2 2h14c1.1 0 2-.9 2-2V5c0-1.1-.9-2-2-2zM9 17H7v-7h2v7zm4 0h-2V7h2v10zm4 0h-2v-4h2v4z\"/>\n",
              "    </g>\n",
              "</svg>\n",
              "      </button>\n",
              "\n",
              "<style>\n",
              "  .colab-df-quickchart {\n",
              "      --bg-color: #E8F0FE;\n",
              "      --fill-color: #1967D2;\n",
              "      --hover-bg-color: #E2EBFA;\n",
              "      --hover-fill-color: #174EA6;\n",
              "      --disabled-fill-color: #AAA;\n",
              "      --disabled-bg-color: #DDD;\n",
              "  }\n",
              "\n",
              "  [theme=dark] .colab-df-quickchart {\n",
              "      --bg-color: #3B4455;\n",
              "      --fill-color: #D2E3FC;\n",
              "      --hover-bg-color: #434B5C;\n",
              "      --hover-fill-color: #FFFFFF;\n",
              "      --disabled-bg-color: #3B4455;\n",
              "      --disabled-fill-color: #666;\n",
              "  }\n",
              "\n",
              "  .colab-df-quickchart {\n",
              "    background-color: var(--bg-color);\n",
              "    border: none;\n",
              "    border-radius: 50%;\n",
              "    cursor: pointer;\n",
              "    display: none;\n",
              "    fill: var(--fill-color);\n",
              "    height: 32px;\n",
              "    padding: 0;\n",
              "    width: 32px;\n",
              "  }\n",
              "\n",
              "  .colab-df-quickchart:hover {\n",
              "    background-color: var(--hover-bg-color);\n",
              "    box-shadow: 0 1px 2px rgba(60, 64, 67, 0.3), 0 1px 3px 1px rgba(60, 64, 67, 0.15);\n",
              "    fill: var(--button-hover-fill-color);\n",
              "  }\n",
              "\n",
              "  .colab-df-quickchart-complete:disabled,\n",
              "  .colab-df-quickchart-complete:disabled:hover {\n",
              "    background-color: var(--disabled-bg-color);\n",
              "    fill: var(--disabled-fill-color);\n",
              "    box-shadow: none;\n",
              "  }\n",
              "\n",
              "  .colab-df-spinner {\n",
              "    border: 2px solid var(--fill-color);\n",
              "    border-color: transparent;\n",
              "    border-bottom-color: var(--fill-color);\n",
              "    animation:\n",
              "      spin 1s steps(1) infinite;\n",
              "  }\n",
              "\n",
              "  @keyframes spin {\n",
              "    0% {\n",
              "      border-color: transparent;\n",
              "      border-bottom-color: var(--fill-color);\n",
              "      border-left-color: var(--fill-color);\n",
              "    }\n",
              "    20% {\n",
              "      border-color: transparent;\n",
              "      border-left-color: var(--fill-color);\n",
              "      border-top-color: var(--fill-color);\n",
              "    }\n",
              "    30% {\n",
              "      border-color: transparent;\n",
              "      border-left-color: var(--fill-color);\n",
              "      border-top-color: var(--fill-color);\n",
              "      border-right-color: var(--fill-color);\n",
              "    }\n",
              "    40% {\n",
              "      border-color: transparent;\n",
              "      border-right-color: var(--fill-color);\n",
              "      border-top-color: var(--fill-color);\n",
              "    }\n",
              "    60% {\n",
              "      border-color: transparent;\n",
              "      border-right-color: var(--fill-color);\n",
              "    }\n",
              "    80% {\n",
              "      border-color: transparent;\n",
              "      border-right-color: var(--fill-color);\n",
              "      border-bottom-color: var(--fill-color);\n",
              "    }\n",
              "    90% {\n",
              "      border-color: transparent;\n",
              "      border-bottom-color: var(--fill-color);\n",
              "    }\n",
              "  }\n",
              "</style>\n",
              "\n",
              "      <script>\n",
              "        async function quickchart(key) {\n",
              "          const quickchartButtonEl =\n",
              "            document.querySelector('#' + key + ' button');\n",
              "          quickchartButtonEl.disabled = true;  // To prevent multiple clicks.\n",
              "          quickchartButtonEl.classList.add('colab-df-spinner');\n",
              "          try {\n",
              "            const charts = await google.colab.kernel.invokeFunction(\n",
              "                'suggestCharts', [key], {});\n",
              "          } catch (error) {\n",
              "            console.error('Error during call to suggestCharts:', error);\n",
              "          }\n",
              "          quickchartButtonEl.classList.remove('colab-df-spinner');\n",
              "          quickchartButtonEl.classList.add('colab-df-quickchart-complete');\n",
              "        }\n",
              "        (() => {\n",
              "          let quickchartButtonEl =\n",
              "            document.querySelector('#df-1cea5704-fbae-4d09-9d72-33be53e8dfce button');\n",
              "          quickchartButtonEl.style.display =\n",
              "            google.colab.kernel.accessAllowed ? 'block' : 'none';\n",
              "        })();\n",
              "      </script>\n",
              "    </div>\n",
              "\n",
              "    </div>\n",
              "  </div>\n"
            ],
            "application/vnd.google.colaboratory.intrinsic+json": {
              "type": "dataframe",
              "summary": "{\n  \"name\": \"combined_df\",\n  \"rows\": 8,\n  \"fields\": [\n    {\n      \"column\": \"placeLatitude\",\n      \"properties\": {\n        \"dtype\": \"number\",\n        \"std\": 15323.906644150682,\n        \"min\": 0.03978019225045535,\n        \"max\": 43343.0,\n        \"num_unique_values\": 8,\n        \"samples\": [\n          0.4985486090233718,\n          0.4966586,\n          43343.0\n        ],\n        \"semantic_type\": \"\",\n        \"description\": \"\"\n      }\n    },\n    {\n      \"column\": \"placeLongitude\",\n      \"properties\": {\n        \"dtype\": \"number\",\n        \"std\": 15293.361642548613,\n        \"min\": 0.03897632153870577,\n        \"max\": 43343.0,\n        \"num_unique_values\": 8,\n        \"samples\": [\n          101.4334542733521,\n          101.4352856,\n          43343.0\n        ],\n        \"semantic_type\": \"\",\n        \"description\": \"\"\n      }\n    }\n  ]\n}"
            }
          },
          "metadata": {},
          "execution_count": 140
        }
      ]
    },
    {
      "cell_type": "code",
      "source": [
        "for col in combined_df.select_dtypes(include='object'):\n",
        "    combined_df[col] = combined_df[col].str.strip()"
      ],
      "metadata": {
        "id": "e_vWge8bQxIe"
      },
      "execution_count": 141,
      "outputs": []
    },
    {
      "cell_type": "code",
      "source": [
        "mask = combined_df['placeName'].str.contains(r'^[^a-zA-Z]*$', na=False)\n",
        "df_clean = combined_df[~mask].reset_index(drop=True)"
      ],
      "metadata": {
        "id": "h2awXt4ui4QC"
      },
      "execution_count": 142,
      "outputs": []
    },
    {
      "cell_type": "code",
      "source": [
        "import re\n",
        "import unicodedata"
      ],
      "metadata": {
        "id": "QQStpe1Sr9mo"
      },
      "execution_count": 143,
      "outputs": []
    },
    {
      "cell_type": "code",
      "source": [
        "def clean_string(text):\n",
        "    if pd.isna(text):\n",
        "        return \"\"\n",
        "    # 1. Normalisasi karakter unicode\n",
        "    text = unicodedata.normalize('NFKC', str(text))\n",
        "    # 2. Hapus karakter khusus yang berulang/berlebihan\n",
        "    text = re.sub(r'[?]{2,}|[_]{2,}|[-]{2,}', ' ', text)\n",
        "    # 3. Ganti simbol khusus di awal string\n",
        "    text = re.sub(r'^[#@&]+', '', text)\n",
        "    # 4. Pertahankan simbol di tengah string\n",
        "    text = re.sub(r'([^\\w\\s&+/-]|(?<!\\w)[&+/-](?!\\w))', ' ', text)\n",
        "    # 5. Bersihkan spasi berlebih\n",
        "    text = re.sub(r'\\s+', ' ', text).strip()\n",
        "    return text"
      ],
      "metadata": {
        "id": "RC3Fj5Eqr8DT"
      },
      "execution_count": 144,
      "outputs": []
    },
    {
      "cell_type": "code",
      "source": [
        "def filter_invalid_rows(df):\n",
        "    # Cari baris yang hanya berisi simbol/angka tanpa huruf\n",
        "    mask = df['placeName'].str.contains(\n",
        "        r'^[\\s\\W_]*$',\n",
        "        na=True,\n",
        "        regex=True\n",
        "    )\n",
        "    return df[~mask].reset_index(drop=True)"
      ],
      "metadata": {
        "id": "bmsGDKBFMNvU"
      },
      "execution_count": 145,
      "outputs": []
    },
    {
      "cell_type": "code",
      "source": [
        "text_cols = ['placeName', 'placeAddress', 'placeTypes']\n",
        "for col in text_cols:\n",
        "    combined_df[col] = combined_df[col].apply(clean_string)\n",
        "# Langkah 3: Filter baris tidak valid\n",
        "df_clean = filter_invalid_rows(combined_df)"
      ],
      "metadata": {
        "id": "HJWE6hM6MQVO"
      },
      "execution_count": 146,
      "outputs": []
    },
    {
      "cell_type": "code",
      "source": [
        "df_clean = df_clean[df_clean['placeName'].str.upper() != 'UNKNOWN']"
      ],
      "metadata": {
        "id": "XcGuX0ZkWMz6"
      },
      "execution_count": 147,
      "outputs": []
    },
    {
      "cell_type": "code",
      "source": [
        "df_clean.info()"
      ],
      "metadata": {
        "colab": {
          "base_uri": "https://localhost:8080/"
        },
        "id": "Y4xYrwMSi8MP",
        "outputId": "4b71c8fc-49de-4d06-f6db-a10227909539"
      },
      "execution_count": 148,
      "outputs": [
        {
          "output_type": "stream",
          "name": "stdout",
          "text": [
            "<class 'pandas.core.frame.DataFrame'>\n",
            "Index: 42924 entries, 0 to 43333\n",
            "Data columns (total 8 columns):\n",
            " #   Column               Non-Null Count  Dtype  \n",
            "---  ------               --------------  -----  \n",
            " 0   placeId              42924 non-null  object \n",
            " 1   placeName            42924 non-null  object \n",
            " 2   placeAddress         42924 non-null  object \n",
            " 3   placeBusinessStatus  42924 non-null  object \n",
            " 4   placeTypes           42924 non-null  object \n",
            " 5   placeLatitude        42924 non-null  float64\n",
            " 6   placeLongitude       42924 non-null  float64\n",
            " 7   source               42924 non-null  object \n",
            "dtypes: float64(2), object(6)\n",
            "memory usage: 2.9+ MB\n"
          ]
        }
      ]
    },
    {
      "cell_type": "code",
      "source": [
        "keywords_to_remove = [\n",
        "    'masjid', 'mesjid', 'musholla', 'gereja', 'hkbp', 'candi', 'vihara', 'kuil',\n",
        "    'pemakaman', 'makam', 'kuburan', 'lapangan', 'mosque', 'place_of_worship', 'church'\n",
        "]\n",
        "pattern = r'\\b(?:' + '|'.join(keywords_to_remove) + r')\\b'\n",
        "initial_rows = len(df_clean)\n",
        "mask_place_name = df_clean['placeName'].str.contains(pattern, case=False, na=False, regex=True)\n",
        "mask_place_types = df_clean['placeTypes'].str.contains(pattern, case=False, na=False, regex=True)\n",
        "combined_mask_to_remove = mask_place_name | mask_place_types\n",
        "df_filtered = df_clean[~combined_mask_to_remove].copy()\n",
        "removed_rows = initial_rows - len(df_filtered)"
      ],
      "metadata": {
        "id": "qA2-4BGgxVmU"
      },
      "execution_count": 149,
      "outputs": []
    },
    {
      "cell_type": "code",
      "source": [
        "df_filtered.info()"
      ],
      "metadata": {
        "colab": {
          "base_uri": "https://localhost:8080/"
        },
        "id": "tNbNV8YJ1sPW",
        "outputId": "5eea4f3c-a606-46d6-f4b3-2d8f0002be0a"
      },
      "execution_count": 150,
      "outputs": [
        {
          "output_type": "stream",
          "name": "stdout",
          "text": [
            "<class 'pandas.core.frame.DataFrame'>\n",
            "Index: 41257 entries, 0 to 43333\n",
            "Data columns (total 8 columns):\n",
            " #   Column               Non-Null Count  Dtype  \n",
            "---  ------               --------------  -----  \n",
            " 0   placeId              41257 non-null  object \n",
            " 1   placeName            41257 non-null  object \n",
            " 2   placeAddress         41257 non-null  object \n",
            " 3   placeBusinessStatus  41257 non-null  object \n",
            " 4   placeTypes           41257 non-null  object \n",
            " 5   placeLatitude        41257 non-null  float64\n",
            " 6   placeLongitude       41257 non-null  float64\n",
            " 7   source               41257 non-null  object \n",
            "dtypes: float64(2), object(6)\n",
            "memory usage: 2.8+ MB\n"
          ]
        }
      ]
    },
    {
      "cell_type": "code",
      "source": [
        "df_filtered.to_excel('/content/drive/MyDrive/BPS_PROJECT/PROCESSED/klbi_classification/cleaned_data.xlsx', index=False)"
      ],
      "metadata": {
        "id": "xSXG1NiWMb97"
      },
      "execution_count": 151,
      "outputs": []
    },
    {
      "cell_type": "markdown",
      "source": [
        "#MENGECEK DUPLIKASI BERDASARKAN LOKASI / JARAK ANTAR POIN"
      ],
      "metadata": {
        "id": "wtCcVTYLG8qy"
      }
    },
    {
      "cell_type": "code",
      "source": [
        "# !pip install fuzzywuzzy rapidfuzz"
      ],
      "metadata": {
        "id": "iWJYe_92HFOX"
      },
      "execution_count": 152,
      "outputs": []
    },
    {
      "cell_type": "markdown",
      "source": [
        "####CLUSTERING BERDASARKAN KEDEKATAN LOKASI DAN NAMA TEMPAT SAMA (MELIHAT JARAK ANTAR DUPLIKASI)"
      ],
      "metadata": {
        "id": "iQR_GA9kIUwx"
      }
    },
    {
      "cell_type": "markdown",
      "source": [
        "**100M atau 1KM**"
      ],
      "metadata": {
        "id": "sssTxvmUgRmC"
      }
    },
    {
      "cell_type": "code",
      "source": [
        "TRESHOLD = 200.0\n",
        "NAME_SIM = 70"
      ],
      "metadata": {
        "id": "TUUV7DOlXJgM"
      },
      "execution_count": 153,
      "outputs": []
    },
    {
      "cell_type": "code",
      "source": [
        "def check_nearby(df, TRESHOLD, NAME_SIM):\n",
        "    df = df.copy()\n",
        "    df['normalizedName'] = df['placeName'].str.lower().str.strip()\n",
        "    r_earth = 6371000\n",
        "    coords = np.deg2rad(df[['placeLatitude', 'placeLongitude']])\n",
        "    tree = BallTree(coords, metric='haversine')\n",
        "    neighbors = tree.query_radius(coords, r=TRESHOLD/r_earth)\n",
        "\n",
        "    clusters = []\n",
        "    processed = set()\n",
        "    for idx, nearby_indices in enumerate(neighbors):\n",
        "        if idx in processed:\n",
        "            continue\n",
        "        current_name = df.iloc[idx]['normalizedName']\n",
        "        cluster = [idx]\n",
        "\n",
        "        for neighbor_idx in nearby_indices:\n",
        "            if neighbor_idx == idx or neighbor_idx in processed:\n",
        "                continue\n",
        "            neighbor_name = df.iloc[neighbor_idx]['normalizedName']\n",
        "            similarity = fuzz.token_sort_ratio(\n",
        "                current_name,\n",
        "                neighbor_name\n",
        "            )\n",
        "            if similarity >= NAME_SIM:\n",
        "                cluster.append(neighbor_idx)\n",
        "                processed.add(neighbor_idx)\n",
        "        if len(cluster) > 1:\n",
        "            clusters.append(cluster)\n",
        "            processed.add(idx)\n",
        "    return clusters"
      ],
      "metadata": {
        "id": "hPOLRQbTXLma"
      },
      "execution_count": 154,
      "outputs": []
    },
    {
      "cell_type": "code",
      "source": [
        "def merge_clusters(df, clusters):\n",
        "    mergedrows = []\n",
        "    clustered_indices = set()\n",
        "\n",
        "    for cluster in clusters:\n",
        "        clustered_indices.update(cluster)\n",
        "        first_row = df.iloc[cluster[0]].copy()\n",
        "        first_row['placeLatitude'] = df.iloc[cluster]['placeLatitude'].mean()\n",
        "        first_row['placeLongitude'] = df.iloc[cluster]['placeLongitude'].mean()\n",
        "        mergedrows.append(first_row)\n",
        "    non_clustered = df[~df.index.isin(list(clustered_indices))]\n",
        "    return pd.concat([non_clustered, pd.DataFrame(mergedrows)], ignore_index=True)"
      ],
      "metadata": {
        "id": "nQlMeZp2XOR9"
      },
      "execution_count": 155,
      "outputs": []
    },
    {
      "cell_type": "code",
      "source": [
        "print(\"Memuat data bersih...\")\n",
        "df = pd.read_excel('/content/drive/MyDrive/BPS_PROJECT/PROCESSED/klbi_classification/cleaned_data.xlsx')\n"
      ],
      "metadata": {
        "colab": {
          "base_uri": "https://localhost:8080/"
        },
        "id": "MgIeheDuM24h",
        "outputId": "79299b0f-266a-42cc-f7e7-44b5c137c213"
      },
      "execution_count": 156,
      "outputs": [
        {
          "output_type": "stream",
          "name": "stdout",
          "text": [
            "Memuat data bersih...\n"
          ]
        }
      ]
    },
    {
      "cell_type": "code",
      "source": [
        "clusters = check_nearby(df, TRESHOLD, NAME_SIM)"
      ],
      "metadata": {
        "id": "Y-LIWaFYXQBo"
      },
      "execution_count": 157,
      "outputs": []
    },
    {
      "cell_type": "code",
      "source": [
        "final = merge_clusters(df, clusters)"
      ],
      "metadata": {
        "id": "YQDVMgeNXdzr"
      },
      "execution_count": 158,
      "outputs": []
    },
    {
      "cell_type": "code",
      "source": [
        "final['placeAddress'] = final['placeAddress'].fillna('-')"
      ],
      "metadata": {
        "id": "zQt8qDE4cXfI"
      },
      "execution_count": 159,
      "outputs": []
    },
    {
      "cell_type": "code",
      "source": [
        "final.info()"
      ],
      "metadata": {
        "colab": {
          "base_uri": "https://localhost:8080/"
        },
        "id": "3FnuMdWupT9S",
        "outputId": "dddf6417-1d21-4839-c5ea-340eb359d5a7"
      },
      "execution_count": 160,
      "outputs": [
        {
          "output_type": "stream",
          "name": "stdout",
          "text": [
            "<class 'pandas.core.frame.DataFrame'>\n",
            "RangeIndex: 39833 entries, 0 to 39832\n",
            "Data columns (total 8 columns):\n",
            " #   Column               Non-Null Count  Dtype  \n",
            "---  ------               --------------  -----  \n",
            " 0   placeId              39833 non-null  object \n",
            " 1   placeName            39833 non-null  object \n",
            " 2   placeAddress         39833 non-null  object \n",
            " 3   placeBusinessStatus  39833 non-null  object \n",
            " 4   placeTypes           39833 non-null  object \n",
            " 5   placeLatitude        39833 non-null  float64\n",
            " 6   placeLongitude       39833 non-null  float64\n",
            " 7   source               39833 non-null  object \n",
            "dtypes: float64(2), object(6)\n",
            "memory usage: 2.4+ MB\n"
          ]
        }
      ]
    },
    {
      "cell_type": "code",
      "source": [
        "final.to_excel('/content/drive/MyDrive/BPS_PROJECT/PROCESSED/klbi_classification/final_data.xlsx', index=False)"
      ],
      "metadata": {
        "id": "eZ0EF4nZXbuA"
      },
      "execution_count": 161,
      "outputs": []
    },
    {
      "cell_type": "markdown",
      "source": [
        "#VISUALISASI PERBEDAAN SEBELUM DAN SESUDAH PEMBERSIHAN DATASET"
      ],
      "metadata": {
        "id": "saRjK0N1vx_4"
      }
    },
    {
      "cell_type": "code",
      "source": [
        "df_raw = pd.read_excel('/content/drive/MyDrive/BPS_PROJECT/PROCESSED/klbi_classification/merged.xlsx')\n",
        "df_cleaned = pd.read_excel('/content/drive/MyDrive/BPS_PROJECT/PROCESSED/klbi_classification/final_data.xlsx')"
      ],
      "metadata": {
        "id": "0dFWKMzlvKur"
      },
      "execution_count": 162,
      "outputs": []
    },
    {
      "cell_type": "code",
      "source": [
        "import matplotlib.pyplot as plt\n",
        "import seaborn as sns\n",
        "\n",
        "\n",
        "counts = [len(df_raw), len(df_cleaned)]\n",
        "labels = ['Sebelum', 'Sesudah']\n",
        "plt.bar(labels, counts, color=['red', 'green'])\n",
        "plt.title(\"Jumlah Data Sebelum dan Sesudah Pembersihan\")\n",
        "plt.ylabel(\"Jumlah Baris\")\n",
        "plt.show()"
      ],
      "metadata": {
        "id": "Y2QZRIMhvfz6",
        "colab": {
          "base_uri": "https://localhost:8080/",
          "height": 452
        },
        "outputId": "a3b819f1-11da-4f25-b025-fa099399955a"
      },
      "execution_count": 163,
      "outputs": [
        {
          "output_type": "display_data",
          "data": {
            "text/plain": [
              "<Figure size 640x480 with 1 Axes>"
            ],
            "image/png": "[encoded data removed]"
          },
          "metadata": {}
        }
      ]
    },
    {
      "cell_type": "code",
      "source": [
        "dups_removed = len(df_raw) - len(df_cleaned)\n",
        "plt.pie([dups_removed, len(df_cleaned)], labels=['Duplikat Dihapus', 'Data Unik'],\n",
        "        autopct='%1.1f%%', colors=['orange', 'skyblue'], startangle=90)\n",
        "plt.title(\"Proporsi Duplikat yang Dihapus\")\n",
        "plt.axis('equal')\n",
        "plt.show()"
      ],
      "metadata": {
        "colab": {
          "base_uri": "https://localhost:8080/",
          "height": 429
        },
        "id": "YFRIOzbs9V-5",
        "outputId": "eb2c4a8a-afa2-4973-e76f-64faf81e0a19"
      },
      "execution_count": 164,
      "outputs": [
        {
          "output_type": "display_data",
          "data": {
            "text/plain": [
              "<Figure size 640x480 with 1 Axes>"
            ],
            "image/png": "[encoded data removed]"
          },
          "metadata": {}
        }
      ]
    },
    {
      "cell_type": "code",
      "source": [
        "source_counts = df_clean['source'].value_counts()\n",
        "# Plot distribusi\n",
        "plt.figure(figsize=(8, 5))\n",
        "sns.barplot(x=source_counts.index, y=source_counts.values, palette='viridis')\n",
        "plt.title(\"Distribusi Sumber Data\")\n",
        "plt.xlabel(\"Sumber\")\n",
        "plt.ylabel(\"Jumlah Data\")\n",
        "plt.xticks(rotation=45)\n",
        "plt.tight_layout()\n",
        "plt.show()"
      ],
      "metadata": {
        "colab": {
          "base_uri": "https://localhost:8080/",
          "height": 594
        },
        "id": "JIdxZhx69--b",
        "outputId": "a7de0b22-dce6-4c75-8752-1873b8da1106"
      },
      "execution_count": 166,
      "outputs": [
        {
          "output_type": "stream",
          "name": "stderr",
          "text": [
            "<ipython-input-166-d4d76a84012c>:4: FutureWarning: \n",
            "\n",
            "Passing `palette` without assigning `hue` is deprecated and will be removed in v0.14.0. Assign the `x` variable to `hue` and set `legend=False` for the same effect.\n",
            "\n",
            "  sns.barplot(x=source_counts.index, y=source_counts.values, palette='viridis')\n"
          ]
        },
        {
          "output_type": "display_data",
          "data": {
            "text/plain": [
              "<Figure size 800x500 with 1 Axes>"
            ],
            "image/png": "[encoded data removed]"
          },
          "metadata": {}
        }
      ]
    }
  ]
}